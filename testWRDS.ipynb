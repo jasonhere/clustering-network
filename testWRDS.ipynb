{
 "cells": [
  {
   "cell_type": "code",
   "execution_count": 1,
   "metadata": {
    "collapsed": true
   },
   "outputs": [],
   "source": [
    "import pandas as pd\n",
    "from trees import *"
   ]
  },
  {
   "cell_type": "code",
   "execution_count": null,
   "metadata": {},
   "outputs": [],
   "source": [
    ""
   ]
  },
  {
   "cell_type": "code",
   "execution_count": 2,
   "metadata": {
    "collapsed": true
   },
   "outputs": [
    {
     "name": "stderr",
     "output_type": "stream",
     "text": [
      "/Users/JenniferZong/anaconda/envs/Py27/lib/python2.7/site-packages/ipykernel/__main__.py:4: DtypeWarning: Columns (49,165) have mixed types. Specify dtype option on import or set low_memory=False.\n"
     ]
    },
    {
     "name": "stdout",
     "output_type": "stream",
     "text": [
      "corr_matrix for 2016-12-30 done.\ncorr_matrix for 2016-12-29 done.\ncorr_matrix for 2016-12-28 done.\ncorr_matrix for 2016-12-27 done.\ncorr_matrix for 2016-12-23 done.\ncorr_matrix for 2016-12-22 done.\ncorr_matrix for 2016-12-21 done.\ncorr_matrix for 2016-12-20 done.\ncorr_matrix for 2016-12-19 done.\ncorr_matrix for 2016-12-16 done.\n"
     ]
    },
    {
     "name": "stdout",
     "output_type": "stream",
     "text": [
      "corr_matrix for 2016-12-15 done.\ncorr_matrix for 2016-12-14 done.\ncorr_matrix for 2016-12-13 done.\ncorr_matrix for 2016-12-12 done.\ncorr_matrix for 2016-12-09 done.\ncorr_matrix for 2016-12-08 done.\ncorr_matrix for 2016-12-07 done.\ncorr_matrix for 2016-12-06 done.\ncorr_matrix for 2016-12-05 done.\ncorr_matrix for 2016-12-02 done.\ncorr_matrix for 2016-12-01 done.\n"
     ]
    },
    {
     "name": "stdout",
     "output_type": "stream",
     "text": [
      "corr_matrix for 2016-11-30 done.\ncorr_matrix for 2016-11-29 done.\ncorr_matrix for 2016-11-28 done.\ncorr_matrix for 2016-11-25 done.\ncorr_matrix for 2016-11-23 done.\ncorr_matrix for 2016-11-22 done.\ncorr_matrix for 2016-11-21 done.\ncorr_matrix for 2016-11-18 done.\ncorr_matrix for 2016-11-17 done.\ncorr_matrix for 2016-11-16 done.\n"
     ]
    },
    {
     "name": "stdout",
     "output_type": "stream",
     "text": [
      "corr_matrix for 2016-11-15 done.\ncorr_matrix for 2016-11-14 done.\ncorr_matrix for 2016-11-11 done.\ncorr_matrix for 2016-11-10 done.\ncorr_matrix for 2016-11-09 done.\ncorr_matrix for 2016-11-08 done.\ncorr_matrix for 2016-11-07 done.\ncorr_matrix for 2016-11-04 done.\ncorr_matrix for 2016-11-03 done.\ncorr_matrix for 2016-11-02 done.\ncorr_matrix for 2016-11-01 done.\n"
     ]
    },
    {
     "name": "stdout",
     "output_type": "stream",
     "text": [
      "corr_matrix for 2016-10-31 done.\ncorr_matrix for 2016-10-28 done.\ncorr_matrix for 2016-10-27 done.\ncorr_matrix for 2016-10-26 done.\ncorr_matrix for 2016-10-25 done.\ncorr_matrix for 2016-10-24 done.\ncorr_matrix for 2016-10-21 done.\ncorr_matrix for 2016-10-20 done.\ncorr_matrix for 2016-10-19 done.\ncorr_matrix for 2016-10-18 done.\n"
     ]
    },
    {
     "name": "stdout",
     "output_type": "stream",
     "text": [
      "corr_matrix for 2016-10-17 done.\ncorr_matrix for 2016-10-14 done.\ncorr_matrix for 2016-10-13 done.\ncorr_matrix for 2016-10-12 done.\ncorr_matrix for 2016-10-11 done.\n"
     ]
    },
    {
     "name": "stdout",
     "output_type": "stream",
     "text": [
      "corr_matrix for 2016-10-10 done.\ncorr_matrix for 2016-10-07 done.\ncorr_matrix for 2016-10-06 done.\n"
     ]
    },
    {
     "name": "stdout",
     "output_type": "stream",
     "text": [
      "corr_matrix for 2016-10-05 done.\ncorr_matrix for 2016-10-04 done.\ncorr_matrix for 2016-10-03 done.\ncorr_matrix for 2016-09-30 done.\ncorr_matrix for 2016-09-29 done.\ncorr_matrix for 2016-09-28 done.\ncorr_matrix for 2016-09-27 done.\ncorr_matrix for 2016-09-26 done.\ncorr_matrix for 2016-09-23 done.\ncorr_matrix for 2016-09-22 done.\ncorr_matrix for 2016-09-21 done."
     ]
    },
    {
     "name": "stdout",
     "output_type": "stream",
     "text": [
      "\ncorr_matrix for 2016-09-20 done.\ncorr_matrix for 2016-09-19 done.\ncorr_matrix for 2016-09-16 done.\ncorr_matrix for 2016-09-15 done.\ncorr_matrix for 2016-09-14 done.\ncorr_matrix for 2016-09-13 done.\ncorr_matrix for 2016-09-12 done.\ncorr_matrix for 2016-09-09 done.\ncorr_matrix for 2016-09-08 done.\n"
     ]
    },
    {
     "name": "stdout",
     "output_type": "stream",
     "text": [
      "corr_matrix for 2016-09-07 done.\ncorr_matrix for 2016-09-06 done.\ncorr_matrix for 2016-09-02 done.\ncorr_matrix for 2016-09-01 done.\ncorr_matrix for 2016-08-31 done.\ncorr_matrix for 2016-08-30 done.\ncorr_matrix for 2016-08-29 done.\ncorr_matrix for 2016-08-26 done.\ncorr_matrix for 2016-08-25 done.\ncorr_matrix for 2016-08-24 done.\n"
     ]
    },
    {
     "name": "stdout",
     "output_type": "stream",
     "text": [
      "corr_matrix for 2016-08-23 done.\ncorr_matrix for 2016-08-22 done.\ncorr_matrix for 2016-08-19 done.\ncorr_matrix for 2016-08-18 done.\ncorr_matrix for 2016-08-17 done.\ncorr_matrix for 2016-08-16 done.\ncorr_matrix for 2016-08-15 done.\ncorr_matrix for 2016-08-12 done.\ncorr_matrix for 2016-08-11 done.\ncorr_matrix for 2016-08-10 done.\n"
     ]
    },
    {
     "name": "stdout",
     "output_type": "stream",
     "text": [
      "corr_matrix for 2016-08-09 done.\ncorr_matrix for 2016-08-08 done.\ncorr_matrix for 2016-08-05 done.\ncorr_matrix for 2016-08-04 done.\ncorr_matrix for 2016-08-03 done.\n"
     ]
    },
    {
     "name": "stdout",
     "output_type": "stream",
     "text": [
      "corr_matrix for 2016-08-02 done.\ncorr_matrix for 2016-08-01 done.\ncorr_matrix for 2016-07-29 done.\n"
     ]
    },
    {
     "name": "stdout",
     "output_type": "stream",
     "text": [
      "corr_matrix for 2016-07-28 done.\ncorr_matrix for 2016-07-27 done.\ncorr_matrix for 2016-07-26 done.\ncorr_matrix for 2016-07-25 done.\ncorr_matrix for 2016-07-22 done.\ncorr_matrix for 2016-07-21 done.\ncorr_matrix for 2016-07-20 done.\ncorr_matrix for 2016-07-19 done.\n"
     ]
    },
    {
     "name": "stdout",
     "output_type": "stream",
     "text": [
      "corr_matrix for 2016-07-18 done.\ncorr_matrix for 2016-07-15 done.\ncorr_matrix for 2016-07-14 done.\ncorr_matrix for 2016-07-13 done.\ncorr_matrix for 2016-07-12 done.\ncorr_matrix for 2016-07-11 done.\ncorr_matrix for 2016-07-08 done.\ncorr_matrix for 2016-07-07 done.\ncorr_matrix for 2016-07-06 done.\ncorr_matrix for 2016-07-05 done.\n"
     ]
    },
    {
     "name": "stdout",
     "output_type": "stream",
     "text": [
      "corr_matrix for 2016-07-01 done.\ncorr_matrix for 2016-06-30 done.\ncorr_matrix for 2016-06-29 done.\ncorr_matrix for 2016-06-28 done.\ncorr_matrix for 2016-06-27 done.\ncorr_matrix for 2016-06-24 done.\ncorr_matrix for 2016-06-23 done.\ncorr_matrix for 2016-06-22 done.\ncorr_matrix for 2016-06-21 done.\ncorr_matrix for 2016-06-20 done.\n"
     ]
    },
    {
     "name": "stdout",
     "output_type": "stream",
     "text": [
      "corr_matrix for 2016-06-17 done.\ncorr_matrix for 2016-06-16 done.\ncorr_matrix for 2016-06-15 done.\ncorr_matrix for 2016-06-14 done.\ncorr_matrix for 2016-06-13 done.\ncorr_matrix for 2016-06-10 done.\ncorr_matrix for 2016-06-09 done.\ncorr_matrix for 2016-06-08 done.\ncorr_matrix for 2016-06-07 done.\n"
     ]
    },
    {
     "name": "stdout",
     "output_type": "stream",
     "text": [
      "corr_matrix for 2016-06-06 done.\ncorr_matrix for 2016-06-03 done.\ncorr_matrix for 2016-06-02 done.\ncorr_matrix for 2016-06-01 done.\ncorr_matrix for 2016-05-31 done.\ncorr_matrix for 2016-05-27 done.\ncorr_matrix for 2016-05-26 done.\ncorr_matrix for 2016-05-25 done.\ncorr_matrix for 2016-05-24 done.\n"
     ]
    },
    {
     "name": "stdout",
     "output_type": "stream",
     "text": [
      "corr_matrix for 2016-05-23 done.\ncorr_matrix for 2016-05-20 done.\ncorr_matrix for 2016-05-19 done.\ncorr_matrix for 2016-05-18 done.\ncorr_matrix for 2016-05-17 done.\ncorr_matrix for 2016-05-16 done.\ncorr_matrix for 2016-05-13 done.\ncorr_matrix for 2016-05-12 done.\ncorr_matrix for 2016-05-11 done.\ncorr_matrix for 2016-05-10 done.\n"
     ]
    },
    {
     "name": "stdout",
     "output_type": "stream",
     "text": [
      "corr_matrix for 2016-05-09 done.\ncorr_matrix for 2016-05-06 done.\ncorr_matrix for 2016-05-05 done.\ncorr_matrix for 2016-05-04 done.\ncorr_matrix for 2016-05-03 done.\ncorr_matrix for 2016-05-02 done.\ncorr_matrix for 2016-04-29 done.\ncorr_matrix for 2016-04-28 done.\ncorr_matrix for 2016-04-27 done.\n"
     ]
    },
    {
     "name": "stdout",
     "output_type": "stream",
     "text": [
      "corr_matrix for 2016-04-26 done.\ncorr_matrix for 2016-04-25 done.\ncorr_matrix for 2016-04-22 done.\ncorr_matrix for 2016-04-21 done.\ncorr_matrix for 2016-04-20 done.\ncorr_matrix for 2016-04-19 done.\ncorr_matrix for 2016-04-18 done.\ncorr_matrix for 2016-04-15 done.\ncorr_matrix for 2016-04-14 done.\ncorr_matrix for 2016-04-13 done.\n"
     ]
    },
    {
     "name": "stdout",
     "output_type": "stream",
     "text": [
      "corr_matrix for 2016-04-12 done.\ncorr_matrix for 2016-04-11 done.\ncorr_matrix for 2016-04-08 done.\ncorr_matrix for 2016-04-07 done.\ncorr_matrix for 2016-04-06 done.\ncorr_matrix for 2016-04-05 done.\ncorr_matrix for 2016-04-04 done.\ncorr_matrix for 2016-04-01 done.\ncorr_matrix for 2016-03-31 done.\ncorr_matrix for 2016-03-30 done.\n"
     ]
    },
    {
     "name": "stdout",
     "output_type": "stream",
     "text": [
      "corr_matrix for 2016-03-29 done.\ncorr_matrix for 2016-03-28 done.\ncorr_matrix for 2016-03-24 done.\ncorr_matrix for 2016-03-23 done.\ncorr_matrix for 2016-03-22 done.\ncorr_matrix for 2016-03-21 done.\ncorr_matrix for 2016-03-18 done.\ncorr_matrix for 2016-03-17 done.\ncorr_matrix for 2016-03-16 done.\ncorr_matrix for 2016-03-15 done.\n"
     ]
    },
    {
     "name": "stdout",
     "output_type": "stream",
     "text": [
      "corr_matrix for 2016-03-14 done.\ncorr_matrix for 2016-03-11 done.\ncorr_matrix for 2016-03-10 done.\ncorr_matrix for 2016-03-09 done.\ncorr_matrix for 2016-03-08 done.\ncorr_matrix for 2016-03-07 done.\ncorr_matrix for 2016-03-04 done.\ncorr_matrix for 2016-03-03 done.\ncorr_matrix for 2016-03-02 done.\ncorr_matrix for 2016-03-01 done.\n"
     ]
    },
    {
     "name": "stdout",
     "output_type": "stream",
     "text": [
      "corr_matrix for 2016-02-29 done.\ncorr_matrix for 2016-02-26 done.\ncorr_matrix for 2016-02-25 done.\ncorr_matrix for 2016-02-24 done.\ncorr_matrix for 2016-02-23 done.\ncorr_matrix for 2016-02-22 done.\ncorr_matrix for 2016-02-19 done.\ncorr_matrix for 2016-02-18 done.\ncorr_matrix for 2016-02-17 done.\ncorr_matrix for 2016-02-16 done.\n"
     ]
    },
    {
     "name": "stdout",
     "output_type": "stream",
     "text": [
      "corr_matrix for 2016-02-12 done.\ncorr_matrix for 2016-02-11 done.\ncorr_matrix for 2016-02-10 done.\ncorr_matrix for 2016-02-09 done.\ncorr_matrix for 2016-02-08 done.\ncorr_matrix for 2016-02-05 done.\ncorr_matrix for 2016-02-04 done.\ncorr_matrix for 2016-02-03 done.\ncorr_matrix for 2016-02-02 done.\ncorr_matrix for 2016-02-01 done.\n"
     ]
    },
    {
     "name": "stdout",
     "output_type": "stream",
     "text": [
      "corr_matrix for 2016-01-29 done.\ncorr_matrix for 2016-01-28 done.\ncorr_matrix for 2016-01-27 done.\ncorr_matrix for 2016-01-26 done.\ncorr_matrix for 2016-01-25 done.\ncorr_matrix for 2016-01-22 done.\ncorr_matrix for 2016-01-21 done.\ncorr_matrix for 2016-01-20 done.\ncorr_matrix for 2016-01-19 done.\ncorr_matrix for 2016-01-15 done.\ncorr_matrix for 2016-01-14 done.\n"
     ]
    },
    {
     "name": "stdout",
     "output_type": "stream",
     "text": [
      "corr_matrix for 2016-01-13 done.\ncorr_matrix for 2016-01-12 done.\ncorr_matrix for 2016-01-11 done.\ncorr_matrix for 2016-01-08 done.\ncorr_matrix for 2016-01-07 done.\ncorr_matrix for 2016-01-06 done.\ncorr_matrix for 2016-01-05 done.\ncorr_matrix for 2016-01-04 done.\ncorr_matrix for 2015-12-31 done.\ncorr_matrix for 2015-12-30 done.\ncorr_matrix for 2015-12-29 done.\n"
     ]
    },
    {
     "name": "stdout",
     "output_type": "stream",
     "text": [
      "corr_matrix for 2015-12-28 done.\ncorr_matrix for 2015-12-24 done.\ncorr_matrix for 2015-12-23 done.\ncorr_matrix for 2015-12-22 done.\ncorr_matrix for 2015-12-21 done.\ncorr_matrix for 2015-12-18 done.\ncorr_matrix for 2015-12-17 done.\ncorr_matrix for 2015-12-16 done.\ncorr_matrix for 2015-12-15 done.\ncorr_matrix for 2015-12-14 done.\ncorr_matrix for 2015-12-11 done.\n"
     ]
    },
    {
     "name": "stdout",
     "output_type": "stream",
     "text": [
      "corr_matrix for 2015-12-10 done.\ncorr_matrix for 2015-12-09 done.\ncorr_matrix for 2015-12-08 done.\ncorr_matrix for 2015-12-07 done.\ncorr_matrix for 2015-12-04 done.\ncorr_matrix for 2015-12-03 done.\ncorr_matrix for 2015-12-02 done.\ncorr_matrix for 2015-12-01 done.\ncorr_matrix for 2015-11-30 done.\ncorr_matrix for 2015-11-27 done.\ncorr_matrix for 2015-11-25 done.\n"
     ]
    },
    {
     "name": "stdout",
     "output_type": "stream",
     "text": [
      "corr_matrix for 2015-11-24 done.\ncorr_matrix for 2015-11-23 done.\ncorr_matrix for 2015-11-20 done.\ncorr_matrix for 2015-11-19 done.\ncorr_matrix for 2015-11-18 done.\ncorr_matrix for 2015-11-17 done.\ncorr_matrix for 2015-11-16 done.\ncorr_matrix for 2015-11-13 done.\ncorr_matrix for 2015-11-12 done.\ncorr_matrix for 2015-11-11 done.\ncorr_matrix for 2015-11-10 done."
     ]
    },
    {
     "name": "stdout",
     "output_type": "stream",
     "text": [
      "\ncorr_matrix for 2015-11-09 done.\ncorr_matrix for 2015-11-06 done.\ncorr_matrix for 2015-11-05 done.\ncorr_matrix for 2015-11-04 done.\ncorr_matrix for 2015-11-03 done.\ncorr_matrix for 2015-11-02 done.\ncorr_matrix for 2015-10-30 done.\ncorr_matrix for 2015-10-29 done.\ncorr_matrix for 2015-10-28 done.\ncorr_matrix for 2015-10-27 done.\ncorr_matrix for 2015-10-26 done."
     ]
    },
    {
     "name": "stdout",
     "output_type": "stream",
     "text": [
      "\ncorr_matrix for 2015-10-23 done.\ncorr_matrix for 2015-10-22 done.\ncorr_matrix for 2015-10-21 done.\ncorr_matrix for 2015-10-20 done.\ncorr_matrix for 2015-10-19 done.\ncorr_matrix for 2015-10-16 done.\ncorr_matrix for 2015-10-15 done.\ncorr_matrix for 2015-10-14 done.\ncorr_matrix for 2015-10-13 done.\n"
     ]
    },
    {
     "name": "stdout",
     "output_type": "stream",
     "text": [
      "corr_matrix for 2015-10-12 done.\ncorr_matrix for 2015-10-09 done.\ncorr_matrix for 2015-10-08 done.\ncorr_matrix for 2015-10-07 done.\ncorr_matrix for 2015-10-06 done.\ncorr_matrix for 2015-10-05 done.\ncorr_matrix for 2015-10-02 done.\ncorr_matrix for 2015-10-01 done.\ncorr_matrix for 2015-09-30 done.\ncorr_matrix for 2015-09-29 done.\n"
     ]
    },
    {
     "name": "stdout",
     "output_type": "stream",
     "text": [
      "corr_matrix for 2015-09-28 done.\ncorr_matrix for 2015-09-25 done.\ncorr_matrix for 2015-09-24 done.\ncorr_matrix for 2015-09-23 done.\ncorr_matrix for 2015-09-22 done.\ncorr_matrix for 2015-09-21 done.\ncorr_matrix for 2015-09-18 done.\ncorr_matrix for 2015-09-17 done.\ncorr_matrix for 2015-09-16 done.\ncorr_matrix for 2015-09-15 done.\ncorr_matrix for 2015-09-14 done.\n"
     ]
    },
    {
     "name": "stdout",
     "output_type": "stream",
     "text": [
      "corr_matrix for 2015-09-11 done.\ncorr_matrix for 2015-09-10 done.\ncorr_matrix for 2015-09-09 done.\ncorr_matrix for 2015-09-08 done.\ncorr_matrix for 2015-09-04 done.\ncorr_matrix for 2015-09-03 done.\ncorr_matrix for 2015-09-02 done.\ncorr_matrix for 2015-09-01 done.\ncorr_matrix for 2015-08-31 done.\ncorr_matrix for 2015-08-28 done.\n"
     ]
    },
    {
     "name": "stdout",
     "output_type": "stream",
     "text": [
      "corr_matrix for 2015-08-27 done.\ncorr_matrix for 2015-08-26 done.\ncorr_matrix for 2015-08-25 done.\ncorr_matrix for 2015-08-24 done.\ncorr_matrix for 2015-08-21 done.\ncorr_matrix for 2015-08-20 done.\ncorr_matrix for 2015-08-19 done.\ncorr_matrix for 2015-08-18 done.\ncorr_matrix for 2015-08-17 done.\ncorr_matrix for 2015-08-14 done.\ncorr_matrix for 2015-08-13 done.\n"
     ]
    },
    {
     "name": "stdout",
     "output_type": "stream",
     "text": [
      "corr_matrix for 2015-08-12 done.\ncorr_matrix for 2015-08-11 done.\ncorr_matrix for 2015-08-10 done.\ncorr_matrix for 2015-08-07 done.\ncorr_matrix for 2015-08-06 done.\ncorr_matrix for 2015-08-05 done.\ncorr_matrix for 2015-08-04 done.\ncorr_matrix for 2015-08-03 done.\ncorr_matrix for 2015-07-31 done.\ncorr_matrix for 2015-07-30 done.\ncorr_matrix for 2015-07-29 done.\n"
     ]
    },
    {
     "name": "stdout",
     "output_type": "stream",
     "text": [
      "corr_matrix for 2015-07-28 done.\ncorr_matrix for 2015-07-27 done.\ncorr_matrix for 2015-07-24 done.\ncorr_matrix for 2015-07-23 done.\ncorr_matrix for 2015-07-22 done.\ncorr_matrix for 2015-07-21 done.\ncorr_matrix for 2015-07-20 done.\ncorr_matrix for 2015-07-17 done.\ncorr_matrix for 2015-07-16 done.\ncorr_matrix for 2015-07-15 done.\ncorr_matrix for 2015-07-14 done.\n"
     ]
    },
    {
     "name": "stdout",
     "output_type": "stream",
     "text": [
      "corr_matrix for 2015-07-13 done.\ncorr_matrix for 2015-07-10 done.\ncorr_matrix for 2015-07-09 done.\ncorr_matrix for 2015-07-08 done.\ncorr_matrix for 2015-07-07 done.\ncorr_matrix for 2015-07-06 done.\ncorr_matrix for 2015-07-02 done.\n"
     ]
    },
    {
     "name": "stdout",
     "output_type": "stream",
     "text": [
      "corr_matrix for 2015-07-01 done.\ncorr_matrix for 2015-06-30 done.\ncorr_matrix for 2015-06-29 done.\n"
     ]
    },
    {
     "name": "stdout",
     "output_type": "stream",
     "text": [
      "corr_matrix for 2015-06-26 done.\ncorr_matrix for 2015-06-25 done.\ncorr_matrix for 2015-06-24 done.\ncorr_matrix for 2015-06-23 done.\ncorr_matrix for 2015-06-22 done.\ncorr_matrix for 2015-06-19 done.\ncorr_matrix for 2015-06-18 done.\ncorr_matrix for 2015-06-17 done.\n"
     ]
    },
    {
     "name": "stdout",
     "output_type": "stream",
     "text": [
      "corr_matrix for 2015-06-16 done.\ncorr_matrix for 2015-06-15 done.\ncorr_matrix for 2015-06-12 done.\ncorr_matrix for 2015-06-11 done.\ncorr_matrix for 2015-06-10 done.\ncorr_matrix for 2015-06-09 done.\ncorr_matrix for 2015-06-08 done.\n"
     ]
    },
    {
     "name": "stdout",
     "output_type": "stream",
     "text": [
      "corr_matrix for 2015-06-05 done.\ncorr_matrix for 2015-06-04 done.\ncorr_matrix for 2015-06-03 done.\ncorr_matrix for 2015-06-02 done.\n"
     ]
    },
    {
     "name": "stdout",
     "output_type": "stream",
     "text": [
      "corr_matrix for 2015-06-01 done.\ncorr_matrix for 2015-05-29 done.\ncorr_matrix for 2015-05-28 done.\ncorr_matrix for 2015-05-27 done.\ncorr_matrix for 2015-05-26 done.\n"
     ]
    },
    {
     "name": "stdout",
     "output_type": "stream",
     "text": [
      "corr_matrix for 2015-05-22 done.\ncorr_matrix for 2015-05-21 done.\ncorr_matrix for 2015-05-20 done.\ncorr_matrix for 2015-05-19 done.\ncorr_matrix for 2015-05-18 done.\ncorr_matrix for 2015-05-15 done.\ncorr_matrix for 2015-05-14 done.\n"
     ]
    },
    {
     "name": "stdout",
     "output_type": "stream",
     "text": [
      "corr_matrix for 2015-05-13 done.\ncorr_matrix for 2015-05-12 done.\ncorr_matrix for 2015-05-11 done.\ncorr_matrix for 2015-05-08 done.\ncorr_matrix for 2015-05-07 done.\ncorr_matrix for 2015-05-06 done.\n"
     ]
    },
    {
     "name": "stdout",
     "output_type": "stream",
     "text": [
      "corr_matrix for 2015-05-05 done.\ncorr_matrix for 2015-05-04 done.\ncorr_matrix for 2015-05-01 done.\ncorr_matrix for 2015-04-30 done.\ncorr_matrix for 2015-04-29 done.\ncorr_matrix for 2015-04-28 done.\ncorr_matrix for 2015-04-27 done.\ncorr_matrix for 2015-04-24 done.\ncorr_matrix for 2015-04-23 done.\ncorr_matrix for 2015-04-22 done.\n"
     ]
    },
    {
     "name": "stdout",
     "output_type": "stream",
     "text": [
      "corr_matrix for 2015-04-21 done.\ncorr_matrix for 2015-04-20 done.\ncorr_matrix for 2015-04-17 done.\ncorr_matrix for 2015-04-16 done.\ncorr_matrix for 2015-04-15 done.\ncorr_matrix for 2015-04-14 done.\ncorr_matrix for 2015-04-13 done.\ncorr_matrix for 2015-04-10 done.\ncorr_matrix for 2015-04-09 done.\ncorr_matrix for 2015-04-08 done.\n"
     ]
    },
    {
     "name": "stdout",
     "output_type": "stream",
     "text": [
      "corr_matrix for 2015-04-07 done.\ncorr_matrix for 2015-04-06 done.\ncorr_matrix for 2015-04-02 done.\ncorr_matrix for 2015-04-01 done.\ncorr_matrix for 2015-03-31 done.\ncorr_matrix for 2015-03-30 done.\ncorr_matrix for 2015-03-27 done.\ncorr_matrix for 2015-03-26 done.\ncorr_matrix for 2015-03-25 done.\ncorr_matrix for 2015-03-24 done.\n"
     ]
    },
    {
     "name": "stdout",
     "output_type": "stream",
     "text": [
      "corr_matrix for 2015-03-23 done.\ncorr_matrix for 2015-03-20 done.\ncorr_matrix for 2015-03-19 done.\ncorr_matrix for 2015-03-18 done.\ncorr_matrix for 2015-03-17 done.\ncorr_matrix for 2015-03-16 done.\ncorr_matrix for 2015-03-13 done.\ncorr_matrix for 2015-03-12 done.\ncorr_matrix for 2015-03-11 done.\n"
     ]
    },
    {
     "name": "stdout",
     "output_type": "stream",
     "text": [
      "corr_matrix for 2015-03-10 done.\ncorr_matrix for 2015-03-09 done.\ncorr_matrix for 2015-03-06 done.\ncorr_matrix for 2015-03-05 done.\ncorr_matrix for 2015-03-04 done.\ncorr_matrix for 2015-03-03 done.\n"
     ]
    },
    {
     "name": "stdout",
     "output_type": "stream",
     "text": [
      "corr_matrix for 2015-03-02 done.\ncorr_matrix for 2015-02-27 done.\ncorr_matrix for 2015-02-26 done.\ncorr_matrix for 2015-02-25 done.\ncorr_matrix for 2015-02-24 done.\ncorr_matrix for 2015-02-23 done.\ncorr_matrix for 2015-02-20 done.\n"
     ]
    },
    {
     "name": "stdout",
     "output_type": "stream",
     "text": [
      "corr_matrix for 2015-02-19 done.\ncorr_matrix for 2015-02-18 done.\ncorr_matrix for 2015-02-17 done.\ncorr_matrix for 2015-02-13 done.\ncorr_matrix for 2015-02-12 done.\ncorr_matrix for 2015-02-11 done.\ncorr_matrix for 2015-02-10 done.\ncorr_matrix for 2015-02-09 done.\ncorr_matrix for 2015-02-06 done.\ncorr_matrix for 2015-02-05 done.\n"
     ]
    },
    {
     "name": "stdout",
     "output_type": "stream",
     "text": [
      "corr_matrix for 2015-02-04 done.\ncorr_matrix for 2015-02-03 done.\ncorr_matrix for 2015-02-02 done.\ncorr_matrix for 2015-01-30 done.\ncorr_matrix for 2015-01-29 done.\ncorr_matrix for 2015-01-28 done.\ncorr_matrix for 2015-01-27 done.\ncorr_matrix for 2015-01-26 done.\ncorr_matrix for 2015-01-23 done.\ncorr_matrix for 2015-01-22 done.\ncorr_matrix for 2015-01-21 done.\n"
     ]
    },
    {
     "name": "stdout",
     "output_type": "stream",
     "text": [
      "corr_matrix for 2015-01-20 done.\ncorr_matrix for 2015-01-16 done.\ncorr_matrix for 2015-01-15 done.\ncorr_matrix for 2015-01-14 done.\ncorr_matrix for 2015-01-13 done.\ncorr_matrix for 2015-01-12 done.\ncorr_matrix for 2015-01-09 done.\ncorr_matrix for 2015-01-08 done.\ncorr_matrix for 2015-01-07 done.\ncorr_matrix for 2015-01-06 done.\n"
     ]
    },
    {
     "name": "stdout",
     "output_type": "stream",
     "text": [
      "corr_matrix for 2015-01-05 done.\ncorr_matrix for 2015-01-02 done.\ncorr_matrix for 2014-12-31 done.\ncorr_matrix for 2014-12-30 done.\ncorr_matrix for 2014-12-29 done.\ncorr_matrix for 2014-12-26 done.\ncorr_matrix for 2014-12-24 done.\ncorr_matrix for 2014-12-23 done.\ncorr_matrix for 2014-12-22 done.\ncorr_matrix for 2014-12-19 done.\n"
     ]
    },
    {
     "name": "stdout",
     "output_type": "stream",
     "text": [
      "corr_matrix for 2014-12-18 done.\ncorr_matrix for 2014-12-17 done.\ncorr_matrix for 2014-12-16 done.\ncorr_matrix for 2014-12-15 done.\ncorr_matrix for 2014-12-12 done.\ncorr_matrix for 2014-12-11 done.\ncorr_matrix for 2014-12-10 done.\ncorr_matrix for 2014-12-09 done.\ncorr_matrix for 2014-12-08 done.\ncorr_matrix for 2014-12-05 done.\ncorr_matrix for 2014-12-04 done.\n"
     ]
    },
    {
     "name": "stdout",
     "output_type": "stream",
     "text": [
      "corr_matrix for 2014-12-03 done.\ncorr_matrix for 2014-12-02 done.\ncorr_matrix for 2014-12-01 done.\ncorr_matrix for 2014-11-28 done.\ncorr_matrix for 2014-11-26 done.\ncorr_matrix for 2014-11-25 done.\ncorr_matrix for 2014-11-24 done.\ncorr_matrix for 2014-11-21 done.\ncorr_matrix for 2014-11-20 done.\ncorr_matrix for 2014-11-19 done.\ncorr_matrix for 2014-11-18 done.\n"
     ]
    },
    {
     "name": "stdout",
     "output_type": "stream",
     "text": [
      "corr_matrix for 2014-11-17 done.\ncorr_matrix for 2014-11-14 done.\ncorr_matrix for 2014-11-13 done.\ncorr_matrix for 2014-11-12 done.\ncorr_matrix for 2014-11-11 done.\ncorr_matrix for 2014-11-10 done.\ncorr_matrix for 2014-11-07 done.\ncorr_matrix for 2014-11-06 done.\ncorr_matrix for 2014-11-05 done.\ncorr_matrix for 2014-11-04 done.\n"
     ]
    },
    {
     "name": "stdout",
     "output_type": "stream",
     "text": [
      "corr_matrix for 2014-11-03 done.\ncorr_matrix for 2014-10-31 done.\ncorr_matrix for 2014-10-30 done.\ncorr_matrix for 2014-10-29 done.\ncorr_matrix for 2014-10-28 done.\ncorr_matrix for 2014-10-27 done.\ncorr_matrix for 2014-10-24 done.\ncorr_matrix for 2014-10-23 done.\ncorr_matrix for 2014-10-22 done.\ncorr_matrix for 2014-10-21 done.\n"
     ]
    },
    {
     "name": "stdout",
     "output_type": "stream",
     "text": [
      "corr_matrix for 2014-10-20 done.\ncorr_matrix for 2014-10-17 done.\ncorr_matrix for 2014-10-16 done.\ncorr_matrix for 2014-10-15 done.\ncorr_matrix for 2014-10-14 done.\ncorr_matrix for 2014-10-13 done.\ncorr_matrix for 2014-10-10 done.\ncorr_matrix for 2014-10-09 done.\ncorr_matrix for 2014-10-08 done.\n"
     ]
    },
    {
     "name": "stdout",
     "output_type": "stream",
     "text": [
      "corr_matrix for 2014-10-07 done.\ncorr_matrix for 2014-10-06 done.\ncorr_matrix for 2014-10-03 done.\ncorr_matrix for 2014-10-02 done.\ncorr_matrix for 2014-10-01 done.\ncorr_matrix for 2014-09-30 done.\ncorr_matrix for 2014-09-29 done.\ncorr_matrix for 2014-09-26 done.\ncorr_matrix for 2014-09-25 done.\ncorr_matrix for 2014-09-24 done.\ncorr_matrix for 2014-09-23 done.\n"
     ]
    },
    {
     "name": "stdout",
     "output_type": "stream",
     "text": [
      "corr_matrix for 2014-09-22 done.\ncorr_matrix for 2014-09-19 done.\ncorr_matrix for 2014-09-18 done.\ncorr_matrix for 2014-09-17 done.\ncorr_matrix for 2014-09-16 done.\ncorr_matrix for 2014-09-15 done.\ncorr_matrix for 2014-09-12 done.\ncorr_matrix for 2014-09-11 done.\ncorr_matrix for 2014-09-10 done.\ncorr_matrix for 2014-09-09 done.\ncorr_matrix for 2014-09-08 done.\n"
     ]
    },
    {
     "name": "stdout",
     "output_type": "stream",
     "text": [
      "corr_matrix for 2014-09-05 done.\ncorr_matrix for 2014-09-04 done.\ncorr_matrix for 2014-09-03 done.\ncorr_matrix for 2014-09-02 done.\ncorr_matrix for 2014-08-29 done.\ncorr_matrix for 2014-08-28 done.\ncorr_matrix for 2014-08-27 done.\ncorr_matrix for 2014-08-26 done.\ncorr_matrix for 2014-08-25 done.\ncorr_matrix for 2014-08-22 done.\ncorr_matrix for 2014-08-21 done.\n"
     ]
    },
    {
     "name": "stdout",
     "output_type": "stream",
     "text": [
      "corr_matrix for 2014-08-20 done.\ncorr_matrix for 2014-08-19 done.\ncorr_matrix for 2014-08-18 done.\ncorr_matrix for 2014-08-15 done.\ncorr_matrix for 2014-08-14 done.\ncorr_matrix for 2014-08-13 done.\ncorr_matrix for 2014-08-12 done.\ncorr_matrix for 2014-08-11 done.\ncorr_matrix for 2014-08-08 done.\ncorr_matrix for 2014-08-07 done.\ncorr_matrix for 2014-08-06 done.\n"
     ]
    },
    {
     "name": "stdout",
     "output_type": "stream",
     "text": [
      "corr_matrix for 2014-08-05 done.\ncorr_matrix for 2014-08-04 done.\ncorr_matrix for 2014-08-01 done.\ncorr_matrix for 2014-07-31 done.\ncorr_matrix for 2014-07-30 done.\ncorr_matrix for 2014-07-29 done.\ncorr_matrix for 2014-07-28 done.\ncorr_matrix for 2014-07-25 done.\ncorr_matrix for 2014-07-24 done.\ncorr_matrix for 2014-07-23 done.\ncorr_matrix for 2014-07-22 done.\n"
     ]
    },
    {
     "name": "stdout",
     "output_type": "stream",
     "text": [
      "corr_matrix for 2014-07-21 done.\ncorr_matrix for 2014-07-18 done.\ncorr_matrix for 2014-07-17 done.\ncorr_matrix for 2014-07-16 done.\ncorr_matrix for 2014-07-15 done.\ncorr_matrix for 2014-07-14 done.\ncorr_matrix for 2014-07-11 done.\ncorr_matrix for 2014-07-10 done.\ncorr_matrix for 2014-07-09 done.\ncorr_matrix for 2014-07-08 done.\ncorr_matrix for 2014-07-07 done."
     ]
    },
    {
     "name": "stdout",
     "output_type": "stream",
     "text": [
      "\ncorr_matrix for 2014-07-03 done.\ncorr_matrix for 2014-07-02 done.\ncorr_matrix for 2014-07-01 done.\ncorr_matrix for 2014-06-30 done.\ncorr_matrix for 2014-06-27 done.\ncorr_matrix for 2014-06-26 done.\ncorr_matrix for 2014-06-25 done.\ncorr_matrix for 2014-06-24 done.\ncorr_matrix for 2014-06-23 done.\ncorr_matrix for 2014-06-20 done.\ncorr_matrix for 2014-06-19 done.\n"
     ]
    },
    {
     "name": "stdout",
     "output_type": "stream",
     "text": [
      "corr_matrix for 2014-06-18 done.\ncorr_matrix for 2014-06-17 done.\ncorr_matrix for 2014-06-16 done.\ncorr_matrix for 2014-06-13 done.\ncorr_matrix for 2014-06-12 done.\ncorr_matrix for 2014-06-11 done.\ncorr_matrix for 2014-06-10 done.\ncorr_matrix for 2014-06-09 done.\ncorr_matrix for 2014-06-06 done.\ncorr_matrix for 2014-06-05 done.\n"
     ]
    },
    {
     "name": "stdout",
     "output_type": "stream",
     "text": [
      "corr_matrix for 2014-06-04 done.\ncorr_matrix for 2014-06-03 done.\ncorr_matrix for 2014-06-02 done.\ncorr_matrix for 2014-05-30 done.\ncorr_matrix for 2014-05-29 done.\ncorr_matrix for 2014-05-28 done.\ncorr_matrix for 2014-05-27 done.\ncorr_matrix for 2014-05-23 done.\ncorr_matrix for 2014-05-22 done.\ncorr_matrix for 2014-05-21 done.\ncorr_matrix for 2014-05-20 done.\n"
     ]
    },
    {
     "name": "stdout",
     "output_type": "stream",
     "text": [
      "corr_matrix for 2014-05-19 done.\ncorr_matrix for 2014-05-16 done.\ncorr_matrix for 2014-05-15 done.\ncorr_matrix for 2014-05-14 done.\ncorr_matrix for 2014-05-13 done.\ncorr_matrix for 2014-05-12 done.\ncorr_matrix for 2014-05-09 done.\ncorr_matrix for 2014-05-08 done.\ncorr_matrix for 2014-05-07 done.\ncorr_matrix for 2014-05-06 done.\ncorr_matrix for 2014-05-05 done.\ncorr_matrix for 2014-05-02 done."
     ]
    },
    {
     "name": "stdout",
     "output_type": "stream",
     "text": [
      "\ncorr_matrix for 2014-05-01 done.\ncorr_matrix for 2014-04-30 done.\ncorr_matrix for 2014-04-29 done.\ncorr_matrix for 2014-04-28 done.\ncorr_matrix for 2014-04-25 done.\ncorr_matrix for 2014-04-24 done.\ncorr_matrix for 2014-04-23 done.\ncorr_matrix for 2014-04-22 done.\ncorr_matrix for 2014-04-21 done.\ncorr_matrix for 2014-04-17 done.\ncorr_matrix for 2014-04-16 done.\n"
     ]
    },
    {
     "name": "stdout",
     "output_type": "stream",
     "text": [
      "corr_matrix for 2014-04-15 done.\ncorr_matrix for 2014-04-14 done.\ncorr_matrix for 2014-04-11 done.\ncorr_matrix for 2014-04-10 done.\ncorr_matrix for 2014-04-09 done.\ncorr_matrix for 2014-04-08 done.\ncorr_matrix for 2014-04-07 done.\ncorr_matrix for 2014-04-04 done.\ncorr_matrix for 2014-04-03 done.\ncorr_matrix for 2014-04-02 done.\n"
     ]
    },
    {
     "name": "stdout",
     "output_type": "stream",
     "text": [
      "corr_matrix for 2014-04-01 done.\ncorr_matrix for 2014-03-31 done.\ncorr_matrix for 2014-03-28 done.\ncorr_matrix for 2014-03-27 done.\ncorr_matrix for 2014-03-26 done.\ncorr_matrix for 2014-03-25 done.\ncorr_matrix for 2014-03-24 done.\ncorr_matrix for 2014-03-21 done.\ncorr_matrix for 2014-03-20 done.\ncorr_matrix for 2014-03-19 done.\ncorr_matrix for 2014-03-18 done.\n"
     ]
    },
    {
     "name": "stdout",
     "output_type": "stream",
     "text": [
      "corr_matrix for 2014-03-17 done.\ncorr_matrix for 2014-03-14 done.\ncorr_matrix for 2014-03-13 done.\ncorr_matrix for 2014-03-12 done.\ncorr_matrix for 2014-03-11 done.\ncorr_matrix for 2014-03-10 done.\ncorr_matrix for 2014-03-07 done.\ncorr_matrix for 2014-03-06 done.\ncorr_matrix for 2014-03-05 done.\ncorr_matrix for 2014-03-04 done.\ncorr_matrix for 2014-03-03 done.\n"
     ]
    },
    {
     "name": "stdout",
     "output_type": "stream",
     "text": [
      "corr_matrix for 2014-02-28 done.\ncorr_matrix for 2014-02-27 done.\ncorr_matrix for 2014-02-26 done.\ncorr_matrix for 2014-02-25 done.\ncorr_matrix for 2014-02-24 done.\ncorr_matrix for 2014-02-21 done.\ncorr_matrix for 2014-02-20 done.\ncorr_matrix for 2014-02-19 done.\ncorr_matrix for 2014-02-18 done.\ncorr_matrix for 2014-02-14 done.\ncorr_matrix for 2014-02-13 done.\n"
     ]
    },
    {
     "name": "stdout",
     "output_type": "stream",
     "text": [
      "corr_matrix for 2014-02-12 done.\ncorr_matrix for 2014-02-11 done.\ncorr_matrix for 2014-02-10 done.\ncorr_matrix for 2014-02-07 done.\ncorr_matrix for 2014-02-06 done.\ncorr_matrix for 2014-02-05 done.\ncorr_matrix for 2014-02-04 done.\ncorr_matrix for 2014-02-03 done.\ncorr_matrix for 2014-01-31 done.\ncorr_matrix for 2014-01-30 done.\ncorr_matrix for 2014-01-29 done.\n"
     ]
    },
    {
     "name": "stdout",
     "output_type": "stream",
     "text": [
      "corr_matrix for 2014-01-28 done.\ncorr_matrix for 2014-01-27 done.\ncorr_matrix for 2014-01-24 done.\ncorr_matrix for 2014-01-23 done.\ncorr_matrix for 2014-01-22 done.\ncorr_matrix for 2014-01-21 done.\ncorr_matrix for 2014-01-17 done.\ncorr_matrix for 2014-01-16 done.\ncorr_matrix for 2014-01-15 done.\ncorr_matrix for 2014-01-14 done.\ncorr_matrix for 2014-01-13 done.\n"
     ]
    },
    {
     "name": "stdout",
     "output_type": "stream",
     "text": [
      "corr_matrix for 2014-01-10 done.\ncorr_matrix for 2014-01-09 done.\ncorr_matrix for 2014-01-08 done.\ncorr_matrix for 2014-01-07 done.\ncorr_matrix for 2014-01-06 done.\ncorr_matrix for 2014-01-03 done.\ncorr_matrix for 2014-01-02 done.\ncorr_matrix for 2013-12-31 done.\ncorr_matrix for 2013-12-30 done.\ncorr_matrix for 2013-12-27 done.\ncorr_matrix for 2013-12-26 done.\n"
     ]
    },
    {
     "name": "stdout",
     "output_type": "stream",
     "text": [
      "corr_matrix for 2013-12-24 done.\ncorr_matrix for 2013-12-23 done.\ncorr_matrix for 2013-12-20 done.\ncorr_matrix for 2013-12-19 done.\ncorr_matrix for 2013-12-18 done.\ncorr_matrix for 2013-12-17 done.\ncorr_matrix for 2013-12-16 done.\ncorr_matrix for 2013-12-13 done.\ncorr_matrix for 2013-12-12 done.\ncorr_matrix for 2013-12-11 done.\n"
     ]
    },
    {
     "name": "stdout",
     "output_type": "stream",
     "text": [
      "corr_matrix for 2013-12-10 done.\ncorr_matrix for 2013-12-09 done.\ncorr_matrix for 2013-12-06 done.\ncorr_matrix for 2013-12-05 done.\ncorr_matrix for 2013-12-04 done.\ncorr_matrix for 2013-12-03 done.\ncorr_matrix for 2013-12-02 done.\ncorr_matrix for 2013-11-29 done.\ncorr_matrix for 2013-11-27 done.\ncorr_matrix for 2013-11-26 done.\ncorr_matrix for 2013-11-25 done.\n"
     ]
    },
    {
     "name": "stdout",
     "output_type": "stream",
     "text": [
      "corr_matrix for 2013-11-22 done.\ncorr_matrix for 2013-11-21 done.\ncorr_matrix for 2013-11-20 done.\ncorr_matrix for 2013-11-19 done.\ncorr_matrix for 2013-11-18 done.\ncorr_matrix for 2013-11-15 done.\ncorr_matrix for 2013-11-14 done.\ncorr_matrix for 2013-11-13 done.\ncorr_matrix for 2013-11-12 done.\ncorr_matrix for 2013-11-11 done.\ncorr_matrix for 2013-11-08 done.\ncorr_matrix for 2013-11-07 done.\n"
     ]
    },
    {
     "name": "stdout",
     "output_type": "stream",
     "text": [
      "corr_matrix for 2013-11-06 done.\ncorr_matrix for 2013-11-05 done.\ncorr_matrix for 2013-11-04 done.\ncorr_matrix for 2013-11-01 done.\ncorr_matrix for 2013-10-31 done.\ncorr_matrix for 2013-10-30 done.\ncorr_matrix for 2013-10-29 done.\ncorr_matrix for 2013-10-28 done.\ncorr_matrix for 2013-10-25 done.\ncorr_matrix for 2013-10-24 done.\ncorr_matrix for 2013-10-23 done.\n"
     ]
    },
    {
     "name": "stdout",
     "output_type": "stream",
     "text": [
      "corr_matrix for 2013-10-22 done.\ncorr_matrix for 2013-10-21 done.\ncorr_matrix for 2013-10-18 done.\ncorr_matrix for 2013-10-17 done.\ncorr_matrix for 2013-10-16 done.\ncorr_matrix for 2013-10-15 done.\ncorr_matrix for 2013-10-14 done.\ncorr_matrix for 2013-10-11 done.\ncorr_matrix for 2013-10-10 done.\ncorr_matrix for 2013-10-09 done.\ncorr_matrix for 2013-10-08 done.\ncorr_matrix for 2013-10-07 done.\n"
     ]
    },
    {
     "name": "stdout",
     "output_type": "stream",
     "text": [
      "corr_matrix for 2013-10-04 done.\ncorr_matrix for 2013-10-03 done.\ncorr_matrix for 2013-10-02 done.\ncorr_matrix for 2013-10-01 done.\ncorr_matrix for 2013-09-30 done.\ncorr_matrix for 2013-09-27 done.\ncorr_matrix for 2013-09-26 done.\ncorr_matrix for 2013-09-25 done.\ncorr_matrix for 2013-09-24 done.\ncorr_matrix for 2013-09-23 done.\ncorr_matrix for 2013-09-20 done.\ncorr_matrix for 2013-09-19 done.\n"
     ]
    },
    {
     "name": "stdout",
     "output_type": "stream",
     "text": [
      "corr_matrix for 2013-09-18 done.\ncorr_matrix for 2013-09-17 done.\ncorr_matrix for 2013-09-16 done.\ncorr_matrix for 2013-09-13 done.\ncorr_matrix for 2013-09-12 done.\ncorr_matrix for 2013-09-11 done.\ncorr_matrix for 2013-09-10 done.\ncorr_matrix for 2013-09-09 done.\ncorr_matrix for 2013-09-06 done.\ncorr_matrix for 2013-09-05 done.\ncorr_matrix for 2013-09-04 done.\n"
     ]
    },
    {
     "name": "stdout",
     "output_type": "stream",
     "text": [
      "corr_matrix for 2013-09-03 done.\ncorr_matrix for 2013-08-30 done.\ncorr_matrix for 2013-08-29 done.\ncorr_matrix for 2013-08-28 done.\ncorr_matrix for 2013-08-27 done.\ncorr_matrix for 2013-08-26 done.\ncorr_matrix for 2013-08-23 done.\ncorr_matrix for 2013-08-22 done.\ncorr_matrix for 2013-08-21 done.\ncorr_matrix for 2013-08-20 done.\ncorr_matrix for 2013-08-19 done."
     ]
    },
    {
     "name": "stdout",
     "output_type": "stream",
     "text": [
      "\ncorr_matrix for 2013-08-16 done.\ncorr_matrix for 2013-08-15 done.\ncorr_matrix for 2013-08-14 done.\ncorr_matrix for 2013-08-13 done.\ncorr_matrix for 2013-08-12 done.\ncorr_matrix for 2013-08-09 done.\ncorr_matrix for 2013-08-08 done.\ncorr_matrix for 2013-08-07 done.\ncorr_matrix for 2013-08-06 done.\ncorr_matrix for 2013-08-05 done.\ncorr_matrix for 2013-08-02 done.\n"
     ]
    },
    {
     "name": "stdout",
     "output_type": "stream",
     "text": [
      "corr_matrix for 2013-08-01 done.\ncorr_matrix for 2013-07-31 done.\ncorr_matrix for 2013-07-30 done.\ncorr_matrix for 2013-07-29 done.\ncorr_matrix for 2013-07-26 done.\ncorr_matrix for 2013-07-25 done.\ncorr_matrix for 2013-07-24 done.\ncorr_matrix for 2013-07-23 done.\ncorr_matrix for 2013-07-22 done.\ncorr_matrix for 2013-07-19 done.\ncorr_matrix for 2013-07-18 done.\n"
     ]
    },
    {
     "name": "stdout",
     "output_type": "stream",
     "text": [
      "corr_matrix for 2013-07-17 done.\ncorr_matrix for 2013-07-16 done.\ncorr_matrix for 2013-07-15 done.\ncorr_matrix for 2013-07-12 done.\ncorr_matrix for 2013-07-11 done.\ncorr_matrix for 2013-07-10 done.\ncorr_matrix for 2013-07-09 done.\ncorr_matrix for 2013-07-08 done.\ncorr_matrix for 2013-07-05 done.\ncorr_matrix for 2013-07-03 done.\ncorr_matrix for 2013-07-02 done.\n"
     ]
    },
    {
     "name": "stdout",
     "output_type": "stream",
     "text": [
      "corr_matrix for 2013-07-01 done.\ncorr_matrix for 2013-06-28 done.\ncorr_matrix for 2013-06-27 done.\ncorr_matrix for 2013-06-26 done.\ncorr_matrix for 2013-06-25 done.\ncorr_matrix for 2013-06-24 done.\ncorr_matrix for 2013-06-21 done.\ncorr_matrix for 2013-06-20 done.\ncorr_matrix for 2013-06-19 done.\ncorr_matrix for 2013-06-18 done.\ncorr_matrix for 2013-06-17 done.\n"
     ]
    },
    {
     "name": "stdout",
     "output_type": "stream",
     "text": [
      "corr_matrix for 2013-06-14 done.\ncorr_matrix for 2013-06-13 done.\ncorr_matrix for 2013-06-12 done.\ncorr_matrix for 2013-06-11 done.\ncorr_matrix for 2013-06-10 done.\ncorr_matrix for 2013-06-07 done.\ncorr_matrix for 2013-06-06 done.\ncorr_matrix for 2013-06-05 done.\ncorr_matrix for 2013-06-04 done.\n"
     ]
    },
    {
     "name": "stdout",
     "output_type": "stream",
     "text": [
      "corr_matrix for 2013-06-03 done.\ncorr_matrix for 2013-05-31 done.\ncorr_matrix for 2013-05-30 done.\ncorr_matrix for 2013-05-29 done.\ncorr_matrix for 2013-05-28 done.\ncorr_matrix for 2013-05-24 done.\ncorr_matrix for 2013-05-23 done.\n"
     ]
    },
    {
     "name": "stdout",
     "output_type": "stream",
     "text": [
      "corr_matrix for 2013-05-22 done.\ncorr_matrix for 2013-05-21 done.\ncorr_matrix for 2013-05-20 done.\ncorr_matrix for 2013-05-17 done.\ncorr_matrix for 2013-05-16 done.\ncorr_matrix for 2013-05-15 done.\ncorr_matrix for 2013-05-14 done.\ncorr_matrix for 2013-05-13 done.\ncorr_matrix for 2013-05-10 done.\n"
     ]
    },
    {
     "name": "stdout",
     "output_type": "stream",
     "text": [
      "corr_matrix for 2013-05-09 done.\ncorr_matrix for 2013-05-08 done.\ncorr_matrix for 2013-05-07 done.\ncorr_matrix for 2013-05-06 done.\ncorr_matrix for 2013-05-03 done.\ncorr_matrix for 2013-05-02 done.\ncorr_matrix for 2013-05-01 done.\ncorr_matrix for 2013-04-30 done.\ncorr_matrix for 2013-04-29 done.\n"
     ]
    },
    {
     "name": "stdout",
     "output_type": "stream",
     "text": [
      "corr_matrix for 2013-04-26 done.\ncorr_matrix for 2013-04-25 done.\ncorr_matrix for 2013-04-24 done.\ncorr_matrix for 2013-04-23 done.\ncorr_matrix for 2013-04-22 done.\ncorr_matrix for 2013-04-19 done.\ncorr_matrix for 2013-04-18 done.\ncorr_matrix for 2013-04-17 done.\ncorr_matrix for 2013-04-16 done.\n"
     ]
    },
    {
     "name": "stdout",
     "output_type": "stream",
     "text": [
      "corr_matrix for 2013-04-15 done.\ncorr_matrix for 2013-04-12 done.\ncorr_matrix for 2013-04-11 done.\ncorr_matrix for 2013-04-10 done.\ncorr_matrix for 2013-04-09 done.\ncorr_matrix for 2013-04-08 done.\ncorr_matrix for 2013-04-05 done.\ncorr_matrix for 2013-04-04 done.\n"
     ]
    },
    {
     "name": "stdout",
     "output_type": "stream",
     "text": [
      "corr_matrix for 2013-04-03 done.\ncorr_matrix for 2013-04-02 done.\ncorr_matrix for 2013-04-01 done.\ncorr_matrix for 2013-03-28 done.\ncorr_matrix for 2013-03-27 done.\n"
     ]
    },
    {
     "name": "stdout",
     "output_type": "stream",
     "text": [
      "corr_matrix for 2013-03-26 done.\ncorr_matrix for 2013-03-25 done.\ncorr_matrix for 2013-03-22 done.\n"
     ]
    },
    {
     "name": "stdout",
     "output_type": "stream",
     "text": [
      "corr_matrix for 2013-03-21 done.\ncorr_matrix for 2013-03-20 done.\ncorr_matrix for 2013-03-19 done.\ncorr_matrix for 2013-03-18 done.\ncorr_matrix for 2013-03-15 done.\n"
     ]
    },
    {
     "name": "stdout",
     "output_type": "stream",
     "text": [
      "corr_matrix for 2013-03-14 done.\ncorr_matrix for 2013-03-13 done.\ncorr_matrix for 2013-03-12 done.\ncorr_matrix for 2013-03-11 done.\ncorr_matrix for 2013-03-08 done.\n"
     ]
    },
    {
     "name": "stdout",
     "output_type": "stream",
     "text": [
      "corr_matrix for 2013-03-07 done.\ncorr_matrix for 2013-03-06 done.\ncorr_matrix for 2013-03-05 done.\ncorr_matrix for 2013-03-04 done.\ncorr_matrix for 2013-03-01 done.\ncorr_matrix for 2013-02-28 done.\ncorr_matrix for 2013-02-27 done.\n"
     ]
    },
    {
     "name": "stdout",
     "output_type": "stream",
     "text": [
      "corr_matrix for 2013-02-26 done.\ncorr_matrix for 2013-02-25 done.\ncorr_matrix for 2013-02-22 done.\ncorr_matrix for 2013-02-21 done.\ncorr_matrix for 2013-02-20 done.\ncorr_matrix for 2013-02-19 done.\ncorr_matrix for 2013-02-15 done.\n"
     ]
    },
    {
     "name": "stdout",
     "output_type": "stream",
     "text": [
      "corr_matrix for 2013-02-14 done.\ncorr_matrix for 2013-02-13 done.\ncorr_matrix for 2013-02-12 done.\ncorr_matrix for 2013-02-11 done.\ncorr_matrix for 2013-02-08 done.\ncorr_matrix for 2013-02-07 done.\ncorr_matrix for 2013-02-06 done.\n"
     ]
    },
    {
     "name": "stdout",
     "output_type": "stream",
     "text": [
      "corr_matrix for 2013-02-05 done.\ncorr_matrix for 2013-02-04 done.\ncorr_matrix for 2013-02-01 done.\ncorr_matrix for 2013-01-31 done.\n"
     ]
    },
    {
     "name": "stdout",
     "output_type": "stream",
     "text": [
      "corr_matrix for 2013-01-30 done.\ncorr_matrix for 2013-01-29 done.\ncorr_matrix for 2013-01-28 done.\ncorr_matrix for 2013-01-25 done.\ncorr_matrix for 2013-01-24 done.\ncorr_matrix for 2013-01-23 done.\ncorr_matrix for 2013-01-22 done.\ncorr_matrix for 2013-01-18 done.\ncorr_matrix for 2013-01-17 done."
     ]
    },
    {
     "name": "stdout",
     "output_type": "stream",
     "text": [
      "\ncorr_matrix for 2013-01-16 done.\ncorr_matrix for 2013-01-15 done.\ncorr_matrix for 2013-01-14 done.\ncorr_matrix for 2013-01-11 done.\ncorr_matrix for 2013-01-10 done.\ncorr_matrix for 2013-01-09 done.\ncorr_matrix for 2013-01-08 done.\ncorr_matrix for 2013-01-07 done.\n"
     ]
    },
    {
     "name": "stdout",
     "output_type": "stream",
     "text": [
      "corr_matrix for 2013-01-04 done.\ncorr_matrix for 2013-01-03 done.\ncorr_matrix for 2013-01-02 done.\ncorr_matrix for 2012-12-31 done.\ncorr_matrix for 2012-12-28 done.\ncorr_matrix for 2012-12-27 done.\ncorr_matrix for 2012-12-26 done.\ncorr_matrix for 2012-12-24 done.\ncorr_matrix for 2012-12-21 done.\ncorr_matrix for 2012-12-20 done.\n"
     ]
    },
    {
     "name": "stdout",
     "output_type": "stream",
     "text": [
      "corr_matrix for 2012-12-19 done.\ncorr_matrix for 2012-12-18 done.\ncorr_matrix for 2012-12-17 done.\ncorr_matrix for 2012-12-14 done.\ncorr_matrix for 2012-12-13 done.\ncorr_matrix for 2012-12-12 done.\ncorr_matrix for 2012-12-11 done.\ncorr_matrix for 2012-12-10 done.\ncorr_matrix for 2012-12-07 done.\ncorr_matrix for 2012-12-06 done.\n"
     ]
    },
    {
     "name": "stdout",
     "output_type": "stream",
     "text": [
      "corr_matrix for 2012-12-05 done.\ncorr_matrix for 2012-12-04 done.\ncorr_matrix for 2012-12-03 done.\ncorr_matrix for 2012-11-30 done.\ncorr_matrix for 2012-11-29 done.\ncorr_matrix for 2012-11-28 done.\ncorr_matrix for 2012-11-27 done.\ncorr_matrix for 2012-11-26 done.\ncorr_matrix for 2012-11-23 done.\ncorr_matrix for 2012-11-21 done.\n"
     ]
    },
    {
     "name": "stdout",
     "output_type": "stream",
     "text": [
      "corr_matrix for 2012-11-20 done.\ncorr_matrix for 2012-11-19 done.\ncorr_matrix for 2012-11-16 done.\ncorr_matrix for 2012-11-15 done.\ncorr_matrix for 2012-11-14 done.\ncorr_matrix for 2012-11-13 done.\ncorr_matrix for 2012-11-12 done.\ncorr_matrix for 2012-11-09 done.\ncorr_matrix for 2012-11-08 done.\ncorr_matrix for 2012-11-07 done.\ncorr_matrix for 2012-11-06 done.\n"
     ]
    },
    {
     "name": "stdout",
     "output_type": "stream",
     "text": [
      "corr_matrix for 2012-11-05 done.\ncorr_matrix for 2012-11-02 done.\ncorr_matrix for 2012-11-01 done.\ncorr_matrix for 2012-10-31 done.\ncorr_matrix for 2012-10-26 done.\ncorr_matrix for 2012-10-25 done.\ncorr_matrix for 2012-10-24 done.\ncorr_matrix for 2012-10-23 done.\ncorr_matrix for 2012-10-22 done.\ncorr_matrix for 2012-10-19 done.\ncorr_matrix for 2012-10-18 done.\ncorr_matrix for 2012-10-17 done.\n"
     ]
    },
    {
     "name": "stdout",
     "output_type": "stream",
     "text": [
      "corr_matrix for 2012-10-16 done.\ncorr_matrix for 2012-10-15 done.\ncorr_matrix for 2012-10-12 done.\ncorr_matrix for 2012-10-11 done.\ncorr_matrix for 2012-10-10 done.\ncorr_matrix for 2012-10-09 done.\ncorr_matrix for 2012-10-08 done.\ncorr_matrix for 2012-10-05 done.\ncorr_matrix for 2012-10-04 done.\ncorr_matrix for 2012-10-03 done.\ncorr_matrix for 2012-10-02 done.\ncorr_matrix for 2012-10-01 done.\n"
     ]
    },
    {
     "name": "stdout",
     "output_type": "stream",
     "text": [
      "corr_matrix for 2012-09-28 done.\ncorr_matrix for 2012-09-27 done.\ncorr_matrix for 2012-09-26 done.\ncorr_matrix for 2012-09-25 done.\ncorr_matrix for 2012-09-24 done.\ncorr_matrix for 2012-09-21 done.\ncorr_matrix for 2012-09-20 done.\ncorr_matrix for 2012-09-19 done.\ncorr_matrix for 2012-09-18 done.\ncorr_matrix for 2012-09-17 done.\ncorr_matrix for 2012-09-14 done.\n"
     ]
    },
    {
     "name": "stdout",
     "output_type": "stream",
     "text": [
      "corr_matrix for 2012-09-13 done.\ncorr_matrix for 2012-09-12 done.\ncorr_matrix for 2012-09-11 done.\ncorr_matrix for 2012-09-10 done.\ncorr_matrix for 2012-09-07 done.\ncorr_matrix for 2012-09-06 done.\ncorr_matrix for 2012-09-05 done.\ncorr_matrix for 2012-09-04 done.\ncorr_matrix for 2012-08-31 done.\ncorr_matrix for 2012-08-30 done.\ncorr_matrix for 2012-08-29 done."
     ]
    },
    {
     "name": "stdout",
     "output_type": "stream",
     "text": [
      "\ncorr_matrix for 2012-08-28 done.\ncorr_matrix for 2012-08-27 done.\ncorr_matrix for 2012-08-24 done.\ncorr_matrix for 2012-08-23 done.\ncorr_matrix for 2012-08-22 done.\ncorr_matrix for 2012-08-21 done.\ncorr_matrix for 2012-08-20 done.\ncorr_matrix for 2012-08-17 done.\ncorr_matrix for 2012-08-16 done.\ncorr_matrix for 2012-08-15 done.\ncorr_matrix for 2012-08-14 done.\n"
     ]
    },
    {
     "name": "stdout",
     "output_type": "stream",
     "text": [
      "corr_matrix for 2012-08-13 done.\ncorr_matrix for 2012-08-10 done.\ncorr_matrix for 2012-08-09 done.\ncorr_matrix for 2012-08-08 done.\ncorr_matrix for 2012-08-07 done.\ncorr_matrix for 2012-08-06 done.\ncorr_matrix for 2012-08-03 done.\ncorr_matrix for 2012-08-02 done.\ncorr_matrix for 2012-08-01 done.\n"
     ]
    },
    {
     "name": "stdout",
     "output_type": "stream",
     "text": [
      "corr_matrix for 2012-07-31 done.\ncorr_matrix for 2012-07-30 done.\ncorr_matrix for 2012-07-27 done.\ncorr_matrix for 2012-07-26 done.\ncorr_matrix for 2012-07-25 done.\ncorr_matrix for 2012-07-24 done.\ncorr_matrix for 2012-07-23 done.\ncorr_matrix for 2012-07-20 done.\ncorr_matrix for 2012-07-19 done.\ncorr_matrix for 2012-07-18 done.\ncorr_matrix for 2012-07-17 done.\n"
     ]
    },
    {
     "name": "stdout",
     "output_type": "stream",
     "text": [
      "corr_matrix for 2012-07-16 done.\ncorr_matrix for 2012-07-13 done.\ncorr_matrix for 2012-07-12 done.\ncorr_matrix for 2012-07-11 done.\ncorr_matrix for 2012-07-10 done.\ncorr_matrix for 2012-07-09 done.\ncorr_matrix for 2012-07-06 done.\ncorr_matrix for 2012-07-05 done.\ncorr_matrix for 2012-07-03 done.\ncorr_matrix for 2012-07-02 done.\ncorr_matrix for 2012-06-29 done.\n"
     ]
    },
    {
     "name": "stdout",
     "output_type": "stream",
     "text": [
      "corr_matrix for 2012-06-28 done.\ncorr_matrix for 2012-06-27 done.\ncorr_matrix for 2012-06-26 done.\ncorr_matrix for 2012-06-25 done.\ncorr_matrix for 2012-06-22 done.\ncorr_matrix for 2012-06-21 done.\ncorr_matrix for 2012-06-20 done.\ncorr_matrix for 2012-06-19 done.\ncorr_matrix for 2012-06-18 done.\ncorr_matrix for 2012-06-15 done.\ncorr_matrix for 2012-06-14 done.\n"
     ]
    },
    {
     "name": "stdout",
     "output_type": "stream",
     "text": [
      "corr_matrix for 2012-06-13 done.\ncorr_matrix for 2012-06-12 done.\ncorr_matrix for 2012-06-11 done.\ncorr_matrix for 2012-06-08 done.\ncorr_matrix for 2012-06-07 done.\ncorr_matrix for 2012-06-06 done.\ncorr_matrix for 2012-06-05 done.\ncorr_matrix for 2012-06-04 done.\ncorr_matrix for 2012-06-01 done.\ncorr_matrix for 2012-05-31 done.\ncorr_matrix for 2012-05-30 done.\n"
     ]
    },
    {
     "name": "stdout",
     "output_type": "stream",
     "text": [
      "corr_matrix for 2012-05-29 done.\ncorr_matrix for 2012-05-25 done.\ncorr_matrix for 2012-05-24 done.\ncorr_matrix for 2012-05-23 done.\ncorr_matrix for 2012-05-22 done.\ncorr_matrix for 2012-05-21 done.\ncorr_matrix for 2012-05-18 done.\ncorr_matrix for 2012-05-17 done.\ncorr_matrix for 2012-05-16 done.\ncorr_matrix for 2012-05-15 done.\n"
     ]
    },
    {
     "name": "stdout",
     "output_type": "stream",
     "text": [
      "corr_matrix for 2012-05-14 done.\ncorr_matrix for 2012-05-11 done.\ncorr_matrix for 2012-05-10 done.\ncorr_matrix for 2012-05-09 done.\ncorr_matrix for 2012-05-08 done.\ncorr_matrix for 2012-05-07 done.\ncorr_matrix for 2012-05-04 done.\ncorr_matrix for 2012-05-03 done.\ncorr_matrix for 2012-05-02 done.\n"
     ]
    },
    {
     "name": "stdout",
     "output_type": "stream",
     "text": [
      "corr_matrix for 2012-05-01 done.\ncorr_matrix for 2012-04-30 done.\ncorr_matrix for 2012-04-27 done.\ncorr_matrix for 2012-04-26 done.\ncorr_matrix for 2012-04-25 done.\ncorr_matrix for 2012-04-24 done.\ncorr_matrix for 2012-04-23 done.\ncorr_matrix for 2012-04-20 done.\ncorr_matrix for 2012-04-19 done.\ncorr_matrix for 2012-04-18 done.\n"
     ]
    },
    {
     "name": "stdout",
     "output_type": "stream",
     "text": [
      "corr_matrix for 2012-04-17 done.\ncorr_matrix for 2012-04-16 done.\ncorr_matrix for 2012-04-13 done.\ncorr_matrix for 2012-04-12 done.\ncorr_matrix for 2012-04-11 done.\ncorr_matrix for 2012-04-10 done.\ncorr_matrix for 2012-04-09 done.\ncorr_matrix for 2012-04-05 done.\ncorr_matrix for 2012-04-04 done.\ncorr_matrix for 2012-04-03 done.\ncorr_matrix for 2012-04-02 done.\n"
     ]
    },
    {
     "name": "stdout",
     "output_type": "stream",
     "text": [
      "corr_matrix for 2012-03-30 done.\ncorr_matrix for 2012-03-29 done.\ncorr_matrix for 2012-03-28 done.\ncorr_matrix for 2012-03-27 done.\ncorr_matrix for 2012-03-26 done.\ncorr_matrix for 2012-03-23 done.\ncorr_matrix for 2012-03-22 done.\ncorr_matrix for 2012-03-21 done.\ncorr_matrix for 2012-03-20 done.\ncorr_matrix for 2012-03-19 done.\ncorr_matrix for 2012-03-16 done.\n"
     ]
    },
    {
     "name": "stdout",
     "output_type": "stream",
     "text": [
      "corr_matrix for 2012-03-15 done.\ncorr_matrix for 2012-03-14 done.\ncorr_matrix for 2012-03-13 done.\ncorr_matrix for 2012-03-12 done.\ncorr_matrix for 2012-03-09 done.\ncorr_matrix for 2012-03-08 done.\ncorr_matrix for 2012-03-07 done.\ncorr_matrix for 2012-03-06 done.\ncorr_matrix for 2012-03-05 done.\ncorr_matrix for 2012-03-02 done.\ncorr_matrix for 2012-03-01 done.\n"
     ]
    },
    {
     "name": "stdout",
     "output_type": "stream",
     "text": [
      "corr_matrix for 2012-02-29 done.\ncorr_matrix for 2012-02-28 done.\ncorr_matrix for 2012-02-27 done.\ncorr_matrix for 2012-02-24 done.\ncorr_matrix for 2012-02-23 done.\ncorr_matrix for 2012-02-22 done.\ncorr_matrix for 2012-02-21 done.\ncorr_matrix for 2012-02-17 done.\ncorr_matrix for 2012-02-16 done.\ncorr_matrix for 2012-02-15 done.\ncorr_matrix for 2012-02-14 done.\n"
     ]
    },
    {
     "name": "stdout",
     "output_type": "stream",
     "text": [
      "corr_matrix for 2012-02-13 done.\ncorr_matrix for 2012-02-10 done.\ncorr_matrix for 2012-02-09 done.\ncorr_matrix for 2012-02-08 done.\ncorr_matrix for 2012-02-07 done.\ncorr_matrix for 2012-02-06 done.\ncorr_matrix for 2012-02-03 done.\ncorr_matrix for 2012-02-02 done.\ncorr_matrix for 2012-02-01 done.\ncorr_matrix for 2012-01-31 done.\ncorr_matrix for 2012-01-30 done.\n"
     ]
    },
    {
     "name": "stdout",
     "output_type": "stream",
     "text": [
      "corr_matrix for 2012-01-27 done.\ncorr_matrix for 2012-01-26 done.\ncorr_matrix for 2012-01-25 done.\ncorr_matrix for 2012-01-24 done.\ncorr_matrix for 2012-01-23 done.\ncorr_matrix for 2012-01-20 done.\ncorr_matrix for 2012-01-19 done.\ncorr_matrix for 2012-01-18 done.\ncorr_matrix for 2012-01-17 done.\ncorr_matrix for 2012-01-13 done.\ncorr_matrix for 2012-01-12 done.\n"
     ]
    },
    {
     "name": "stdout",
     "output_type": "stream",
     "text": [
      "corr_matrix for 2012-01-11 done.\ncorr_matrix for 2012-01-10 done.\ncorr_matrix for 2012-01-09 done.\ncorr_matrix for 2012-01-06 done.\ncorr_matrix for 2012-01-05 done.\ncorr_matrix for 2012-01-04 done.\ncorr_matrix for 2012-01-03 done.\ncorr_matrix for 2011-12-30 done.\ncorr_matrix for 2011-12-29 done.\ncorr_matrix for 2011-12-28 done.\ncorr_matrix for 2011-12-27 done.\n"
     ]
    },
    {
     "name": "stdout",
     "output_type": "stream",
     "text": [
      "corr_matrix for 2011-12-23 done.\ncorr_matrix for 2011-12-22 done.\ncorr_matrix for 2011-12-21 done.\ncorr_matrix for 2011-12-20 done.\ncorr_matrix for 2011-12-19 done.\ncorr_matrix for 2011-12-16 done.\ncorr_matrix for 2011-12-15 done.\ncorr_matrix for 2011-12-14 done.\ncorr_matrix for 2011-12-13 done.\ncorr_matrix for 2011-12-12 done.\ncorr_matrix for 2011-12-09 done.\n"
     ]
    },
    {
     "name": "stdout",
     "output_type": "stream",
     "text": [
      "corr_matrix for 2011-12-08 done.\ncorr_matrix for 2011-12-07 done.\ncorr_matrix for 2011-12-06 done.\ncorr_matrix for 2011-12-05 done.\ncorr_matrix for 2011-12-02 done.\ncorr_matrix for 2011-12-01 done.\ncorr_matrix for 2011-11-30 done.\ncorr_matrix for 2011-11-29 done.\ncorr_matrix for 2011-11-28 done.\ncorr_matrix for 2011-11-25 done.\ncorr_matrix for 2011-11-23 done.\n"
     ]
    },
    {
     "name": "stdout",
     "output_type": "stream",
     "text": [
      "corr_matrix for 2011-11-22 done.\ncorr_matrix for 2011-11-21 done.\ncorr_matrix for 2011-11-18 done.\ncorr_matrix for 2011-11-17 done.\ncorr_matrix for 2011-11-16 done.\ncorr_matrix for 2011-11-15 done.\ncorr_matrix for 2011-11-14 done.\ncorr_matrix for 2011-11-11 done.\ncorr_matrix for 2011-11-10 done.\ncorr_matrix for 2011-11-09 done.\ncorr_matrix for 2011-11-08 done.\n"
     ]
    },
    {
     "name": "stdout",
     "output_type": "stream",
     "text": [
      "corr_matrix for 2011-11-07 done.\ncorr_matrix for 2011-11-04 done.\ncorr_matrix for 2011-11-03 done.\ncorr_matrix for 2011-11-02 done.\ncorr_matrix for 2011-11-01 done.\ncorr_matrix for 2011-10-31 done.\ncorr_matrix for 2011-10-28 done.\ncorr_matrix for 2011-10-27 done.\ncorr_matrix for 2011-10-26 done.\ncorr_matrix for 2011-10-25 done.\ncorr_matrix for 2011-10-24 done.\n"
     ]
    },
    {
     "name": "stdout",
     "output_type": "stream",
     "text": [
      "corr_matrix for 2011-10-21 done.\ncorr_matrix for 2011-10-20 done.\ncorr_matrix for 2011-10-19 done.\ncorr_matrix for 2011-10-18 done.\ncorr_matrix for 2011-10-17 done.\ncorr_matrix for 2011-10-14 done.\ncorr_matrix for 2011-10-13 done.\ncorr_matrix for 2011-10-12 done.\ncorr_matrix for 2011-10-11 done.\ncorr_matrix for 2011-10-10 done.\ncorr_matrix for 2011-10-07 done.\n"
     ]
    },
    {
     "name": "stdout",
     "output_type": "stream",
     "text": [
      "corr_matrix for 2011-10-06 done.\ncorr_matrix for 2011-10-05 done.\ncorr_matrix for 2011-10-04 done.\ncorr_matrix for 2011-10-03 done.\ncorr_matrix for 2011-09-30 done.\ncorr_matrix for 2011-09-29 done.\ncorr_matrix for 2011-09-28 done.\ncorr_matrix for 2011-09-27 done.\ncorr_matrix for 2011-09-26 done.\ncorr_matrix for 2011-09-23 done.\ncorr_matrix for 2011-09-22 done.\n"
     ]
    },
    {
     "name": "stdout",
     "output_type": "stream",
     "text": [
      "corr_matrix for 2011-09-21 done.\ncorr_matrix for 2011-09-20 done.\ncorr_matrix for 2011-09-19 done.\ncorr_matrix for 2011-09-16 done.\ncorr_matrix for 2011-09-15 done.\ncorr_matrix for 2011-09-14 done.\ncorr_matrix for 2011-09-13 done.\ncorr_matrix for 2011-09-12 done.\ncorr_matrix for 2011-09-09 done.\ncorr_matrix for 2011-09-08 done.\ncorr_matrix for 2011-09-07 done.\ncorr_matrix for 2011-09-06 done.\n"
     ]
    },
    {
     "name": "stdout",
     "output_type": "stream",
     "text": [
      "corr_matrix for 2011-09-02 done.\ncorr_matrix for 2011-09-01 done.\ncorr_matrix for 2011-08-31 done.\ncorr_matrix for 2011-08-30 done.\ncorr_matrix for 2011-08-29 done.\ncorr_matrix for 2011-08-26 done.\ncorr_matrix for 2011-08-25 done.\ncorr_matrix for 2011-08-24 done.\ncorr_matrix for 2011-08-23 done.\ncorr_matrix for 2011-08-22 done.\ncorr_matrix for 2011-08-19 done."
     ]
    },
    {
     "name": "stdout",
     "output_type": "stream",
     "text": [
      "\ncorr_matrix for 2011-08-18 done.\ncorr_matrix for 2011-08-17 done.\ncorr_matrix for 2011-08-16 done.\ncorr_matrix for 2011-08-15 done.\ncorr_matrix for 2011-08-12 done.\ncorr_matrix for 2011-08-11 done.\ncorr_matrix for 2011-08-10 done.\ncorr_matrix for 2011-08-09 done.\ncorr_matrix for 2011-08-08 done.\ncorr_matrix for 2011-08-05 done.\n"
     ]
    },
    {
     "name": "stdout",
     "output_type": "stream",
     "text": [
      "corr_matrix for 2011-08-04 done.\ncorr_matrix for 2011-08-03 done.\ncorr_matrix for 2011-08-02 done.\ncorr_matrix for 2011-08-01 done.\ncorr_matrix for 2011-07-29 done.\ncorr_matrix for 2011-07-28 done.\ncorr_matrix for 2011-07-27 done.\ncorr_matrix for 2011-07-26 done.\ncorr_matrix for 2011-07-25 done.\ncorr_matrix for 2011-07-22 done.\ncorr_matrix for 2011-07-21 done.\n"
     ]
    },
    {
     "name": "stdout",
     "output_type": "stream",
     "text": [
      "corr_matrix for 2011-07-20 done.\ncorr_matrix for 2011-07-19 done.\ncorr_matrix for 2011-07-18 done.\ncorr_matrix for 2011-07-15 done.\ncorr_matrix for 2011-07-14 done.\ncorr_matrix for 2011-07-13 done.\ncorr_matrix for 2011-07-12 done.\ncorr_matrix for 2011-07-11 done.\ncorr_matrix for 2011-07-08 done.\ncorr_matrix for 2011-07-07 done.\ncorr_matrix for 2011-07-06 done.\n"
     ]
    },
    {
     "name": "stdout",
     "output_type": "stream",
     "text": [
      "corr_matrix for 2011-07-05 done.\ncorr_matrix for 2011-07-01 done.\ncorr_matrix for 2011-06-30 done.\ncorr_matrix for 2011-06-29 done.\ncorr_matrix for 2011-06-28 done.\ncorr_matrix for 2011-06-27 done.\ncorr_matrix for 2011-06-24 done.\ncorr_matrix for 2011-06-23 done.\ncorr_matrix for 2011-06-22 done.\ncorr_matrix for 2011-06-21 done.\ncorr_matrix for 2011-06-20 done.\ncorr_matrix for 2011-06-17 done.\n"
     ]
    },
    {
     "name": "stdout",
     "output_type": "stream",
     "text": [
      "corr_matrix for 2011-06-16 done.\ncorr_matrix for 2011-06-15 done.\ncorr_matrix for 2011-06-14 done.\ncorr_matrix for 2011-06-13 done.\ncorr_matrix for 2011-06-10 done.\ncorr_matrix for 2011-06-09 done.\ncorr_matrix for 2011-06-08 done.\ncorr_matrix for 2011-06-07 done.\ncorr_matrix for 2011-06-06 done.\ncorr_matrix for 2011-06-03 done.\n"
     ]
    },
    {
     "name": "stdout",
     "output_type": "stream",
     "text": [
      "corr_matrix for 2011-06-02 done.\ncorr_matrix for 2011-06-01 done.\ncorr_matrix for 2011-05-31 done.\ncorr_matrix for 2011-05-27 done.\ncorr_matrix for 2011-05-26 done.\ncorr_matrix for 2011-05-25 done.\ncorr_matrix for 2011-05-24 done.\ncorr_matrix for 2011-05-23 done.\ncorr_matrix for 2011-05-20 done.\ncorr_matrix for 2011-05-19 done.\ncorr_matrix for 2011-05-18 done.\n"
     ]
    },
    {
     "name": "stdout",
     "output_type": "stream",
     "text": [
      "corr_matrix for 2011-05-17 done.\ncorr_matrix for 2011-05-16 done.\ncorr_matrix for 2011-05-13 done.\ncorr_matrix for 2011-05-12 done.\ncorr_matrix for 2011-05-11 done.\ncorr_matrix for 2011-05-10 done.\ncorr_matrix for 2011-05-09 done.\ncorr_matrix for 2011-05-06 done.\ncorr_matrix for 2011-05-05 done.\ncorr_matrix for 2011-05-04 done.\ncorr_matrix for 2011-05-03 done.\n"
     ]
    },
    {
     "name": "stdout",
     "output_type": "stream",
     "text": [
      "corr_matrix for 2011-05-02 done.\ncorr_matrix for 2011-04-29 done.\ncorr_matrix for 2011-04-28 done.\ncorr_matrix for 2011-04-27 done.\ncorr_matrix for 2011-04-26 done.\ncorr_matrix for 2011-04-25 done.\ncorr_matrix for 2011-04-21 done.\ncorr_matrix for 2011-04-20 done.\n"
     ]
    },
    {
     "name": "stdout",
     "output_type": "stream",
     "text": [
      "corr_matrix for 2011-04-19 done.\ncorr_matrix for 2011-04-18 done.\ncorr_matrix for 2011-04-15 done.\ncorr_matrix for 2011-04-14 done.\ncorr_matrix for 2011-04-13 done.\ncorr_matrix for 2011-04-12 done.\ncorr_matrix for 2011-04-11 done.\ncorr_matrix for 2011-04-08 done.\ncorr_matrix for 2011-04-07 done.\ncorr_matrix for 2011-04-06 done.\n"
     ]
    },
    {
     "name": "stdout",
     "output_type": "stream",
     "text": [
      "corr_matrix for 2011-04-05 done.\ncorr_matrix for 2011-04-04 done.\ncorr_matrix for 2011-04-01 done.\ncorr_matrix for 2011-03-31 done.\ncorr_matrix for 2011-03-30 done.\ncorr_matrix for 2011-03-29 done.\ncorr_matrix for 2011-03-28 done.\ncorr_matrix for 2011-03-25 done.\ncorr_matrix for 2011-03-24 done.\ncorr_matrix for 2011-03-23 done.\n"
     ]
    },
    {
     "name": "stdout",
     "output_type": "stream",
     "text": [
      "corr_matrix for 2011-03-22 done.\ncorr_matrix for 2011-03-21 done.\ncorr_matrix for 2011-03-18 done.\ncorr_matrix for 2011-03-17 done.\ncorr_matrix for 2011-03-16 done.\ncorr_matrix for 2011-03-15 done.\ncorr_matrix for 2011-03-14 done.\ncorr_matrix for 2011-03-11 done.\ncorr_matrix for 2011-03-10 done.\ncorr_matrix for 2011-03-09 done.\ncorr_matrix for 2011-03-08 done."
     ]
    },
    {
     "name": "stdout",
     "output_type": "stream",
     "text": [
      "\ncorr_matrix for 2011-03-07 done.\ncorr_matrix for 2011-03-04 done.\ncorr_matrix for 2011-03-03 done.\ncorr_matrix for 2011-03-02 done.\ncorr_matrix for 2011-03-01 done.\ncorr_matrix for 2011-02-28 done.\ncorr_matrix for 2011-02-25 done.\ncorr_matrix for 2011-02-24 done.\ncorr_matrix for 2011-02-23 done.\ncorr_matrix for 2011-02-22 done.\ncorr_matrix for 2011-02-18 done.\n"
     ]
    },
    {
     "name": "stdout",
     "output_type": "stream",
     "text": [
      "corr_matrix for 2011-02-17 done.\ncorr_matrix for 2011-02-16 done.\ncorr_matrix for 2011-02-15 done.\ncorr_matrix for 2011-02-14 done.\ncorr_matrix for 2011-02-11 done.\ncorr_matrix for 2011-02-10 done.\ncorr_matrix for 2011-02-09 done.\ncorr_matrix for 2011-02-08 done.\ncorr_matrix for 2011-02-07 done.\ncorr_matrix for 2011-02-04 done.\ncorr_matrix for 2011-02-03 done.\n"
     ]
    },
    {
     "name": "stdout",
     "output_type": "stream",
     "text": [
      "corr_matrix for 2011-02-02 done.\ncorr_matrix for 2011-02-01 done.\ncorr_matrix for 2011-01-31 done.\ncorr_matrix for 2011-01-28 done.\ncorr_matrix for 2011-01-27 done.\ncorr_matrix for 2011-01-26 done.\ncorr_matrix for 2011-01-25 done.\ncorr_matrix for 2011-01-24 done.\ncorr_matrix for 2011-01-21 done.\ncorr_matrix for 2011-01-20 done.\ncorr_matrix for 2011-01-19 done.\n"
     ]
    },
    {
     "name": "stdout",
     "output_type": "stream",
     "text": [
      "corr_matrix for 2011-01-18 done.\ncorr_matrix for 2011-01-14 done.\ncorr_matrix for 2011-01-13 done.\ncorr_matrix for 2011-01-12 done.\ncorr_matrix for 2011-01-11 done.\ncorr_matrix for 2011-01-10 done.\ncorr_matrix for 2011-01-07 done.\ncorr_matrix for 2011-01-06 done.\ncorr_matrix for 2011-01-05 done.\ncorr_matrix for 2011-01-04 done.\ncorr_matrix for 2011-01-03 done.\n"
     ]
    },
    {
     "name": "stdout",
     "output_type": "stream",
     "text": [
      "corr_matrix for 2010-12-31 done.\ncorr_matrix for 2010-12-30 done.\ncorr_matrix for 2010-12-29 done.\ncorr_matrix for 2010-12-28 done.\ncorr_matrix for 2010-12-27 done.\ncorr_matrix for 2010-12-23 done.\ncorr_matrix for 2010-12-22 done.\ncorr_matrix for 2010-12-21 done.\ncorr_matrix for 2010-12-20 done.\ncorr_matrix for 2010-12-17 done.\ncorr_matrix for 2010-12-16 done.\n"
     ]
    },
    {
     "name": "stdout",
     "output_type": "stream",
     "text": [
      "corr_matrix for 2010-12-15 done.\ncorr_matrix for 2010-12-14 done.\ncorr_matrix for 2010-12-13 done.\ncorr_matrix for 2010-12-10 done.\ncorr_matrix for 2010-12-09 done.\ncorr_matrix for 2010-12-08 done.\ncorr_matrix for 2010-12-07 done.\ncorr_matrix for 2010-12-06 done.\ncorr_matrix for 2010-12-03 done.\ncorr_matrix for 2010-12-02 done.\ncorr_matrix for 2010-12-01 done.\n"
     ]
    },
    {
     "name": "stdout",
     "output_type": "stream",
     "text": [
      "corr_matrix for 2010-11-30 done.\ncorr_matrix for 2010-11-29 done.\ncorr_matrix for 2010-11-26 done.\ncorr_matrix for 2010-11-24 done.\ncorr_matrix for 2010-11-23 done.\ncorr_matrix for 2010-11-22 done.\ncorr_matrix for 2010-11-19 done.\ncorr_matrix for 2010-11-18 done.\ncorr_matrix for 2010-11-17 done.\ncorr_matrix for 2010-11-16 done.\ncorr_matrix for 2010-11-15 done.\n"
     ]
    },
    {
     "name": "stdout",
     "output_type": "stream",
     "text": [
      "corr_matrix for 2010-11-12 done.\ncorr_matrix for 2010-11-11 done.\ncorr_matrix for 2010-11-10 done.\ncorr_matrix for 2010-11-09 done.\ncorr_matrix for 2010-11-08 done.\ncorr_matrix for 2010-11-05 done.\ncorr_matrix for 2010-11-04 done.\n"
     ]
    },
    {
     "name": "stdout",
     "output_type": "stream",
     "text": [
      "corr_matrix for 2010-11-03 done.\ncorr_matrix for 2010-11-02 done.\ncorr_matrix for 2010-11-01 done.\ncorr_matrix for 2010-10-29 done.\ncorr_matrix for 2010-10-28 done.\ncorr_matrix for 2010-10-27 done.\ncorr_matrix for 2010-10-26 done.\ncorr_matrix for 2010-10-25 done.\ncorr_matrix for 2010-10-22 done.\n"
     ]
    },
    {
     "name": "stdout",
     "output_type": "stream",
     "text": [
      "corr_matrix for 2010-10-21 done.\ncorr_matrix for 2010-10-20 done.\ncorr_matrix for 2010-10-19 done.\ncorr_matrix for 2010-10-18 done.\ncorr_matrix for 2010-10-15 done.\ncorr_matrix for 2010-10-14 done.\ncorr_matrix for 2010-10-13 done.\ncorr_matrix for 2010-10-12 done.\ncorr_matrix for 2010-10-11 done.\ncorr_matrix for 2010-10-08 done.\ncorr_matrix for 2010-10-07 done.\n"
     ]
    },
    {
     "name": "stdout",
     "output_type": "stream",
     "text": [
      "corr_matrix for 2010-10-06 done.\ncorr_matrix for 2010-10-05 done.\ncorr_matrix for 2010-10-04 done.\ncorr_matrix for 2010-10-01 done.\ncorr_matrix for 2010-09-30 done.\ncorr_matrix for 2010-09-29 done.\ncorr_matrix for 2010-09-28 done.\ncorr_matrix for 2010-09-27 done.\ncorr_matrix for 2010-09-24 done.\ncorr_matrix for 2010-09-23 done.\ncorr_matrix for 2010-09-22 done.\n"
     ]
    },
    {
     "name": "stdout",
     "output_type": "stream",
     "text": [
      "corr_matrix for 2010-09-21 done.\ncorr_matrix for 2010-09-20 done.\ncorr_matrix for 2010-09-17 done.\ncorr_matrix for 2010-09-16 done.\ncorr_matrix for 2010-09-15 done.\ncorr_matrix for 2010-09-14 done.\ncorr_matrix for 2010-09-13 done.\ncorr_matrix for 2010-09-10 done.\ncorr_matrix for 2010-09-09 done.\ncorr_matrix for 2010-09-08 done.\ncorr_matrix for 2010-09-07 done.\n"
     ]
    },
    {
     "name": "stdout",
     "output_type": "stream",
     "text": [
      "corr_matrix for 2010-09-03 done.\ncorr_matrix for 2010-09-02 done.\ncorr_matrix for 2010-09-01 done.\ncorr_matrix for 2010-08-31 done.\ncorr_matrix for 2010-08-30 done.\ncorr_matrix for 2010-08-27 done.\ncorr_matrix for 2010-08-26 done.\n"
     ]
    },
    {
     "name": "stdout",
     "output_type": "stream",
     "text": [
      "corr_matrix for 2010-08-25 done.\ncorr_matrix for 2010-08-24 done.\ncorr_matrix for 2010-08-23 done.\ncorr_matrix for 2010-08-20 done.\ncorr_matrix for 2010-08-19 done.\ncorr_matrix for 2010-08-18 done.\ncorr_matrix for 2010-08-17 done.\ncorr_matrix for 2010-08-16 done.\ncorr_matrix for 2010-08-13 done.\n"
     ]
    },
    {
     "name": "stdout",
     "output_type": "stream",
     "text": [
      "corr_matrix for 2010-08-12 done.\ncorr_matrix for 2010-08-11 done.\ncorr_matrix for 2010-08-10 done.\ncorr_matrix for 2010-08-09 done.\ncorr_matrix for 2010-08-06 done.\ncorr_matrix for 2010-08-05 done.\ncorr_matrix for 2010-08-04 done.\ncorr_matrix for 2010-08-03 done.\ncorr_matrix for 2010-08-02 done.\ncorr_matrix for 2010-07-30 done.\ncorr_matrix for 2010-07-29 done.\n"
     ]
    },
    {
     "name": "stdout",
     "output_type": "stream",
     "text": [
      "corr_matrix for 2010-07-28 done.\ncorr_matrix for 2010-07-27 done.\ncorr_matrix for 2010-07-26 done.\ncorr_matrix for 2010-07-23 done.\ncorr_matrix for 2010-07-22 done.\ncorr_matrix for 2010-07-21 done.\ncorr_matrix for 2010-07-20 done.\ncorr_matrix for 2010-07-19 done.\ncorr_matrix for 2010-07-16 done.\ncorr_matrix for 2010-07-15 done."
     ]
    },
    {
     "name": "stdout",
     "output_type": "stream",
     "text": [
      "\ncorr_matrix for 2010-07-14 done.\ncorr_matrix for 2010-07-13 done.\ncorr_matrix for 2010-07-12 done.\ncorr_matrix for 2010-07-09 done.\ncorr_matrix for 2010-07-08 done.\ncorr_matrix for 2010-07-07 done.\ncorr_matrix for 2010-07-06 done.\ncorr_matrix for 2010-07-02 done.\ncorr_matrix for 2010-07-01 done.\ncorr_matrix for 2010-06-30 done.\ncorr_matrix for 2010-06-29 done.\n"
     ]
    },
    {
     "name": "stdout",
     "output_type": "stream",
     "text": [
      "corr_matrix for 2010-06-28 done.\ncorr_matrix for 2010-06-25 done.\ncorr_matrix for 2010-06-24 done.\ncorr_matrix for 2010-06-23 done.\ncorr_matrix for 2010-06-22 done.\ncorr_matrix for 2010-06-21 done.\ncorr_matrix for 2010-06-18 done.\ncorr_matrix for 2010-06-17 done.\ncorr_matrix for 2010-06-16 done.\ncorr_matrix for 2010-06-15 done.\ncorr_matrix for 2010-06-14 done.\ncorr_matrix for 2010-06-11 done.\n"
     ]
    },
    {
     "name": "stdout",
     "output_type": "stream",
     "text": [
      "corr_matrix for 2010-06-10 done.\ncorr_matrix for 2010-06-09 done.\ncorr_matrix for 2010-06-08 done.\ncorr_matrix for 2010-06-07 done.\ncorr_matrix for 2010-06-04 done.\ncorr_matrix for 2010-06-03 done.\ncorr_matrix for 2010-06-02 done.\ncorr_matrix for 2010-06-01 done.\ncorr_matrix for 2010-05-28 done.\ncorr_matrix for 2010-05-27 done.\ncorr_matrix for 2010-05-26 done."
     ]
    },
    {
     "name": "stdout",
     "output_type": "stream",
     "text": [
      "\ncorr_matrix for 2010-05-25 done.\ncorr_matrix for 2010-05-24 done.\ncorr_matrix for 2010-05-21 done.\ncorr_matrix for 2010-05-20 done.\ncorr_matrix for 2010-05-19 done.\ncorr_matrix for 2010-05-18 done.\ncorr_matrix for 2010-05-17 done.\ncorr_matrix for 2010-05-14 done.\ncorr_matrix for 2010-05-13 done.\ncorr_matrix for 2010-05-12 done.\ncorr_matrix for 2010-05-11 done.\n"
     ]
    },
    {
     "name": "stdout",
     "output_type": "stream",
     "text": [
      "corr_matrix for 2010-05-10 done.\ncorr_matrix for 2010-05-07 done.\ncorr_matrix for 2010-05-06 done.\ncorr_matrix for 2010-05-05 done.\ncorr_matrix for 2010-05-04 done.\ncorr_matrix for 2010-05-03 done.\ncorr_matrix for 2010-04-30 done.\ncorr_matrix for 2010-04-29 done.\ncorr_matrix for 2010-04-28 done.\ncorr_matrix for 2010-04-27 done.\ncorr_matrix for 2010-04-26 done.\n"
     ]
    },
    {
     "name": "stdout",
     "output_type": "stream",
     "text": [
      "corr_matrix for 2010-04-23 done.\ncorr_matrix for 2010-04-22 done.\ncorr_matrix for 2010-04-21 done.\ncorr_matrix for 2010-04-20 done.\ncorr_matrix for 2010-04-19 done.\ncorr_matrix for 2010-04-16 done.\ncorr_matrix for 2010-04-15 done.\ncorr_matrix for 2010-04-14 done.\ncorr_matrix for 2010-04-13 done.\ncorr_matrix for 2010-04-12 done.\ncorr_matrix for 2010-04-09 done.\n"
     ]
    },
    {
     "name": "stdout",
     "output_type": "stream",
     "text": [
      "corr_matrix for 2010-04-08 done.\ncorr_matrix for 2010-04-07 done.\ncorr_matrix for 2010-04-06 done.\ncorr_matrix for 2010-04-05 done.\ncorr_matrix for 2010-04-01 done.\ncorr_matrix for 2010-03-31 done.\ncorr_matrix for 2010-03-30 done.\ncorr_matrix for 2010-03-29 done.\ncorr_matrix for 2010-03-26 done.\ncorr_matrix for 2010-03-25 done.\ncorr_matrix for 2010-03-24 done.\n"
     ]
    },
    {
     "name": "stdout",
     "output_type": "stream",
     "text": [
      "corr_matrix for 2010-03-23 done.\ncorr_matrix for 2010-03-22 done.\ncorr_matrix for 2010-03-19 done.\ncorr_matrix for 2010-03-18 done.\ncorr_matrix for 2010-03-17 done.\ncorr_matrix for 2010-03-16 done.\ncorr_matrix for 2010-03-15 done.\ncorr_matrix for 2010-03-12 done.\ncorr_matrix for 2010-03-11 done.\ncorr_matrix for 2010-03-10 done.\ncorr_matrix for 2010-03-09 done.\n"
     ]
    },
    {
     "name": "stdout",
     "output_type": "stream",
     "text": [
      "corr_matrix for 2010-03-08 done.\ncorr_matrix for 2010-03-05 done.\ncorr_matrix for 2010-03-04 done.\ncorr_matrix for 2010-03-03 done.\ncorr_matrix for 2010-03-02 done.\ncorr_matrix for 2010-03-01 done.\ncorr_matrix for 2010-02-26 done.\ncorr_matrix for 2010-02-25 done.\ncorr_matrix for 2010-02-24 done.\ncorr_matrix for 2010-02-23 done.\ncorr_matrix for 2010-02-22 done.\n"
     ]
    },
    {
     "name": "stdout",
     "output_type": "stream",
     "text": [
      "corr_matrix for 2010-02-19 done.\ncorr_matrix for 2010-02-18 done.\ncorr_matrix for 2010-02-17 done.\ncorr_matrix for 2010-02-16 done.\ncorr_matrix for 2010-02-12 done.\ncorr_matrix for 2010-02-11 done.\ncorr_matrix for 2010-02-10 done.\ncorr_matrix for 2010-02-09 done.\ncorr_matrix for 2010-02-08 done.\ncorr_matrix for 2010-02-05 done.\ncorr_matrix for 2010-02-04 done.\n"
     ]
    },
    {
     "name": "stdout",
     "output_type": "stream",
     "text": [
      "corr_matrix for 2010-02-03 done.\ncorr_matrix for 2010-02-02 done.\ncorr_matrix for 2010-02-01 done.\ncorr_matrix for 2010-01-29 done.\ncorr_matrix for 2010-01-28 done.\ncorr_matrix for 2010-01-27 done.\ncorr_matrix for 2010-01-26 done.\ncorr_matrix for 2010-01-25 done.\ncorr_matrix for 2010-01-22 done.\ncorr_matrix for 2010-01-21 done.\ncorr_matrix for 2010-01-20 done.\n"
     ]
    },
    {
     "name": "stdout",
     "output_type": "stream",
     "text": [
      "corr_matrix for 2010-01-19 done.\ncorr_matrix for 2010-01-15 done.\ncorr_matrix for 2010-01-14 done.\ncorr_matrix for 2010-01-13 done.\ncorr_matrix for 2010-01-12 done.\ncorr_matrix for 2010-01-11 done.\ncorr_matrix for 2010-01-08 done.\ncorr_matrix for 2010-01-07 done.\ncorr_matrix for 2010-01-06 done.\ncorr_matrix for 2010-01-05 done.\ncorr_matrix for 2010-01-04 done.\n"
     ]
    },
    {
     "name": "stdout",
     "output_type": "stream",
     "text": [
      "corr_matrix for 2009-12-31 done.\ncorr_matrix for 2009-12-30 done.\ncorr_matrix for 2009-12-29 done.\ncorr_matrix for 2009-12-28 done.\ncorr_matrix for 2009-12-24 done.\ncorr_matrix for 2009-12-23 done.\ncorr_matrix for 2009-12-22 done.\ncorr_matrix for 2009-12-21 done.\ncorr_matrix for 2009-12-18 done.\ncorr_matrix for 2009-12-17 done.\ncorr_matrix for 2009-12-16 done.\n"
     ]
    },
    {
     "name": "stdout",
     "output_type": "stream",
     "text": [
      "corr_matrix for 2009-12-15 done.\ncorr_matrix for 2009-12-14 done.\ncorr_matrix for 2009-12-11 done.\ncorr_matrix for 2009-12-10 done.\ncorr_matrix for 2009-12-09 done.\ncorr_matrix for 2009-12-08 done.\ncorr_matrix for 2009-12-07 done.\ncorr_matrix for 2009-12-04 done.\ncorr_matrix for 2009-12-03 done.\ncorr_matrix for 2009-12-02 done.\ncorr_matrix for 2009-12-01 done.\n"
     ]
    },
    {
     "name": "stdout",
     "output_type": "stream",
     "text": [
      "corr_matrix for 2009-11-30 done.\ncorr_matrix for 2009-11-27 done.\ncorr_matrix for 2009-11-25 done.\ncorr_matrix for 2009-11-24 done.\ncorr_matrix for 2009-11-23 done.\ncorr_matrix for 2009-11-20 done.\ncorr_matrix for 2009-11-19 done.\ncorr_matrix for 2009-11-18 done.\ncorr_matrix for 2009-11-17 done.\n"
     ]
    },
    {
     "name": "stdout",
     "output_type": "stream",
     "text": [
      "corr_matrix for 2009-11-16 done.\ncorr_matrix for 2009-11-13 done.\ncorr_matrix for 2009-11-12 done.\ncorr_matrix for 2009-11-11 done.\ncorr_matrix for 2009-11-10 done.\ncorr_matrix for 2009-11-09 done.\ncorr_matrix for 2009-11-06 done.\ncorr_matrix for 2009-11-05 done.\ncorr_matrix for 2009-11-04 done.\ncorr_matrix for 2009-11-03 done.\ncorr_matrix for 2009-11-02 done.\n"
     ]
    },
    {
     "name": "stdout",
     "output_type": "stream",
     "text": [
      "corr_matrix for 2009-10-30 done.\ncorr_matrix for 2009-10-29 done.\ncorr_matrix for 2009-10-28 done.\ncorr_matrix for 2009-10-27 done.\ncorr_matrix for 2009-10-26 done.\ncorr_matrix for 2009-10-23 done.\ncorr_matrix for 2009-10-22 done.\ncorr_matrix for 2009-10-21 done.\ncorr_matrix for 2009-10-20 done.\ncorr_matrix for 2009-10-19 done.\ncorr_matrix for 2009-10-16 done.\n"
     ]
    },
    {
     "name": "stdout",
     "output_type": "stream",
     "text": [
      "corr_matrix for 2009-10-15 done.\ncorr_matrix for 2009-10-14 done.\ncorr_matrix for 2009-10-13 done.\ncorr_matrix for 2009-10-12 done.\ncorr_matrix for 2009-10-09 done.\ncorr_matrix for 2009-10-08 done.\ncorr_matrix for 2009-10-07 done.\ncorr_matrix for 2009-10-06 done.\ncorr_matrix for 2009-10-05 done.\n"
     ]
    },
    {
     "name": "stdout",
     "output_type": "stream",
     "text": [
      "corr_matrix for 2009-10-02 done.\ncorr_matrix for 2009-10-01 done.\ncorr_matrix for 2009-09-30 done.\ncorr_matrix for 2009-09-29 done.\ncorr_matrix for 2009-09-28 done.\ncorr_matrix for 2009-09-25 done.\ncorr_matrix for 2009-09-24 done.\ncorr_matrix for 2009-09-23 done.\ncorr_matrix for 2009-09-22 done.\ncorr_matrix for 2009-09-21 done.\n"
     ]
    },
    {
     "name": "stdout",
     "output_type": "stream",
     "text": [
      "corr_matrix for 2009-09-18 done.\ncorr_matrix for 2009-09-17 done.\ncorr_matrix for 2009-09-16 done.\ncorr_matrix for 2009-09-15 done.\ncorr_matrix for 2009-09-14 done.\ncorr_matrix for 2009-09-11 done.\ncorr_matrix for 2009-09-10 done.\ncorr_matrix for 2009-09-09 done.\ncorr_matrix for 2009-09-08 done.\ncorr_matrix for 2009-09-04 done.\ncorr_matrix for 2009-09-03 done.\n"
     ]
    },
    {
     "name": "stdout",
     "output_type": "stream",
     "text": [
      "corr_matrix for 2009-09-02 done.\ncorr_matrix for 2009-09-01 done.\ncorr_matrix for 2009-08-31 done.\ncorr_matrix for 2009-08-28 done.\ncorr_matrix for 2009-08-27 done.\ncorr_matrix for 2009-08-26 done.\ncorr_matrix for 2009-08-25 done.\ncorr_matrix for 2009-08-24 done.\ncorr_matrix for 2009-08-21 done.\ncorr_matrix for 2009-08-20 done.\n"
     ]
    },
    {
     "name": "stdout",
     "output_type": "stream",
     "text": [
      "corr_matrix for 2009-08-19 done.\ncorr_matrix for 2009-08-18 done.\ncorr_matrix for 2009-08-17 done.\ncorr_matrix for 2009-08-14 done.\ncorr_matrix for 2009-08-13 done.\ncorr_matrix for 2009-08-12 done.\ncorr_matrix for 2009-08-11 done.\ncorr_matrix for 2009-08-10 done.\ncorr_matrix for 2009-08-07 done.\ncorr_matrix for 2009-08-06 done.\n"
     ]
    },
    {
     "name": "stdout",
     "output_type": "stream",
     "text": [
      "corr_matrix for 2009-08-05 done.\ncorr_matrix for 2009-08-04 done.\ncorr_matrix for 2009-08-03 done.\ncorr_matrix for 2009-07-31 done.\ncorr_matrix for 2009-07-30 done.\ncorr_matrix for 2009-07-29 done.\ncorr_matrix for 2009-07-28 done.\ncorr_matrix for 2009-07-27 done.\ncorr_matrix for 2009-07-24 done.\ncorr_matrix for 2009-07-23 done.\ncorr_matrix for 2009-07-22 done.\n"
     ]
    },
    {
     "name": "stdout",
     "output_type": "stream",
     "text": [
      "corr_matrix for 2009-07-21 done.\ncorr_matrix for 2009-07-20 done.\ncorr_matrix for 2009-07-17 done.\ncorr_matrix for 2009-07-16 done.\ncorr_matrix for 2009-07-15 done.\ncorr_matrix for 2009-07-14 done.\ncorr_matrix for 2009-07-13 done.\ncorr_matrix for 2009-07-10 done.\ncorr_matrix for 2009-07-09 done.\ncorr_matrix for 2009-07-08 done.\n"
     ]
    },
    {
     "name": "stdout",
     "output_type": "stream",
     "text": [
      "corr_matrix for 2009-07-07 done.\ncorr_matrix for 2009-07-06 done.\ncorr_matrix for 2009-07-02 done.\ncorr_matrix for 2009-07-01 done.\ncorr_matrix for 2009-06-30 done.\ncorr_matrix for 2009-06-29 done.\ncorr_matrix for 2009-06-26 done.\ncorr_matrix for 2009-06-25 done.\ncorr_matrix for 2009-06-24 done.\ncorr_matrix for 2009-06-23 done.\ncorr_matrix for 2009-06-22 done.\n"
     ]
    },
    {
     "name": "stdout",
     "output_type": "stream",
     "text": [
      "corr_matrix for 2009-06-19 done.\ncorr_matrix for 2009-06-18 done.\ncorr_matrix for 2009-06-17 done.\ncorr_matrix for 2009-06-16 done.\ncorr_matrix for 2009-06-15 done.\ncorr_matrix for 2009-06-12 done.\ncorr_matrix for 2009-06-11 done.\ncorr_matrix for 2009-06-10 done.\ncorr_matrix for 2009-06-09 done.\ncorr_matrix for 2009-06-08 done.\ncorr_matrix for 2009-06-05 done.\n"
     ]
    },
    {
     "name": "stdout",
     "output_type": "stream",
     "text": [
      "corr_matrix for 2009-06-04 done.\ncorr_matrix for 2009-06-03 done.\ncorr_matrix for 2009-06-02 done.\ncorr_matrix for 2009-06-01 done.\ncorr_matrix for 2009-05-29 done.\ncorr_matrix for 2009-05-28 done.\ncorr_matrix for 2009-05-27 done.\ncorr_matrix for 2009-05-26 done.\ncorr_matrix for 2009-05-22 done.\ncorr_matrix for 2009-05-21 done.\ncorr_matrix for 2009-05-20 done.\n"
     ]
    },
    {
     "name": "stdout",
     "output_type": "stream",
     "text": [
      "corr_matrix for 2009-05-19 done.\ncorr_matrix for 2009-05-18 done.\ncorr_matrix for 2009-05-15 done.\ncorr_matrix for 2009-05-14 done.\ncorr_matrix for 2009-05-13 done.\ncorr_matrix for 2009-05-12 done.\ncorr_matrix for 2009-05-11 done.\ncorr_matrix for 2009-05-08 done.\ncorr_matrix for 2009-05-07 done.\ncorr_matrix for 2009-05-06 done.\ncorr_matrix for 2009-05-05 done.\n"
     ]
    },
    {
     "name": "stdout",
     "output_type": "stream",
     "text": [
      "corr_matrix for 2009-05-04 done.\ncorr_matrix for 2009-05-01 done.\ncorr_matrix for 2009-04-30 done.\ncorr_matrix for 2009-04-29 done.\ncorr_matrix for 2009-04-28 done.\ncorr_matrix for 2009-04-27 done.\ncorr_matrix for 2009-04-24 done.\ncorr_matrix for 2009-04-23 done.\ncorr_matrix for 2009-04-22 done.\ncorr_matrix for 2009-04-21 done.\n"
     ]
    },
    {
     "name": "stdout",
     "output_type": "stream",
     "text": [
      "corr_matrix for 2009-04-20 done.\ncorr_matrix for 2009-04-17 done.\ncorr_matrix for 2009-04-16 done.\ncorr_matrix for 2009-04-15 done.\ncorr_matrix for 2009-04-14 done.\ncorr_matrix for 2009-04-13 done.\ncorr_matrix for 2009-04-09 done.\ncorr_matrix for 2009-04-08 done.\ncorr_matrix for 2009-04-07 done.\ncorr_matrix for 2009-04-06 done.\ncorr_matrix for 2009-04-03 done.\n"
     ]
    },
    {
     "name": "stdout",
     "output_type": "stream",
     "text": [
      "corr_matrix for 2009-04-02 done.\ncorr_matrix for 2009-04-01 done.\ncorr_matrix for 2009-03-31 done.\ncorr_matrix for 2009-03-30 done.\ncorr_matrix for 2009-03-27 done.\ncorr_matrix for 2009-03-26 done.\ncorr_matrix for 2009-03-25 done.\ncorr_matrix for 2009-03-24 done.\ncorr_matrix for 2009-03-23 done.\n"
     ]
    },
    {
     "name": "stdout",
     "output_type": "stream",
     "text": [
      "corr_matrix for 2009-03-20 done.\ncorr_matrix for 2009-03-19 done.\ncorr_matrix for 2009-03-18 done.\ncorr_matrix for 2009-03-17 done.\ncorr_matrix for 2009-03-16 done.\ncorr_matrix for 2009-03-13 done.\ncorr_matrix for 2009-03-12 done.\ncorr_matrix for 2009-03-11 done.\ncorr_matrix for 2009-03-10 done.\ncorr_matrix for 2009-03-09 done.\ncorr_matrix for 2009-03-06 done.\n"
     ]
    },
    {
     "name": "stdout",
     "output_type": "stream",
     "text": [
      "corr_matrix for 2009-03-05 done.\ncorr_matrix for 2009-03-04 done.\ncorr_matrix for 2009-03-03 done.\ncorr_matrix for 2009-03-02 done.\ncorr_matrix for 2009-02-27 done.\ncorr_matrix for 2009-02-26 done.\ncorr_matrix for 2009-02-25 done.\ncorr_matrix for 2009-02-24 done.\ncorr_matrix for 2009-02-23 done.\ncorr_matrix for 2009-02-20 done.\ncorr_matrix for 2009-02-19 done.\n"
     ]
    },
    {
     "name": "stdout",
     "output_type": "stream",
     "text": [
      "corr_matrix for 2009-02-18 done.\ncorr_matrix for 2009-02-17 done.\ncorr_matrix for 2009-02-13 done.\ncorr_matrix for 2009-02-12 done.\ncorr_matrix for 2009-02-11 done.\ncorr_matrix for 2009-02-10 done.\ncorr_matrix for 2009-02-09 done.\n"
     ]
    },
    {
     "name": "stdout",
     "output_type": "stream",
     "text": [
      "corr_matrix for 2009-02-06 done.\ncorr_matrix for 2009-02-05 done.\ncorr_matrix for 2009-02-04 done.\ncorr_matrix for 2009-02-03 done.\ncorr_matrix for 2009-02-02 done.\ncorr_matrix for 2009-01-30 done.\ncorr_matrix for 2009-01-29 done.\ncorr_matrix for 2009-01-28 done.\n"
     ]
    },
    {
     "name": "stdout",
     "output_type": "stream",
     "text": [
      "corr_matrix for 2009-01-27 done.\ncorr_matrix for 2009-01-26 done.\ncorr_matrix for 2009-01-23 done.\ncorr_matrix for 2009-01-22 done.\ncorr_matrix for 2009-01-21 done.\ncorr_matrix for 2009-01-20 done.\ncorr_matrix for 2009-01-16 done.\ncorr_matrix for 2009-01-15 done.\ncorr_matrix for 2009-01-14 done.\ncorr_matrix for 2009-01-13 done.\n"
     ]
    },
    {
     "name": "stdout",
     "output_type": "stream",
     "text": [
      "corr_matrix for 2009-01-12 done.\ncorr_matrix for 2009-01-09 done.\ncorr_matrix for 2009-01-08 done.\ncorr_matrix for 2009-01-07 done.\ncorr_matrix for 2009-01-06 done.\ncorr_matrix for 2009-01-05 done.\ncorr_matrix for 2009-01-02 done.\ncorr_matrix for 2008-12-31 done.\ncorr_matrix for 2008-12-30 done.\n"
     ]
    },
    {
     "name": "stdout",
     "output_type": "stream",
     "text": [
      "corr_matrix for 2008-12-29 done.\ncorr_matrix for 2008-12-26 done.\ncorr_matrix for 2008-12-24 done.\ncorr_matrix for 2008-12-23 done.\ncorr_matrix for 2008-12-22 done.\ncorr_matrix for 2008-12-19 done.\ncorr_matrix for 2008-12-18 done.\ncorr_matrix for 2008-12-17 done."
     ]
    },
    {
     "name": "stdout",
     "output_type": "stream",
     "text": [
      "\ncorr_matrix for 2008-12-16 done.\ncorr_matrix for 2008-12-15 done.\ncorr_matrix for 2008-12-12 done.\ncorr_matrix for 2008-12-11 done.\ncorr_matrix for 2008-12-10 done.\ncorr_matrix for 2008-12-09 done.\ncorr_matrix for 2008-12-08 done.\ncorr_matrix for 2008-12-05 done.\ncorr_matrix for 2008-12-04 done."
     ]
    },
    {
     "name": "stdout",
     "output_type": "stream",
     "text": [
      "\ncorr_matrix for 2008-12-03 done.\ncorr_matrix for 2008-12-02 done.\ncorr_matrix for 2008-12-01 done.\ncorr_matrix for 2008-11-28 done.\ncorr_matrix for 2008-11-26 done.\ncorr_matrix for 2008-11-25 done.\ncorr_matrix for 2008-11-24 done.\ncorr_matrix for 2008-11-21 done.\ncorr_matrix for 2008-11-20 done.\ncorr_matrix for 2008-11-19 done.\ncorr_matrix for 2008-11-18 done.\n"
     ]
    },
    {
     "name": "stdout",
     "output_type": "stream",
     "text": [
      "corr_matrix for 2008-11-17 done.\ncorr_matrix for 2008-11-14 done.\ncorr_matrix for 2008-11-13 done.\ncorr_matrix for 2008-11-12 done.\ncorr_matrix for 2008-11-11 done.\ncorr_matrix for 2008-11-10 done.\ncorr_matrix for 2008-11-07 done.\ncorr_matrix for 2008-11-06 done.\ncorr_matrix for 2008-11-05 done.\ncorr_matrix for 2008-11-04 done.\n"
     ]
    },
    {
     "name": "stdout",
     "output_type": "stream",
     "text": [
      "corr_matrix for 2008-11-03 done.\ncorr_matrix for 2008-10-31 done.\ncorr_matrix for 2008-10-30 done.\ncorr_matrix for 2008-10-29 done.\ncorr_matrix for 2008-10-28 done.\ncorr_matrix for 2008-10-27 done.\ncorr_matrix for 2008-10-24 done.\ncorr_matrix for 2008-10-23 done.\ncorr_matrix for 2008-10-22 done.\ncorr_matrix for 2008-10-21 done.\ncorr_matrix for 2008-10-20 done.\n"
     ]
    },
    {
     "name": "stdout",
     "output_type": "stream",
     "text": [
      "corr_matrix for 2008-10-17 done.\ncorr_matrix for 2008-10-16 done.\ncorr_matrix for 2008-10-15 done.\ncorr_matrix for 2008-10-14 done.\ncorr_matrix for 2008-10-13 done.\ncorr_matrix for 2008-10-10 done.\ncorr_matrix for 2008-10-09 done.\ncorr_matrix for 2008-10-08 done.\ncorr_matrix for 2008-10-07 done.\ncorr_matrix for 2008-10-06 done.\n"
     ]
    },
    {
     "name": "stdout",
     "output_type": "stream",
     "text": [
      "corr_matrix for 2008-10-03 done.\ncorr_matrix for 2008-10-02 done.\ncorr_matrix for 2008-10-01 done.\ncorr_matrix for 2008-09-30 done.\ncorr_matrix for 2008-09-29 done.\ncorr_matrix for 2008-09-26 done.\ncorr_matrix for 2008-09-25 done.\ncorr_matrix for 2008-09-24 done.\ncorr_matrix for 2008-09-23 done.\ncorr_matrix for 2008-09-22 done.\ncorr_matrix for 2008-09-19 done.\n"
     ]
    },
    {
     "name": "stdout",
     "output_type": "stream",
     "text": [
      "corr_matrix for 2008-09-18 done.\ncorr_matrix for 2008-09-17 done.\ncorr_matrix for 2008-09-16 done.\ncorr_matrix for 2008-09-15 done.\ncorr_matrix for 2008-09-12 done.\ncorr_matrix for 2008-09-11 done.\ncorr_matrix for 2008-09-10 done.\ncorr_matrix for 2008-09-09 done.\ncorr_matrix for 2008-09-08 done.\ncorr_matrix for 2008-09-05 done.\ncorr_matrix for 2008-09-04 done.\n"
     ]
    },
    {
     "name": "stdout",
     "output_type": "stream",
     "text": [
      "corr_matrix for 2008-09-03 done.\ncorr_matrix for 2008-09-02 done.\ncorr_matrix for 2008-08-29 done.\ncorr_matrix for 2008-08-28 done.\ncorr_matrix for 2008-08-27 done.\ncorr_matrix for 2008-08-26 done.\ncorr_matrix for 2008-08-25 done.\ncorr_matrix for 2008-08-22 done.\ncorr_matrix for 2008-08-21 done.\ncorr_matrix for 2008-08-20 done.\ncorr_matrix for 2008-08-19 done.\n"
     ]
    },
    {
     "name": "stdout",
     "output_type": "stream",
     "text": [
      "corr_matrix for 2008-08-18 done.\ncorr_matrix for 2008-08-15 done.\ncorr_matrix for 2008-08-14 done.\ncorr_matrix for 2008-08-13 done.\ncorr_matrix for 2008-08-12 done.\ncorr_matrix for 2008-08-11 done.\ncorr_matrix for 2008-08-08 done.\ncorr_matrix for 2008-08-07 done.\ncorr_matrix for 2008-08-06 done.\ncorr_matrix for 2008-08-05 done.\n"
     ]
    },
    {
     "name": "stdout",
     "output_type": "stream",
     "text": [
      "corr_matrix for 2008-08-04 done.\ncorr_matrix for 2008-08-01 done.\ncorr_matrix for 2008-07-31 done.\ncorr_matrix for 2008-07-30 done.\ncorr_matrix for 2008-07-29 done.\ncorr_matrix for 2008-07-28 done.\ncorr_matrix for 2008-07-25 done.\ncorr_matrix for 2008-07-24 done.\ncorr_matrix for 2008-07-23 done.\ncorr_matrix for 2008-07-22 done.\n"
     ]
    },
    {
     "name": "stdout",
     "output_type": "stream",
     "text": [
      "corr_matrix for 2008-07-21 done.\ncorr_matrix for 2008-07-18 done.\ncorr_matrix for 2008-07-17 done.\ncorr_matrix for 2008-07-16 done.\ncorr_matrix for 2008-07-15 done.\ncorr_matrix for 2008-07-14 done.\ncorr_matrix for 2008-07-11 done.\ncorr_matrix for 2008-07-10 done.\ncorr_matrix for 2008-07-09 done.\ncorr_matrix for 2008-07-08 done.\n"
     ]
    },
    {
     "name": "stdout",
     "output_type": "stream",
     "text": [
      "corr_matrix for 2008-07-07 done.\ncorr_matrix for 2008-07-03 done.\ncorr_matrix for 2008-07-02 done.\ncorr_matrix for 2008-07-01 done.\ncorr_matrix for 2008-06-30 done.\ncorr_matrix for 2008-06-27 done.\ncorr_matrix for 2008-06-26 done.\ncorr_matrix for 2008-06-25 done.\ncorr_matrix for 2008-06-24 done.\ncorr_matrix for 2008-06-23 done.\ncorr_matrix for 2008-06-20 done.\n"
     ]
    },
    {
     "name": "stdout",
     "output_type": "stream",
     "text": [
      "corr_matrix for 2008-06-19 done.\ncorr_matrix for 2008-06-18 done.\ncorr_matrix for 2008-06-17 done.\ncorr_matrix for 2008-06-16 done.\ncorr_matrix for 2008-06-13 done.\ncorr_matrix for 2008-06-12 done.\ncorr_matrix for 2008-06-11 done.\ncorr_matrix for 2008-06-10 done.\ncorr_matrix for 2008-06-09 done.\ncorr_matrix for 2008-06-06 done.\ncorr_matrix for 2008-06-05 done.\n"
     ]
    },
    {
     "name": "stdout",
     "output_type": "stream",
     "text": [
      "corr_matrix for 2008-06-04 done.\ncorr_matrix for 2008-06-03 done.\ncorr_matrix for 2008-06-02 done.\ncorr_matrix for 2008-05-30 done.\ncorr_matrix for 2008-05-29 done.\ncorr_matrix for 2008-05-28 done.\ncorr_matrix for 2008-05-27 done.\ncorr_matrix for 2008-05-23 done.\ncorr_matrix for 2008-05-22 done.\ncorr_matrix for 2008-05-21 done.\ncorr_matrix for 2008-05-20 done.\n"
     ]
    },
    {
     "name": "stdout",
     "output_type": "stream",
     "text": [
      "corr_matrix for 2008-05-19 done.\ncorr_matrix for 2008-05-16 done.\ncorr_matrix for 2008-05-15 done.\ncorr_matrix for 2008-05-14 done.\ncorr_matrix for 2008-05-13 done.\ncorr_matrix for 2008-05-12 done.\ncorr_matrix for 2008-05-09 done.\ncorr_matrix for 2008-05-08 done.\ncorr_matrix for 2008-05-07 done.\ncorr_matrix for 2008-05-06 done.\ncorr_matrix for 2008-05-05 done.\n"
     ]
    },
    {
     "name": "stdout",
     "output_type": "stream",
     "text": [
      "corr_matrix for 2008-05-02 done.\ncorr_matrix for 2008-05-01 done.\ncorr_matrix for 2008-04-30 done.\ncorr_matrix for 2008-04-29 done.\ncorr_matrix for 2008-04-28 done.\ncorr_matrix for 2008-04-25 done.\ncorr_matrix for 2008-04-24 done.\ncorr_matrix for 2008-04-23 done.\ncorr_matrix for 2008-04-22 done.\ncorr_matrix for 2008-04-21 done.\ncorr_matrix for 2008-04-18 done.\n"
     ]
    },
    {
     "name": "stdout",
     "output_type": "stream",
     "text": [
      "corr_matrix for 2008-04-17 done.\ncorr_matrix for 2008-04-16 done.\ncorr_matrix for 2008-04-15 done.\ncorr_matrix for 2008-04-14 done.\ncorr_matrix for 2008-04-11 done.\ncorr_matrix for 2008-04-10 done.\ncorr_matrix for 2008-04-09 done.\ncorr_matrix for 2008-04-08 done.\ncorr_matrix for 2008-04-07 done.\ncorr_matrix for 2008-04-04 done.\ncorr_matrix for 2008-04-03 done.\n"
     ]
    },
    {
     "name": "stdout",
     "output_type": "stream",
     "text": [
      "corr_matrix for 2008-04-02 done.\ncorr_matrix for 2008-04-01 done.\ncorr_matrix for 2008-03-31 done.\ncorr_matrix for 2008-03-28 done.\ncorr_matrix for 2008-03-27 done.\ncorr_matrix for 2008-03-26 done.\ncorr_matrix for 2008-03-25 done.\ncorr_matrix for 2008-03-24 done.\ncorr_matrix for 2008-03-20 done.\ncorr_matrix for 2008-03-19 done.\ncorr_matrix for 2008-03-18 done.\n"
     ]
    },
    {
     "name": "stdout",
     "output_type": "stream",
     "text": [
      "corr_matrix for 2008-03-17 done.\ncorr_matrix for 2008-03-14 done.\ncorr_matrix for 2008-03-13 done.\ncorr_matrix for 2008-03-12 done.\ncorr_matrix for 2008-03-11 done.\ncorr_matrix for 2008-03-10 done.\ncorr_matrix for 2008-03-07 done.\ncorr_matrix for 2008-03-06 done.\ncorr_matrix for 2008-03-05 done.\ncorr_matrix for 2008-03-04 done.\ncorr_matrix for 2008-03-03 done.\n"
     ]
    },
    {
     "name": "stdout",
     "output_type": "stream",
     "text": [
      "corr_matrix for 2008-02-29 done.\ncorr_matrix for 2008-02-28 done.\ncorr_matrix for 2008-02-27 done.\ncorr_matrix for 2008-02-26 done.\ncorr_matrix for 2008-02-25 done.\ncorr_matrix for 2008-02-22 done.\ncorr_matrix for 2008-02-21 done.\ncorr_matrix for 2008-02-20 done.\ncorr_matrix for 2008-02-19 done.\ncorr_matrix for 2008-02-15 done.\ncorr_matrix for 2008-02-14 done.\ncorr_matrix for 2008-02-13 done.\n"
     ]
    },
    {
     "name": "stdout",
     "output_type": "stream",
     "text": [
      "corr_matrix for 2008-02-12 done.\ncorr_matrix for 2008-02-11 done.\ncorr_matrix for 2008-02-08 done.\ncorr_matrix for 2008-02-07 done.\ncorr_matrix for 2008-02-06 done.\ncorr_matrix for 2008-02-05 done.\ncorr_matrix for 2008-02-04 done.\ncorr_matrix for 2008-02-01 done.\ncorr_matrix for 2008-01-31 done.\ncorr_matrix for 2008-01-30 done.\ncorr_matrix for 2008-01-29 done.\ncorr_matrix for 2008-01-28 done.\n"
     ]
    },
    {
     "name": "stdout",
     "output_type": "stream",
     "text": [
      "corr_matrix for 2008-01-25 done.\ncorr_matrix for 2008-01-24 done.\ncorr_matrix for 2008-01-23 done.\ncorr_matrix for 2008-01-22 done.\ncorr_matrix for 2008-01-18 done.\ncorr_matrix for 2008-01-17 done.\ncorr_matrix for 2008-01-16 done.\ncorr_matrix for 2008-01-15 done.\ncorr_matrix for 2008-01-14 done.\ncorr_matrix for 2008-01-11 done.\n"
     ]
    },
    {
     "name": "stdout",
     "output_type": "stream",
     "text": [
      "corr_matrix for 2008-01-10 done.\ncorr_matrix for 2008-01-09 done.\ncorr_matrix for 2008-01-08 done.\ncorr_matrix for 2008-01-07 done.\ncorr_matrix for 2008-01-04 done.\ncorr_matrix for 2008-01-03 done.\ncorr_matrix for 2008-01-02 done.\ncorr_matrix for 2007-12-31 done.\ncorr_matrix for 2007-12-28 done.\n"
     ]
    },
    {
     "name": "stdout",
     "output_type": "stream",
     "text": [
      "corr_matrix for 2007-12-27 done.\ncorr_matrix for 2007-12-26 done.\ncorr_matrix for 2007-12-24 done.\ncorr_matrix for 2007-12-21 done.\ncorr_matrix for 2007-12-20 done.\ncorr_matrix for 2007-12-19 done.\ncorr_matrix for 2007-12-18 done.\ncorr_matrix for 2007-12-17 done.\ncorr_matrix for 2007-12-14 done.\ncorr_matrix for 2007-12-13 done.\n"
     ]
    },
    {
     "name": "stdout",
     "output_type": "stream",
     "text": [
      "corr_matrix for 2007-12-12 done.\ncorr_matrix for 2007-12-11 done.\ncorr_matrix for 2007-12-10 done.\ncorr_matrix for 2007-12-07 done.\ncorr_matrix for 2007-12-06 done.\ncorr_matrix for 2007-12-05 done.\ncorr_matrix for 2007-12-04 done.\ncorr_matrix for 2007-12-03 done.\ncorr_matrix for 2007-11-30 done.\ncorr_matrix for 2007-11-29 done.\n"
     ]
    },
    {
     "name": "stdout",
     "output_type": "stream",
     "text": [
      "corr_matrix for 2007-11-28 done.\ncorr_matrix for 2007-11-27 done.\ncorr_matrix for 2007-11-26 done.\ncorr_matrix for 2007-11-23 done.\ncorr_matrix for 2007-11-21 done.\ncorr_matrix for 2007-11-20 done.\ncorr_matrix for 2007-11-19 done.\ncorr_matrix for 2007-11-16 done.\ncorr_matrix for 2007-11-15 done.\ncorr_matrix for 2007-11-14 done.\ncorr_matrix for 2007-11-13 done."
     ]
    },
    {
     "name": "stdout",
     "output_type": "stream",
     "text": [
      "\ncorr_matrix for 2007-11-12 done.\ncorr_matrix for 2007-11-09 done.\ncorr_matrix for 2007-11-08 done.\ncorr_matrix for 2007-11-07 done.\ncorr_matrix for 2007-11-06 done.\ncorr_matrix for 2007-11-05 done.\ncorr_matrix for 2007-11-02 done.\ncorr_matrix for 2007-11-01 done.\ncorr_matrix for 2007-10-31 done.\n"
     ]
    },
    {
     "name": "stdout",
     "output_type": "stream",
     "text": [
      "corr_matrix for 2007-10-30 done.\ncorr_matrix for 2007-10-29 done.\ncorr_matrix for 2007-10-26 done.\ncorr_matrix for 2007-10-25 done.\ncorr_matrix for 2007-10-24 done.\ncorr_matrix for 2007-10-23 done.\ncorr_matrix for 2007-10-22 done.\ncorr_matrix for 2007-10-19 done.\ncorr_matrix for 2007-10-18 done.\ncorr_matrix for 2007-10-17 done.\ncorr_matrix for 2007-10-16 done.\n"
     ]
    },
    {
     "name": "stdout",
     "output_type": "stream",
     "text": [
      "corr_matrix for 2007-10-15 done.\ncorr_matrix for 2007-10-12 done.\ncorr_matrix for 2007-10-11 done.\ncorr_matrix for 2007-10-10 done.\ncorr_matrix for 2007-10-09 done.\ncorr_matrix for 2007-10-08 done.\ncorr_matrix for 2007-10-05 done.\ncorr_matrix for 2007-10-04 done.\ncorr_matrix for 2007-10-03 done.\ncorr_matrix for 2007-10-02 done.\n"
     ]
    },
    {
     "name": "stdout",
     "output_type": "stream",
     "text": [
      "corr_matrix for 2007-10-01 done.\ncorr_matrix for 2007-09-28 done.\ncorr_matrix for 2007-09-27 done.\ncorr_matrix for 2007-09-26 done.\ncorr_matrix for 2007-09-25 done.\ncorr_matrix for 2007-09-24 done.\ncorr_matrix for 2007-09-21 done.\ncorr_matrix for 2007-09-20 done.\ncorr_matrix for 2007-09-19 done.\ncorr_matrix for 2007-09-18 done.\ncorr_matrix for 2007-09-17 done.\n"
     ]
    },
    {
     "name": "stdout",
     "output_type": "stream",
     "text": [
      "corr_matrix for 2007-09-14 done.\ncorr_matrix for 2007-09-13 done.\ncorr_matrix for 2007-09-12 done.\ncorr_matrix for 2007-09-11 done.\ncorr_matrix for 2007-09-10 done.\ncorr_matrix for 2007-09-07 done.\ncorr_matrix for 2007-09-06 done.\ncorr_matrix for 2007-09-05 done.\ncorr_matrix for 2007-09-04 done.\ncorr_matrix for 2007-08-31 done.\n"
     ]
    },
    {
     "name": "stdout",
     "output_type": "stream",
     "text": [
      "corr_matrix for 2007-08-30 done.\ncorr_matrix for 2007-08-29 done.\ncorr_matrix for 2007-08-28 done.\ncorr_matrix for 2007-08-27 done.\ncorr_matrix for 2007-08-24 done.\ncorr_matrix for 2007-08-23 done.\ncorr_matrix for 2007-08-22 done.\ncorr_matrix for 2007-08-21 done.\ncorr_matrix for 2007-08-20 done.\ncorr_matrix for 2007-08-17 done.\n"
     ]
    },
    {
     "name": "stdout",
     "output_type": "stream",
     "text": [
      "corr_matrix for 2007-08-16 done.\ncorr_matrix for 2007-08-15 done.\ncorr_matrix for 2007-08-14 done.\ncorr_matrix for 2007-08-13 done.\ncorr_matrix for 2007-08-10 done.\ncorr_matrix for 2007-08-09 done.\ncorr_matrix for 2007-08-08 done.\ncorr_matrix for 2007-08-07 done.\ncorr_matrix for 2007-08-06 done.\ncorr_matrix for 2007-08-03 done.\ncorr_matrix for 2007-08-02 done."
     ]
    },
    {
     "name": "stdout",
     "output_type": "stream",
     "text": [
      "\ncorr_matrix for 2007-08-01 done.\ncorr_matrix for 2007-07-31 done.\ncorr_matrix for 2007-07-30 done.\ncorr_matrix for 2007-07-27 done.\ncorr_matrix for 2007-07-26 done.\ncorr_matrix for 2007-07-25 done.\ncorr_matrix for 2007-07-24 done.\ncorr_matrix for 2007-07-23 done.\ncorr_matrix for 2007-07-20 done.\ncorr_matrix for 2007-07-19 done.\ncorr_matrix for 2007-07-18 done.\n"
     ]
    },
    {
     "name": "stdout",
     "output_type": "stream",
     "text": [
      "corr_matrix for 2007-07-17 done.\ncorr_matrix for 2007-07-16 done.\ncorr_matrix for 2007-07-13 done.\ncorr_matrix for 2007-07-12 done.\ncorr_matrix for 2007-07-11 done.\ncorr_matrix for 2007-07-10 done.\ncorr_matrix for 2007-07-09 done.\ncorr_matrix for 2007-07-06 done.\ncorr_matrix for 2007-07-05 done.\ncorr_matrix for 2007-07-03 done.\ncorr_matrix for 2007-07-02 done.\n"
     ]
    },
    {
     "name": "stdout",
     "output_type": "stream",
     "text": [
      "corr_matrix for 2007-06-29 done.\ncorr_matrix for 2007-06-28 done.\ncorr_matrix for 2007-06-27 done.\ncorr_matrix for 2007-06-26 done.\ncorr_matrix for 2007-06-25 done.\ncorr_matrix for 2007-06-22 done.\ncorr_matrix for 2007-06-21 done.\ncorr_matrix for 2007-06-20 done.\ncorr_matrix for 2007-06-19 done.\ncorr_matrix for 2007-06-18 done.\ncorr_matrix for 2007-06-15 done.\n"
     ]
    },
    {
     "name": "stdout",
     "output_type": "stream",
     "text": [
      "corr_matrix for 2007-06-14 done.\ncorr_matrix for 2007-06-13 done.\ncorr_matrix for 2007-06-12 done.\ncorr_matrix for 2007-06-11 done.\ncorr_matrix for 2007-06-08 done.\ncorr_matrix for 2007-06-07 done.\ncorr_matrix for 2007-06-06 done.\ncorr_matrix for 2007-06-05 done.\ncorr_matrix for 2007-06-04 done.\ncorr_matrix for 2007-06-01 done.\ncorr_matrix for 2007-05-31 done.\n"
     ]
    },
    {
     "name": "stdout",
     "output_type": "stream",
     "text": [
      "corr_matrix for 2007-05-30 done.\ncorr_matrix for 2007-05-29 done.\ncorr_matrix for 2007-05-25 done.\ncorr_matrix for 2007-05-24 done.\ncorr_matrix for 2007-05-23 done.\ncorr_matrix for 2007-05-22 done.\ncorr_matrix for 2007-05-21 done.\ncorr_matrix for 2007-05-18 done.\ncorr_matrix for 2007-05-17 done.\ncorr_matrix for 2007-05-16 done.\ncorr_matrix for 2007-05-15 done.\n"
     ]
    },
    {
     "name": "stdout",
     "output_type": "stream",
     "text": [
      "corr_matrix for 2007-05-14 done.\ncorr_matrix for 2007-05-11 done.\ncorr_matrix for 2007-05-10 done.\ncorr_matrix for 2007-05-09 done.\ncorr_matrix for 2007-05-08 done.\ncorr_matrix for 2007-05-07 done.\ncorr_matrix for 2007-05-04 done.\ncorr_matrix for 2007-05-03 done.\ncorr_matrix for 2007-05-02 done.\ncorr_matrix for 2007-05-01 done.\n"
     ]
    },
    {
     "name": "stdout",
     "output_type": "stream",
     "text": [
      "corr_matrix for 2007-04-30 done.\ncorr_matrix for 2007-04-27 done.\ncorr_matrix for 2007-04-26 done.\ncorr_matrix for 2007-04-25 done.\ncorr_matrix for 2007-04-24 done.\ncorr_matrix for 2007-04-23 done.\ncorr_matrix for 2007-04-20 done.\ncorr_matrix for 2007-04-19 done.\ncorr_matrix for 2007-04-18 done.\n"
     ]
    },
    {
     "name": "stdout",
     "output_type": "stream",
     "text": [
      "corr_matrix for 2007-04-17 done.\ncorr_matrix for 2007-04-16 done.\ncorr_matrix for 2007-04-13 done.\ncorr_matrix for 2007-04-12 done.\ncorr_matrix for 2007-04-11 done.\ncorr_matrix for 2007-04-10 done.\ncorr_matrix for 2007-04-09 done.\ncorr_matrix for 2007-04-05 done.\ncorr_matrix for 2007-04-04 done.\ncorr_matrix for 2007-04-03 done.\ncorr_matrix for 2007-04-02 done."
     ]
    },
    {
     "name": "stdout",
     "output_type": "stream",
     "text": [
      "\ncorr_matrix for 2007-03-30 done.\ncorr_matrix for 2007-03-29 done.\ncorr_matrix for 2007-03-28 done.\ncorr_matrix for 2007-03-27 done.\ncorr_matrix for 2007-03-26 done.\ncorr_matrix for 2007-03-23 done.\ncorr_matrix for 2007-03-22 done.\ncorr_matrix for 2007-03-21 done.\ncorr_matrix for 2007-03-20 done.\ncorr_matrix for 2007-03-19 done.\ncorr_matrix for 2007-03-16 done.\n"
     ]
    },
    {
     "name": "stdout",
     "output_type": "stream",
     "text": [
      "corr_matrix for 2007-03-15 done.\ncorr_matrix for 2007-03-14 done.\ncorr_matrix for 2007-03-13 done.\ncorr_matrix for 2007-03-12 done.\ncorr_matrix for 2007-03-09 done.\ncorr_matrix for 2007-03-08 done.\ncorr_matrix for 2007-03-07 done.\ncorr_matrix for 2007-03-06 done.\ncorr_matrix for 2007-03-05 done.\ncorr_matrix for 2007-03-02 done.\ncorr_matrix for 2007-03-01 done.\n"
     ]
    },
    {
     "name": "stdout",
     "output_type": "stream",
     "text": [
      "corr_matrix for 2007-02-28 done.\ncorr_matrix for 2007-02-27 done.\ncorr_matrix for 2007-02-26 done.\ncorr_matrix for 2007-02-23 done.\ncorr_matrix for 2007-02-22 done.\ncorr_matrix for 2007-02-21 done.\ncorr_matrix for 2007-02-20 done.\ncorr_matrix for 2007-02-16 done.\ncorr_matrix for 2007-02-15 done.\ncorr_matrix for 2007-02-14 done.\n"
     ]
    },
    {
     "name": "stdout",
     "output_type": "stream",
     "text": [
      "corr_matrix for 2007-02-13 done.\ncorr_matrix for 2007-02-12 done.\ncorr_matrix for 2007-02-09 done.\ncorr_matrix for 2007-02-08 done.\ncorr_matrix for 2007-02-07 done.\ncorr_matrix for 2007-02-06 done.\ncorr_matrix for 2007-02-05 done.\ncorr_matrix for 2007-02-02 done.\ncorr_matrix for 2007-02-01 done.\ncorr_matrix for 2007-01-31 done.\ncorr_matrix for 2007-01-30 done.\n"
     ]
    },
    {
     "name": "stdout",
     "output_type": "stream",
     "text": [
      "corr_matrix for 2007-01-29 done.\ncorr_matrix for 2007-01-26 done.\ncorr_matrix for 2007-01-25 done.\ncorr_matrix for 2007-01-24 done.\ncorr_matrix for 2007-01-23 done.\ncorr_matrix for 2007-01-22 done.\ncorr_matrix for 2007-01-19 done.\ncorr_matrix for 2007-01-18 done.\ncorr_matrix for 2007-01-17 done.\ncorr_matrix for 2007-01-16 done.\ncorr_matrix for 2007-01-12 done.\n"
     ]
    },
    {
     "name": "stdout",
     "output_type": "stream",
     "text": [
      "corr_matrix for 2007-01-11 done.\ncorr_matrix for 2007-01-10 done.\ncorr_matrix for 2007-01-09 done.\ncorr_matrix for 2007-01-08 done.\ncorr_matrix for 2007-01-05 done.\ncorr_matrix for 2007-01-04 done.\ncorr_matrix for 2007-01-03 done.\ncorr_matrix for 2006-12-29 done.\ncorr_matrix for 2006-12-28 done.\ncorr_matrix for 2006-12-27 done.\ncorr_matrix for 2006-12-26 done.\n"
     ]
    },
    {
     "name": "stdout",
     "output_type": "stream",
     "text": [
      "corr_matrix for 2006-12-22 done.\ncorr_matrix for 2006-12-21 done.\ncorr_matrix for 2006-12-20 done.\ncorr_matrix for 2006-12-19 done.\ncorr_matrix for 2006-12-18 done.\ncorr_matrix for 2006-12-15 done.\ncorr_matrix for 2006-12-14 done.\ncorr_matrix for 2006-12-13 done.\ncorr_matrix for 2006-12-12 done.\ncorr_matrix for 2006-12-11 done.\n"
     ]
    },
    {
     "name": "stdout",
     "output_type": "stream",
     "text": [
      "corr_matrix for 2006-12-08 done.\ncorr_matrix for 2006-12-07 done.\ncorr_matrix for 2006-12-06 done.\ncorr_matrix for 2006-12-05 done.\ncorr_matrix for 2006-12-04 done.\ncorr_matrix for 2006-12-01 done.\ncorr_matrix for 2006-11-30 done.\ncorr_matrix for 2006-11-29 done.\ncorr_matrix for 2006-11-28 done.\ncorr_matrix for 2006-11-27 done.\ncorr_matrix for 2006-11-24 done.\ncorr_matrix for 2006-11-22 done.\n"
     ]
    },
    {
     "name": "stdout",
     "output_type": "stream",
     "text": [
      "corr_matrix for 2006-11-21 done.\ncorr_matrix for 2006-11-20 done.\ncorr_matrix for 2006-11-17 done.\ncorr_matrix for 2006-11-16 done.\ncorr_matrix for 2006-11-15 done.\ncorr_matrix for 2006-11-14 done.\ncorr_matrix for 2006-11-13 done.\ncorr_matrix for 2006-11-10 done.\ncorr_matrix for 2006-11-09 done.\ncorr_matrix for 2006-11-08 done.\ncorr_matrix for 2006-11-07 done.\n"
     ]
    },
    {
     "name": "stdout",
     "output_type": "stream",
     "text": [
      "corr_matrix for 2006-11-06 done.\ncorr_matrix for 2006-11-03 done.\ncorr_matrix for 2006-11-02 done.\ncorr_matrix for 2006-11-01 done.\ncorr_matrix for 2006-10-31 done.\ncorr_matrix for 2006-10-30 done.\ncorr_matrix for 2006-10-27 done.\ncorr_matrix for 2006-10-26 done.\ncorr_matrix for 2006-10-25 done.\ncorr_matrix for 2006-10-24 done.\n"
     ]
    },
    {
     "name": "stdout",
     "output_type": "stream",
     "text": [
      "corr_matrix for 2006-10-23 done.\ncorr_matrix for 2006-10-20 done.\ncorr_matrix for 2006-10-19 done.\ncorr_matrix for 2006-10-18 done.\ncorr_matrix for 2006-10-17 done.\ncorr_matrix for 2006-10-16 done.\ncorr_matrix for 2006-10-13 done.\ncorr_matrix for 2006-10-12 done.\n"
     ]
    },
    {
     "name": "stdout",
     "output_type": "stream",
     "text": [
      "corr_matrix for 2006-10-11 done.\ncorr_matrix for 2006-10-10 done.\ncorr_matrix for 2006-10-09 done.\ncorr_matrix for 2006-10-06 done.\ncorr_matrix for 2006-10-05 done.\ncorr_matrix for 2006-10-04 done.\ncorr_matrix for 2006-10-03 done.\ncorr_matrix for 2006-10-02 done.\ncorr_matrix for 2006-09-29 done.\ncorr_matrix for 2006-09-28 done.\n"
     ]
    },
    {
     "name": "stdout",
     "output_type": "stream",
     "text": [
      "corr_matrix for 2006-09-27 done.\ncorr_matrix for 2006-09-26 done.\ncorr_matrix for 2006-09-25 done.\ncorr_matrix for 2006-09-22 done.\ncorr_matrix for 2006-09-21 done.\ncorr_matrix for 2006-09-20 done.\ncorr_matrix for 2006-09-19 done.\ncorr_matrix for 2006-09-18 done.\ncorr_matrix for 2006-09-15 done.\ncorr_matrix for 2006-09-14 done."
     ]
    },
    {
     "name": "stdout",
     "output_type": "stream",
     "text": [
      "\ncorr_matrix for 2006-09-13 done.\ncorr_matrix for 2006-09-12 done.\ncorr_matrix for 2006-09-11 done.\ncorr_matrix for 2006-09-08 done.\ncorr_matrix for 2006-09-07 done.\ncorr_matrix for 2006-09-06 done.\ncorr_matrix for 2006-09-05 done.\ncorr_matrix for 2006-09-01 done.\ncorr_matrix for 2006-08-31 done.\ncorr_matrix for 2006-08-30 done.\n"
     ]
    },
    {
     "name": "stdout",
     "output_type": "stream",
     "text": [
      "corr_matrix for 2006-08-29 done.\ncorr_matrix for 2006-08-28 done.\ncorr_matrix for 2006-08-25 done.\ncorr_matrix for 2006-08-24 done.\ncorr_matrix for 2006-08-23 done.\ncorr_matrix for 2006-08-22 done.\ncorr_matrix for 2006-08-21 done.\ncorr_matrix for 2006-08-18 done.\ncorr_matrix for 2006-08-17 done.\ncorr_matrix for 2006-08-16 done."
     ]
    },
    {
     "name": "stdout",
     "output_type": "stream",
     "text": [
      "\ncorr_matrix for 2006-08-15 done.\ncorr_matrix for 2006-08-14 done.\ncorr_matrix for 2006-08-11 done.\ncorr_matrix for 2006-08-10 done.\ncorr_matrix for 2006-08-09 done.\ncorr_matrix for 2006-08-08 done.\ncorr_matrix for 2006-08-07 done.\ncorr_matrix for 2006-08-04 done.\ncorr_matrix for 2006-08-03 done.\ncorr_matrix for 2006-08-02 done.\n"
     ]
    },
    {
     "name": "stdout",
     "output_type": "stream",
     "text": [
      "corr_matrix for 2006-08-01 done.\ncorr_matrix for 2006-07-31 done.\ncorr_matrix for 2006-07-28 done.\ncorr_matrix for 2006-07-27 done.\ncorr_matrix for 2006-07-26 done.\ncorr_matrix for 2006-07-25 done.\ncorr_matrix for 2006-07-24 done.\ncorr_matrix for 2006-07-21 done.\ncorr_matrix for 2006-07-20 done.\n"
     ]
    },
    {
     "name": "stdout",
     "output_type": "stream",
     "text": [
      "corr_matrix for 2006-07-19 done.\ncorr_matrix for 2006-07-18 done.\ncorr_matrix for 2006-07-17 done.\ncorr_matrix for 2006-07-14 done.\ncorr_matrix for 2006-07-13 done.\ncorr_matrix for 2006-07-12 done.\n"
     ]
    },
    {
     "name": "stdout",
     "output_type": "stream",
     "text": [
      "corr_matrix for 2006-07-11 done.\ncorr_matrix for 2006-07-10 done.\ncorr_matrix for 2006-07-07 done.\ncorr_matrix for 2006-07-06 done.\n"
     ]
    },
    {
     "name": "stdout",
     "output_type": "stream",
     "text": [
      "corr_matrix for 2006-07-05 done.\ncorr_matrix for 2006-07-03 done.\ncorr_matrix for 2006-06-30 done.\ncorr_matrix for 2006-06-29 done.\ncorr_matrix for 2006-06-28 done.\ncorr_matrix for 2006-06-27 done.\n"
     ]
    },
    {
     "name": "stdout",
     "output_type": "stream",
     "text": [
      "corr_matrix for 2006-06-26 done.\ncorr_matrix for 2006-06-23 done.\ncorr_matrix for 2006-06-22 done.\ncorr_matrix for 2006-06-21 done.\ncorr_matrix for 2006-06-20 done.\ncorr_matrix for 2006-06-19 done.\ncorr_matrix for 2006-06-16 done.\ncorr_matrix for 2006-06-15 done.\n"
     ]
    },
    {
     "name": "stdout",
     "output_type": "stream",
     "text": [
      "corr_matrix for 2006-06-14 done.\ncorr_matrix for 2006-06-13 done.\ncorr_matrix for 2006-06-12 done.\ncorr_matrix for 2006-06-09 done.\ncorr_matrix for 2006-06-08 done.\ncorr_matrix for 2006-06-07 done.\ncorr_matrix for 2006-06-06 done.\ncorr_matrix for 2006-06-05 done.\ncorr_matrix for 2006-06-02 done.\ncorr_matrix for 2006-06-01 done.\n"
     ]
    },
    {
     "name": "stdout",
     "output_type": "stream",
     "text": [
      "corr_matrix for 2006-05-31 done.\ncorr_matrix for 2006-05-30 done.\ncorr_matrix for 2006-05-26 done.\ncorr_matrix for 2006-05-25 done.\ncorr_matrix for 2006-05-24 done.\ncorr_matrix for 2006-05-23 done.\ncorr_matrix for 2006-05-22 done.\ncorr_matrix for 2006-05-19 done.\ncorr_matrix for 2006-05-18 done.\ncorr_matrix for 2006-05-17 done.\n"
     ]
    },
    {
     "name": "stdout",
     "output_type": "stream",
     "text": [
      "corr_matrix for 2006-05-16 done.\ncorr_matrix for 2006-05-15 done.\ncorr_matrix for 2006-05-12 done.\ncorr_matrix for 2006-05-11 done.\ncorr_matrix for 2006-05-10 done.\ncorr_matrix for 2006-05-09 done.\ncorr_matrix for 2006-05-08 done.\ncorr_matrix for 2006-05-05 done.\ncorr_matrix for 2006-05-04 done.\n"
     ]
    },
    {
     "name": "stdout",
     "output_type": "stream",
     "text": [
      "corr_matrix for 2006-05-03 done.\ncorr_matrix for 2006-05-02 done.\ncorr_matrix for 2006-05-01 done.\ncorr_matrix for 2006-04-28 done.\ncorr_matrix for 2006-04-27 done.\ncorr_matrix for 2006-04-26 done.\ncorr_matrix for 2006-04-25 done.\ncorr_matrix for 2006-04-24 done.\ncorr_matrix for 2006-04-21 done.\ncorr_matrix for 2006-04-20 done.\n"
     ]
    },
    {
     "name": "stdout",
     "output_type": "stream",
     "text": [
      "corr_matrix for 2006-04-19 done.\ncorr_matrix for 2006-04-18 done.\ncorr_matrix for 2006-04-17 done.\ncorr_matrix for 2006-04-13 done.\ncorr_matrix for 2006-04-12 done.\ncorr_matrix for 2006-04-11 done.\ncorr_matrix for 2006-04-10 done.\ncorr_matrix for 2006-04-07 done.\ncorr_matrix for 2006-04-06 done.\ncorr_matrix for 2006-04-05 done.\ncorr_matrix for 2006-04-04 done.\ncorr_matrix for 2006-04-03 done.\n"
     ]
    },
    {
     "name": "stdout",
     "output_type": "stream",
     "text": [
      "corr_matrix for 2006-03-31 done.\ncorr_matrix for 2006-03-30 done.\ncorr_matrix for 2006-03-29 done.\ncorr_matrix for 2006-03-28 done.\ncorr_matrix for 2006-03-27 done.\ncorr_matrix for 2006-03-24 done.\ncorr_matrix for 2006-03-23 done.\ncorr_matrix for 2006-03-22 done.\ncorr_matrix for 2006-03-21 done.\ncorr_matrix for 2006-03-20 done.\ncorr_matrix for 2006-03-17 done.\n"
     ]
    },
    {
     "name": "stdout",
     "output_type": "stream",
     "text": [
      "corr_matrix for 2006-03-16 done.\ncorr_matrix for 2006-03-15 done.\ncorr_matrix for 2006-03-14 done.\ncorr_matrix for 2006-03-13 done.\ncorr_matrix for 2006-03-10 done.\ncorr_matrix for 2006-03-09 done.\ncorr_matrix for 2006-03-08 done.\ncorr_matrix for 2006-03-07 done.\ncorr_matrix for 2006-03-06 done.\ncorr_matrix for 2006-03-03 done.\n"
     ]
    },
    {
     "name": "stdout",
     "output_type": "stream",
     "text": [
      "corr_matrix for 2006-03-02 done.\ncorr_matrix for 2006-03-01 done.\ncorr_matrix for 2006-02-28 done.\ncorr_matrix for 2006-02-27 done.\ncorr_matrix for 2006-02-24 done.\ncorr_matrix for 2006-02-23 done.\ncorr_matrix for 2006-02-22 done.\ncorr_matrix for 2006-02-21 done.\ncorr_matrix for 2006-02-17 done.\ncorr_matrix for 2006-02-16 done.\ncorr_matrix for 2006-02-15 done.\n"
     ]
    },
    {
     "name": "stdout",
     "output_type": "stream",
     "text": [
      "corr_matrix for 2006-02-14 done.\ncorr_matrix for 2006-02-13 done.\ncorr_matrix for 2006-02-10 done.\ncorr_matrix for 2006-02-09 done.\ncorr_matrix for 2006-02-08 done.\ncorr_matrix for 2006-02-07 done.\ncorr_matrix for 2006-02-06 done.\ncorr_matrix for 2006-02-03 done.\ncorr_matrix for 2006-02-02 done.\ncorr_matrix for 2006-02-01 done.\n"
     ]
    },
    {
     "name": "stdout",
     "output_type": "stream",
     "text": [
      "corr_matrix for 2006-01-31 done.\ncorr_matrix for 2006-01-30 done.\ncorr_matrix for 2006-01-27 done.\ncorr_matrix for 2006-01-26 done.\ncorr_matrix for 2006-01-25 done.\ncorr_matrix for 2006-01-24 done.\ncorr_matrix for 2006-01-23 done.\ncorr_matrix for 2006-01-20 done.\ncorr_matrix for 2006-01-19 done.\ncorr_matrix for 2006-01-18 done.\ncorr_matrix for 2006-01-17 done.\n"
     ]
    },
    {
     "name": "stdout",
     "output_type": "stream",
     "text": [
      "corr_matrix for 2006-01-13 done.\ncorr_matrix for 2006-01-12 done.\ncorr_matrix for 2006-01-11 done.\ncorr_matrix for 2006-01-10 done.\ncorr_matrix for 2006-01-09 done.\ncorr_matrix for 2006-01-06 done.\ncorr_matrix for 2006-01-05 done.\ncorr_matrix for 2006-01-04 done.\ncorr_matrix for 2006-01-03 done.\ncorr_matrix for 2005-12-30 done.\n"
     ]
    },
    {
     "name": "stdout",
     "output_type": "stream",
     "text": [
      "corr_matrix for 2005-12-29 done.\ncorr_matrix for 2005-12-28 done.\ncorr_matrix for 2005-12-27 done.\ncorr_matrix for 2005-12-23 done.\ncorr_matrix for 2005-12-22 done.\ncorr_matrix for 2005-12-21 done.\ncorr_matrix for 2005-12-20 done.\ncorr_matrix for 2005-12-19 done.\ncorr_matrix for 2005-12-16 done.\ncorr_matrix for 2005-12-15 done.\ncorr_matrix for 2005-12-14 done.\n"
     ]
    },
    {
     "name": "stdout",
     "output_type": "stream",
     "text": [
      "corr_matrix for 2005-12-13 done.\ncorr_matrix for 2005-12-12 done.\ncorr_matrix for 2005-12-09 done.\ncorr_matrix for 2005-12-08 done.\ncorr_matrix for 2005-12-07 done.\ncorr_matrix for 2005-12-06 done.\ncorr_matrix for 2005-12-05 done.\ncorr_matrix for 2005-12-02 done.\ncorr_matrix for 2005-12-01 done.\ncorr_matrix for 2005-11-30 done.\ncorr_matrix for 2005-11-29 done.\n"
     ]
    },
    {
     "name": "stdout",
     "output_type": "stream",
     "text": [
      "corr_matrix for 2005-11-28 done.\ncorr_matrix for 2005-11-25 done.\ncorr_matrix for 2005-11-23 done.\ncorr_matrix for 2005-11-22 done.\ncorr_matrix for 2005-11-21 done.\ncorr_matrix for 2005-11-18 done.\ncorr_matrix for 2005-11-17 done.\ncorr_matrix for 2005-11-16 done.\ncorr_matrix for 2005-11-15 done.\ncorr_matrix for 2005-11-14 done.\ncorr_matrix for 2005-11-11 done.\n"
     ]
    },
    {
     "name": "stdout",
     "output_type": "stream",
     "text": [
      "corr_matrix for 2005-11-10 done.\ncorr_matrix for 2005-11-09 done.\ncorr_matrix for 2005-11-08 done.\ncorr_matrix for 2005-11-07 done.\ncorr_matrix for 2005-11-04 done.\ncorr_matrix for 2005-11-03 done.\ncorr_matrix for 2005-11-02 done.\ncorr_matrix for 2005-11-01 done.\ncorr_matrix for 2005-10-31 done.\ncorr_matrix for 2005-10-28 done.\ncorr_matrix for 2005-10-27 done."
     ]
    },
    {
     "name": "stdout",
     "output_type": "stream",
     "text": [
      "\ncorr_matrix for 2005-10-26 done.\ncorr_matrix for 2005-10-25 done.\ncorr_matrix for 2005-10-24 done.\ncorr_matrix for 2005-10-21 done.\ncorr_matrix for 2005-10-20 done.\ncorr_matrix for 2005-10-19 done.\ncorr_matrix for 2005-10-18 done.\ncorr_matrix for 2005-10-17 done.\ncorr_matrix for 2005-10-14 done.\ncorr_matrix for 2005-10-13 done.\ncorr_matrix for 2005-10-12 done.\ncorr_matrix for 2005-10-11 done.\n"
     ]
    },
    {
     "name": "stdout",
     "output_type": "stream",
     "text": [
      "corr_matrix for 2005-10-10 done.\ncorr_matrix for 2005-10-07 done.\ncorr_matrix for 2005-10-06 done.\ncorr_matrix for 2005-10-05 done.\ncorr_matrix for 2005-10-04 done.\ncorr_matrix for 2005-10-03 done.\ncorr_matrix for 2005-09-30 done.\ncorr_matrix for 2005-09-29 done.\ncorr_matrix for 2005-09-28 done.\ncorr_matrix for 2005-09-27 done.\ncorr_matrix for 2005-09-26 done.\n"
     ]
    },
    {
     "name": "stdout",
     "output_type": "stream",
     "text": [
      "corr_matrix for 2005-09-23 done.\ncorr_matrix for 2005-09-22 done.\ncorr_matrix for 2005-09-21 done.\ncorr_matrix for 2005-09-20 done.\ncorr_matrix for 2005-09-19 done.\ncorr_matrix for 2005-09-16 done.\ncorr_matrix for 2005-09-15 done.\ncorr_matrix for 2005-09-14 done.\ncorr_matrix for 2005-09-13 done.\ncorr_matrix for 2005-09-12 done.\n"
     ]
    },
    {
     "name": "stdout",
     "output_type": "stream",
     "text": [
      "corr_matrix for 2005-09-09 done.\ncorr_matrix for 2005-09-08 done.\ncorr_matrix for 2005-09-07 done.\ncorr_matrix for 2005-09-06 done.\ncorr_matrix for 2005-09-02 done.\ncorr_matrix for 2005-09-01 done.\ncorr_matrix for 2005-08-31 done.\ncorr_matrix for 2005-08-30 done.\ncorr_matrix for 2005-08-29 done.\ncorr_matrix for 2005-08-26 done.\n"
     ]
    },
    {
     "name": "stdout",
     "output_type": "stream",
     "text": [
      "corr_matrix for 2005-08-25 done.\ncorr_matrix for 2005-08-24 done.\ncorr_matrix for 2005-08-23 done.\ncorr_matrix for 2005-08-22 done.\ncorr_matrix for 2005-08-19 done.\ncorr_matrix for 2005-08-18 done.\ncorr_matrix for 2005-08-17 done.\ncorr_matrix for 2005-08-16 done.\n"
     ]
    },
    {
     "name": "stdout",
     "output_type": "stream",
     "text": [
      "corr_matrix for 2005-08-15 done.\ncorr_matrix for 2005-08-12 done.\ncorr_matrix for 2005-08-11 done.\ncorr_matrix for 2005-08-10 done.\ncorr_matrix for 2005-08-09 done.\ncorr_matrix for 2005-08-08 done.\ncorr_matrix for 2005-08-05 done.\ncorr_matrix for 2005-08-04 done.\ncorr_matrix for 2005-08-03 done.\n"
     ]
    },
    {
     "name": "stdout",
     "output_type": "stream",
     "text": [
      "corr_matrix for 2005-08-02 done.\ncorr_matrix for 2005-08-01 done.\ncorr_matrix for 2005-07-29 done.\ncorr_matrix for 2005-07-28 done.\ncorr_matrix for 2005-07-27 done.\ncorr_matrix for 2005-07-26 done.\ncorr_matrix for 2005-07-25 done.\ncorr_matrix for 2005-07-22 done.\ncorr_matrix for 2005-07-21 done.\ncorr_matrix for 2005-07-20 done.\ncorr_matrix for 2005-07-19 done."
     ]
    },
    {
     "name": "stdout",
     "output_type": "stream",
     "text": [
      "\ncorr_matrix for 2005-07-18 done.\ncorr_matrix for 2005-07-15 done.\ncorr_matrix for 2005-07-14 done.\ncorr_matrix for 2005-07-13 done.\ncorr_matrix for 2005-07-12 done.\ncorr_matrix for 2005-07-11 done.\ncorr_matrix for 2005-07-08 done.\ncorr_matrix for 2005-07-07 done.\ncorr_matrix for 2005-07-06 done.\ncorr_matrix for 2005-07-05 done.\n"
     ]
    },
    {
     "name": "stdout",
     "output_type": "stream",
     "text": [
      "corr_matrix for 2005-07-01 done.\ncorr_matrix for 2005-06-30 done.\ncorr_matrix for 2005-06-29 done.\ncorr_matrix for 2005-06-28 done.\ncorr_matrix for 2005-06-27 done.\ncorr_matrix for 2005-06-24 done.\ncorr_matrix for 2005-06-23 done.\ncorr_matrix for 2005-06-22 done.\ncorr_matrix for 2005-06-21 done.\ncorr_matrix for 2005-06-20 done.\ncorr_matrix for 2005-06-17 done.\n"
     ]
    },
    {
     "name": "stdout",
     "output_type": "stream",
     "text": [
      "corr_matrix for 2005-06-16 done.\ncorr_matrix for 2005-06-15 done.\ncorr_matrix for 2005-06-14 done.\ncorr_matrix for 2005-06-13 done.\ncorr_matrix for 2005-06-10 done.\ncorr_matrix for 2005-06-09 done.\ncorr_matrix for 2005-06-08 done.\ncorr_matrix for 2005-06-07 done.\ncorr_matrix for 2005-06-06 done.\ncorr_matrix for 2005-06-03 done.\ncorr_matrix for 2005-06-02 done.\n"
     ]
    },
    {
     "name": "stdout",
     "output_type": "stream",
     "text": [
      "corr_matrix for 2005-06-01 done.\ncorr_matrix for 2005-05-31 done.\ncorr_matrix for 2005-05-27 done.\ncorr_matrix for 2005-05-26 done.\ncorr_matrix for 2005-05-25 done.\ncorr_matrix for 2005-05-24 done.\ncorr_matrix for 2005-05-23 done.\ncorr_matrix for 2005-05-20 done.\ncorr_matrix for 2005-05-19 done.\ncorr_matrix for 2005-05-18 done.\ncorr_matrix for 2005-05-17 done.\n"
     ]
    },
    {
     "name": "stdout",
     "output_type": "stream",
     "text": [
      "corr_matrix for 2005-05-16 done.\ncorr_matrix for 2005-05-13 done.\ncorr_matrix for 2005-05-12 done.\ncorr_matrix for 2005-05-11 done.\ncorr_matrix for 2005-05-10 done.\ncorr_matrix for 2005-05-09 done.\ncorr_matrix for 2005-05-06 done.\ncorr_matrix for 2005-05-05 done.\ncorr_matrix for 2005-05-04 done.\ncorr_matrix for 2005-05-03 done.\ncorr_matrix for 2005-05-02 done.\n"
     ]
    },
    {
     "name": "stdout",
     "output_type": "stream",
     "text": [
      "corr_matrix for 2005-04-29 done.\ncorr_matrix for 2005-04-28 done.\ncorr_matrix for 2005-04-27 done.\ncorr_matrix for 2005-04-26 done.\ncorr_matrix for 2005-04-25 done.\ncorr_matrix for 2005-04-22 done.\ncorr_matrix for 2005-04-21 done.\ncorr_matrix for 2005-04-20 done.\ncorr_matrix for 2005-04-19 done.\ncorr_matrix for 2005-04-18 done.\ncorr_matrix for 2005-04-15 done.\n"
     ]
    },
    {
     "name": "stdout",
     "output_type": "stream",
     "text": [
      "corr_matrix for 2005-04-14 done.\ncorr_matrix for 2005-04-13 done.\ncorr_matrix for 2005-04-12 done.\ncorr_matrix for 2005-04-11 done.\ncorr_matrix for 2005-04-08 done.\ncorr_matrix for 2005-04-07 done.\ncorr_matrix for 2005-04-06 done.\ncorr_matrix for 2005-04-05 done.\ncorr_matrix for 2005-04-04 done.\ncorr_matrix for 2005-04-01 done.\ncorr_matrix for 2005-03-31 done.\n"
     ]
    },
    {
     "name": "stdout",
     "output_type": "stream",
     "text": [
      "corr_matrix for 2005-03-30 done.\ncorr_matrix for 2005-03-29 done.\ncorr_matrix for 2005-03-28 done.\ncorr_matrix for 2005-03-24 done.\ncorr_matrix for 2005-03-23 done.\ncorr_matrix for 2005-03-22 done.\ncorr_matrix for 2005-03-21 done.\ncorr_matrix for 2005-03-18 done.\ncorr_matrix for 2005-03-17 done.\ncorr_matrix for 2005-03-16 done.\ncorr_matrix for 2005-03-15 done.\n"
     ]
    },
    {
     "name": "stdout",
     "output_type": "stream",
     "text": [
      "corr_matrix for 2005-03-14 done.\ncorr_matrix for 2005-03-11 done.\ncorr_matrix for 2005-03-10 done.\ncorr_matrix for 2005-03-09 done.\ncorr_matrix for 2005-03-08 done.\ncorr_matrix for 2005-03-07 done.\ncorr_matrix for 2005-03-04 done.\ncorr_matrix for 2005-03-03 done.\ncorr_matrix for 2005-03-02 done.\ncorr_matrix for 2005-03-01 done.\n"
     ]
    },
    {
     "name": "stdout",
     "output_type": "stream",
     "text": [
      "corr_matrix for 2005-02-28 done.\ncorr_matrix for 2005-02-25 done.\ncorr_matrix for 2005-02-24 done.\ncorr_matrix for 2005-02-23 done.\ncorr_matrix for 2005-02-22 done.\ncorr_matrix for 2005-02-18 done.\ncorr_matrix for 2005-02-17 done.\ncorr_matrix for 2005-02-16 done.\ncorr_matrix for 2005-02-15 done.\ncorr_matrix for 2005-02-14 done.\ncorr_matrix for 2005-02-11 done.\n"
     ]
    },
    {
     "name": "stdout",
     "output_type": "stream",
     "text": [
      "corr_matrix for 2005-02-10 done.\ncorr_matrix for 2005-02-09 done.\ncorr_matrix for 2005-02-08 done.\ncorr_matrix for 2005-02-07 done.\ncorr_matrix for 2005-02-04 done.\ncorr_matrix for 2005-02-03 done.\ncorr_matrix for 2005-02-02 done.\ncorr_matrix for 2005-02-01 done.\ncorr_matrix for 2005-01-31 done.\ncorr_matrix for 2005-01-28 done.\n"
     ]
    },
    {
     "name": "stdout",
     "output_type": "stream",
     "text": [
      "corr_matrix for 2005-01-27 done.\ncorr_matrix for 2005-01-26 done.\ncorr_matrix for 2005-01-25 done.\ncorr_matrix for 2005-01-24 done.\ncorr_matrix for 2005-01-21 done.\ncorr_matrix for 2005-01-20 done.\ncorr_matrix for 2005-01-19 done.\ncorr_matrix for 2005-01-18 done.\ncorr_matrix for 2005-01-14 done.\ncorr_matrix for 2005-01-13 done.\ncorr_matrix for 2005-01-12 done.\n"
     ]
    },
    {
     "name": "stdout",
     "output_type": "stream",
     "text": [
      "corr_matrix for 2005-01-11 done.\ncorr_matrix for 2005-01-10 done.\ncorr_matrix for 2005-01-07 done.\ncorr_matrix for 2005-01-06 done.\ncorr_matrix for 2005-01-05 done.\ncorr_matrix for 2005-01-04 done.\ncorr_matrix for 2005-01-03 done.\ncorr_matrix for 2004-12-31 done.\ncorr_matrix for 2004-12-30 done.\ncorr_matrix for 2004-12-29 done.\ncorr_matrix for 2004-12-28 done.\n"
     ]
    },
    {
     "name": "stdout",
     "output_type": "stream",
     "text": [
      "corr_matrix for 2004-12-27 done.\ncorr_matrix for 2004-12-23 done.\ncorr_matrix for 2004-12-22 done.\ncorr_matrix for 2004-12-21 done.\ncorr_matrix for 2004-12-20 done.\ncorr_matrix for 2004-12-17 done.\ncorr_matrix for 2004-12-16 done.\ncorr_matrix for 2004-12-15 done.\ncorr_matrix for 2004-12-14 done.\ncorr_matrix for 2004-12-13 done.\ncorr_matrix for 2004-12-10 done.\n"
     ]
    },
    {
     "name": "stdout",
     "output_type": "stream",
     "text": [
      "corr_matrix for 2004-12-09 done.\ncorr_matrix for 2004-12-08 done.\ncorr_matrix for 2004-12-07 done.\ncorr_matrix for 2004-12-06 done.\ncorr_matrix for 2004-12-03 done.\ncorr_matrix for 2004-12-02 done.\ncorr_matrix for 2004-12-01 done.\ncorr_matrix for 2004-11-30 done.\ncorr_matrix for 2004-11-29 done.\ncorr_matrix for 2004-11-26 done.\ncorr_matrix for 2004-11-24 done.\n"
     ]
    },
    {
     "name": "stdout",
     "output_type": "stream",
     "text": [
      "corr_matrix for 2004-11-23 done.\ncorr_matrix for 2004-11-22 done.\ncorr_matrix for 2004-11-19 done.\ncorr_matrix for 2004-11-18 done.\ncorr_matrix for 2004-11-17 done.\ncorr_matrix for 2004-11-16 done.\ncorr_matrix for 2004-11-15 done.\ncorr_matrix for 2004-11-12 done.\ncorr_matrix for 2004-11-11 done.\ncorr_matrix for 2004-11-10 done.\ncorr_matrix for 2004-11-09 done.\n"
     ]
    },
    {
     "name": "stdout",
     "output_type": "stream",
     "text": [
      "corr_matrix for 2004-11-08 done.\ncorr_matrix for 2004-11-05 done.\ncorr_matrix for 2004-11-04 done.\ncorr_matrix for 2004-11-03 done.\ncorr_matrix for 2004-11-02 done.\ncorr_matrix for 2004-11-01 done.\ncorr_matrix for 2004-10-29 done.\ncorr_matrix for 2004-10-28 done.\ncorr_matrix for 2004-10-27 done.\ncorr_matrix for 2004-10-26 done.\n"
     ]
    },
    {
     "name": "stdout",
     "output_type": "stream",
     "text": [
      "corr_matrix for 2004-10-25 done.\ncorr_matrix for 2004-10-22 done.\ncorr_matrix for 2004-10-21 done.\ncorr_matrix for 2004-10-20 done.\ncorr_matrix for 2004-10-19 done.\ncorr_matrix for 2004-10-18 done.\ncorr_matrix for 2004-10-15 done.\ncorr_matrix for 2004-10-14 done.\ncorr_matrix for 2004-10-13 done.\ncorr_matrix for 2004-10-12 done.\n"
     ]
    },
    {
     "name": "stdout",
     "output_type": "stream",
     "text": [
      "corr_matrix for 2004-10-11 done.\ncorr_matrix for 2004-10-08 done.\ncorr_matrix for 2004-10-07 done.\ncorr_matrix for 2004-10-06 done.\ncorr_matrix for 2004-10-05 done.\ncorr_matrix for 2004-10-04 done.\ncorr_matrix for 2004-10-01 done.\ncorr_matrix for 2004-09-30 done.\ncorr_matrix for 2004-09-29 done.\ncorr_matrix for 2004-09-28 done.\n"
     ]
    },
    {
     "name": "stdout",
     "output_type": "stream",
     "text": [
      "corr_matrix for 2004-09-27 done.\ncorr_matrix for 2004-09-24 done.\ncorr_matrix for 2004-09-23 done.\ncorr_matrix for 2004-09-22 done.\ncorr_matrix for 2004-09-21 done.\ncorr_matrix for 2004-09-20 done.\ncorr_matrix for 2004-09-17 done.\ncorr_matrix for 2004-09-16 done.\ncorr_matrix for 2004-09-15 done.\ncorr_matrix for 2004-09-14 done.\n"
     ]
    },
    {
     "name": "stdout",
     "output_type": "stream",
     "text": [
      "corr_matrix for 2004-09-13 done.\ncorr_matrix for 2004-09-10 done.\ncorr_matrix for 2004-09-09 done.\ncorr_matrix for 2004-09-08 done.\ncorr_matrix for 2004-09-07 done.\ncorr_matrix for 2004-09-03 done.\ncorr_matrix for 2004-09-02 done.\ncorr_matrix for 2004-09-01 done.\ncorr_matrix for 2004-08-31 done.\ncorr_matrix for 2004-08-30 done.\n"
     ]
    },
    {
     "name": "stdout",
     "output_type": "stream",
     "text": [
      "corr_matrix for 2004-08-27 done.\ncorr_matrix for 2004-08-26 done.\ncorr_matrix for 2004-08-25 done.\ncorr_matrix for 2004-08-24 done.\ncorr_matrix for 2004-08-23 done.\ncorr_matrix for 2004-08-20 done.\ncorr_matrix for 2004-08-19 done.\ncorr_matrix for 2004-08-18 done.\ncorr_matrix for 2004-08-17 done.\ncorr_matrix for 2004-08-16 done.\ncorr_matrix for 2004-08-13 done.\n"
     ]
    },
    {
     "name": "stdout",
     "output_type": "stream",
     "text": [
      "corr_matrix for 2004-08-12 done.\ncorr_matrix for 2004-08-11 done.\ncorr_matrix for 2004-08-10 done.\ncorr_matrix for 2004-08-09 done.\ncorr_matrix for 2004-08-06 done.\ncorr_matrix for 2004-08-05 done.\ncorr_matrix for 2004-08-04 done.\ncorr_matrix for 2004-08-03 done.\ncorr_matrix for 2004-08-02 done.\ncorr_matrix for 2004-07-30 done.\n"
     ]
    },
    {
     "name": "stdout",
     "output_type": "stream",
     "text": [
      "corr_matrix for 2004-07-29 done.\ncorr_matrix for 2004-07-28 done.\ncorr_matrix for 2004-07-27 done.\ncorr_matrix for 2004-07-26 done.\ncorr_matrix for 2004-07-23 done.\ncorr_matrix for 2004-07-22 done.\ncorr_matrix for 2004-07-21 done.\ncorr_matrix for 2004-07-20 done.\ncorr_matrix for 2004-07-19 done.\ncorr_matrix for 2004-07-16 done.\n"
     ]
    },
    {
     "name": "stdout",
     "output_type": "stream",
     "text": [
      "corr_matrix for 2004-07-15 done.\ncorr_matrix for 2004-07-14 done.\ncorr_matrix for 2004-07-13 done.\ncorr_matrix for 2004-07-12 done.\ncorr_matrix for 2004-07-09 done.\ncorr_matrix for 2004-07-08 done.\ncorr_matrix for 2004-07-07 done.\ncorr_matrix for 2004-07-06 done.\ncorr_matrix for 2004-07-02 done.\ncorr_matrix for 2004-07-01 done.\n"
     ]
    },
    {
     "name": "stdout",
     "output_type": "stream",
     "text": [
      "corr_matrix for 2004-06-30 done.\ncorr_matrix for 2004-06-29 done.\ncorr_matrix for 2004-06-28 done.\ncorr_matrix for 2004-06-25 done.\ncorr_matrix for 2004-06-24 done.\ncorr_matrix for 2004-06-23 done.\ncorr_matrix for 2004-06-22 done.\ncorr_matrix for 2004-06-21 done.\ncorr_matrix for 2004-06-18 done.\ncorr_matrix for 2004-06-17 done.\n"
     ]
    },
    {
     "name": "stdout",
     "output_type": "stream",
     "text": [
      "corr_matrix for 2004-06-16 done.\ncorr_matrix for 2004-06-15 done.\ncorr_matrix for 2004-06-14 done.\ncorr_matrix for 2004-06-10 done.\ncorr_matrix for 2004-06-09 done.\ncorr_matrix for 2004-06-08 done.\ncorr_matrix for 2004-06-07 done.\ncorr_matrix for 2004-06-04 done.\ncorr_matrix for 2004-06-03 done.\ncorr_matrix for 2004-06-02 done.\n"
     ]
    },
    {
     "name": "stdout",
     "output_type": "stream",
     "text": [
      "corr_matrix for 2004-06-01 done.\ncorr_matrix for 2004-05-28 done.\ncorr_matrix for 2004-05-27 done.\ncorr_matrix for 2004-05-26 done.\ncorr_matrix for 2004-05-25 done.\ncorr_matrix for 2004-05-24 done.\ncorr_matrix for 2004-05-21 done.\ncorr_matrix for 2004-05-20 done.\ncorr_matrix for 2004-05-19 done.\ncorr_matrix for 2004-05-18 done.\ncorr_matrix for 2004-05-17 done.\n"
     ]
    },
    {
     "name": "stdout",
     "output_type": "stream",
     "text": [
      "corr_matrix for 2004-05-14 done.\ncorr_matrix for 2004-05-13 done.\ncorr_matrix for 2004-05-12 done.\ncorr_matrix for 2004-05-11 done.\ncorr_matrix for 2004-05-10 done.\ncorr_matrix for 2004-05-07 done.\ncorr_matrix for 2004-05-06 done.\ncorr_matrix for 2004-05-05 done.\ncorr_matrix for 2004-05-04 done.\ncorr_matrix for 2004-05-03 done.\ncorr_matrix for 2004-04-30 done.\n"
     ]
    },
    {
     "name": "stdout",
     "output_type": "stream",
     "text": [
      "corr_matrix for 2004-04-29 done.\ncorr_matrix for 2004-04-28 done.\ncorr_matrix for 2004-04-27 done.\ncorr_matrix for 2004-04-26 done.\ncorr_matrix for 2004-04-23 done.\ncorr_matrix for 2004-04-22 done.\ncorr_matrix for 2004-04-21 done.\ncorr_matrix for 2004-04-20 done.\ncorr_matrix for 2004-04-19 done.\ncorr_matrix for 2004-04-16 done.\ncorr_matrix for 2004-04-15 done.\n"
     ]
    },
    {
     "name": "stdout",
     "output_type": "stream",
     "text": [
      "corr_matrix for 2004-04-14 done.\ncorr_matrix for 2004-04-13 done.\ncorr_matrix for 2004-04-12 done.\ncorr_matrix for 2004-04-08 done.\ncorr_matrix for 2004-04-07 done.\ncorr_matrix for 2004-04-06 done.\ncorr_matrix for 2004-04-05 done.\ncorr_matrix for 2004-04-02 done.\ncorr_matrix for 2004-04-01 done.\ncorr_matrix for 2004-03-31 done.\ncorr_matrix for 2004-03-30 done.\n"
     ]
    },
    {
     "name": "stdout",
     "output_type": "stream",
     "text": [
      "corr_matrix for 2004-03-29 done.\ncorr_matrix for 2004-03-26 done.\ncorr_matrix for 2004-03-25 done.\ncorr_matrix for 2004-03-24 done.\ncorr_matrix for 2004-03-23 done.\ncorr_matrix for 2004-03-22 done.\ncorr_matrix for 2004-03-19 done.\ncorr_matrix for 2004-03-18 done.\ncorr_matrix for 2004-03-17 done.\ncorr_matrix for 2004-03-16 done.\ncorr_matrix for 2004-03-15 done.\n"
     ]
    },
    {
     "name": "stdout",
     "output_type": "stream",
     "text": [
      "corr_matrix for 2004-03-12 done.\ncorr_matrix for 2004-03-11 done.\ncorr_matrix for 2004-03-10 done.\ncorr_matrix for 2004-03-09 done.\ncorr_matrix for 2004-03-08 done.\ncorr_matrix for 2004-03-05 done.\ncorr_matrix for 2004-03-04 done.\ncorr_matrix for 2004-03-03 done.\n"
     ]
    },
    {
     "name": "stdout",
     "output_type": "stream",
     "text": [
      "corr_matrix for 2004-03-02 done.\ncorr_matrix for 2004-03-01 done.\ncorr_matrix for 2004-02-27 done.\ncorr_matrix for 2004-02-26 done.\ncorr_matrix for 2004-02-25 done.\ncorr_matrix for 2004-02-24 done.\ncorr_matrix for 2004-02-23 done.\ncorr_matrix for 2004-02-20 done.\ncorr_matrix for 2004-02-19 done.\ncorr_matrix for 2004-02-18 done.\n"
     ]
    },
    {
     "name": "stdout",
     "output_type": "stream",
     "text": [
      "corr_matrix for 2004-02-17 done.\ncorr_matrix for 2004-02-13 done.\ncorr_matrix for 2004-02-12 done.\ncorr_matrix for 2004-02-11 done.\ncorr_matrix for 2004-02-10 done.\ncorr_matrix for 2004-02-09 done.\ncorr_matrix for 2004-02-06 done.\ncorr_matrix for 2004-02-05 done.\ncorr_matrix for 2004-02-04 done.\ncorr_matrix for 2004-02-03 done.\ncorr_matrix for 2004-02-02 done.\n"
     ]
    },
    {
     "name": "stdout",
     "output_type": "stream",
     "text": [
      "corr_matrix for 2004-01-30 done.\ncorr_matrix for 2004-01-29 done.\ncorr_matrix for 2004-01-28 done.\ncorr_matrix for 2004-01-27 done.\ncorr_matrix for 2004-01-26 done.\ncorr_matrix for 2004-01-23 done.\ncorr_matrix for 2004-01-22 done.\ncorr_matrix for 2004-01-21 done.\ncorr_matrix for 2004-01-20 done.\ncorr_matrix for 2004-01-16 done.\ncorr_matrix for 2004-01-15 done.\n"
     ]
    },
    {
     "name": "stdout",
     "output_type": "stream",
     "text": [
      "corr_matrix for 2004-01-14 done.\ncorr_matrix for 2004-01-13 done.\ncorr_matrix for 2004-01-12 done.\ncorr_matrix for 2004-01-09 done.\ncorr_matrix for 2004-01-08 done.\ncorr_matrix for 2004-01-07 done.\ncorr_matrix for 2004-01-06 done.\ncorr_matrix for 2004-01-05 done.\ncorr_matrix for 2004-01-02 done.\ncorr_matrix for 2003-12-31 done.\ncorr_matrix for 2003-12-30 done.\n"
     ]
    },
    {
     "name": "stdout",
     "output_type": "stream",
     "text": [
      "corr_matrix for 2003-12-29 done.\ncorr_matrix for 2003-12-26 done.\ncorr_matrix for 2003-12-24 done.\ncorr_matrix for 2003-12-23 done.\ncorr_matrix for 2003-12-22 done.\ncorr_matrix for 2003-12-19 done.\ncorr_matrix for 2003-12-18 done.\ncorr_matrix for 2003-12-17 done.\ncorr_matrix for 2003-12-16 done.\ncorr_matrix for 2003-12-15 done.\ncorr_matrix for 2003-12-12 done.\n"
     ]
    },
    {
     "name": "stdout",
     "output_type": "stream",
     "text": [
      "corr_matrix for 2003-12-11 done.\ncorr_matrix for 2003-12-10 done.\ncorr_matrix for 2003-12-09 done.\ncorr_matrix for 2003-12-08 done.\ncorr_matrix for 2003-12-05 done.\ncorr_matrix for 2003-12-04 done.\ncorr_matrix for 2003-12-03 done.\ncorr_matrix for 2003-12-02 done.\ncorr_matrix for 2003-12-01 done.\ncorr_matrix for 2003-11-28 done.\ncorr_matrix for 2003-11-26 done.\n"
     ]
    },
    {
     "name": "stdout",
     "output_type": "stream",
     "text": [
      "corr_matrix for 2003-11-25 done.\ncorr_matrix for 2003-11-24 done.\ncorr_matrix for 2003-11-21 done.\ncorr_matrix for 2003-11-20 done.\ncorr_matrix for 2003-11-19 done.\ncorr_matrix for 2003-11-18 done.\ncorr_matrix for 2003-11-17 done.\ncorr_matrix for 2003-11-14 done.\ncorr_matrix for 2003-11-13 done.\ncorr_matrix for 2003-11-12 done.\ncorr_matrix for 2003-11-11 done.\n"
     ]
    },
    {
     "name": "stdout",
     "output_type": "stream",
     "text": [
      "corr_matrix for 2003-11-10 done.\ncorr_matrix for 2003-11-07 done.\ncorr_matrix for 2003-11-06 done.\ncorr_matrix for 2003-11-05 done.\ncorr_matrix for 2003-11-04 done.\ncorr_matrix for 2003-11-03 done.\ncorr_matrix for 2003-10-31 done.\ncorr_matrix for 2003-10-30 done.\ncorr_matrix for 2003-10-29 done.\ncorr_matrix for 2003-10-28 done.\ncorr_matrix for 2003-10-27 done.\n"
     ]
    },
    {
     "name": "stdout",
     "output_type": "stream",
     "text": [
      "corr_matrix for 2003-10-24 done.\ncorr_matrix for 2003-10-23 done.\ncorr_matrix for 2003-10-22 done.\ncorr_matrix for 2003-10-21 done.\ncorr_matrix for 2003-10-20 done.\ncorr_matrix for 2003-10-17 done.\ncorr_matrix for 2003-10-16 done.\ncorr_matrix for 2003-10-15 done.\ncorr_matrix for 2003-10-14 done.\ncorr_matrix for 2003-10-13 done.\ncorr_matrix for 2003-10-10 done.\n"
     ]
    },
    {
     "name": "stdout",
     "output_type": "stream",
     "text": [
      "corr_matrix for 2003-10-09 done.\ncorr_matrix for 2003-10-08 done.\ncorr_matrix for 2003-10-07 done.\ncorr_matrix for 2003-10-06 done.\ncorr_matrix for 2003-10-03 done.\ncorr_matrix for 2003-10-02 done.\ncorr_matrix for 2003-10-01 done.\ncorr_matrix for 2003-09-30 done.\ncorr_matrix for 2003-09-29 done.\ncorr_matrix for 2003-09-26 done.\n"
     ]
    },
    {
     "name": "stdout",
     "output_type": "stream",
     "text": [
      "corr_matrix for 2003-09-25 done.\ncorr_matrix for 2003-09-24 done.\ncorr_matrix for 2003-09-23 done.\ncorr_matrix for 2003-09-22 done.\ncorr_matrix for 2003-09-19 done.\ncorr_matrix for 2003-09-18 done.\ncorr_matrix for 2003-09-17 done.\ncorr_matrix for 2003-09-16 done.\ncorr_matrix for 2003-09-15 done.\ncorr_matrix for 2003-09-12 done.\ncorr_matrix for 2003-09-11 done.\n"
     ]
    },
    {
     "name": "stdout",
     "output_type": "stream",
     "text": [
      "corr_matrix for 2003-09-10 done.\ncorr_matrix for 2003-09-09 done.\ncorr_matrix for 2003-09-08 done.\ncorr_matrix for 2003-09-05 done.\ncorr_matrix for 2003-09-04 done.\ncorr_matrix for 2003-09-03 done.\ncorr_matrix for 2003-09-02 done.\ncorr_matrix for 2003-08-29 done.\ncorr_matrix for 2003-08-28 done.\ncorr_matrix for 2003-08-27 done.\ncorr_matrix for 2003-08-26 done.\n"
     ]
    },
    {
     "name": "stdout",
     "output_type": "stream",
     "text": [
      "corr_matrix for 2003-08-25 done.\ncorr_matrix for 2003-08-22 done.\ncorr_matrix for 2003-08-21 done.\ncorr_matrix for 2003-08-20 done.\ncorr_matrix for 2003-08-19 done.\ncorr_matrix for 2003-08-18 done.\ncorr_matrix for 2003-08-15 done.\ncorr_matrix for 2003-08-14 done.\ncorr_matrix for 2003-08-13 done.\ncorr_matrix for 2003-08-12 done.\n"
     ]
    },
    {
     "name": "stdout",
     "output_type": "stream",
     "text": [
      "corr_matrix for 2003-08-11 done.\ncorr_matrix for 2003-08-08 done.\ncorr_matrix for 2003-08-07 done.\ncorr_matrix for 2003-08-06 done.\ncorr_matrix for 2003-08-05 done.\ncorr_matrix for 2003-08-04 done.\ncorr_matrix for 2003-08-01 done.\ncorr_matrix for 2003-07-31 done.\ncorr_matrix for 2003-07-30 done.\ncorr_matrix for 2003-07-29 done.\ncorr_matrix for 2003-07-28 done.\n"
     ]
    },
    {
     "name": "stdout",
     "output_type": "stream",
     "text": [
      "corr_matrix for 2003-07-25 done.\ncorr_matrix for 2003-07-24 done.\ncorr_matrix for 2003-07-23 done.\ncorr_matrix for 2003-07-22 done.\ncorr_matrix for 2003-07-21 done.\ncorr_matrix for 2003-07-18 done.\ncorr_matrix for 2003-07-17 done.\ncorr_matrix for 2003-07-16 done.\ncorr_matrix for 2003-07-15 done.\n"
     ]
    },
    {
     "name": "stdout",
     "output_type": "stream",
     "text": [
      "corr_matrix for 2003-07-14 done.\ncorr_matrix for 2003-07-11 done.\n"
     ]
    },
    {
     "name": "stdout",
     "output_type": "stream",
     "text": [
      "corr_matrix for 2003-07-10 done.\ncorr_matrix for 2003-07-09 done.\ncorr_matrix for 2003-07-08 done.\ncorr_matrix for 2003-07-07 done.\ncorr_matrix for 2003-07-03 done.\ncorr_matrix for 2003-07-02 done.\ncorr_matrix for 2003-07-01 done.\n"
     ]
    },
    {
     "name": "stdout",
     "output_type": "stream",
     "text": [
      "corr_matrix for 2003-06-30 done.\ncorr_matrix for 2003-06-27 done.\ncorr_matrix for 2003-06-26 done.\ncorr_matrix for 2003-06-25 done.\ncorr_matrix for 2003-06-24 done.\ncorr_matrix for 2003-06-23 done.\ncorr_matrix for 2003-06-20 done.\ncorr_matrix for 2003-06-19 done.\n"
     ]
    },
    {
     "name": "stdout",
     "output_type": "stream",
     "text": [
      "corr_matrix for 2003-06-18 done.\ncorr_matrix for 2003-06-17 done.\ncorr_matrix for 2003-06-16 done.\ncorr_matrix for 2003-06-13 done.\ncorr_matrix for 2003-06-12 done.\ncorr_matrix for 2003-06-11 done.\ncorr_matrix for 2003-06-10 done.\ncorr_matrix for 2003-06-09 done.\ncorr_matrix for 2003-06-06 done.\ncorr_matrix for 2003-06-05 done.\n"
     ]
    },
    {
     "name": "stdout",
     "output_type": "stream",
     "text": [
      "corr_matrix for 2003-06-04 done.\ncorr_matrix for 2003-06-03 done.\ncorr_matrix for 2003-06-02 done.\ncorr_matrix for 2003-05-30 done.\ncorr_matrix for 2003-05-29 done.\ncorr_matrix for 2003-05-28 done.\ncorr_matrix for 2003-05-27 done.\ncorr_matrix for 2003-05-23 done.\n"
     ]
    },
    {
     "name": "stdout",
     "output_type": "stream",
     "text": [
      "corr_matrix for 2003-05-22 done.\ncorr_matrix for 2003-05-21 done.\ncorr_matrix for 2003-05-20 done.\ncorr_matrix for 2003-05-19 done.\ncorr_matrix for 2003-05-16 done.\ncorr_matrix for 2003-05-15 done.\ncorr_matrix for 2003-05-14 done.\ncorr_matrix for 2003-05-13 done.\ncorr_matrix for 2003-05-12 done.\n"
     ]
    },
    {
     "name": "stdout",
     "output_type": "stream",
     "text": [
      "corr_matrix for 2003-05-09 done.\ncorr_matrix for 2003-05-08 done.\ncorr_matrix for 2003-05-07 done.\ncorr_matrix for 2003-05-06 done.\ncorr_matrix for 2003-05-05 done.\ncorr_matrix for 2003-05-02 done.\ncorr_matrix for 2003-05-01 done.\ncorr_matrix for 2003-04-30 done.\ncorr_matrix for 2003-04-29 done.\n"
     ]
    },
    {
     "name": "stdout",
     "output_type": "stream",
     "text": [
      "corr_matrix for 2003-04-28 done.\ncorr_matrix for 2003-04-25 done.\ncorr_matrix for 2003-04-24 done.\ncorr_matrix for 2003-04-23 done.\ncorr_matrix for 2003-04-22 done.\ncorr_matrix for 2003-04-21 done.\ncorr_matrix for 2003-04-17 done.\ncorr_matrix for 2003-04-16 done.\ncorr_matrix for 2003-04-15 done.\n"
     ]
    },
    {
     "name": "stdout",
     "output_type": "stream",
     "text": [
      "corr_matrix for 2003-04-14 done.\ncorr_matrix for 2003-04-11 done.\ncorr_matrix for 2003-04-10 done.\ncorr_matrix for 2003-04-09 done.\ncorr_matrix for 2003-04-08 done.\ncorr_matrix for 2003-04-07 done.\ncorr_matrix for 2003-04-04 done.\ncorr_matrix for 2003-04-03 done.\ncorr_matrix for 2003-04-02 done.\ncorr_matrix for 2003-04-01 done.\n"
     ]
    },
    {
     "name": "stdout",
     "output_type": "stream",
     "text": [
      "corr_matrix for 2003-03-31 done.\ncorr_matrix for 2003-03-28 done.\ncorr_matrix for 2003-03-27 done.\ncorr_matrix for 2003-03-26 done.\ncorr_matrix for 2003-03-25 done.\ncorr_matrix for 2003-03-24 done.\ncorr_matrix for 2003-03-21 done.\ncorr_matrix for 2003-03-20 done.\ncorr_matrix for 2003-03-19 done.\ncorr_matrix for 2003-03-18 done."
     ]
    },
    {
     "name": "stdout",
     "output_type": "stream",
     "text": [
      "\ncorr_matrix for 2003-03-17 done.\ncorr_matrix for 2003-03-14 done.\ncorr_matrix for 2003-03-13 done.\ncorr_matrix for 2003-03-12 done.\ncorr_matrix for 2003-03-11 done.\ncorr_matrix for 2003-03-10 done.\ncorr_matrix for 2003-03-07 done.\ncorr_matrix for 2003-03-06 done.\ncorr_matrix for 2003-03-05 done.\ncorr_matrix for 2003-03-04 done.\n"
     ]
    },
    {
     "name": "stdout",
     "output_type": "stream",
     "text": [
      "corr_matrix for 2003-03-03 done.\ncorr_matrix for 2003-02-28 done.\ncorr_matrix for 2003-02-27 done.\ncorr_matrix for 2003-02-26 done.\ncorr_matrix for 2003-02-25 done.\ncorr_matrix for 2003-02-24 done.\ncorr_matrix for 2003-02-21 done.\ncorr_matrix for 2003-02-20 done.\ncorr_matrix for 2003-02-19 done.\ncorr_matrix for 2003-02-18 done.\n"
     ]
    },
    {
     "name": "stdout",
     "output_type": "stream",
     "text": [
      "corr_matrix for 2003-02-14 done.\ncorr_matrix for 2003-02-13 done.\ncorr_matrix for 2003-02-12 done.\ncorr_matrix for 2003-02-11 done.\ncorr_matrix for 2003-02-10 done.\ncorr_matrix for 2003-02-07 done.\ncorr_matrix for 2003-02-06 done.\ncorr_matrix for 2003-02-05 done.\ncorr_matrix for 2003-02-04 done.\ncorr_matrix for 2003-02-03 done.\n"
     ]
    },
    {
     "name": "stdout",
     "output_type": "stream",
     "text": [
      "corr_matrix for 2003-01-31 done.\ncorr_matrix for 2003-01-30 done.\ncorr_matrix for 2003-01-29 done.\ncorr_matrix for 2003-01-28 done.\ncorr_matrix for 2003-01-27 done.\ncorr_matrix for 2003-01-24 done.\ncorr_matrix for 2003-01-23 done.\ncorr_matrix for 2003-01-22 done.\ncorr_matrix for 2003-01-21 done.\ncorr_matrix for 2003-01-17 done.\n"
     ]
    },
    {
     "name": "stdout",
     "output_type": "stream",
     "text": [
      "corr_matrix for 2003-01-16 done.\ncorr_matrix for 2003-01-15 done.\ncorr_matrix for 2003-01-14 done.\ncorr_matrix for 2003-01-13 done.\ncorr_matrix for 2003-01-10 done.\ncorr_matrix for 2003-01-09 done.\ncorr_matrix for 2003-01-08 done.\ncorr_matrix for 2003-01-07 done.\ncorr_matrix for 2003-01-06 done.\ncorr_matrix for 2003-01-03 done.\ncorr_matrix for 2003-01-02 done.\n"
     ]
    },
    {
     "name": "stdout",
     "output_type": "stream",
     "text": [
      "corr_matrix for 2002-12-31 done.\ncorr_matrix for 2002-12-30 done.\ncorr_matrix for 2002-12-27 done.\ncorr_matrix for 2002-12-26 done.\ncorr_matrix for 2002-12-24 done.\ncorr_matrix for 2002-12-23 done.\ncorr_matrix for 2002-12-20 done.\ncorr_matrix for 2002-12-19 done.\ncorr_matrix for 2002-12-18 done.\ncorr_matrix for 2002-12-17 done.\ncorr_matrix for 2002-12-16 done.\n"
     ]
    },
    {
     "name": "stdout",
     "output_type": "stream",
     "text": [
      "corr_matrix for 2002-12-13 done.\ncorr_matrix for 2002-12-12 done.\ncorr_matrix for 2002-12-11 done.\ncorr_matrix for 2002-12-10 done.\ncorr_matrix for 2002-12-09 done.\ncorr_matrix for 2002-12-06 done.\ncorr_matrix for 2002-12-05 done.\ncorr_matrix for 2002-12-04 done.\ncorr_matrix for 2002-12-03 done.\ncorr_matrix for 2002-12-02 done.\n"
     ]
    },
    {
     "name": "stdout",
     "output_type": "stream",
     "text": [
      "corr_matrix for 2002-11-29 done.\ncorr_matrix for 2002-11-27 done.\ncorr_matrix for 2002-11-26 done.\ncorr_matrix for 2002-11-25 done.\ncorr_matrix for 2002-11-22 done.\ncorr_matrix for 2002-11-21 done.\ncorr_matrix for 2002-11-20 done.\ncorr_matrix for 2002-11-19 done.\ncorr_matrix for 2002-11-18 done.\ncorr_matrix for 2002-11-15 done.\ncorr_matrix for 2002-11-14 done.\n"
     ]
    },
    {
     "name": "stdout",
     "output_type": "stream",
     "text": [
      "corr_matrix for 2002-11-13 done.\ncorr_matrix for 2002-11-12 done.\ncorr_matrix for 2002-11-11 done.\ncorr_matrix for 2002-11-08 done.\ncorr_matrix for 2002-11-07 done.\ncorr_matrix for 2002-11-06 done.\ncorr_matrix for 2002-11-05 done.\ncorr_matrix for 2002-11-04 done.\ncorr_matrix for 2002-11-01 done.\ncorr_matrix for 2002-10-31 done.\ncorr_matrix for 2002-10-30 done.\n"
     ]
    },
    {
     "name": "stdout",
     "output_type": "stream",
     "text": [
      "corr_matrix for 2002-10-29 done.\ncorr_matrix for 2002-10-28 done.\ncorr_matrix for 2002-10-25 done.\ncorr_matrix for 2002-10-24 done.\ncorr_matrix for 2002-10-23 done.\ncorr_matrix for 2002-10-22 done.\ncorr_matrix for 2002-10-21 done.\ncorr_matrix for 2002-10-18 done.\ncorr_matrix for 2002-10-17 done.\ncorr_matrix for 2002-10-16 done.\ncorr_matrix for 2002-10-15 done.\n"
     ]
    },
    {
     "name": "stdout",
     "output_type": "stream",
     "text": [
      "corr_matrix for 2002-10-14 done.\ncorr_matrix for 2002-10-11 done.\ncorr_matrix for 2002-10-10 done.\ncorr_matrix for 2002-10-09 done.\ncorr_matrix for 2002-10-08 done.\ncorr_matrix for 2002-10-07 done.\ncorr_matrix for 2002-10-04 done.\ncorr_matrix for 2002-10-03 done.\ncorr_matrix for 2002-10-02 done.\ncorr_matrix for 2002-10-01 done.\ncorr_matrix for 2002-09-30 done.\n"
     ]
    },
    {
     "name": "stdout",
     "output_type": "stream",
     "text": [
      "corr_matrix for 2002-09-27 done.\ncorr_matrix for 2002-09-26 done.\ncorr_matrix for 2002-09-25 done.\ncorr_matrix for 2002-09-24 done.\ncorr_matrix for 2002-09-23 done.\ncorr_matrix for 2002-09-20 done.\ncorr_matrix for 2002-09-19 done.\ncorr_matrix for 2002-09-18 done.\ncorr_matrix for 2002-09-17 done.\ncorr_matrix for 2002-09-16 done.\ncorr_matrix for 2002-09-13 done.\n"
     ]
    },
    {
     "name": "stdout",
     "output_type": "stream",
     "text": [
      "corr_matrix for 2002-09-12 done.\ncorr_matrix for 2002-09-11 done.\ncorr_matrix for 2002-09-10 done.\ncorr_matrix for 2002-09-09 done.\ncorr_matrix for 2002-09-06 done.\ncorr_matrix for 2002-09-05 done.\ncorr_matrix for 2002-09-04 done.\ncorr_matrix for 2002-09-03 done.\ncorr_matrix for 2002-08-30 done.\ncorr_matrix for 2002-08-29 done.\ncorr_matrix for 2002-08-28 done."
     ]
    },
    {
     "name": "stdout",
     "output_type": "stream",
     "text": [
      "\ncorr_matrix for 2002-08-27 done.\ncorr_matrix for 2002-08-26 done.\ncorr_matrix for 2002-08-23 done.\ncorr_matrix for 2002-08-22 done.\ncorr_matrix for 2002-08-21 done.\ncorr_matrix for 2002-08-20 done.\ncorr_matrix for 2002-08-19 done.\ncorr_matrix for 2002-08-16 done.\ncorr_matrix for 2002-08-15 done.\ncorr_matrix for 2002-08-14 done.\ncorr_matrix for 2002-08-13 done.\n"
     ]
    },
    {
     "name": "stdout",
     "output_type": "stream",
     "text": [
      "corr_matrix for 2002-08-12 done.\ncorr_matrix for 2002-08-09 done.\ncorr_matrix for 2002-08-08 done.\ncorr_matrix for 2002-08-07 done.\ncorr_matrix for 2002-08-06 done.\ncorr_matrix for 2002-08-05 done.\ncorr_matrix for 2002-08-02 done.\ncorr_matrix for 2002-08-01 done.\ncorr_matrix for 2002-07-31 done.\ncorr_matrix for 2002-07-30 done.\ncorr_matrix for 2002-07-29 done.\n"
     ]
    },
    {
     "name": "stdout",
     "output_type": "stream",
     "text": [
      "corr_matrix for 2002-07-26 done.\ncorr_matrix for 2002-07-25 done.\ncorr_matrix for 2002-07-24 done.\ncorr_matrix for 2002-07-23 done.\ncorr_matrix for 2002-07-22 done.\ncorr_matrix for 2002-07-19 done.\ncorr_matrix for 2002-07-18 done.\ncorr_matrix for 2002-07-17 done.\ncorr_matrix for 2002-07-16 done.\ncorr_matrix for 2002-07-15 done.\ncorr_matrix for 2002-07-12 done.\n"
     ]
    },
    {
     "name": "stdout",
     "output_type": "stream",
     "text": [
      "corr_matrix for 2002-07-11 done.\ncorr_matrix for 2002-07-10 done.\ncorr_matrix for 2002-07-09 done.\ncorr_matrix for 2002-07-08 done.\ncorr_matrix for 2002-07-05 done.\ncorr_matrix for 2002-07-03 done.\ncorr_matrix for 2002-07-02 done.\ncorr_matrix for 2002-07-01 done.\ncorr_matrix for 2002-06-28 done.\ncorr_matrix for 2002-06-27 done.\ncorr_matrix for 2002-06-26 done.\n"
     ]
    },
    {
     "name": "stdout",
     "output_type": "stream",
     "text": [
      "corr_matrix for 2002-06-25 done.\ncorr_matrix for 2002-06-24 done.\ncorr_matrix for 2002-06-21 done.\ncorr_matrix for 2002-06-20 done.\ncorr_matrix for 2002-06-19 done.\ncorr_matrix for 2002-06-18 done.\ncorr_matrix for 2002-06-17 done.\ncorr_matrix for 2002-06-14 done.\ncorr_matrix for 2002-06-13 done.\ncorr_matrix for 2002-06-12 done.\ncorr_matrix for 2002-06-11 done.\n"
     ]
    },
    {
     "name": "stdout",
     "output_type": "stream",
     "text": [
      "corr_matrix for 2002-06-10 done.\ncorr_matrix for 2002-06-07 done.\ncorr_matrix for 2002-06-06 done.\ncorr_matrix for 2002-06-05 done.\ncorr_matrix for 2002-06-04 done.\ncorr_matrix for 2002-06-03 done.\ncorr_matrix for 2002-05-31 done.\ncorr_matrix for 2002-05-30 done.\ncorr_matrix for 2002-05-29 done.\ncorr_matrix for 2002-05-28 done.\ncorr_matrix for 2002-05-24 done.\n"
     ]
    },
    {
     "name": "stdout",
     "output_type": "stream",
     "text": [
      "corr_matrix for 2002-05-23 done.\ncorr_matrix for 2002-05-22 done.\ncorr_matrix for 2002-05-21 done.\ncorr_matrix for 2002-05-20 done.\ncorr_matrix for 2002-05-17 done.\ncorr_matrix for 2002-05-16 done.\ncorr_matrix for 2002-05-15 done.\ncorr_matrix for 2002-05-14 done.\ncorr_matrix for 2002-05-13 done.\ncorr_matrix for 2002-05-10 done.\ncorr_matrix for 2002-05-09 done.\n"
     ]
    },
    {
     "name": "stdout",
     "output_type": "stream",
     "text": [
      "corr_matrix for 2002-05-08 done.\ncorr_matrix for 2002-05-07 done.\ncorr_matrix for 2002-05-06 done.\ncorr_matrix for 2002-05-03 done.\ncorr_matrix for 2002-05-02 done.\ncorr_matrix for 2002-05-01 done.\ncorr_matrix for 2002-04-30 done.\ncorr_matrix for 2002-04-29 done.\ncorr_matrix for 2002-04-26 done.\ncorr_matrix for 2002-04-25 done.\ncorr_matrix for 2002-04-24 done.\ncorr_matrix for 2002-04-23 done."
     ]
    },
    {
     "name": "stdout",
     "output_type": "stream",
     "text": [
      "\ncorr_matrix for 2002-04-22 done.\ncorr_matrix for 2002-04-19 done.\ncorr_matrix for 2002-04-18 done.\ncorr_matrix for 2002-04-17 done.\ncorr_matrix for 2002-04-16 done.\ncorr_matrix for 2002-04-15 done.\ncorr_matrix for 2002-04-12 done.\ncorr_matrix for 2002-04-11 done.\ncorr_matrix for 2002-04-10 done.\ncorr_matrix for 2002-04-09 done.\ncorr_matrix for 2002-04-08 done.\ncorr_matrix for 2002-04-05 done.\n"
     ]
    },
    {
     "name": "stdout",
     "output_type": "stream",
     "text": [
      "corr_matrix for 2002-04-04 done.\ncorr_matrix for 2002-04-03 done.\ncorr_matrix for 2002-04-02 done.\ncorr_matrix for 2002-04-01 done.\ncorr_matrix for 2002-03-28 done.\ncorr_matrix for 2002-03-27 done.\ncorr_matrix for 2002-03-26 done.\ncorr_matrix for 2002-03-25 done.\ncorr_matrix for 2002-03-22 done.\ncorr_matrix for 2002-03-21 done.\ncorr_matrix for 2002-03-20 done.\n"
     ]
    },
    {
     "name": "stdout",
     "output_type": "stream",
     "text": [
      "corr_matrix for 2002-03-19 done.\ncorr_matrix for 2002-03-18 done.\ncorr_matrix for 2002-03-15 done.\ncorr_matrix for 2002-03-14 done.\ncorr_matrix for 2002-03-13 done.\ncorr_matrix for 2002-03-12 done.\ncorr_matrix for 2002-03-11 done.\ncorr_matrix for 2002-03-08 done.\ncorr_matrix for 2002-03-07 done.\ncorr_matrix for 2002-03-06 done.\ncorr_matrix for 2002-03-05 done.\n"
     ]
    },
    {
     "name": "stdout",
     "output_type": "stream",
     "text": [
      "corr_matrix for 2002-03-04 done.\ncorr_matrix for 2002-03-01 done.\ncorr_matrix for 2002-02-28 done.\ncorr_matrix for 2002-02-27 done.\ncorr_matrix for 2002-02-26 done.\ncorr_matrix for 2002-02-25 done.\ncorr_matrix for 2002-02-22 done.\ncorr_matrix for 2002-02-21 done.\ncorr_matrix for 2002-02-20 done.\ncorr_matrix for 2002-02-19 done.\ncorr_matrix for 2002-02-15 done.\ncorr_matrix for 2002-02-14 done.\n"
     ]
    },
    {
     "name": "stdout",
     "output_type": "stream",
     "text": [
      "corr_matrix for 2002-02-13 done.\ncorr_matrix for 2002-02-12 done.\ncorr_matrix for 2002-02-11 done.\ncorr_matrix for 2002-02-08 done.\ncorr_matrix for 2002-02-07 done.\ncorr_matrix for 2002-02-06 done.\ncorr_matrix for 2002-02-05 done.\ncorr_matrix for 2002-02-04 done.\ncorr_matrix for 2002-02-01 done.\ncorr_matrix for 2002-01-31 done.\ncorr_matrix for 2002-01-30 done.\ncorr_matrix for 2002-01-29 done.\n"
     ]
    },
    {
     "name": "stdout",
     "output_type": "stream",
     "text": [
      "corr_matrix for 2002-01-28 done.\ncorr_matrix for 2002-01-25 done.\ncorr_matrix for 2002-01-24 done.\ncorr_matrix for 2002-01-23 done.\ncorr_matrix for 2002-01-22 done.\ncorr_matrix for 2002-01-18 done.\ncorr_matrix for 2002-01-17 done.\ncorr_matrix for 2002-01-16 done.\ncorr_matrix for 2002-01-15 done.\ncorr_matrix for 2002-01-14 done.\ncorr_matrix for 2002-01-11 done.\n"
     ]
    },
    {
     "name": "stdout",
     "output_type": "stream",
     "text": [
      "corr_matrix for 2002-01-10 done.\ncorr_matrix for 2002-01-09 done.\ncorr_matrix for 2002-01-08 done.\ncorr_matrix for 2002-01-07 done.\ncorr_matrix for 2002-01-04 done.\ncorr_matrix for 2002-01-03 done.\ncorr_matrix for 2002-01-02 done.\ncorr_matrix for 2001-12-31 done.\ncorr_matrix for 2001-12-28 done.\n"
     ]
    },
    {
     "name": "stdout",
     "output_type": "stream",
     "text": [
      "corr_matrix for 2001-12-27 done.\ncorr_matrix for 2001-12-26 done.\ncorr_matrix for 2001-12-24 done.\ncorr_matrix for 2001-12-21 done.\ncorr_matrix for 2001-12-20 done.\ncorr_matrix for 2001-12-19 done.\ncorr_matrix for 2001-12-18 done.\ncorr_matrix for 2001-12-17 done.\ncorr_matrix for 2001-12-14 done.\ncorr_matrix for 2001-12-13 done.\n"
     ]
    },
    {
     "name": "stdout",
     "output_type": "stream",
     "text": [
      "corr_matrix for 2001-12-12 done.\ncorr_matrix for 2001-12-11 done.\ncorr_matrix for 2001-12-10 done.\ncorr_matrix for 2001-12-07 done.\ncorr_matrix for 2001-12-06 done.\ncorr_matrix for 2001-12-05 done.\ncorr_matrix for 2001-12-04 done.\ncorr_matrix for 2001-12-03 done.\ncorr_matrix for 2001-11-30 done.\ncorr_matrix for 2001-11-29 done.\ncorr_matrix for 2001-11-28 done.\n"
     ]
    },
    {
     "name": "stdout",
     "output_type": "stream",
     "text": [
      "corr_matrix for 2001-11-27 done.\ncorr_matrix for 2001-11-26 done.\ncorr_matrix for 2001-11-23 done.\ncorr_matrix for 2001-11-21 done.\ncorr_matrix for 2001-11-20 done.\ncorr_matrix for 2001-11-19 done.\ncorr_matrix for 2001-11-16 done.\ncorr_matrix for 2001-11-15 done.\ncorr_matrix for 2001-11-14 done.\ncorr_matrix for 2001-11-13 done.\ncorr_matrix for 2001-11-12 done.\n"
     ]
    },
    {
     "name": "stdout",
     "output_type": "stream",
     "text": [
      "corr_matrix for 2001-11-09 done.\ncorr_matrix for 2001-11-08 done.\ncorr_matrix for 2001-11-07 done.\ncorr_matrix for 2001-11-06 done.\ncorr_matrix for 2001-11-05 done.\ncorr_matrix for 2001-11-02 done.\ncorr_matrix for 2001-11-01 done.\ncorr_matrix for 2001-10-31 done.\ncorr_matrix for 2001-10-30 done.\ncorr_matrix for 2001-10-29 done.\ncorr_matrix for 2001-10-26 done.\n"
     ]
    },
    {
     "name": "stdout",
     "output_type": "stream",
     "text": [
      "corr_matrix for 2001-10-25 done.\ncorr_matrix for 2001-10-24 done.\ncorr_matrix for 2001-10-23 done.\ncorr_matrix for 2001-10-22 done.\ncorr_matrix for 2001-10-19 done.\ncorr_matrix for 2001-10-18 done.\ncorr_matrix for 2001-10-17 done.\ncorr_matrix for 2001-10-16 done.\ncorr_matrix for 2001-10-15 done.\ncorr_matrix for 2001-10-12 done.\ncorr_matrix for 2001-10-11 done.\n"
     ]
    },
    {
     "name": "stdout",
     "output_type": "stream",
     "text": [
      "corr_matrix for 2001-10-10 done.\ncorr_matrix for 2001-10-09 done.\ncorr_matrix for 2001-10-08 done.\ncorr_matrix for 2001-10-05 done.\ncorr_matrix for 2001-10-04 done.\ncorr_matrix for 2001-10-03 done.\ncorr_matrix for 2001-10-02 done.\ncorr_matrix for 2001-10-01 done.\ncorr_matrix for 2001-09-28 done.\ncorr_matrix for 2001-09-27 done.\n"
     ]
    },
    {
     "name": "stdout",
     "output_type": "stream",
     "text": [
      "corr_matrix for 2001-09-26 done.\ncorr_matrix for 2001-09-25 done.\ncorr_matrix for 2001-09-24 done.\ncorr_matrix for 2001-09-21 done.\ncorr_matrix for 2001-09-20 done.\ncorr_matrix for 2001-09-19 done.\ncorr_matrix for 2001-09-18 done.\ncorr_matrix for 2001-09-17 done.\ncorr_matrix for 2001-09-10 done.\ncorr_matrix for 2001-09-07 done.\ncorr_matrix for 2001-09-06 done.\n"
     ]
    },
    {
     "name": "stdout",
     "output_type": "stream",
     "text": [
      "corr_matrix for 2001-09-05 done.\ncorr_matrix for 2001-09-04 done.\ncorr_matrix for 2001-08-31 done.\ncorr_matrix for 2001-08-30 done.\ncorr_matrix for 2001-08-29 done.\ncorr_matrix for 2001-08-28 done.\ncorr_matrix for 2001-08-27 done.\ncorr_matrix for 2001-08-24 done.\ncorr_matrix for 2001-08-23 done.\ncorr_matrix for 2001-08-22 done.\n"
     ]
    },
    {
     "name": "stdout",
     "output_type": "stream",
     "text": [
      "corr_matrix for 2001-08-21 done.\ncorr_matrix for 2001-08-20 done.\ncorr_matrix for 2001-08-17 done.\ncorr_matrix for 2001-08-16 done.\ncorr_matrix for 2001-08-15 done.\ncorr_matrix for 2001-08-14 done.\ncorr_matrix for 2001-08-13 done.\ncorr_matrix for 2001-08-10 done.\ncorr_matrix for 2001-08-09 done.\ncorr_matrix for 2001-08-08 done.\n"
     ]
    },
    {
     "name": "stdout",
     "output_type": "stream",
     "text": [
      "corr_matrix for 2001-08-07 done.\ncorr_matrix for 2001-08-06 done.\ncorr_matrix for 2001-08-03 done.\ncorr_matrix for 2001-08-02 done.\ncorr_matrix for 2001-08-01 done.\ncorr_matrix for 2001-07-31 done.\ncorr_matrix for 2001-07-30 done.\ncorr_matrix for 2001-07-27 done.\ncorr_matrix for 2001-07-26 done.\ncorr_matrix for 2001-07-25 done.\ncorr_matrix for 2001-07-24 done.\n"
     ]
    },
    {
     "name": "stdout",
     "output_type": "stream",
     "text": [
      "corr_matrix for 2001-07-23 done.\ncorr_matrix for 2001-07-20 done.\ncorr_matrix for 2001-07-19 done.\ncorr_matrix for 2001-07-18 done.\ncorr_matrix for 2001-07-17 done.\ncorr_matrix for 2001-07-16 done.\ncorr_matrix for 2001-07-13 done.\ncorr_matrix for 2001-07-12 done.\ncorr_matrix for 2001-07-11 done.\ncorr_matrix for 2001-07-10 done.\ncorr_matrix for 2001-07-09 done."
     ]
    },
    {
     "name": "stdout",
     "output_type": "stream",
     "text": [
      "\ncorr_matrix for 2001-07-06 done.\ncorr_matrix for 2001-07-05 done.\ncorr_matrix for 2001-07-03 done.\ncorr_matrix for 2001-07-02 done.\ncorr_matrix for 2001-06-29 done.\ncorr_matrix for 2001-06-28 done.\ncorr_matrix for 2001-06-27 done.\ncorr_matrix for 2001-06-26 done.\ncorr_matrix for 2001-06-25 done."
     ]
    },
    {
     "name": "stdout",
     "output_type": "stream",
     "text": [
      "\ncorr_matrix for 2001-06-22 done.\ncorr_matrix for 2001-06-21 done.\ncorr_matrix for 2001-06-20 done.\ncorr_matrix for 2001-06-19 done.\ncorr_matrix for 2001-06-18 done.\ncorr_matrix for 2001-06-15 done.\ncorr_matrix for 2001-06-14 done.\ncorr_matrix for 2001-06-13 done.\ncorr_matrix for 2001-06-12 done.\ncorr_matrix for 2001-06-11 done.\ncorr_matrix for 2001-06-08 done."
     ]
    },
    {
     "name": "stdout",
     "output_type": "stream",
     "text": [
      "\ncorr_matrix for 2001-06-07 done.\ncorr_matrix for 2001-06-06 done.\ncorr_matrix for 2001-06-05 done.\ncorr_matrix for 2001-06-04 done.\ncorr_matrix for 2001-06-01 done.\ncorr_matrix for 2001-05-31 done.\ncorr_matrix for 2001-05-30 done.\ncorr_matrix for 2001-05-29 done.\ncorr_matrix for 2001-05-25 done.\ncorr_matrix for 2001-05-24 done.\n"
     ]
    },
    {
     "name": "stdout",
     "output_type": "stream",
     "text": [
      "corr_matrix for 2001-05-23 done.\ncorr_matrix for 2001-05-22 done.\ncorr_matrix for 2001-05-21 done.\ncorr_matrix for 2001-05-18 done.\ncorr_matrix for 2001-05-17 done.\ncorr_matrix for 2001-05-16 done.\ncorr_matrix for 2001-05-15 done.\ncorr_matrix for 2001-05-14 done.\ncorr_matrix for 2001-05-11 done.\n"
     ]
    },
    {
     "name": "stdout",
     "output_type": "stream",
     "text": [
      "corr_matrix for 2001-05-10 done.\ncorr_matrix for 2001-05-09 done.\ncorr_matrix for 2001-05-08 done.\ncorr_matrix for 2001-05-07 done.\ncorr_matrix for 2001-05-04 done.\ncorr_matrix for 2001-05-03 done.\ncorr_matrix for 2001-05-02 done.\ncorr_matrix for 2001-05-01 done.\ncorr_matrix for 2001-04-30 done.\ncorr_matrix for 2001-04-27 done.\n"
     ]
    },
    {
     "name": "stdout",
     "output_type": "stream",
     "text": [
      "corr_matrix for 2001-04-26 done.\ncorr_matrix for 2001-04-25 done.\ncorr_matrix for 2001-04-24 done.\ncorr_matrix for 2001-04-23 done.\ncorr_matrix for 2001-04-20 done.\ncorr_matrix for 2001-04-19 done.\ncorr_matrix for 2001-04-18 done.\ncorr_matrix for 2001-04-17 done.\ncorr_matrix for 2001-04-16 done.\ncorr_matrix for 2001-04-12 done.\n"
     ]
    },
    {
     "name": "stdout",
     "output_type": "stream",
     "text": [
      "corr_matrix for 2001-04-11 done.\ncorr_matrix for 2001-04-10 done.\ncorr_matrix for 2001-04-09 done.\ncorr_matrix for 2001-04-06 done.\ncorr_matrix for 2001-04-05 done.\ncorr_matrix for 2001-04-04 done.\ncorr_matrix for 2001-04-03 done.\ncorr_matrix for 2001-04-02 done.\ncorr_matrix for 2001-03-30 done.\n"
     ]
    },
    {
     "name": "stdout",
     "output_type": "stream",
     "text": [
      "corr_matrix for 2001-03-29 done.\ncorr_matrix for 2001-03-28 done.\ncorr_matrix for 2001-03-27 done.\ncorr_matrix for 2001-03-26 done.\ncorr_matrix for 2001-03-23 done.\ncorr_matrix for 2001-03-22 done.\ncorr_matrix for 2001-03-21 done.\ncorr_matrix for 2001-03-20 done.\ncorr_matrix for 2001-03-19 done.\ncorr_matrix for 2001-03-16 done.\n"
     ]
    },
    {
     "name": "stdout",
     "output_type": "stream",
     "text": [
      "corr_matrix for 2001-03-15 done.\ncorr_matrix for 2001-03-14 done.\ncorr_matrix for 2001-03-13 done.\ncorr_matrix for 2001-03-12 done.\ncorr_matrix for 2001-03-09 done.\ncorr_matrix for 2001-03-08 done.\ncorr_matrix for 2001-03-07 done.\ncorr_matrix for 2001-03-06 done.\ncorr_matrix for 2001-03-05 done.\n"
     ]
    },
    {
     "name": "stdout",
     "output_type": "stream",
     "text": [
      "corr_matrix for 2001-03-02 done.\ncorr_matrix for 2001-03-01 done.\ncorr_matrix for 2001-02-28 done.\ncorr_matrix for 2001-02-27 done.\ncorr_matrix for 2001-02-26 done.\ncorr_matrix for 2001-02-23 done.\ncorr_matrix for 2001-02-22 done.\ncorr_matrix for 2001-02-21 done.\ncorr_matrix for 2001-02-20 done.\ncorr_matrix for 2001-02-16 done.\ncorr_matrix for 2001-02-15 done."
     ]
    },
    {
     "name": "stdout",
     "output_type": "stream",
     "text": [
      "\ncorr_matrix for 2001-02-14 done.\ncorr_matrix for 2001-02-13 done.\ncorr_matrix for 2001-02-12 done.\ncorr_matrix for 2001-02-09 done.\ncorr_matrix for 2001-02-08 done.\ncorr_matrix for 2001-02-07 done.\ncorr_matrix for 2001-02-06 done.\ncorr_matrix for 2001-02-05 done.\ncorr_matrix for 2001-02-02 done.\n"
     ]
    },
    {
     "name": "stdout",
     "output_type": "stream",
     "text": [
      "corr_matrix for 2001-02-01 done.\ncorr_matrix for 2001-01-31 done.\ncorr_matrix for 2001-01-30 done.\ncorr_matrix for 2001-01-29 done.\ncorr_matrix for 2001-01-26 done.\ncorr_matrix for 2001-01-25 done.\ncorr_matrix for 2001-01-24 done.\ncorr_matrix for 2001-01-23 done.\ncorr_matrix for 2001-01-22 done.\n"
     ]
    },
    {
     "name": "stdout",
     "output_type": "stream",
     "text": [
      "corr_matrix for 2001-01-19 done.\ncorr_matrix for 2001-01-18 done.\ncorr_matrix for 2001-01-17 done.\ncorr_matrix for 2001-01-16 done.\ncorr_matrix for 2001-01-12 done.\ncorr_matrix for 2001-01-11 done.\ncorr_matrix for 2001-01-10 done.\ncorr_matrix for 2001-01-09 done.\ncorr_matrix for 2001-01-08 done.\ncorr_matrix for 2001-01-05 done.\ncorr_matrix for 2001-01-04 done.\n"
     ]
    },
    {
     "name": "stdout",
     "output_type": "stream",
     "text": [
      "corr_matrix for 2001-01-03 done.\ncorr_matrix for 2001-01-02 done.\ncorr_matrix for 2000-12-29 done.\ncorr_matrix for 2000-12-28 done.\ncorr_matrix for 2000-12-27 done.\ncorr_matrix for 2000-12-26 done.\ncorr_matrix for 2000-12-22 done.\ncorr_matrix for 2000-12-21 done.\ncorr_matrix for 2000-12-20 done.\ncorr_matrix for 2000-12-19 done.\ncorr_matrix for 2000-12-18 done.\n"
     ]
    },
    {
     "name": "stdout",
     "output_type": "stream",
     "text": [
      "corr_matrix for 2000-12-15 done.\ncorr_matrix for 2000-12-14 done.\ncorr_matrix for 2000-12-13 done.\ncorr_matrix for 2000-12-12 done.\ncorr_matrix for 2000-12-11 done.\ncorr_matrix for 2000-12-08 done.\ncorr_matrix for 2000-12-07 done.\ncorr_matrix for 2000-12-06 done.\ncorr_matrix for 2000-12-05 done.\ncorr_matrix for 2000-12-04 done.\ncorr_matrix for 2000-12-01 done.\n"
     ]
    },
    {
     "name": "stdout",
     "output_type": "stream",
     "text": [
      "corr_matrix for 2000-11-30 done.\ncorr_matrix for 2000-11-29 done.\ncorr_matrix for 2000-11-28 done.\ncorr_matrix for 2000-11-27 done.\ncorr_matrix for 2000-11-24 done.\ncorr_matrix for 2000-11-22 done.\ncorr_matrix for 2000-11-21 done.\ncorr_matrix for 2000-11-20 done.\ncorr_matrix for 2000-11-17 done.\ncorr_matrix for 2000-11-16 done.\ncorr_matrix for 2000-11-15 done.\n"
     ]
    },
    {
     "name": "stdout",
     "output_type": "stream",
     "text": [
      "corr_matrix for 2000-11-14 done.\ncorr_matrix for 2000-11-13 done.\ncorr_matrix for 2000-11-10 done.\ncorr_matrix for 2000-11-09 done.\ncorr_matrix for 2000-11-08 done.\ncorr_matrix for 2000-11-07 done.\ncorr_matrix for 2000-11-06 done.\ncorr_matrix for 2000-11-03 done.\ncorr_matrix for 2000-11-02 done.\ncorr_matrix for 2000-11-01 done.\n"
     ]
    },
    {
     "name": "stdout",
     "output_type": "stream",
     "text": [
      "corr_matrix for 2000-10-31 done.\ncorr_matrix for 2000-10-30 done.\ncorr_matrix for 2000-10-27 done.\ncorr_matrix for 2000-10-26 done.\ncorr_matrix for 2000-10-25 done.\ncorr_matrix for 2000-10-24 done.\ncorr_matrix for 2000-10-23 done.\ncorr_matrix for 2000-10-20 done.\ncorr_matrix for 2000-10-19 done.\ncorr_matrix for 2000-10-18 done.\ncorr_matrix for 2000-10-17 done.\n"
     ]
    },
    {
     "name": "stdout",
     "output_type": "stream",
     "text": [
      "corr_matrix for 2000-10-16 done.\ncorr_matrix for 2000-10-13 done.\ncorr_matrix for 2000-10-12 done.\ncorr_matrix for 2000-10-11 done.\ncorr_matrix for 2000-10-10 done.\ncorr_matrix for 2000-10-09 done.\ncorr_matrix for 2000-10-06 done.\ncorr_matrix for 2000-10-05 done.\ncorr_matrix for 2000-10-04 done.\ncorr_matrix for 2000-10-03 done.\ncorr_matrix for 2000-10-02 done.\n"
     ]
    },
    {
     "name": "stdout",
     "output_type": "stream",
     "text": [
      "corr_matrix for 2000-09-29 done.\ncorr_matrix for 2000-09-28 done.\ncorr_matrix for 2000-09-27 done.\ncorr_matrix for 2000-09-26 done.\ncorr_matrix for 2000-09-25 done.\ncorr_matrix for 2000-09-22 done.\ncorr_matrix for 2000-09-21 done.\ncorr_matrix for 2000-09-20 done.\ncorr_matrix for 2000-09-19 done.\ncorr_matrix for 2000-09-18 done.\ncorr_matrix for 2000-09-15 done.\n"
     ]
    },
    {
     "name": "stdout",
     "output_type": "stream",
     "text": [
      "corr_matrix for 2000-09-14 done.\ncorr_matrix for 2000-09-13 done.\ncorr_matrix for 2000-09-12 done.\ncorr_matrix for 2000-09-11 done.\ncorr_matrix for 2000-09-08 done.\ncorr_matrix for 2000-09-07 done.\ncorr_matrix for 2000-09-06 done.\ncorr_matrix for 2000-09-05 done.\ncorr_matrix for 2000-09-01 done.\ncorr_matrix for 2000-08-31 done.\n"
     ]
    },
    {
     "name": "stdout",
     "output_type": "stream",
     "text": [
      "corr_matrix for 2000-08-30 done.\ncorr_matrix for 2000-08-29 done.\ncorr_matrix for 2000-08-28 done.\ncorr_matrix for 2000-08-25 done.\ncorr_matrix for 2000-08-24 done.\ncorr_matrix for 2000-08-23 done.\ncorr_matrix for 2000-08-22 done.\ncorr_matrix for 2000-08-21 done.\ncorr_matrix for 2000-08-18 done.\ncorr_matrix for 2000-08-17 done.\ncorr_matrix for 2000-08-16 done.\n"
     ]
    },
    {
     "name": "stdout",
     "output_type": "stream",
     "text": [
      "corr_matrix for 2000-08-15 done.\ncorr_matrix for 2000-08-14 done.\ncorr_matrix for 2000-08-11 done.\ncorr_matrix for 2000-08-10 done.\ncorr_matrix for 2000-08-09 done.\ncorr_matrix for 2000-08-08 done.\ncorr_matrix for 2000-08-07 done.\ncorr_matrix for 2000-08-04 done.\ncorr_matrix for 2000-08-03 done.\ncorr_matrix for 2000-08-02 done.\n"
     ]
    },
    {
     "name": "stdout",
     "output_type": "stream",
     "text": [
      "corr_matrix for 2000-08-01 done.\ncorr_matrix for 2000-07-31 done.\ncorr_matrix for 2000-07-28 done.\ncorr_matrix for 2000-07-27 done.\ncorr_matrix for 2000-07-26 done.\ncorr_matrix for 2000-07-25 done.\ncorr_matrix for 2000-07-24 done.\ncorr_matrix for 2000-07-21 done.\ncorr_matrix for 2000-07-20 done.\ncorr_matrix for 2000-07-19 done.\ncorr_matrix for 2000-07-18 done.\n"
     ]
    },
    {
     "name": "stdout",
     "output_type": "stream",
     "text": [
      "corr_matrix for 2000-07-17 done.\ncorr_matrix for 2000-07-14 done.\ncorr_matrix for 2000-07-13 done.\ncorr_matrix for 2000-07-12 done.\ncorr_matrix for 2000-07-11 done.\ncorr_matrix for 2000-07-10 done.\ncorr_matrix for 2000-07-07 done.\ncorr_matrix for 2000-07-06 done.\ncorr_matrix for 2000-07-05 done.\ncorr_matrix for 2000-07-03 done.\n"
     ]
    },
    {
     "name": "stdout",
     "output_type": "stream",
     "text": [
      "corr_matrix for 2000-06-30 done.\ncorr_matrix for 2000-06-29 done.\ncorr_matrix for 2000-06-28 done.\ncorr_matrix for 2000-06-27 done.\ncorr_matrix for 2000-06-26 done.\ncorr_matrix for 2000-06-23 done.\ncorr_matrix for 2000-06-22 done.\ncorr_matrix for 2000-06-21 done.\ncorr_matrix for 2000-06-20 done.\ncorr_matrix for 2000-06-19 done.\ncorr_matrix for 2000-06-16 done.\n"
     ]
    },
    {
     "name": "stdout",
     "output_type": "stream",
     "text": [
      "corr_matrix for 2000-06-15 done.\ncorr_matrix for 2000-06-14 done.\ncorr_matrix for 2000-06-13 done.\ncorr_matrix for 2000-06-12 done.\ncorr_matrix for 2000-06-09 done.\ncorr_matrix for 2000-06-08 done.\ncorr_matrix for 2000-06-07 done.\ncorr_matrix for 2000-06-06 done.\ncorr_matrix for 2000-06-05 done.\ncorr_matrix for 2000-06-02 done.\ncorr_matrix for 2000-06-01 done.\ncorr_matrix for 2000-05-31 done.\n"
     ]
    },
    {
     "name": "stdout",
     "output_type": "stream",
     "text": [
      "corr_matrix for 2000-05-30 done.\ncorr_matrix for 2000-05-26 done.\ncorr_matrix for 2000-05-25 done.\ncorr_matrix for 2000-05-24 done.\ncorr_matrix for 2000-05-23 done.\ncorr_matrix for 2000-05-22 done.\ncorr_matrix for 2000-05-19 done.\ncorr_matrix for 2000-05-18 done.\ncorr_matrix for 2000-05-17 done.\ncorr_matrix for 2000-05-16 done.\ncorr_matrix for 2000-05-15 done.\n"
     ]
    },
    {
     "name": "stdout",
     "output_type": "stream",
     "text": [
      "corr_matrix for 2000-05-12 done.\ncorr_matrix for 2000-05-11 done.\ncorr_matrix for 2000-05-10 done.\ncorr_matrix for 2000-05-09 done.\ncorr_matrix for 2000-05-08 done.\ncorr_matrix for 2000-05-05 done.\ncorr_matrix for 2000-05-04 done.\ncorr_matrix for 2000-05-03 done.\ncorr_matrix for 2000-05-02 done.\ncorr_matrix for 2000-05-01 done.\ncorr_matrix for 2000-04-28 done.\n"
     ]
    },
    {
     "name": "stdout",
     "output_type": "stream",
     "text": [
      "corr_matrix for 2000-04-27 done.\ncorr_matrix for 2000-04-26 done.\ncorr_matrix for 2000-04-25 done.\ncorr_matrix for 2000-04-24 done.\ncorr_matrix for 2000-04-20 done.\ncorr_matrix for 2000-04-19 done.\ncorr_matrix for 2000-04-18 done.\ncorr_matrix for 2000-04-17 done.\ncorr_matrix for 2000-04-14 done.\ncorr_matrix for 2000-04-13 done.\ncorr_matrix for 2000-04-12 done.\n"
     ]
    },
    {
     "name": "stdout",
     "output_type": "stream",
     "text": [
      "corr_matrix for 2000-04-11 done.\ncorr_matrix for 2000-04-10 done.\ncorr_matrix for 2000-04-07 done.\ncorr_matrix for 2000-04-06 done.\ncorr_matrix for 2000-04-05 done.\ncorr_matrix for 2000-04-04 done.\ncorr_matrix for 2000-04-03 done.\ncorr_matrix for 2000-03-31 done.\ncorr_matrix for 2000-03-30 done.\ncorr_matrix for 2000-03-29 done.\n"
     ]
    },
    {
     "name": "stdout",
     "output_type": "stream",
     "text": [
      "corr_matrix for 2000-03-28 done.\ncorr_matrix for 2000-03-27 done.\ncorr_matrix for 2000-03-24 done.\ncorr_matrix for 2000-03-23 done.\ncorr_matrix for 2000-03-22 done.\ncorr_matrix for 2000-03-21 done.\ncorr_matrix for 2000-03-20 done.\ncorr_matrix for 2000-03-17 done.\ncorr_matrix for 2000-03-16 done.\ncorr_matrix for 2000-03-15 done.\n"
     ]
    },
    {
     "name": "stdout",
     "output_type": "stream",
     "text": [
      "corr_matrix for 2000-03-14 done.\ncorr_matrix for 2000-03-13 done.\ncorr_matrix for 2000-03-10 done.\ncorr_matrix for 2000-03-09 done.\ncorr_matrix for 2000-03-08 done.\ncorr_matrix for 2000-03-07 done.\ncorr_matrix for 2000-03-06 done.\ncorr_matrix for 2000-03-03 done.\ncorr_matrix for 2000-03-02 done.\ncorr_matrix for 2000-03-01 done.\ncorr_matrix for 2000-02-29 done.\n"
     ]
    },
    {
     "name": "stdout",
     "output_type": "stream",
     "text": [
      "corr_matrix for 2000-02-28 done.\ncorr_matrix for 2000-02-25 done.\ncorr_matrix for 2000-02-24 done.\ncorr_matrix for 2000-02-23 done.\ncorr_matrix for 2000-02-22 done.\ncorr_matrix for 2000-02-18 done.\ncorr_matrix for 2000-02-17 done.\ncorr_matrix for 2000-02-16 done.\ncorr_matrix for 2000-02-15 done.\ncorr_matrix for 2000-02-14 done.\ncorr_matrix for 2000-02-11 done.\n"
     ]
    },
    {
     "name": "stdout",
     "output_type": "stream",
     "text": [
      "corr_matrix for 2000-02-10 done.\ncorr_matrix for 2000-02-09 done.\ncorr_matrix for 2000-02-08 done.\ncorr_matrix for 2000-02-07 done.\ncorr_matrix for 2000-02-04 done.\ncorr_matrix for 2000-02-03 done.\ncorr_matrix for 2000-02-02 done.\ncorr_matrix for 2000-02-01 done.\ncorr_matrix for 2000-01-31 done.\ncorr_matrix for 2000-01-28 done.\ncorr_matrix for 2000-01-27 done.\n"
     ]
    },
    {
     "name": "stdout",
     "output_type": "stream",
     "text": [
      "corr_matrix for 2000-01-26 done.\ncorr_matrix for 2000-01-25 done.\ncorr_matrix for 2000-01-24 done.\ncorr_matrix for 2000-01-21 done.\ncorr_matrix for 2000-01-20 done.\ncorr_matrix for 2000-01-19 done.\ncorr_matrix for 2000-01-18 done.\ncorr_matrix for 2000-01-14 done.\ncorr_matrix for 2000-01-13 done.\ncorr_matrix for 2000-01-12 done.\ncorr_matrix for 2000-01-11 done.\n"
     ]
    },
    {
     "name": "stdout",
     "output_type": "stream",
     "text": [
      "corr_matrix for 2000-01-10 done.\ncorr_matrix for 2000-01-07 done.\ncorr_matrix for 2000-01-06 done.\ncorr_matrix for 2000-01-05 done.\ncorr_matrix for 2000-01-04 done.\ncorr_matrix for 2000-01-03 done.\ncorr_matrix for 1999-12-31 done.\ncorr_matrix for 1999-12-30 done.\ncorr_matrix for 1999-12-29 done.\ncorr_matrix for 1999-12-28 done.\n"
     ]
    },
    {
     "name": "stdout",
     "output_type": "stream",
     "text": [
      "corr_matrix for 1999-12-27 done.\ncorr_matrix for 1999-12-23 done.\ncorr_matrix for 1999-12-22 done.\ncorr_matrix for 1999-12-21 done.\ncorr_matrix for 1999-12-20 done.\ncorr_matrix for 1999-12-17 done.\ncorr_matrix for 1999-12-16 done.\ncorr_matrix for 1999-12-15 done.\ncorr_matrix for 1999-12-14 done.\ncorr_matrix for 1999-12-13 done.\ncorr_matrix for 1999-12-10 done.\n"
     ]
    },
    {
     "name": "stdout",
     "output_type": "stream",
     "text": [
      "corr_matrix for 1999-12-09 done.\ncorr_matrix for 1999-12-08 done.\ncorr_matrix for 1999-12-07 done.\ncorr_matrix for 1999-12-06 done.\ncorr_matrix for 1999-12-03 done.\ncorr_matrix for 1999-12-02 done.\ncorr_matrix for 1999-12-01 done.\ncorr_matrix for 1999-11-30 done.\ncorr_matrix for 1999-11-29 done.\ncorr_matrix for 1999-11-26 done.\ncorr_matrix for 1999-11-24 done.\n"
     ]
    },
    {
     "name": "stdout",
     "output_type": "stream",
     "text": [
      "corr_matrix for 1999-11-23 done.\ncorr_matrix for 1999-11-22 done.\ncorr_matrix for 1999-11-19 done.\ncorr_matrix for 1999-11-18 done.\ncorr_matrix for 1999-11-17 done.\ncorr_matrix for 1999-11-16 done.\ncorr_matrix for 1999-11-15 done.\ncorr_matrix for 1999-11-12 done.\ncorr_matrix for 1999-11-11 done.\ncorr_matrix for 1999-11-10 done.\ncorr_matrix for 1999-11-09 done.\n"
     ]
    },
    {
     "name": "stdout",
     "output_type": "stream",
     "text": [
      "corr_matrix for 1999-11-08 done.\ncorr_matrix for 1999-11-05 done.\ncorr_matrix for 1999-11-04 done.\ncorr_matrix for 1999-11-03 done.\ncorr_matrix for 1999-11-02 done.\ncorr_matrix for 1999-11-01 done.\ncorr_matrix for 1999-10-29 done.\ncorr_matrix for 1999-10-28 done.\ncorr_matrix for 1999-10-27 done.\ncorr_matrix for 1999-10-26 done.\ncorr_matrix for 1999-10-25 done.\n"
     ]
    },
    {
     "name": "stdout",
     "output_type": "stream",
     "text": [
      "corr_matrix for 1999-10-22 done.\ncorr_matrix for 1999-10-21 done.\ncorr_matrix for 1999-10-20 done.\ncorr_matrix for 1999-10-19 done.\ncorr_matrix for 1999-10-18 done.\ncorr_matrix for 1999-10-15 done.\ncorr_matrix for 1999-10-14 done.\ncorr_matrix for 1999-10-13 done.\ncorr_matrix for 1999-10-12 done.\ncorr_matrix for 1999-10-11 done.\ncorr_matrix for 1999-10-08 done.\n"
     ]
    },
    {
     "name": "stdout",
     "output_type": "stream",
     "text": [
      "corr_matrix for 1999-10-07 done.\ncorr_matrix for 1999-10-06 done.\ncorr_matrix for 1999-10-05 done.\ncorr_matrix for 1999-10-04 done.\ncorr_matrix for 1999-10-01 done.\ncorr_matrix for 1999-09-30 done.\ncorr_matrix for 1999-09-29 done.\ncorr_matrix for 1999-09-28 done.\ncorr_matrix for 1999-09-27 done.\ncorr_matrix for 1999-09-24 done.\ncorr_matrix for 1999-09-23 done.\n"
     ]
    },
    {
     "name": "stdout",
     "output_type": "stream",
     "text": [
      "corr_matrix for 1999-09-22 done.\ncorr_matrix for 1999-09-21 done.\ncorr_matrix for 1999-09-20 done.\ncorr_matrix for 1999-09-17 done.\ncorr_matrix for 1999-09-16 done.\ncorr_matrix for 1999-09-15 done.\ncorr_matrix for 1999-09-14 done.\ncorr_matrix for 1999-09-13 done.\ncorr_matrix for 1999-09-10 done.\ncorr_matrix for 1999-09-09 done.\n"
     ]
    },
    {
     "name": "stdout",
     "output_type": "stream",
     "text": [
      "corr_matrix for 1999-09-08 done.\ncorr_matrix for 1999-09-07 done.\ncorr_matrix for 1999-09-03 done.\n"
     ]
    },
    {
     "name": "stdout",
     "output_type": "stream",
     "text": [
      "corr_matrix for 1999-09-02 done.\ncorr_matrix for 1999-09-01 done.\ncorr_matrix for 1999-08-31 done.\ncorr_matrix for 1999-08-30 done.\ncorr_matrix for 1999-08-27 done.\ncorr_matrix for 1999-08-26 done.\ncorr_matrix for 1999-08-25 done.\ncorr_matrix for 1999-08-24 done.\ncorr_matrix for 1999-08-23 done.\ncorr_matrix for 1999-08-20 done.\n"
     ]
    },
    {
     "name": "stdout",
     "output_type": "stream",
     "text": [
      "corr_matrix for 1999-08-19 done.\ncorr_matrix for 1999-08-18 done.\ncorr_matrix for 1999-08-17 done.\ncorr_matrix for 1999-08-16 done.\ncorr_matrix for 1999-08-13 done.\ncorr_matrix for 1999-08-12 done.\ncorr_matrix for 1999-08-11 done.\ncorr_matrix for 1999-08-10 done.\ncorr_matrix for 1999-08-09 done.\ncorr_matrix for 1999-08-06 done.\ncorr_matrix for 1999-08-05 done.\n"
     ]
    },
    {
     "name": "stdout",
     "output_type": "stream",
     "text": [
      "corr_matrix for 1999-08-04 done.\ncorr_matrix for 1999-08-03 done.\ncorr_matrix for 1999-08-02 done.\ncorr_matrix for 1999-07-30 done.\ncorr_matrix for 1999-07-29 done.\ncorr_matrix for 1999-07-28 done.\ncorr_matrix for 1999-07-27 done.\ncorr_matrix for 1999-07-26 done.\ncorr_matrix for 1999-07-23 done.\ncorr_matrix for 1999-07-22 done.\n"
     ]
    },
    {
     "name": "stdout",
     "output_type": "stream",
     "text": [
      "corr_matrix for 1999-07-21 done.\ncorr_matrix for 1999-07-20 done.\ncorr_matrix for 1999-07-19 done.\ncorr_matrix for 1999-07-16 done.\ncorr_matrix for 1999-07-15 done.\ncorr_matrix for 1999-07-14 done.\ncorr_matrix for 1999-07-13 done.\ncorr_matrix for 1999-07-12 done.\ncorr_matrix for 1999-07-09 done.\ncorr_matrix for 1999-07-08 done.\n"
     ]
    },
    {
     "name": "stdout",
     "output_type": "stream",
     "text": [
      "corr_matrix for 1999-07-07 done.\ncorr_matrix for 1999-07-06 done.\ncorr_matrix for 1999-07-02 done.\ncorr_matrix for 1999-07-01 done.\ncorr_matrix for 1999-06-30 done.\ncorr_matrix for 1999-06-29 done.\ncorr_matrix for 1999-06-28 done.\ncorr_matrix for 1999-06-25 done.\ncorr_matrix for 1999-06-24 done.\n"
     ]
    },
    {
     "name": "stdout",
     "output_type": "stream",
     "text": [
      "corr_matrix for 1999-06-23 done.\ncorr_matrix for 1999-06-22 done.\ncorr_matrix for 1999-06-21 done.\ncorr_matrix for 1999-06-18 done.\ncorr_matrix for 1999-06-17 done.\ncorr_matrix for 1999-06-16 done.\ncorr_matrix for 1999-06-15 done.\ncorr_matrix for 1999-06-14 done.\ncorr_matrix for 1999-06-11 done.\ncorr_matrix for 1999-06-10 done.\n"
     ]
    },
    {
     "name": "stdout",
     "output_type": "stream",
     "text": [
      "corr_matrix for 1999-06-09 done.\ncorr_matrix for 1999-06-08 done.\ncorr_matrix for 1999-06-07 done.\ncorr_matrix for 1999-06-04 done.\ncorr_matrix for 1999-06-03 done.\ncorr_matrix for 1999-06-02 done.\ncorr_matrix for 1999-06-01 done.\ncorr_matrix for 1999-05-28 done.\ncorr_matrix for 1999-05-27 done.\ncorr_matrix for 1999-05-26 done.\n"
     ]
    },
    {
     "name": "stdout",
     "output_type": "stream",
     "text": [
      "corr_matrix for 1999-05-25 done.\ncorr_matrix for 1999-05-24 done.\ncorr_matrix for 1999-05-21 done.\ncorr_matrix for 1999-05-20 done.\ncorr_matrix for 1999-05-19 done.\ncorr_matrix for 1999-05-18 done.\ncorr_matrix for 1999-05-17 done.\ncorr_matrix for 1999-05-14 done.\ncorr_matrix for 1999-05-13 done.\ncorr_matrix for 1999-05-12 done.\n"
     ]
    },
    {
     "name": "stdout",
     "output_type": "stream",
     "text": [
      "corr_matrix for 1999-05-11 done.\ncorr_matrix for 1999-05-10 done.\ncorr_matrix for 1999-05-07 done.\ncorr_matrix for 1999-05-06 done.\ncorr_matrix for 1999-05-05 done.\ncorr_matrix for 1999-05-04 done.\ncorr_matrix for 1999-05-03 done.\ncorr_matrix for 1999-04-30 done.\ncorr_matrix for 1999-04-29 done.\ncorr_matrix for 1999-04-28 done.\ncorr_matrix for 1999-04-27 done.\n"
     ]
    },
    {
     "name": "stdout",
     "output_type": "stream",
     "text": [
      "corr_matrix for 1999-04-26 done.\ncorr_matrix for 1999-04-23 done.\ncorr_matrix for 1999-04-22 done.\ncorr_matrix for 1999-04-21 done.\ncorr_matrix for 1999-04-20 done.\ncorr_matrix for 1999-04-19 done.\ncorr_matrix for 1999-04-16 done.\ncorr_matrix for 1999-04-15 done.\ncorr_matrix for 1999-04-14 done.\ncorr_matrix for 1999-04-13 done.\n"
     ]
    },
    {
     "name": "stdout",
     "output_type": "stream",
     "text": [
      "corr_matrix for 1999-04-12 done.\ncorr_matrix for 1999-04-09 done.\ncorr_matrix for 1999-04-08 done.\ncorr_matrix for 1999-04-07 done.\ncorr_matrix for 1999-04-06 done.\ncorr_matrix for 1999-04-05 done.\ncorr_matrix for 1999-04-01 done.\ncorr_matrix for 1999-03-31 done.\ncorr_matrix for 1999-03-30 done.\ncorr_matrix for 1999-03-29 done.\n"
     ]
    },
    {
     "name": "stdout",
     "output_type": "stream",
     "text": [
      "corr_matrix for 1999-03-26 done.\ncorr_matrix for 1999-03-25 done.\ncorr_matrix for 1999-03-24 done.\ncorr_matrix for 1999-03-23 done.\ncorr_matrix for 1999-03-22 done.\ncorr_matrix for 1999-03-19 done.\ncorr_matrix for 1999-03-18 done.\ncorr_matrix for 1999-03-17 done.\ncorr_matrix for 1999-03-16 done.\ncorr_matrix for 1999-03-15 done.\n"
     ]
    },
    {
     "name": "stdout",
     "output_type": "stream",
     "text": [
      "corr_matrix for 1999-03-12 done.\ncorr_matrix for 1999-03-11 done.\ncorr_matrix for 1999-03-10 done.\ncorr_matrix for 1999-03-09 done.\ncorr_matrix for 1999-03-08 done.\ncorr_matrix for 1999-03-05 done.\ncorr_matrix for 1999-03-04 done.\ncorr_matrix for 1999-03-03 done.\ncorr_matrix for 1999-03-02 done.\ncorr_matrix for 1999-03-01 done.\ncorr_matrix for 1999-02-26 done.\n"
     ]
    },
    {
     "name": "stdout",
     "output_type": "stream",
     "text": [
      "corr_matrix for 1999-02-25 done.\ncorr_matrix for 1999-02-24 done.\ncorr_matrix for 1999-02-23 done.\ncorr_matrix for 1999-02-22 done.\ncorr_matrix for 1999-02-19 done.\ncorr_matrix for 1999-02-18 done.\ncorr_matrix for 1999-02-17 done.\ncorr_matrix for 1999-02-16 done.\ncorr_matrix for 1999-02-12 done.\ncorr_matrix for 1999-02-11 done.\ncorr_matrix for 1999-02-10 done.\n"
     ]
    },
    {
     "name": "stdout",
     "output_type": "stream",
     "text": [
      "corr_matrix for 1999-02-09 done.\ncorr_matrix for 1999-02-08 done.\ncorr_matrix for 1999-02-05 done.\ncorr_matrix for 1999-02-04 done.\ncorr_matrix for 1999-02-03 done.\ncorr_matrix for 1999-02-02 done.\ncorr_matrix for 1999-02-01 done.\ncorr_matrix for 1999-01-29 done.\ncorr_matrix for 1999-01-28 done.\ncorr_matrix for 1999-01-27 done.\ncorr_matrix for 1999-01-26 done.\n"
     ]
    },
    {
     "name": "stdout",
     "output_type": "stream",
     "text": [
      "corr_matrix for 1999-01-25 done.\ncorr_matrix for 1999-01-22 done.\ncorr_matrix for 1999-01-21 done.\ncorr_matrix for 1999-01-20 done.\ncorr_matrix for 1999-01-19 done.\ncorr_matrix for 1999-01-15 done.\ncorr_matrix for 1999-01-14 done.\ncorr_matrix for 1999-01-13 done.\ncorr_matrix for 1999-01-12 done.\ncorr_matrix for 1999-01-11 done.\ncorr_matrix for 1999-01-08 done.\n"
     ]
    },
    {
     "name": "stdout",
     "output_type": "stream",
     "text": [
      "corr_matrix for 1999-01-07 done.\ncorr_matrix for 1999-01-06 done.\ncorr_matrix for 1999-01-05 done.\ncorr_matrix for 1999-01-04 done.\ncorr_matrix for 1998-12-31 done.\ncorr_matrix for 1998-12-30 done.\ncorr_matrix for 1998-12-29 done.\ncorr_matrix for 1998-12-28 done.\ncorr_matrix for 1998-12-24 done.\ncorr_matrix for 1998-12-23 done.\ncorr_matrix for 1998-12-22 done.\ncorr_matrix for 1998-12-21 done."
     ]
    },
    {
     "name": "stdout",
     "output_type": "stream",
     "text": [
      "\ncorr_matrix for 1998-12-18 done.\ncorr_matrix for 1998-12-17 done.\ncorr_matrix for 1998-12-16 done.\ncorr_matrix for 1998-12-15 done.\ncorr_matrix for 1998-12-14 done.\ncorr_matrix for 1998-12-11 done.\ncorr_matrix for 1998-12-10 done.\ncorr_matrix for 1998-12-09 done.\ncorr_matrix for 1998-12-08 done.\ncorr_matrix for 1998-12-07 done.\ncorr_matrix for 1998-12-04 done.\ncorr_matrix for 1998-12-03 done.\n"
     ]
    },
    {
     "name": "stdout",
     "output_type": "stream",
     "text": [
      "corr_matrix for 1998-12-02 done.\ncorr_matrix for 1998-12-01 done.\ncorr_matrix for 1998-11-30 done.\ncorr_matrix for 1998-11-27 done.\ncorr_matrix for 1998-11-25 done.\ncorr_matrix for 1998-11-24 done.\ncorr_matrix for 1998-11-23 done.\ncorr_matrix for 1998-11-20 done.\ncorr_matrix for 1998-11-19 done.\ncorr_matrix for 1998-11-18 done.\ncorr_matrix for 1998-11-17 done.\n"
     ]
    },
    {
     "name": "stdout",
     "output_type": "stream",
     "text": [
      "corr_matrix for 1998-11-16 done.\ncorr_matrix for 1998-11-13 done.\ncorr_matrix for 1998-11-12 done.\ncorr_matrix for 1998-11-11 done.\ncorr_matrix for 1998-11-10 done.\ncorr_matrix for 1998-11-09 done.\ncorr_matrix for 1998-11-06 done.\ncorr_matrix for 1998-11-05 done.\ncorr_matrix for 1998-11-04 done.\ncorr_matrix for 1998-11-03 done.\ncorr_matrix for 1998-11-02 done.\n"
     ]
    },
    {
     "name": "stdout",
     "output_type": "stream",
     "text": [
      "corr_matrix for 1998-10-30 done.\ncorr_matrix for 1998-10-29 done.\ncorr_matrix for 1998-10-28 done.\ncorr_matrix for 1998-10-27 done.\ncorr_matrix for 1998-10-26 done.\ncorr_matrix for 1998-10-23 done.\ncorr_matrix for 1998-10-22 done.\ncorr_matrix for 1998-10-21 done.\ncorr_matrix for 1998-10-20 done.\ncorr_matrix for 1998-10-19 done.\ncorr_matrix for 1998-10-16 done.\n"
     ]
    },
    {
     "name": "stdout",
     "output_type": "stream",
     "text": [
      "corr_matrix for 1998-10-15 done.\ncorr_matrix for 1998-10-14 done.\ncorr_matrix for 1998-10-13 done.\ncorr_matrix for 1998-10-12 done.\ncorr_matrix for 1998-10-09 done.\ncorr_matrix for 1998-10-08 done.\ncorr_matrix for 1998-10-07 done.\ncorr_matrix for 1998-10-06 done.\ncorr_matrix for 1998-10-05 done.\ncorr_matrix for 1998-10-02 done.\ncorr_matrix for 1998-10-01 done.\n"
     ]
    },
    {
     "name": "stdout",
     "output_type": "stream",
     "text": [
      "corr_matrix for 1998-09-30 done.\ncorr_matrix for 1998-09-29 done.\ncorr_matrix for 1998-09-28 done.\ncorr_matrix for 1998-09-25 done.\ncorr_matrix for 1998-09-24 done.\ncorr_matrix for 1998-09-23 done.\ncorr_matrix for 1998-09-22 done.\ncorr_matrix for 1998-09-21 done.\ncorr_matrix for 1998-09-18 done.\ncorr_matrix for 1998-09-17 done.\ncorr_matrix for 1998-09-16 done.\n"
     ]
    },
    {
     "name": "stdout",
     "output_type": "stream",
     "text": [
      "corr_matrix for 1998-09-15 done.\ncorr_matrix for 1998-09-14 done.\ncorr_matrix for 1998-09-11 done.\ncorr_matrix for 1998-09-10 done.\ncorr_matrix for 1998-09-09 done.\ncorr_matrix for 1998-09-08 done.\ncorr_matrix for 1998-09-04 done.\ncorr_matrix for 1998-09-03 done.\ncorr_matrix for 1998-09-02 done.\ncorr_matrix for 1998-09-01 done.\ncorr_matrix for 1998-08-31 done.\n"
     ]
    },
    {
     "name": "stdout",
     "output_type": "stream",
     "text": [
      "corr_matrix for 1998-08-28 done.\ncorr_matrix for 1998-08-27 done.\ncorr_matrix for 1998-08-26 done.\ncorr_matrix for 1998-08-25 done.\ncorr_matrix for 1998-08-24 done.\ncorr_matrix for 1998-08-21 done.\ncorr_matrix for 1998-08-20 done.\ncorr_matrix for 1998-08-19 done.\ncorr_matrix for 1998-08-18 done.\ncorr_matrix for 1998-08-17 done.\ncorr_matrix for 1998-08-14 done.\n"
     ]
    },
    {
     "name": "stdout",
     "output_type": "stream",
     "text": [
      "corr_matrix for 1998-08-13 done.\ncorr_matrix for 1998-08-12 done.\ncorr_matrix for 1998-08-11 done.\ncorr_matrix for 1998-08-10 done.\ncorr_matrix for 1998-08-07 done.\ncorr_matrix for 1998-08-06 done.\ncorr_matrix for 1998-08-05 done.\ncorr_matrix for 1998-08-04 done.\ncorr_matrix for 1998-08-03 done.\ncorr_matrix for 1998-07-31 done.\ncorr_matrix for 1998-07-30 done.\n"
     ]
    },
    {
     "name": "stdout",
     "output_type": "stream",
     "text": [
      "corr_matrix for 1998-07-29 done.\ncorr_matrix for 1998-07-28 done.\ncorr_matrix for 1998-07-27 done.\ncorr_matrix for 1998-07-24 done.\ncorr_matrix for 1998-07-23 done.\ncorr_matrix for 1998-07-22 done.\ncorr_matrix for 1998-07-21 done.\ncorr_matrix for 1998-07-20 done.\ncorr_matrix for 1998-07-17 done.\ncorr_matrix for 1998-07-16 done.\n"
     ]
    },
    {
     "name": "stdout",
     "output_type": "stream",
     "text": [
      "corr_matrix for 1998-07-15 done.\ncorr_matrix for 1998-07-14 done.\ncorr_matrix for 1998-07-13 done.\ncorr_matrix for 1998-07-10 done.\ncorr_matrix for 1998-07-09 done.\ncorr_matrix for 1998-07-08 done.\ncorr_matrix for 1998-07-07 done.\ncorr_matrix for 1998-07-06 done.\ncorr_matrix for 1998-07-02 done.\ncorr_matrix for 1998-07-01 done.\ncorr_matrix for 1998-06-30 done.\n"
     ]
    },
    {
     "name": "stdout",
     "output_type": "stream",
     "text": [
      "corr_matrix for 1998-06-29 done.\ncorr_matrix for 1998-06-26 done.\ncorr_matrix for 1998-06-25 done.\ncorr_matrix for 1998-06-24 done.\ncorr_matrix for 1998-06-23 done.\ncorr_matrix for 1998-06-22 done.\ncorr_matrix for 1998-06-19 done.\ncorr_matrix for 1998-06-18 done.\ncorr_matrix for 1998-06-17 done.\ncorr_matrix for 1998-06-16 done.\n"
     ]
    },
    {
     "name": "stdout",
     "output_type": "stream",
     "text": [
      "corr_matrix for 1998-06-15 done.\ncorr_matrix for 1998-06-12 done.\ncorr_matrix for 1998-06-11 done.\ncorr_matrix for 1998-06-10 done.\ncorr_matrix for 1998-06-09 done.\ncorr_matrix for 1998-06-08 done.\ncorr_matrix for 1998-06-05 done.\ncorr_matrix for 1998-06-04 done.\ncorr_matrix for 1998-06-03 done.\ncorr_matrix for 1998-06-02 done.\ncorr_matrix for 1998-06-01 done.\n"
     ]
    },
    {
     "name": "stdout",
     "output_type": "stream",
     "text": [
      "corr_matrix for 1998-05-29 done.\ncorr_matrix for 1998-05-28 done.\ncorr_matrix for 1998-05-27 done.\ncorr_matrix for 1998-05-26 done.\ncorr_matrix for 1998-05-22 done.\ncorr_matrix for 1998-05-21 done.\ncorr_matrix for 1998-05-20 done.\ncorr_matrix for 1998-05-19 done.\ncorr_matrix for 1998-05-18 done.\ncorr_matrix for 1998-05-15 done.\n"
     ]
    },
    {
     "name": "stdout",
     "output_type": "stream",
     "text": [
      "corr_matrix for 1998-05-14 done.\ncorr_matrix for 1998-05-13 done.\ncorr_matrix for 1998-05-12 done.\ncorr_matrix for 1998-05-11 done.\ncorr_matrix for 1998-05-08 done.\ncorr_matrix for 1998-05-07 done.\ncorr_matrix for 1998-05-06 done.\ncorr_matrix for 1998-05-05 done.\ncorr_matrix for 1998-05-04 done.\ncorr_matrix for 1998-05-01 done.\ncorr_matrix for 1998-04-30 done.\n"
     ]
    },
    {
     "name": "stdout",
     "output_type": "stream",
     "text": [
      "corr_matrix for 1998-04-29 done.\ncorr_matrix for 1998-04-28 done.\ncorr_matrix for 1998-04-27 done.\ncorr_matrix for 1998-04-24 done.\ncorr_matrix for 1998-04-23 done.\ncorr_matrix for 1998-04-22 done.\ncorr_matrix for 1998-04-21 done.\ncorr_matrix for 1998-04-20 done.\ncorr_matrix for 1998-04-17 done.\ncorr_matrix for 1998-04-16 done.\ncorr_matrix for 1998-04-15 done.\n"
     ]
    },
    {
     "name": "stdout",
     "output_type": "stream",
     "text": [
      "corr_matrix for 1998-04-14 done.\ncorr_matrix for 1998-04-13 done.\ncorr_matrix for 1998-04-09 done.\ncorr_matrix for 1998-04-08 done.\ncorr_matrix for 1998-04-07 done.\ncorr_matrix for 1998-04-06 done.\ncorr_matrix for 1998-04-03 done.\ncorr_matrix for 1998-04-02 done.\ncorr_matrix for 1998-04-01 done.\ncorr_matrix for 1998-03-31 done.\ncorr_matrix for 1998-03-30 done.\n"
     ]
    },
    {
     "name": "stdout",
     "output_type": "stream",
     "text": [
      "corr_matrix for 1998-03-27 done.\ncorr_matrix for 1998-03-26 done.\ncorr_matrix for 1998-03-25 done.\ncorr_matrix for 1998-03-24 done.\ncorr_matrix for 1998-03-23 done.\ncorr_matrix for 1998-03-20 done.\ncorr_matrix for 1998-03-19 done.\ncorr_matrix for 1998-03-18 done.\ncorr_matrix for 1998-03-17 done.\ncorr_matrix for 1998-03-16 done.\ncorr_matrix for 1998-03-13 done.\n"
     ]
    },
    {
     "name": "stdout",
     "output_type": "stream",
     "text": [
      "corr_matrix for 1998-03-12 done.\ncorr_matrix for 1998-03-11 done.\ncorr_matrix for 1998-03-10 done.\ncorr_matrix for 1998-03-09 done.\ncorr_matrix for 1998-03-06 done.\ncorr_matrix for 1998-03-05 done.\ncorr_matrix for 1998-03-04 done.\ncorr_matrix for 1998-03-03 done.\ncorr_matrix for 1998-03-02 done.\ncorr_matrix for 1998-02-27 done.\ncorr_matrix for 1998-02-26 done.\n"
     ]
    },
    {
     "name": "stdout",
     "output_type": "stream",
     "text": [
      "corr_matrix for 1998-02-25 done.\ncorr_matrix for 1998-02-24 done.\ncorr_matrix for 1998-02-23 done.\ncorr_matrix for 1998-02-20 done.\ncorr_matrix for 1998-02-19 done.\ncorr_matrix for 1998-02-18 done.\ncorr_matrix for 1998-02-17 done.\ncorr_matrix for 1998-02-13 done.\ncorr_matrix for 1998-02-12 done.\ncorr_matrix for 1998-02-11 done.\ncorr_matrix for 1998-02-10 done.\n"
     ]
    },
    {
     "name": "stdout",
     "output_type": "stream",
     "text": [
      "corr_matrix for 1998-02-09 done.\ncorr_matrix for 1998-02-06 done.\ncorr_matrix for 1998-02-05 done.\ncorr_matrix for 1998-02-04 done.\ncorr_matrix for 1998-02-03 done.\ncorr_matrix for 1998-02-02 done.\ncorr_matrix for 1998-01-30 done.\ncorr_matrix for 1998-01-29 done.\ncorr_matrix for 1998-01-28 done.\ncorr_matrix for 1998-01-27 done.\ncorr_matrix for 1998-01-26 done.\n"
     ]
    },
    {
     "name": "stdout",
     "output_type": "stream",
     "text": [
      "corr_matrix for 1998-01-23 done.\ncorr_matrix for 1998-01-22 done.\ncorr_matrix for 1998-01-21 done.\ncorr_matrix for 1998-01-20 done.\ncorr_matrix for 1998-01-16 done.\ncorr_matrix for 1998-01-15 done.\ncorr_matrix for 1998-01-14 done.\ncorr_matrix for 1998-01-13 done.\ncorr_matrix for 1998-01-12 done.\ncorr_matrix for 1998-01-09 done.\ncorr_matrix for 1998-01-08 done.\n"
     ]
    },
    {
     "name": "stdout",
     "output_type": "stream",
     "text": [
      "corr_matrix for 1998-01-07 done.\ncorr_matrix for 1998-01-06 done.\ncorr_matrix for 1998-01-05 done.\ncorr_matrix for 1998-01-02 done.\ncorr_matrix for 1997-12-31 done.\n"
     ]
    },
    {
     "name": "stdout",
     "output_type": "stream",
     "text": [
      "corr_matrix for 1997-12-30 done.\ncorr_matrix for 1997-12-29 done.\ncorr_matrix for 1997-12-26 done.\ncorr_matrix for 1997-12-24 done.\ncorr_matrix for 1997-12-23 done.\ncorr_matrix for 1997-12-22 done.\ncorr_matrix for 1997-12-19 done.\ncorr_matrix for 1997-12-18 done.\ncorr_matrix for 1997-12-17 done.\n"
     ]
    },
    {
     "name": "stdout",
     "output_type": "stream",
     "text": [
      "corr_matrix for 1997-12-16 done.\ncorr_matrix for 1997-12-15 done.\ncorr_matrix for 1997-12-12 done.\ncorr_matrix for 1997-12-11 done.\ncorr_matrix for 1997-12-10 done.\ncorr_matrix for 1997-12-09 done.\ncorr_matrix for 1997-12-08 done.\ncorr_matrix for 1997-12-05 done.\ncorr_matrix for 1997-12-04 done.\ncorr_matrix for 1997-12-03 done.\n"
     ]
    },
    {
     "name": "stdout",
     "output_type": "stream",
     "text": [
      "corr_matrix for 1997-12-02 done.\ncorr_matrix for 1997-12-01 done.\ncorr_matrix for 1997-11-28 done.\ncorr_matrix for 1997-11-26 done.\ncorr_matrix for 1997-11-25 done.\ncorr_matrix for 1997-11-24 done.\ncorr_matrix for 1997-11-21 done.\ncorr_matrix for 1997-11-20 done.\ncorr_matrix for 1997-11-19 done.\ncorr_matrix for 1997-11-18 done.\ncorr_matrix for 1997-11-17 done.\n"
     ]
    },
    {
     "name": "stdout",
     "output_type": "stream",
     "text": [
      "corr_matrix for 1997-11-14 done.\ncorr_matrix for 1997-11-13 done.\ncorr_matrix for 1997-11-12 done.\ncorr_matrix for 1997-11-11 done.\ncorr_matrix for 1997-11-10 done.\ncorr_matrix for 1997-11-07 done.\n"
     ]
    },
    {
     "name": "stdout",
     "output_type": "stream",
     "text": [
      "corr_matrix for 1997-11-06 done.\ncorr_matrix for 1997-11-05 done.\n"
     ]
    },
    {
     "name": "stdout",
     "output_type": "stream",
     "text": [
      "corr_matrix for 1997-11-04 done.\ncorr_matrix for 1997-11-03 done.\ncorr_matrix for 1997-10-31 done.\ncorr_matrix for 1997-10-30 done.\n"
     ]
    },
    {
     "name": "stdout",
     "output_type": "stream",
     "text": [
      "corr_matrix for 1997-10-29 done.\ncorr_matrix for 1997-10-28 done.\ncorr_matrix for 1997-10-27 done.\n"
     ]
    },
    {
     "name": "stdout",
     "output_type": "stream",
     "text": [
      "corr_matrix for 1997-10-24 done.\ncorr_matrix for 1997-10-23 done.\ncorr_matrix for 1997-10-22 done.\ncorr_matrix for 1997-10-21 done.\ncorr_matrix for 1997-10-20 done.\n"
     ]
    },
    {
     "name": "stdout",
     "output_type": "stream",
     "text": [
      "corr_matrix for 1997-10-17 done.\ncorr_matrix for 1997-10-16 done.\ncorr_matrix for 1997-10-15 done.\ncorr_matrix for 1997-10-14 done.\ncorr_matrix for 1997-10-13 done.\n"
     ]
    },
    {
     "name": "stdout",
     "output_type": "stream",
     "text": [
      "corr_matrix for 1997-10-10 done.\ncorr_matrix for 1997-10-09 done.\ncorr_matrix for 1997-10-08 done.\ncorr_matrix for 1997-10-07 done.\ncorr_matrix for 1997-10-06 done.\ncorr_matrix for 1997-10-03 done.\ncorr_matrix for 1997-10-02 done.\ncorr_matrix for 1997-10-01 done.\ncorr_matrix for 1997-09-30 done.\n"
     ]
    },
    {
     "name": "stdout",
     "output_type": "stream",
     "text": [
      "corr_matrix for 1997-09-29 done.\ncorr_matrix for 1997-09-26 done.\ncorr_matrix for 1997-09-25 done.\ncorr_matrix for 1997-09-24 done.\ncorr_matrix for 1997-09-23 done.\ncorr_matrix for 1997-09-22 done.\ncorr_matrix for 1997-09-19 done.\ncorr_matrix for 1997-09-18 done.\ncorr_matrix for 1997-09-17 done.\n"
     ]
    },
    {
     "name": "stdout",
     "output_type": "stream",
     "text": [
      "corr_matrix for 1997-09-16 done.\ncorr_matrix for 1997-09-15 done.\ncorr_matrix for 1997-09-12 done.\ncorr_matrix for 1997-09-11 done.\ncorr_matrix for 1997-09-10 done.\ncorr_matrix for 1997-09-09 done.\ncorr_matrix for 1997-09-08 done.\ncorr_matrix for 1997-09-05 done.\ncorr_matrix for 1997-09-04 done.\n"
     ]
    },
    {
     "name": "stdout",
     "output_type": "stream",
     "text": [
      "corr_matrix for 1997-09-03 done.\ncorr_matrix for 1997-09-02 done.\ncorr_matrix for 1997-08-29 done.\ncorr_matrix for 1997-08-28 done.\ncorr_matrix for 1997-08-27 done.\ncorr_matrix for 1997-08-26 done.\ncorr_matrix for 1997-08-25 done.\ncorr_matrix for 1997-08-22 done.\ncorr_matrix for 1997-08-21 done.\n"
     ]
    },
    {
     "name": "stdout",
     "output_type": "stream",
     "text": [
      "corr_matrix for 1997-08-20 done.\ncorr_matrix for 1997-08-19 done.\ncorr_matrix for 1997-08-18 done.\ncorr_matrix for 1997-08-15 done.\ncorr_matrix for 1997-08-14 done.\ncorr_matrix for 1997-08-13 done.\ncorr_matrix for 1997-08-12 done.\ncorr_matrix for 1997-08-11 done.\ncorr_matrix for 1997-08-08 done.\ncorr_matrix for 1997-08-07 done.\n"
     ]
    },
    {
     "name": "stdout",
     "output_type": "stream",
     "text": [
      "corr_matrix for 1997-08-06 done.\ncorr_matrix for 1997-08-05 done.\ncorr_matrix for 1997-08-04 done.\ncorr_matrix for 1997-08-01 done.\ncorr_matrix for 1997-07-31 done.\ncorr_matrix for 1997-07-30 done.\ncorr_matrix for 1997-07-29 done.\ncorr_matrix for 1997-07-28 done.\ncorr_matrix for 1997-07-25 done.\ncorr_matrix for 1997-07-24 done.\ncorr_matrix for 1997-07-23 done."
     ]
    },
    {
     "name": "stdout",
     "output_type": "stream",
     "text": [
      "\ncorr_matrix for 1997-07-22 done.\ncorr_matrix for 1997-07-21 done.\ncorr_matrix for 1997-07-18 done.\ncorr_matrix for 1997-07-17 done.\ncorr_matrix for 1997-07-16 done.\ncorr_matrix for 1997-07-15 done.\ncorr_matrix for 1997-07-14 done.\ncorr_matrix for 1997-07-11 done.\ncorr_matrix for 1997-07-10 done.\ncorr_matrix for 1997-07-09 done.\ncorr_matrix for 1997-07-08 done.\n"
     ]
    },
    {
     "name": "stdout",
     "output_type": "stream",
     "text": [
      "corr_matrix for 1997-07-07 done.\ncorr_matrix for 1997-07-03 done.\ncorr_matrix for 1997-07-02 done.\ncorr_matrix for 1997-07-01 done.\ncorr_matrix for 1997-06-30 done.\ncorr_matrix for 1997-06-27 done.\ncorr_matrix for 1997-06-26 done.\ncorr_matrix for 1997-06-25 done.\ncorr_matrix for 1997-06-24 done.\ncorr_matrix for 1997-06-23 done.\n"
     ]
    },
    {
     "name": "stdout",
     "output_type": "stream",
     "text": [
      "corr_matrix for 1997-06-20 done.\ncorr_matrix for 1997-06-19 done.\ncorr_matrix for 1997-06-18 done.\ncorr_matrix for 1997-06-17 done.\ncorr_matrix for 1997-06-16 done.\ncorr_matrix for 1997-06-13 done.\ncorr_matrix for 1997-06-12 done.\ncorr_matrix for 1997-06-11 done.\ncorr_matrix for 1997-06-10 done.\ncorr_matrix for 1997-06-09 done.\n"
     ]
    },
    {
     "name": "stdout",
     "output_type": "stream",
     "text": [
      "corr_matrix for 1997-06-06 done.\ncorr_matrix for 1997-06-05 done.\ncorr_matrix for 1997-06-04 done.\ncorr_matrix for 1997-06-03 done.\ncorr_matrix for 1997-06-02 done.\ncorr_matrix for 1997-05-30 done.\ncorr_matrix for 1997-05-29 done.\ncorr_matrix for 1997-05-28 done.\ncorr_matrix for 1997-05-27 done.\ncorr_matrix for 1997-05-23 done.\n"
     ]
    },
    {
     "name": "stdout",
     "output_type": "stream",
     "text": [
      "corr_matrix for 1997-05-22 done.\ncorr_matrix for 1997-05-21 done.\ncorr_matrix for 1997-05-20 done.\ncorr_matrix for 1997-05-19 done.\ncorr_matrix for 1997-05-16 done.\ncorr_matrix for 1997-05-15 done.\ncorr_matrix for 1997-05-14 done.\ncorr_matrix for 1997-05-13 done.\ncorr_matrix for 1997-05-12 done.\ncorr_matrix for 1997-05-09 done.\n"
     ]
    },
    {
     "name": "stdout",
     "output_type": "stream",
     "text": [
      "corr_matrix for 1997-05-08 done.\ncorr_matrix for 1997-05-07 done.\ncorr_matrix for 1997-05-06 done.\ncorr_matrix for 1997-05-05 done.\ncorr_matrix for 1997-05-02 done.\ncorr_matrix for 1997-05-01 done.\ncorr_matrix for 1997-04-30 done.\ncorr_matrix for 1997-04-29 done.\ncorr_matrix for 1997-04-28 done.\ncorr_matrix for 1997-04-25 done.\ncorr_matrix for 1997-04-24 done.\n"
     ]
    },
    {
     "name": "stdout",
     "output_type": "stream",
     "text": [
      "corr_matrix for 1997-04-23 done.\ncorr_matrix for 1997-04-22 done.\ncorr_matrix for 1997-04-21 done.\ncorr_matrix for 1997-04-18 done.\ncorr_matrix for 1997-04-17 done.\ncorr_matrix for 1997-04-16 done.\ncorr_matrix for 1997-04-15 done.\ncorr_matrix for 1997-04-14 done.\ncorr_matrix for 1997-04-11 done.\ncorr_matrix for 1997-04-10 done.\ncorr_matrix for 1997-04-09 done.\n"
     ]
    },
    {
     "name": "stdout",
     "output_type": "stream",
     "text": [
      "corr_matrix for 1997-04-08 done.\ncorr_matrix for 1997-04-07 done.\ncorr_matrix for 1997-04-04 done.\ncorr_matrix for 1997-04-03 done.\ncorr_matrix for 1997-04-02 done.\ncorr_matrix for 1997-04-01 done.\ncorr_matrix for 1997-03-31 done.\ncorr_matrix for 1997-03-27 done.\ncorr_matrix for 1997-03-26 done.\ncorr_matrix for 1997-03-25 done.\ncorr_matrix for 1997-03-24 done."
     ]
    },
    {
     "name": "stdout",
     "output_type": "stream",
     "text": [
      "\ncorr_matrix for 1997-03-21 done.\ncorr_matrix for 1997-03-20 done.\ncorr_matrix for 1997-03-19 done.\ncorr_matrix for 1997-03-18 done.\ncorr_matrix for 1997-03-17 done.\ncorr_matrix for 1997-03-14 done.\ncorr_matrix for 1997-03-13 done.\ncorr_matrix for 1997-03-12 done.\ncorr_matrix for 1997-03-11 done.\ncorr_matrix for 1997-03-10 done.\ncorr_matrix for 1997-03-07 done.\n"
     ]
    },
    {
     "name": "stdout",
     "output_type": "stream",
     "text": [
      "corr_matrix for 1997-03-06 done.\ncorr_matrix for 1997-03-05 done.\ncorr_matrix for 1997-03-04 done.\ncorr_matrix for 1997-03-03 done.\ncorr_matrix for 1997-02-28 done.\ncorr_matrix for 1997-02-27 done.\ncorr_matrix for 1997-02-26 done.\ncorr_matrix for 1997-02-25 done.\ncorr_matrix for 1997-02-24 done.\ncorr_matrix for 1997-02-21 done.\ncorr_matrix for 1997-02-20 done.\n"
     ]
    },
    {
     "name": "stdout",
     "output_type": "stream",
     "text": [
      "corr_matrix for 1997-02-19 done.\ncorr_matrix for 1997-02-18 done.\ncorr_matrix for 1997-02-14 done.\ncorr_matrix for 1997-02-13 done.\ncorr_matrix for 1997-02-12 done.\ncorr_matrix for 1997-02-11 done.\ncorr_matrix for 1997-02-10 done.\ncorr_matrix for 1997-02-07 done.\ncorr_matrix for 1997-02-06 done.\ncorr_matrix for 1997-02-05 done.\ncorr_matrix for 1997-02-04 done.\n"
     ]
    },
    {
     "name": "stdout",
     "output_type": "stream",
     "text": [
      "corr_matrix for 1997-02-03 done.\ncorr_matrix for 1997-01-31 done.\ncorr_matrix for 1997-01-30 done.\ncorr_matrix for 1997-01-29 done.\ncorr_matrix for 1997-01-28 done.\ncorr_matrix for 1997-01-27 done.\ncorr_matrix for 1997-01-24 done.\ncorr_matrix for 1997-01-23 done.\ncorr_matrix for 1997-01-22 done.\ncorr_matrix for 1997-01-21 done.\ncorr_matrix for 1997-01-20 done.\n"
     ]
    },
    {
     "name": "stdout",
     "output_type": "stream",
     "text": [
      "corr_matrix for 1997-01-17 done.\ncorr_matrix for 1997-01-16 done.\ncorr_matrix for 1997-01-15 done.\ncorr_matrix for 1997-01-14 done.\ncorr_matrix for 1997-01-13 done.\ncorr_matrix for 1997-01-10 done.\ncorr_matrix for 1997-01-09 done.\ncorr_matrix for 1997-01-08 done.\ncorr_matrix for 1997-01-07 done.\ncorr_matrix for 1997-01-06 done.\n"
     ]
    },
    {
     "name": "stdout",
     "output_type": "stream",
     "text": [
      "corr_matrix for 1997-01-03 done.\ncorr_matrix for 1997-01-02 done.\ncorr_matrix for 1996-12-31 done.\ncorr_matrix for 1996-12-30 done.\ncorr_matrix for 1996-12-27 done.\ncorr_matrix for 1996-12-26 done.\ncorr_matrix for 1996-12-24 done.\ncorr_matrix for 1996-12-23 done.\ncorr_matrix for 1996-12-20 done.\ncorr_matrix for 1996-12-19 done.\n"
     ]
    },
    {
     "name": "stdout",
     "output_type": "stream",
     "text": [
      "corr_matrix for 1996-12-18 done.\ncorr_matrix for 1996-12-17 done.\ncorr_matrix for 1996-12-16 done.\ncorr_matrix for 1996-12-13 done.\ncorr_matrix for 1996-12-12 done.\ncorr_matrix for 1996-12-11 done.\ncorr_matrix for 1996-12-10 done.\ncorr_matrix for 1996-12-09 done.\ncorr_matrix for 1996-12-06 done.\ncorr_matrix for 1996-12-05 done.\ncorr_matrix for 1996-12-04 done.\n"
     ]
    },
    {
     "name": "stdout",
     "output_type": "stream",
     "text": [
      "corr_matrix for 1996-12-03 done.\ncorr_matrix for 1996-12-02 done.\ncorr_matrix for 1996-11-29 done.\ncorr_matrix for 1996-11-27 done.\ncorr_matrix for 1996-11-26 done.\ncorr_matrix for 1996-11-25 done.\ncorr_matrix for 1996-11-22 done.\ncorr_matrix for 1996-11-21 done.\ncorr_matrix for 1996-11-20 done.\ncorr_matrix for 1996-11-19 done.\ncorr_matrix for 1996-11-18 done.\n"
     ]
    },
    {
     "name": "stdout",
     "output_type": "stream",
     "text": [
      "corr_matrix for 1996-11-15 done.\ncorr_matrix for 1996-11-14 done.\ncorr_matrix for 1996-11-13 done.\ncorr_matrix for 1996-11-12 done.\ncorr_matrix for 1996-11-11 done.\ncorr_matrix for 1996-11-08 done.\ncorr_matrix for 1996-11-07 done.\ncorr_matrix for 1996-11-06 done.\ncorr_matrix for 1996-11-05 done.\ncorr_matrix for 1996-11-04 done.\ncorr_matrix for 1996-11-01 done."
     ]
    },
    {
     "name": "stdout",
     "output_type": "stream",
     "text": [
      "\ncorr_matrix for 1996-10-31 done.\ncorr_matrix for 1996-10-30 done.\ncorr_matrix for 1996-10-29 done.\ncorr_matrix for 1996-10-28 done.\ncorr_matrix for 1996-10-25 done.\ncorr_matrix for 1996-10-24 done.\ncorr_matrix for 1996-10-23 done.\ncorr_matrix for 1996-10-22 done.\ncorr_matrix for 1996-10-21 done.\ncorr_matrix for 1996-10-18 done.\ncorr_matrix for 1996-10-17 done.\ncorr_matrix for 1996-10-16 done.\n"
     ]
    },
    {
     "name": "stdout",
     "output_type": "stream",
     "text": [
      "corr_matrix for 1996-10-15 done.\ncorr_matrix for 1996-10-14 done.\ncorr_matrix for 1996-10-11 done.\ncorr_matrix for 1996-10-10 done.\ncorr_matrix for 1996-10-09 done.\ncorr_matrix for 1996-10-08 done.\ncorr_matrix for 1996-10-07 done.\ncorr_matrix for 1996-10-04 done.\ncorr_matrix for 1996-10-03 done.\ncorr_matrix for 1996-10-02 done.\n"
     ]
    },
    {
     "name": "stdout",
     "output_type": "stream",
     "text": [
      "corr_matrix for 1996-10-01 done.\ncorr_matrix for 1996-09-30 done.\ncorr_matrix for 1996-09-27 done.\ncorr_matrix for 1996-09-26 done.\ncorr_matrix for 1996-09-25 done.\ncorr_matrix for 1996-09-24 done.\ncorr_matrix for 1996-09-23 done.\ncorr_matrix for 1996-09-20 done.\ncorr_matrix for 1996-09-19 done.\ncorr_matrix for 1996-09-18 done.\ncorr_matrix for 1996-09-17 done.\n"
     ]
    },
    {
     "name": "stdout",
     "output_type": "stream",
     "text": [
      "corr_matrix for 1996-09-16 done.\ncorr_matrix for 1996-09-13 done.\ncorr_matrix for 1996-09-12 done.\ncorr_matrix for 1996-09-11 done.\ncorr_matrix for 1996-09-10 done.\ncorr_matrix for 1996-09-09 done.\ncorr_matrix for 1996-09-06 done.\ncorr_matrix for 1996-09-05 done.\ncorr_matrix for 1996-09-04 done.\ncorr_matrix for 1996-09-03 done.\ncorr_matrix for 1996-08-30 done.\n"
     ]
    },
    {
     "name": "stdout",
     "output_type": "stream",
     "text": [
      "corr_matrix for 1996-08-29 done.\ncorr_matrix for 1996-08-28 done.\ncorr_matrix for 1996-08-27 done.\ncorr_matrix for 1996-08-26 done.\ncorr_matrix for 1996-08-23 done.\ncorr_matrix for 1996-08-22 done.\ncorr_matrix for 1996-08-21 done.\ncorr_matrix for 1996-08-20 done.\ncorr_matrix for 1996-08-19 done.\ncorr_matrix for 1996-08-16 done.\ncorr_matrix for 1996-08-15 done.\n"
     ]
    },
    {
     "name": "stdout",
     "output_type": "stream",
     "text": [
      "corr_matrix for 1996-08-14 done.\ncorr_matrix for 1996-08-13 done.\ncorr_matrix for 1996-08-12 done.\ncorr_matrix for 1996-08-09 done.\ncorr_matrix for 1996-08-08 done.\ncorr_matrix for 1996-08-07 done.\ncorr_matrix for 1996-08-06 done.\ncorr_matrix for 1996-08-05 done.\ncorr_matrix for 1996-08-02 done.\ncorr_matrix for 1996-08-01 done.\ncorr_matrix for 1996-07-31 done.\n"
     ]
    },
    {
     "name": "stdout",
     "output_type": "stream",
     "text": [
      "corr_matrix for 1996-07-30 done.\ncorr_matrix for 1996-07-29 done.\ncorr_matrix for 1996-07-26 done.\ncorr_matrix for 1996-07-25 done.\ncorr_matrix for 1996-07-24 done.\ncorr_matrix for 1996-07-23 done.\ncorr_matrix for 1996-07-22 done.\ncorr_matrix for 1996-07-19 done.\ncorr_matrix for 1996-07-18 done.\ncorr_matrix for 1996-07-17 done.\n"
     ]
    },
    {
     "name": "stdout",
     "output_type": "stream",
     "text": [
      "corr_matrix for 1996-07-16 done.\ncorr_matrix for 1996-07-15 done.\ncorr_matrix for 1996-07-12 done.\ncorr_matrix for 1996-07-11 done.\ncorr_matrix for 1996-07-10 done.\ncorr_matrix for 1996-07-09 done.\ncorr_matrix for 1996-07-08 done.\ncorr_matrix for 1996-07-05 done.\ncorr_matrix for 1996-07-03 done.\ncorr_matrix for 1996-07-02 done.\ncorr_matrix for 1996-07-01 done.\n"
     ]
    },
    {
     "name": "stdout",
     "output_type": "stream",
     "text": [
      "corr_matrix for 1996-06-28 done.\ncorr_matrix for 1996-06-27 done.\ncorr_matrix for 1996-06-26 done.\ncorr_matrix for 1996-06-25 done.\ncorr_matrix for 1996-06-24 done.\ncorr_matrix for 1996-06-21 done.\ncorr_matrix for 1996-06-20 done.\ncorr_matrix for 1996-06-19 done.\ncorr_matrix for 1996-06-18 done.\ncorr_matrix for 1996-06-17 done.\ncorr_matrix for 1996-06-14 done.\n"
     ]
    },
    {
     "name": "stdout",
     "output_type": "stream",
     "text": [
      "corr_matrix for 1996-06-13 done.\ncorr_matrix for 1996-06-12 done.\ncorr_matrix for 1996-06-11 done.\ncorr_matrix for 1996-06-10 done.\ncorr_matrix for 1996-06-07 done.\ncorr_matrix for 1996-06-06 done.\ncorr_matrix for 1996-06-05 done.\ncorr_matrix for 1996-06-04 done.\ncorr_matrix for 1996-06-03 done.\ncorr_matrix for 1996-05-31 done.\ncorr_matrix for 1996-05-30 done.\ncorr_matrix for 1996-05-29 done."
     ]
    },
    {
     "name": "stdout",
     "output_type": "stream",
     "text": [
      "\ncorr_matrix for 1996-05-28 done.\ncorr_matrix for 1996-05-24 done.\ncorr_matrix for 1996-05-23 done.\ncorr_matrix for 1996-05-22 done.\ncorr_matrix for 1996-05-21 done.\ncorr_matrix for 1996-05-20 done.\ncorr_matrix for 1996-05-17 done.\ncorr_matrix for 1996-05-16 done.\ncorr_matrix for 1996-05-15 done.\ncorr_matrix for 1996-05-14 done.\n"
     ]
    },
    {
     "name": "stdout",
     "output_type": "stream",
     "text": [
      "corr_matrix for 1996-05-13 done.\ncorr_matrix for 1996-05-10 done.\ncorr_matrix for 1996-05-09 done.\ncorr_matrix for 1996-05-08 done.\ncorr_matrix for 1996-05-07 done.\ncorr_matrix for 1996-05-06 done.\ncorr_matrix for 1996-05-03 done.\ncorr_matrix for 1996-05-02 done.\ncorr_matrix for 1996-05-01 done.\ncorr_matrix for 1996-04-30 done.\ncorr_matrix for 1996-04-29 done.\n"
     ]
    },
    {
     "name": "stdout",
     "output_type": "stream",
     "text": [
      "corr_matrix for 1996-04-26 done.\ncorr_matrix for 1996-04-25 done.\ncorr_matrix for 1996-04-24 done.\ncorr_matrix for 1996-04-23 done.\ncorr_matrix for 1996-04-22 done.\ncorr_matrix for 1996-04-19 done.\ncorr_matrix for 1996-04-18 done.\ncorr_matrix for 1996-04-17 done.\ncorr_matrix for 1996-04-16 done.\ncorr_matrix for 1996-04-15 done.\ncorr_matrix for 1996-04-12 done.\n"
     ]
    },
    {
     "name": "stdout",
     "output_type": "stream",
     "text": [
      "corr_matrix for 1996-04-11 done.\ncorr_matrix for 1996-04-10 done.\ncorr_matrix for 1996-04-09 done.\ncorr_matrix for 1996-04-08 done.\ncorr_matrix for 1996-04-04 done.\ncorr_matrix for 1996-04-03 done.\ncorr_matrix for 1996-04-02 done.\ncorr_matrix for 1996-04-01 done.\ncorr_matrix for 1996-03-29 done.\ncorr_matrix for 1996-03-28 done.\ncorr_matrix for 1996-03-27 done.\n"
     ]
    },
    {
     "name": "stdout",
     "output_type": "stream",
     "text": [
      "corr_matrix for 1996-03-26 done.\ncorr_matrix for 1996-03-25 done.\ncorr_matrix for 1996-03-22 done.\ncorr_matrix for 1996-03-21 done.\ncorr_matrix for 1996-03-20 done.\ncorr_matrix for 1996-03-19 done.\ncorr_matrix for 1996-03-18 done.\ncorr_matrix for 1996-03-15 done.\ncorr_matrix for 1996-03-14 done.\ncorr_matrix for 1996-03-13 done.\ncorr_matrix for 1996-03-12 done.\n"
     ]
    },
    {
     "name": "stdout",
     "output_type": "stream",
     "text": [
      "corr_matrix for 1996-03-11 done.\ncorr_matrix for 1996-03-08 done.\ncorr_matrix for 1996-03-07 done.\ncorr_matrix for 1996-03-06 done.\ncorr_matrix for 1996-03-05 done.\ncorr_matrix for 1996-03-04 done.\ncorr_matrix for 1996-03-01 done.\ncorr_matrix for 1996-02-29 done.\ncorr_matrix for 1996-02-28 done.\ncorr_matrix for 1996-02-27 done.\n"
     ]
    },
    {
     "name": "stdout",
     "output_type": "stream",
     "text": [
      "corr_matrix for 1996-02-26 done.\ncorr_matrix for 1996-02-23 done.\ncorr_matrix for 1996-02-22 done.\ncorr_matrix for 1996-02-21 done.\ncorr_matrix for 1996-02-20 done.\ncorr_matrix for 1996-02-16 done.\ncorr_matrix for 1996-02-15 done.\ncorr_matrix for 1996-02-14 done.\ncorr_matrix for 1996-02-13 done.\ncorr_matrix for 1996-02-12 done.\n"
     ]
    },
    {
     "name": "stdout",
     "output_type": "stream",
     "text": [
      "corr_matrix for 1996-02-09 done.\ncorr_matrix for 1996-02-08 done.\ncorr_matrix for 1996-02-07 done.\ncorr_matrix for 1996-02-06 done.\ncorr_matrix for 1996-02-05 done.\ncorr_matrix for 1996-02-02 done.\ncorr_matrix for 1996-02-01 done.\ncorr_matrix for 1996-01-31 done.\ncorr_matrix for 1996-01-30 done.\ncorr_matrix for 1996-01-29 done.\n"
     ]
    },
    {
     "name": "stdout",
     "output_type": "stream",
     "text": [
      "corr_matrix for 1996-01-26 done.\ncorr_matrix for 1996-01-25 done.\ncorr_matrix for 1996-01-24 done.\ncorr_matrix for 1996-01-23 done.\ncorr_matrix for 1996-01-22 done.\ncorr_matrix for 1996-01-19 done.\ncorr_matrix for 1996-01-18 done.\ncorr_matrix for 1996-01-17 done.\ncorr_matrix for 1996-01-16 done.\ncorr_matrix for 1996-01-15 done.\ncorr_matrix for 1996-01-12 done.\n"
     ]
    },
    {
     "name": "stdout",
     "output_type": "stream",
     "text": [
      "corr_matrix for 1996-01-11 done.\ncorr_matrix for 1996-01-10 done.\ncorr_matrix for 1996-01-09 done.\ncorr_matrix for 1996-01-08 done.\ncorr_matrix for 1996-01-05 done.\ncorr_matrix for 1996-01-04 done.\ncorr_matrix for 1996-01-03 done.\ncorr_matrix for 1996-01-02 done.\ncorr_matrix for 1995-12-29 done.\ncorr_matrix for 1995-12-28 done.\n"
     ]
    },
    {
     "name": "stdout",
     "output_type": "stream",
     "text": [
      "corr_matrix for 1995-12-27 done.\ncorr_matrix for 1995-12-26 done.\ncorr_matrix for 1995-12-22 done.\ncorr_matrix for 1995-12-21 done.\ncorr_matrix for 1995-12-20 done.\ncorr_matrix for 1995-12-19 done.\ncorr_matrix for 1995-12-18 done.\ncorr_matrix for 1995-12-15 done.\ncorr_matrix for 1995-12-14 done.\ncorr_matrix for 1995-12-13 done.\ncorr_matrix for 1995-12-12 done.\n"
     ]
    },
    {
     "name": "stdout",
     "output_type": "stream",
     "text": [
      "corr_matrix for 1995-12-11 done.\ncorr_matrix for 1995-12-08 done.\ncorr_matrix for 1995-12-07 done.\ncorr_matrix for 1995-12-06 done.\ncorr_matrix for 1995-12-05 done.\ncorr_matrix for 1995-12-04 done.\ncorr_matrix for 1995-12-01 done.\ncorr_matrix for 1995-11-30 done.\ncorr_matrix for 1995-11-29 done.\ncorr_matrix for 1995-11-28 done.\ncorr_matrix for 1995-11-27 done.\n"
     ]
    },
    {
     "name": "stdout",
     "output_type": "stream",
     "text": [
      "corr_matrix for 1995-11-24 done.\ncorr_matrix for 1995-11-22 done.\ncorr_matrix for 1995-11-21 done.\ncorr_matrix for 1995-11-20 done.\ncorr_matrix for 1995-11-17 done.\ncorr_matrix for 1995-11-16 done.\ncorr_matrix for 1995-11-15 done.\ncorr_matrix for 1995-11-14 done.\ncorr_matrix for 1995-11-13 done.\ncorr_matrix for 1995-11-10 done.\n"
     ]
    },
    {
     "name": "stdout",
     "output_type": "stream",
     "text": [
      "corr_matrix for 1995-11-09 done.\ncorr_matrix for 1995-11-08 done.\ncorr_matrix for 1995-11-07 done.\ncorr_matrix for 1995-11-06 done.\ncorr_matrix for 1995-11-03 done.\ncorr_matrix for 1995-11-02 done.\ncorr_matrix for 1995-11-01 done.\ncorr_matrix for 1995-10-31 done.\ncorr_matrix for 1995-10-30 done.\ncorr_matrix for 1995-10-27 done.\ncorr_matrix for 1995-10-26 done.\n"
     ]
    },
    {
     "name": "stdout",
     "output_type": "stream",
     "text": [
      "corr_matrix for 1995-10-25 done.\ncorr_matrix for 1995-10-24 done.\ncorr_matrix for 1995-10-23 done.\ncorr_matrix for 1995-10-20 done.\ncorr_matrix for 1995-10-19 done.\ncorr_matrix for 1995-10-18 done.\ncorr_matrix for 1995-10-17 done.\ncorr_matrix for 1995-10-16 done.\ncorr_matrix for 1995-10-13 done.\ncorr_matrix for 1995-10-12 done.\ncorr_matrix for 1995-10-11 done.\n"
     ]
    },
    {
     "name": "stdout",
     "output_type": "stream",
     "text": [
      "corr_matrix for 1995-10-10 done.\ncorr_matrix for 1995-10-09 done.\ncorr_matrix for 1995-10-06 done.\ncorr_matrix for 1995-10-05 done.\ncorr_matrix for 1995-10-04 done.\ncorr_matrix for 1995-10-03 done.\ncorr_matrix for 1995-10-02 done.\ncorr_matrix for 1995-09-29 done.\ncorr_matrix for 1995-09-28 done.\ncorr_matrix for 1995-09-27 done.\ncorr_matrix for 1995-09-26 done.\n"
     ]
    },
    {
     "name": "stdout",
     "output_type": "stream",
     "text": [
      "corr_matrix for 1995-09-25 done.\ncorr_matrix for 1995-09-22 done.\ncorr_matrix for 1995-09-21 done.\ncorr_matrix for 1995-09-20 done.\ncorr_matrix for 1995-09-19 done.\ncorr_matrix for 1995-09-18 done.\ncorr_matrix for 1995-09-15 done.\ncorr_matrix for 1995-09-14 done.\ncorr_matrix for 1995-09-13 done.\ncorr_matrix for 1995-09-12 done.\ncorr_matrix for 1995-09-11 done.\n"
     ]
    },
    {
     "name": "stdout",
     "output_type": "stream",
     "text": [
      "corr_matrix for 1995-09-08 done.\ncorr_matrix for 1995-09-07 done.\ncorr_matrix for 1995-09-06 done.\ncorr_matrix for 1995-09-05 done.\ncorr_matrix for 1995-09-01 done.\ncorr_matrix for 1995-08-31 done.\ncorr_matrix for 1995-08-30 done.\ncorr_matrix for 1995-08-29 done.\ncorr_matrix for 1995-08-28 done.\ncorr_matrix for 1995-08-25 done.\ncorr_matrix for 1995-08-24 done.\n"
     ]
    },
    {
     "name": "stdout",
     "output_type": "stream",
     "text": [
      "corr_matrix for 1995-08-23 done.\ncorr_matrix for 1995-08-22 done.\ncorr_matrix for 1995-08-21 done.\ncorr_matrix for 1995-08-18 done.\ncorr_matrix for 1995-08-17 done.\ncorr_matrix for 1995-08-16 done.\ncorr_matrix for 1995-08-15 done.\ncorr_matrix for 1995-08-14 done.\ncorr_matrix for 1995-08-11 done.\ncorr_matrix for 1995-08-10 done.\ncorr_matrix for 1995-08-09 done.\n"
     ]
    },
    {
     "name": "stdout",
     "output_type": "stream",
     "text": [
      "corr_matrix for 1995-08-08 done.\ncorr_matrix for 1995-08-07 done.\ncorr_matrix for 1995-08-04 done.\ncorr_matrix for 1995-08-03 done.\ncorr_matrix for 1995-08-02 done.\ncorr_matrix for 1995-08-01 done.\ncorr_matrix for 1995-07-31 done.\ncorr_matrix for 1995-07-28 done.\ncorr_matrix for 1995-07-27 done.\ncorr_matrix for 1995-07-26 done.\n"
     ]
    },
    {
     "name": "stdout",
     "output_type": "stream",
     "text": [
      "corr_matrix for 1995-07-25 done.\ncorr_matrix for 1995-07-24 done.\ncorr_matrix for 1995-07-21 done.\ncorr_matrix for 1995-07-20 done.\ncorr_matrix for 1995-07-19 done.\ncorr_matrix for 1995-07-18 done.\ncorr_matrix for 1995-07-17 done.\ncorr_matrix for 1995-07-14 done.\ncorr_matrix for 1995-07-13 done.\ncorr_matrix for 1995-07-12 done.\n"
     ]
    },
    {
     "name": "stdout",
     "output_type": "stream",
     "text": [
      "corr_matrix for 1995-07-11 done.\ncorr_matrix for 1995-07-10 done.\ncorr_matrix for 1995-07-07 done.\ncorr_matrix for 1995-07-06 done.\ncorr_matrix for 1995-07-05 done.\ncorr_matrix for 1995-07-03 done."
     ]
    },
    {
     "name": "stdout",
     "output_type": "stream",
     "text": [
      "\ncorr_matrix for 1995-06-30 done.\ncorr_matrix for 1995-06-29 done.\ncorr_matrix for 1995-06-28 done.\ncorr_matrix for 1995-06-27 done.\ncorr_matrix for 1995-06-26 done.\ncorr_matrix for 1995-06-23 done.\ncorr_matrix for 1995-06-22 done.\ncorr_matrix for 1995-06-21 done.\ncorr_matrix for 1995-06-20 done.\ncorr_matrix for 1995-06-19 done.\ncorr_matrix for 1995-06-16 done.\n"
     ]
    },
    {
     "name": "stdout",
     "output_type": "stream",
     "text": [
      "corr_matrix for 1995-06-15 done.\ncorr_matrix for 1995-06-14 done.\ncorr_matrix for 1995-06-13 done.\ncorr_matrix for 1995-06-12 done.\ncorr_matrix for 1995-06-09 done.\ncorr_matrix for 1995-06-08 done.\ncorr_matrix for 1995-06-07 done.\ncorr_matrix for 1995-06-06 done.\ncorr_matrix for 1995-06-05 done.\ncorr_matrix for 1995-06-02 done.\ncorr_matrix for 1995-06-01 done.\n"
     ]
    },
    {
     "name": "stdout",
     "output_type": "stream",
     "text": [
      "corr_matrix for 1995-05-31 done.\ncorr_matrix for 1995-05-30 done.\ncorr_matrix for 1995-05-26 done.\ncorr_matrix for 1995-05-25 done.\ncorr_matrix for 1995-05-24 done.\ncorr_matrix for 1995-05-23 done.\ncorr_matrix for 1995-05-22 done.\ncorr_matrix for 1995-05-19 done.\ncorr_matrix for 1995-05-18 done.\ncorr_matrix for 1995-05-17 done.\ncorr_matrix for 1995-05-16 done.\n"
     ]
    },
    {
     "name": "stdout",
     "output_type": "stream",
     "text": [
      "corr_matrix for 1995-05-15 done.\ncorr_matrix for 1995-05-12 done.\ncorr_matrix for 1995-05-11 done.\ncorr_matrix for 1995-05-10 done.\ncorr_matrix for 1995-05-09 done.\ncorr_matrix for 1995-05-08 done.\ncorr_matrix for 1995-05-05 done.\ncorr_matrix for 1995-05-04 done.\ncorr_matrix for 1995-05-03 done.\ncorr_matrix for 1995-05-02 done.\ncorr_matrix for 1995-05-01 done.\n"
     ]
    },
    {
     "name": "stdout",
     "output_type": "stream",
     "text": [
      "corr_matrix for 1995-04-28 done.\ncorr_matrix for 1995-04-27 done.\ncorr_matrix for 1995-04-26 done.\ncorr_matrix for 1995-04-25 done.\ncorr_matrix for 1995-04-24 done.\ncorr_matrix for 1995-04-21 done.\ncorr_matrix for 1995-04-20 done.\ncorr_matrix for 1995-04-19 done.\ncorr_matrix for 1995-04-18 done.\ncorr_matrix for 1995-04-17 done.\ncorr_matrix for 1995-04-13 done.\n"
     ]
    },
    {
     "name": "stdout",
     "output_type": "stream",
     "text": [
      "corr_matrix for 1995-04-12 done.\ncorr_matrix for 1995-04-11 done.\ncorr_matrix for 1995-04-10 done.\ncorr_matrix for 1995-04-07 done.\ncorr_matrix for 1995-04-06 done.\ncorr_matrix for 1995-04-05 done.\ncorr_matrix for 1995-04-04 done.\ncorr_matrix for 1995-04-03 done.\ncorr_matrix for 1995-03-31 done.\ncorr_matrix for 1995-03-30 done.\n"
     ]
    },
    {
     "name": "stdout",
     "output_type": "stream",
     "text": [
      "corr_matrix for 1995-03-29 done.\ncorr_matrix for 1995-03-28 done.\ncorr_matrix for 1995-03-27 done.\ncorr_matrix for 1995-03-24 done.\ncorr_matrix for 1995-03-23 done.\ncorr_matrix for 1995-03-22 done.\ncorr_matrix for 1995-03-21 done.\ncorr_matrix for 1995-03-20 done.\ncorr_matrix for 1995-03-17 done.\ncorr_matrix for 1995-03-16 done.\n"
     ]
    },
    {
     "name": "stdout",
     "output_type": "stream",
     "text": [
      "corr_matrix for 1995-03-15 done.\ncorr_matrix for 1995-03-14 done.\ncorr_matrix for 1995-03-13 done.\ncorr_matrix for 1995-03-10 done.\ncorr_matrix for 1995-03-09 done.\ncorr_matrix for 1995-03-08 done.\ncorr_matrix for 1995-03-07 done.\ncorr_matrix for 1995-03-06 done.\ncorr_matrix for 1995-03-03 done."
     ]
    },
    {
     "name": "stdout",
     "output_type": "stream",
     "text": [
      "\ncorr_matrix for 1995-03-02 done.\ncorr_matrix for 1995-03-01 done.\ncorr_matrix for 1995-02-28 done.\ncorr_matrix for 1995-02-27 done.\ncorr_matrix for 1995-02-24 done.\ncorr_matrix for 1995-02-23 done.\ncorr_matrix for 1995-02-22 done.\ncorr_matrix for 1995-02-21 done.\ncorr_matrix for 1995-02-17 done.\ncorr_matrix for 1995-02-16 done."
     ]
    },
    {
     "name": "stdout",
     "output_type": "stream",
     "text": [
      "\ncorr_matrix for 1995-02-15 done.\ncorr_matrix for 1995-02-14 done.\ncorr_matrix for 1995-02-13 done.\ncorr_matrix for 1995-02-10 done.\ncorr_matrix for 1995-02-09 done.\ncorr_matrix for 1995-02-08 done.\ncorr_matrix for 1995-02-07 done.\ncorr_matrix for 1995-02-06 done.\n"
     ]
    },
    {
     "name": "stdout",
     "output_type": "stream",
     "text": [
      "corr_matrix for 1995-02-03 done.\ncorr_matrix for 1995-02-02 done.\ncorr_matrix for 1995-02-01 done.\ncorr_matrix for 1995-01-31 done.\ncorr_matrix for 1995-01-30 done.\ncorr_matrix for 1995-01-27 done.\ncorr_matrix for 1995-01-26 done.\ncorr_matrix for 1995-01-25 done.\ncorr_matrix for 1995-01-24 done.\n"
     ]
    },
    {
     "name": "stdout",
     "output_type": "stream",
     "text": [
      "corr_matrix for 1995-01-23 done.\ncorr_matrix for 1995-01-20 done.\ncorr_matrix for 1995-01-19 done.\ncorr_matrix for 1995-01-18 done.\ncorr_matrix for 1995-01-17 done.\ncorr_matrix for 1995-01-16 done.\ncorr_matrix for 1995-01-13 done.\ncorr_matrix for 1995-01-12 done.\ncorr_matrix for 1995-01-11 done.\ncorr_matrix for 1995-01-10 done.\n"
     ]
    },
    {
     "name": "stdout",
     "output_type": "stream",
     "text": [
      "corr_matrix for 1995-01-09 done.\ncorr_matrix for 1995-01-06 done.\ncorr_matrix for 1995-01-05 done.\ncorr_matrix for 1995-01-04 done.\ncorr_matrix for 1995-01-03 done.\ncorr_matrix for 1994-12-30 done.\ncorr_matrix for 1994-12-29 done.\ncorr_matrix for 1994-12-28 done.\ncorr_matrix for 1994-12-27 done.\n"
     ]
    },
    {
     "name": "stdout",
     "output_type": "stream",
     "text": [
      "corr_matrix for 1994-12-23 done.\ncorr_matrix for 1994-12-22 done.\ncorr_matrix for 1994-12-21 done.\ncorr_matrix for 1994-12-20 done.\ncorr_matrix for 1994-12-19 done.\ncorr_matrix for 1994-12-16 done.\ncorr_matrix for 1994-12-15 done.\ncorr_matrix for 1994-12-14 done.\ncorr_matrix for 1994-12-13 done.\n"
     ]
    },
    {
     "name": "stdout",
     "output_type": "stream",
     "text": [
      "corr_matrix for 1994-12-12 done.\ncorr_matrix for 1994-12-09 done.\ncorr_matrix for 1994-12-08 done.\ncorr_matrix for 1994-12-07 done.\ncorr_matrix for 1994-12-06 done.\ncorr_matrix for 1994-12-05 done.\ncorr_matrix for 1994-12-02 done.\ncorr_matrix for 1994-12-01 done.\ncorr_matrix for 1994-11-30 done.\n"
     ]
    },
    {
     "name": "stdout",
     "output_type": "stream",
     "text": [
      "corr_matrix for 1994-11-29 done.\ncorr_matrix for 1994-11-28 done.\ncorr_matrix for 1994-11-25 done.\ncorr_matrix for 1994-11-23 done.\ncorr_matrix for 1994-11-22 done.\ncorr_matrix for 1994-11-21 done.\ncorr_matrix for 1994-11-18 done.\ncorr_matrix for 1994-11-17 done.\ncorr_matrix for 1994-11-16 done.\n"
     ]
    },
    {
     "name": "stdout",
     "output_type": "stream",
     "text": [
      "corr_matrix for 1994-11-15 done.\ncorr_matrix for 1994-11-14 done.\ncorr_matrix for 1994-11-11 done.\ncorr_matrix for 1994-11-10 done.\ncorr_matrix for 1994-11-09 done.\ncorr_matrix for 1994-11-08 done.\ncorr_matrix for 1994-11-07 done.\ncorr_matrix for 1994-11-04 done.\ncorr_matrix for 1994-11-03 done.\ncorr_matrix for 1994-11-02 done.\n"
     ]
    },
    {
     "name": "stdout",
     "output_type": "stream",
     "text": [
      "corr_matrix for 1994-11-01 done.\ncorr_matrix for 1994-10-31 done.\ncorr_matrix for 1994-10-28 done.\ncorr_matrix for 1994-10-27 done.\ncorr_matrix for 1994-10-26 done.\ncorr_matrix for 1994-10-25 done.\n"
     ]
    },
    {
     "name": "stdout",
     "output_type": "stream",
     "text": [
      "corr_matrix for 1994-10-24 done.\ncorr_matrix for 1994-10-21 done.\ncorr_matrix for 1994-10-20 done.\ncorr_matrix for 1994-10-19 done.\ncorr_matrix for 1994-10-18 done.\ncorr_matrix for 1994-10-17 done.\ncorr_matrix for 1994-10-14 done.\ncorr_matrix for 1994-10-13 done.\ncorr_matrix for 1994-10-12 done.\n"
     ]
    },
    {
     "name": "stdout",
     "output_type": "stream",
     "text": [
      "corr_matrix for 1994-10-11 done.\ncorr_matrix for 1994-10-10 done.\ncorr_matrix for 1994-10-07 done.\ncorr_matrix for 1994-10-06 done.\ncorr_matrix for 1994-10-05 done.\ncorr_matrix for 1994-10-04 done.\ncorr_matrix for 1994-10-03 done.\ncorr_matrix for 1994-09-30 done.\ncorr_matrix for 1994-09-29 done.\ncorr_matrix for 1994-09-28 done.\n"
     ]
    },
    {
     "name": "stdout",
     "output_type": "stream",
     "text": [
      "corr_matrix for 1994-09-27 done.\ncorr_matrix for 1994-09-26 done.\ncorr_matrix for 1994-09-23 done.\ncorr_matrix for 1994-09-22 done.\ncorr_matrix for 1994-09-21 done.\ncorr_matrix for 1994-09-20 done.\ncorr_matrix for 1994-09-19 done.\ncorr_matrix for 1994-09-16 done.\ncorr_matrix for 1994-09-15 done.\n"
     ]
    },
    {
     "name": "stdout",
     "output_type": "stream",
     "text": [
      "corr_matrix for 1994-09-14 done.\ncorr_matrix for 1994-09-13 done.\ncorr_matrix for 1994-09-12 done.\ncorr_matrix for 1994-09-09 done.\ncorr_matrix for 1994-09-08 done.\ncorr_matrix for 1994-09-07 done.\ncorr_matrix for 1994-09-06 done.\ncorr_matrix for 1994-09-02 done.\ncorr_matrix for 1994-09-01 done.\ncorr_matrix for 1994-08-31 done.\n"
     ]
    },
    {
     "name": "stdout",
     "output_type": "stream",
     "text": [
      "corr_matrix for 1994-08-30 done.\ncorr_matrix for 1994-08-29 done.\ncorr_matrix for 1994-08-26 done.\ncorr_matrix for 1994-08-25 done.\ncorr_matrix for 1994-08-24 done.\ncorr_matrix for 1994-08-23 done.\ncorr_matrix for 1994-08-22 done.\ncorr_matrix for 1994-08-19 done.\ncorr_matrix for 1994-08-18 done.\ncorr_matrix for 1994-08-17 done."
     ]
    },
    {
     "name": "stdout",
     "output_type": "stream",
     "text": [
      "\ncorr_matrix for 1994-08-16 done.\ncorr_matrix for 1994-08-15 done.\ncorr_matrix for 1994-08-12 done.\ncorr_matrix for 1994-08-11 done.\ncorr_matrix for 1994-08-10 done.\ncorr_matrix for 1994-08-09 done.\ncorr_matrix for 1994-08-08 done.\ncorr_matrix for 1994-08-05 done.\ncorr_matrix for 1994-08-04 done.\ncorr_matrix for 1994-08-03 done.\n"
     ]
    },
    {
     "name": "stdout",
     "output_type": "stream",
     "text": [
      "corr_matrix for 1994-08-02 done.\ncorr_matrix for 1994-08-01 done.\ncorr_matrix for 1994-07-29 done.\ncorr_matrix for 1994-07-28 done.\ncorr_matrix for 1994-07-27 done.\ncorr_matrix for 1994-07-26 done.\ncorr_matrix for 1994-07-25 done.\ncorr_matrix for 1994-07-22 done.\ncorr_matrix for 1994-07-21 done.\n"
     ]
    },
    {
     "name": "stdout",
     "output_type": "stream",
     "text": [
      "corr_matrix for 1994-07-20 done.\ncorr_matrix for 1994-07-19 done.\ncorr_matrix for 1994-07-18 done.\ncorr_matrix for 1994-07-15 done.\ncorr_matrix for 1994-07-14 done.\ncorr_matrix for 1994-07-13 done.\ncorr_matrix for 1994-07-12 done.\ncorr_matrix for 1994-07-11 done.\ncorr_matrix for 1994-07-08 done.\ncorr_matrix for 1994-07-07 done.\n"
     ]
    },
    {
     "name": "stdout",
     "output_type": "stream",
     "text": [
      "corr_matrix for 1994-07-06 done.\ncorr_matrix for 1994-07-05 done.\ncorr_matrix for 1994-07-01 done.\ncorr_matrix for 1994-06-30 done.\ncorr_matrix for 1994-06-29 done.\ncorr_matrix for 1994-06-28 done.\ncorr_matrix for 1994-06-27 done.\ncorr_matrix for 1994-06-24 done.\ncorr_matrix for 1994-06-23 done.\ncorr_matrix for 1994-06-22 done.\n"
     ]
    },
    {
     "name": "stdout",
     "output_type": "stream",
     "text": [
      "corr_matrix for 1994-06-21 done.\ncorr_matrix for 1994-06-20 done.\ncorr_matrix for 1994-06-17 done.\ncorr_matrix for 1994-06-16 done.\ncorr_matrix for 1994-06-15 done.\ncorr_matrix for 1994-06-14 done.\ncorr_matrix for 1994-06-13 done.\ncorr_matrix for 1994-06-10 done.\ncorr_matrix for 1994-06-09 done.\ncorr_matrix for 1994-06-08 done.\n"
     ]
    },
    {
     "name": "stdout",
     "output_type": "stream",
     "text": [
      "corr_matrix for 1994-06-07 done.\ncorr_matrix for 1994-06-06 done.\ncorr_matrix for 1994-06-03 done.\ncorr_matrix for 1994-06-02 done.\ncorr_matrix for 1994-06-01 done.\ncorr_matrix for 1994-05-31 done.\ncorr_matrix for 1994-05-27 done.\ncorr_matrix for 1994-05-26 done.\ncorr_matrix for 1994-05-25 done.\ncorr_matrix for 1994-05-24 done.\ncorr_matrix for 1994-05-23 done."
     ]
    },
    {
     "name": "stdout",
     "output_type": "stream",
     "text": [
      "\ncorr_matrix for 1994-05-20 done.\ncorr_matrix for 1994-05-19 done.\ncorr_matrix for 1994-05-18 done.\ncorr_matrix for 1994-05-17 done.\ncorr_matrix for 1994-05-16 done.\ncorr_matrix for 1994-05-13 done.\ncorr_matrix for 1994-05-12 done.\ncorr_matrix for 1994-05-11 done.\ncorr_matrix for 1994-05-10 done.\ncorr_matrix for 1994-05-09 done.\n"
     ]
    },
    {
     "name": "stdout",
     "output_type": "stream",
     "text": [
      "corr_matrix for 1994-05-06 done.\ncorr_matrix for 1994-05-05 done.\ncorr_matrix for 1994-05-04 done.\ncorr_matrix for 1994-05-03 done.\ncorr_matrix for 1994-05-02 done.\ncorr_matrix for 1994-04-29 done.\ncorr_matrix for 1994-04-28 done.\ncorr_matrix for 1994-04-26 done.\ncorr_matrix for 1994-04-25 done.\ncorr_matrix for 1994-04-22 done.\n"
     ]
    },
    {
     "name": "stdout",
     "output_type": "stream",
     "text": [
      "corr_matrix for 1994-04-21 done.\ncorr_matrix for 1994-04-20 done.\ncorr_matrix for 1994-04-19 done.\ncorr_matrix for 1994-04-18 done.\ncorr_matrix for 1994-04-15 done.\ncorr_matrix for 1994-04-14 done.\ncorr_matrix for 1994-04-13 done.\ncorr_matrix for 1994-04-12 done.\ncorr_matrix for 1994-04-11 done.\ncorr_matrix for 1994-04-08 done.\ncorr_matrix for 1994-04-07 done.\n"
     ]
    },
    {
     "name": "stdout",
     "output_type": "stream",
     "text": [
      "corr_matrix for 1994-04-06 done.\ncorr_matrix for 1994-04-05 done.\ncorr_matrix for 1994-04-04 done.\ncorr_matrix for 1994-03-31 done.\ncorr_matrix for 1994-03-30 done.\ncorr_matrix for 1994-03-29 done.\ncorr_matrix for 1994-03-28 done.\ncorr_matrix for 1994-03-25 done.\ncorr_matrix for 1994-03-24 done.\ncorr_matrix for 1994-03-23 done.\ncorr_matrix for 1994-03-22 done.\n"
     ]
    },
    {
     "name": "stdout",
     "output_type": "stream",
     "text": [
      "corr_matrix for 1994-03-21 done.\ncorr_matrix for 1994-03-18 done.\ncorr_matrix for 1994-03-17 done.\ncorr_matrix for 1994-03-16 done.\ncorr_matrix for 1994-03-15 done.\ncorr_matrix for 1994-03-14 done.\ncorr_matrix for 1994-03-11 done.\ncorr_matrix for 1994-03-10 done.\ncorr_matrix for 1994-03-09 done.\ncorr_matrix for 1994-03-08 done.\ncorr_matrix for 1994-03-07 done.\n"
     ]
    },
    {
     "name": "stdout",
     "output_type": "stream",
     "text": [
      "corr_matrix for 1994-03-04 done.\ncorr_matrix for 1994-03-03 done.\ncorr_matrix for 1994-03-02 done.\ncorr_matrix for 1994-03-01 done.\ncorr_matrix for 1994-02-28 done.\ncorr_matrix for 1994-02-25 done.\ncorr_matrix for 1994-02-24 done.\ncorr_matrix for 1994-02-23 done.\ncorr_matrix for 1994-02-22 done.\ncorr_matrix for 1994-02-18 done.\ncorr_matrix for 1994-02-17 done.\n"
     ]
    },
    {
     "name": "stdout",
     "output_type": "stream",
     "text": [
      "corr_matrix for 1994-02-16 done.\ncorr_matrix for 1994-02-15 done.\ncorr_matrix for 1994-02-14 done.\ncorr_matrix for 1994-02-11 done.\ncorr_matrix for 1994-02-10 done.\ncorr_matrix for 1994-02-09 done.\ncorr_matrix for 1994-02-08 done.\ncorr_matrix for 1994-02-07 done.\ncorr_matrix for 1994-02-04 done.\ncorr_matrix for 1994-02-03 done.\ncorr_matrix for 1994-02-02 done.\n"
     ]
    },
    {
     "name": "stdout",
     "output_type": "stream",
     "text": [
      "corr_matrix for 1994-02-01 done.\ncorr_matrix for 1994-01-31 done.\ncorr_matrix for 1994-01-28 done.\ncorr_matrix for 1994-01-27 done.\ncorr_matrix for 1994-01-26 done.\ncorr_matrix for 1994-01-25 done.\ncorr_matrix for 1994-01-24 done.\ncorr_matrix for 1994-01-21 done.\ncorr_matrix for 1994-01-20 done.\ncorr_matrix for 1994-01-19 done.\ncorr_matrix for 1994-01-18 done.\n"
     ]
    },
    {
     "name": "stdout",
     "output_type": "stream",
     "text": [
      "corr_matrix for 1994-01-17 done.\ncorr_matrix for 1994-01-14 done.\ncorr_matrix for 1994-01-13 done.\ncorr_matrix for 1994-01-12 done.\ncorr_matrix for 1994-01-11 done.\ncorr_matrix for 1994-01-10 done.\ncorr_matrix for 1994-01-07 done.\ncorr_matrix for 1994-01-06 done.\ncorr_matrix for 1994-01-05 done.\ncorr_matrix for 1994-01-04 done.\ncorr_matrix for 1994-01-03 done.\n"
     ]
    },
    {
     "name": "stdout",
     "output_type": "stream",
     "text": [
      "corr_matrix for 1993-12-31 done.\ncorr_matrix for 1993-12-30 done.\ncorr_matrix for 1993-12-29 done.\ncorr_matrix for 1993-12-28 done.\ncorr_matrix for 1993-12-27 done.\ncorr_matrix for 1993-12-23 done.\ncorr_matrix for 1993-12-22 done.\ncorr_matrix for 1993-12-21 done.\ncorr_matrix for 1993-12-20 done.\ncorr_matrix for 1993-12-17 done.\ncorr_matrix for 1993-12-16 done.\n"
     ]
    },
    {
     "name": "stdout",
     "output_type": "stream",
     "text": [
      "corr_matrix for 1993-12-15 done.\ncorr_matrix for 1993-12-14 done.\ncorr_matrix for 1993-12-13 done.\ncorr_matrix for 1993-12-10 done.\ncorr_matrix for 1993-12-09 done.\ncorr_matrix for 1993-12-08 done.\ncorr_matrix for 1993-12-07 done.\ncorr_matrix for 1993-12-06 done.\ncorr_matrix for 1993-12-03 done.\n"
     ]
    },
    {
     "name": "stdout",
     "output_type": "stream",
     "text": [
      "corr_matrix for 1993-12-02 done.\ncorr_matrix for 1993-12-01 done.\ncorr_matrix for 1993-11-30 done.\ncorr_matrix for 1993-11-29 done.\ncorr_matrix for 1993-11-26 done.\ncorr_matrix for 1993-11-24 done.\ncorr_matrix for 1993-11-23 done.\ncorr_matrix for 1993-11-22 done.\ncorr_matrix for 1993-11-19 done.\ncorr_matrix for 1993-11-18 done.\ncorr_matrix for 1993-11-17 done.\n"
     ]
    },
    {
     "name": "stdout",
     "output_type": "stream",
     "text": [
      "corr_matrix for 1993-11-16 done.\ncorr_matrix for 1993-11-15 done.\ncorr_matrix for 1993-11-12 done.\ncorr_matrix for 1993-11-11 done.\ncorr_matrix for 1993-11-10 done.\ncorr_matrix for 1993-11-09 done.\ncorr_matrix for 1993-11-08 done.\ncorr_matrix for 1993-11-05 done.\ncorr_matrix for 1993-11-04 done.\ncorr_matrix for 1993-11-03 done.\ncorr_matrix for 1993-11-02 done.\n"
     ]
    },
    {
     "name": "stdout",
     "output_type": "stream",
     "text": [
      "corr_matrix for 1993-11-01 done.\ncorr_matrix for 1993-10-29 done.\ncorr_matrix for 1993-10-28 done.\ncorr_matrix for 1993-10-27 done.\ncorr_matrix for 1993-10-26 done.\ncorr_matrix for 1993-10-25 done.\ncorr_matrix for 1993-10-22 done.\ncorr_matrix for 1993-10-21 done.\ncorr_matrix for 1993-10-20 done.\ncorr_matrix for 1993-10-19 done.\ncorr_matrix for 1993-10-18 done.\ncorr_matrix for 1993-10-15 done.\n"
     ]
    },
    {
     "name": "stdout",
     "output_type": "stream",
     "text": [
      "corr_matrix for 1993-10-14 done.\ncorr_matrix for 1993-10-13 done.\ncorr_matrix for 1993-10-12 done.\ncorr_matrix for 1993-10-11 done.\ncorr_matrix for 1993-10-08 done.\ncorr_matrix for 1993-10-07 done.\ncorr_matrix for 1993-10-06 done.\ncorr_matrix for 1993-10-05 done.\ncorr_matrix for 1993-10-04 done.\ncorr_matrix for 1993-10-01 done.\ncorr_matrix for 1993-09-30 done.\n"
     ]
    },
    {
     "name": "stdout",
     "output_type": "stream",
     "text": [
      "corr_matrix for 1993-09-29 done.\ncorr_matrix for 1993-09-28 done.\ncorr_matrix for 1993-09-27 done.\ncorr_matrix for 1993-09-24 done.\ncorr_matrix for 1993-09-23 done.\ncorr_matrix for 1993-09-22 done.\ncorr_matrix for 1993-09-21 done.\ncorr_matrix for 1993-09-20 done.\ncorr_matrix for 1993-09-17 done.\ncorr_matrix for 1993-09-16 done.\n"
     ]
    },
    {
     "name": "stdout",
     "output_type": "stream",
     "text": [
      "corr_matrix for 1993-09-15 done.\ncorr_matrix for 1993-09-14 done.\ncorr_matrix for 1993-09-13 done.\ncorr_matrix for 1993-09-10 done.\ncorr_matrix for 1993-09-09 done.\ncorr_matrix for 1993-09-08 done.\ncorr_matrix for 1993-09-07 done.\ncorr_matrix for 1993-09-03 done.\ncorr_matrix for 1993-09-02 done.\ncorr_matrix for 1993-09-01 done.\ncorr_matrix for 1993-08-31 done.\n"
     ]
    },
    {
     "name": "stdout",
     "output_type": "stream",
     "text": [
      "corr_matrix for 1993-08-30 done.\ncorr_matrix for 1993-08-27 done.\ncorr_matrix for 1993-08-26 done.\ncorr_matrix for 1993-08-25 done.\ncorr_matrix for 1993-08-24 done.\ncorr_matrix for 1993-08-23 done.\ncorr_matrix for 1993-08-20 done.\ncorr_matrix for 1993-08-19 done.\ncorr_matrix for 1993-08-18 done.\ncorr_matrix for 1993-08-17 done.\n"
     ]
    },
    {
     "name": "stdout",
     "output_type": "stream",
     "text": [
      "corr_matrix for 1993-08-16 done.\ncorr_matrix for 1993-08-13 done.\ncorr_matrix for 1993-08-12 done.\ncorr_matrix for 1993-08-11 done.\ncorr_matrix for 1993-08-10 done.\ncorr_matrix for 1993-08-09 done.\ncorr_matrix for 1993-08-06 done.\ncorr_matrix for 1993-08-05 done.\ncorr_matrix for 1993-08-04 done.\ncorr_matrix for 1993-08-03 done.\n"
     ]
    },
    {
     "name": "stdout",
     "output_type": "stream",
     "text": [
      "corr_matrix for 1993-08-02 done.\ncorr_matrix for 1993-07-30 done.\ncorr_matrix for 1993-07-29 done.\ncorr_matrix for 1993-07-28 done.\ncorr_matrix for 1993-07-27 done.\ncorr_matrix for 1993-07-26 done.\ncorr_matrix for 1993-07-23 done.\ncorr_matrix for 1993-07-22 done.\ncorr_matrix for 1993-07-21 done.\ncorr_matrix for 1993-07-20 done.\ncorr_matrix for 1993-07-19 done.\n"
     ]
    },
    {
     "name": "stdout",
     "output_type": "stream",
     "text": [
      "corr_matrix for 1993-07-16 done.\ncorr_matrix for 1993-07-15 done.\ncorr_matrix for 1993-07-14 done.\ncorr_matrix for 1993-07-13 done.\ncorr_matrix for 1993-07-12 done.\ncorr_matrix for 1993-07-09 done.\ncorr_matrix for 1993-07-08 done.\ncorr_matrix for 1993-07-07 done.\ncorr_matrix for 1993-07-06 done.\ncorr_matrix for 1993-07-02 done.\ncorr_matrix for 1993-07-01 done.\n"
     ]
    },
    {
     "name": "stdout",
     "output_type": "stream",
     "text": [
      "corr_matrix for 1993-06-30 done.\ncorr_matrix for 1993-06-29 done.\ncorr_matrix for 1993-06-28 done.\ncorr_matrix for 1993-06-25 done.\ncorr_matrix for 1993-06-24 done.\ncorr_matrix for 1993-06-23 done.\ncorr_matrix for 1993-06-22 done.\ncorr_matrix for 1993-06-21 done.\ncorr_matrix for 1993-06-18 done.\ncorr_matrix for 1993-06-17 done.\ncorr_matrix for 1993-06-16 done.\n"
     ]
    },
    {
     "name": "stdout",
     "output_type": "stream",
     "text": [
      "corr_matrix for 1993-06-15 done.\ncorr_matrix for 1993-06-14 done.\ncorr_matrix for 1993-06-11 done.\ncorr_matrix for 1993-06-10 done.\ncorr_matrix for 1993-06-09 done.\ncorr_matrix for 1993-06-08 done.\ncorr_matrix for 1993-06-07 done.\ncorr_matrix for 1993-06-04 done.\ncorr_matrix for 1993-06-03 done.\ncorr_matrix for 1993-06-02 done.\ncorr_matrix for 1993-06-01 done.\ncorr_matrix for 1993-05-28 done."
     ]
    },
    {
     "name": "stdout",
     "output_type": "stream",
     "text": [
      "\ncorr_matrix for 1993-05-27 done.\ncorr_matrix for 1993-05-26 done.\ncorr_matrix for 1993-05-25 done.\ncorr_matrix for 1993-05-24 done.\ncorr_matrix for 1993-05-21 done.\ncorr_matrix for 1993-05-20 done.\ncorr_matrix for 1993-05-19 done.\ncorr_matrix for 1993-05-18 done.\ncorr_matrix for 1993-05-17 done.\ncorr_matrix for 1993-05-14 done.\ncorr_matrix for 1993-05-13 done.\n"
     ]
    },
    {
     "name": "stdout",
     "output_type": "stream",
     "text": [
      "corr_matrix for 1993-05-12 done.\ncorr_matrix for 1993-05-11 done.\ncorr_matrix for 1993-05-10 done.\ncorr_matrix for 1993-05-07 done.\ncorr_matrix for 1993-05-06 done.\ncorr_matrix for 1993-05-05 done.\ncorr_matrix for 1993-05-04 done.\ncorr_matrix for 1993-05-03 done.\ncorr_matrix for 1993-04-30 done.\ncorr_matrix for 1993-04-29 done.\n"
     ]
    },
    {
     "name": "stdout",
     "output_type": "stream",
     "text": [
      "corr_matrix for 1993-04-28 done.\ncorr_matrix for 1993-04-27 done.\ncorr_matrix for 1993-04-26 done.\ncorr_matrix for 1993-04-23 done.\ncorr_matrix for 1993-04-22 done.\ncorr_matrix for 1993-04-21 done.\ncorr_matrix for 1993-04-20 done.\ncorr_matrix for 1993-04-19 done.\ncorr_matrix for 1993-04-16 done.\ncorr_matrix for 1993-04-15 done.\ncorr_matrix for 1993-04-14 done."
     ]
    },
    {
     "name": "stdout",
     "output_type": "stream",
     "text": [
      "\ncorr_matrix for 1993-04-13 done.\ncorr_matrix for 1993-04-12 done.\ncorr_matrix for 1993-04-08 done.\ncorr_matrix for 1993-04-07 done.\ncorr_matrix for 1993-04-06 done.\ncorr_matrix for 1993-04-05 done.\ncorr_matrix for 1993-04-02 done.\ncorr_matrix for 1993-04-01 done.\ncorr_matrix for 1993-03-31 done.\ncorr_matrix for 1993-03-30 done.\ncorr_matrix for 1993-03-29 done.\n"
     ]
    },
    {
     "name": "stdout",
     "output_type": "stream",
     "text": [
      "corr_matrix for 1993-03-26 done.\ncorr_matrix for 1993-03-25 done.\ncorr_matrix for 1993-03-24 done.\ncorr_matrix for 1993-03-23 done.\ncorr_matrix for 1993-03-22 done.\ncorr_matrix for 1993-03-19 done.\ncorr_matrix for 1993-03-18 done.\ncorr_matrix for 1993-03-17 done.\n"
     ]
    },
    {
     "name": "stdout",
     "output_type": "stream",
     "text": [
      "corr_matrix for 1993-03-16 done.\ncorr_matrix for 1993-03-15 done.\ncorr_matrix for 1993-03-12 done.\ncorr_matrix for 1993-03-11 done.\ncorr_matrix for 1993-03-10 done.\ncorr_matrix for 1993-03-09 done.\ncorr_matrix for 1993-03-08 done.\ncorr_matrix for 1993-03-05 done.\n"
     ]
    },
    {
     "name": "stdout",
     "output_type": "stream",
     "text": [
      "corr_matrix for 1993-03-04 done.\ncorr_matrix for 1993-03-03 done.\ncorr_matrix for 1993-03-02 done.\ncorr_matrix for 1993-03-01 done.\ncorr_matrix for 1993-02-26 done.\ncorr_matrix for 1993-02-25 done.\ncorr_matrix for 1993-02-24 done.\ncorr_matrix for 1993-02-23 done.\ncorr_matrix for 1993-02-22 done.\ncorr_matrix for 1993-02-19 done.\n"
     ]
    },
    {
     "name": "stdout",
     "output_type": "stream",
     "text": [
      "corr_matrix for 1993-02-18 done.\ncorr_matrix for 1993-02-17 done.\ncorr_matrix for 1993-02-16 done.\ncorr_matrix for 1993-02-12 done.\ncorr_matrix for 1993-02-11 done.\ncorr_matrix for 1993-02-10 done.\ncorr_matrix for 1993-02-09 done.\ncorr_matrix for 1993-02-08 done.\ncorr_matrix for 1993-02-05 done.\ncorr_matrix for 1993-02-04 done.\n"
     ]
    },
    {
     "name": "stdout",
     "output_type": "stream",
     "text": [
      "corr_matrix for 1993-02-03 done.\ncorr_matrix for 1993-02-02 done.\ncorr_matrix for 1993-02-01 done.\ncorr_matrix for 1993-01-29 done.\ncorr_matrix for 1993-01-28 done.\ncorr_matrix for 1993-01-27 done.\ncorr_matrix for 1993-01-26 done.\ncorr_matrix for 1993-01-25 done.\ncorr_matrix for 1993-01-22 done.\ncorr_matrix for 1993-01-21 done.\ncorr_matrix for 1993-01-20 done.\n"
     ]
    },
    {
     "name": "stdout",
     "output_type": "stream",
     "text": [
      "corr_matrix for 1993-01-19 done.\ncorr_matrix for 1993-01-18 done.\ncorr_matrix for 1993-01-15 done.\ncorr_matrix for 1993-01-14 done.\ncorr_matrix for 1993-01-13 done.\ncorr_matrix for 1993-01-12 done.\ncorr_matrix for 1993-01-11 done.\ncorr_matrix for 1993-01-08 done.\ncorr_matrix for 1993-01-07 done.\ncorr_matrix for 1993-01-06 done.\n"
     ]
    },
    {
     "name": "stdout",
     "output_type": "stream",
     "text": [
      "corr_matrix for 1993-01-05 done.\ncorr_matrix for 1993-01-04 done.\ncorr_matrix for 1992-12-31 done.\ncorr_matrix for 1992-12-30 done.\ncorr_matrix for 1992-12-29 done.\ncorr_matrix for 1992-12-28 done.\ncorr_matrix for 1992-12-24 done.\ncorr_matrix for 1992-12-23 done.\n"
     ]
    },
    {
     "name": "stdout",
     "output_type": "stream",
     "text": [
      "corr_matrix for 1992-12-22 done.\ncorr_matrix for 1992-12-21 done.\ncorr_matrix for 1992-12-18 done.\ncorr_matrix for 1992-12-17 done.\ncorr_matrix for 1992-12-16 done.\ncorr_matrix for 1992-12-15 done.\ncorr_matrix for 1992-12-14 done.\ncorr_matrix for 1992-12-11 done.\ncorr_matrix for 1992-12-10 done.\ncorr_matrix for 1992-12-09 done.\n"
     ]
    },
    {
     "name": "stdout",
     "output_type": "stream",
     "text": [
      "corr_matrix for 1992-12-08 done.\ncorr_matrix for 1992-12-07 done.\ncorr_matrix for 1992-12-04 done.\n"
     ]
    },
    {
     "name": "stdout",
     "output_type": "stream",
     "text": [
      "corr_matrix for 1992-12-03 done.\ncorr_matrix for 1992-12-02 done.\ncorr_matrix for 1992-12-01 done.\ncorr_matrix for 1992-11-30 done.\ncorr_matrix for 1992-11-27 done.\ncorr_matrix for 1992-11-25 done.\ncorr_matrix for 1992-11-24 done.\ncorr_matrix for 1992-11-23 done.\ncorr_matrix for 1992-11-20 done.\ncorr_matrix for 1992-11-19 done.\ncorr_matrix for 1992-11-18 done.\n"
     ]
    },
    {
     "name": "stdout",
     "output_type": "stream",
     "text": [
      "corr_matrix for 1992-11-17 done.\ncorr_matrix for 1992-11-16 done.\ncorr_matrix for 1992-11-13 done.\ncorr_matrix for 1992-11-12 done.\ncorr_matrix for 1992-11-11 done.\ncorr_matrix for 1992-11-10 done.\ncorr_matrix for 1992-11-09 done.\ncorr_matrix for 1992-11-06 done.\ncorr_matrix for 1992-11-05 done.\ncorr_matrix for 1992-11-04 done.\ncorr_matrix for 1992-11-03 done.\n"
     ]
    },
    {
     "name": "stdout",
     "output_type": "stream",
     "text": [
      "corr_matrix for 1992-11-02 done.\ncorr_matrix for 1992-10-30 done.\ncorr_matrix for 1992-10-29 done.\ncorr_matrix for 1992-10-28 done.\ncorr_matrix for 1992-10-27 done.\ncorr_matrix for 1992-10-26 done.\ncorr_matrix for 1992-10-23 done.\ncorr_matrix for 1992-10-22 done.\ncorr_matrix for 1992-10-21 done.\ncorr_matrix for 1992-10-20 done.\ncorr_matrix for 1992-10-19 done.\n"
     ]
    },
    {
     "name": "stdout",
     "output_type": "stream",
     "text": [
      "corr_matrix for 1992-10-16 done.\ncorr_matrix for 1992-10-15 done.\ncorr_matrix for 1992-10-14 done.\ncorr_matrix for 1992-10-13 done.\ncorr_matrix for 1992-10-12 done.\ncorr_matrix for 1992-10-09 done.\ncorr_matrix for 1992-10-08 done.\ncorr_matrix for 1992-10-07 done.\ncorr_matrix for 1992-10-06 done.\ncorr_matrix for 1992-10-05 done.\ncorr_matrix for 1992-10-02 done.\n"
     ]
    },
    {
     "name": "stdout",
     "output_type": "stream",
     "text": [
      "corr_matrix for 1992-10-01 done.\ncorr_matrix for 1992-09-30 done.\ncorr_matrix for 1992-09-29 done.\ncorr_matrix for 1992-09-28 done.\ncorr_matrix for 1992-09-25 done.\ncorr_matrix for 1992-09-24 done.\ncorr_matrix for 1992-09-23 done.\ncorr_matrix for 1992-09-22 done.\ncorr_matrix for 1992-09-21 done.\ncorr_matrix for 1992-09-18 done.\ncorr_matrix for 1992-09-17 done.\ncorr_matrix for 1992-09-16 done."
     ]
    },
    {
     "name": "stdout",
     "output_type": "stream",
     "text": [
      "\ncorr_matrix for 1992-09-15 done.\ncorr_matrix for 1992-09-14 done.\ncorr_matrix for 1992-09-11 done.\ncorr_matrix for 1992-09-10 done.\ncorr_matrix for 1992-09-09 done.\ncorr_matrix for 1992-09-08 done.\ncorr_matrix for 1992-09-04 done.\ncorr_matrix for 1992-09-03 done.\ncorr_matrix for 1992-09-02 done.\ncorr_matrix for 1992-09-01 done.\ncorr_matrix for 1992-08-31 done.\n"
     ]
    },
    {
     "name": "stdout",
     "output_type": "stream",
     "text": [
      "corr_matrix for 1992-08-28 done.\ncorr_matrix for 1992-08-27 done.\ncorr_matrix for 1992-08-26 done.\ncorr_matrix for 1992-08-25 done.\ncorr_matrix for 1992-08-24 done.\ncorr_matrix for 1992-08-21 done.\ncorr_matrix for 1992-08-20 done.\ncorr_matrix for 1992-08-19 done.\ncorr_matrix for 1992-08-18 done.\ncorr_matrix for 1992-08-17 done.\ncorr_matrix for 1992-08-14 done.\n"
     ]
    },
    {
     "name": "stdout",
     "output_type": "stream",
     "text": [
      "corr_matrix for 1992-08-13 done.\ncorr_matrix for 1992-08-12 done.\ncorr_matrix for 1992-08-11 done.\ncorr_matrix for 1992-08-10 done.\ncorr_matrix for 1992-08-07 done.\ncorr_matrix for 1992-08-06 done.\ncorr_matrix for 1992-08-05 done.\ncorr_matrix for 1992-08-04 done.\ncorr_matrix for 1992-08-03 done.\ncorr_matrix for 1992-07-31 done.\ncorr_matrix for 1992-07-30 done.\n"
     ]
    },
    {
     "name": "stdout",
     "output_type": "stream",
     "text": [
      "corr_matrix for 1992-07-29 done.\ncorr_matrix for 1992-07-28 done.\ncorr_matrix for 1992-07-27 done.\ncorr_matrix for 1992-07-24 done.\ncorr_matrix for 1992-07-23 done.\ncorr_matrix for 1992-07-22 done.\ncorr_matrix for 1992-07-21 done.\ncorr_matrix for 1992-07-20 done.\ncorr_matrix for 1992-07-17 done.\ncorr_matrix for 1992-07-16 done.\ncorr_matrix for 1992-07-15 done.\n"
     ]
    },
    {
     "name": "stdout",
     "output_type": "stream",
     "text": [
      "corr_matrix for 1992-07-14 done.\ncorr_matrix for 1992-07-13 done.\ncorr_matrix for 1992-07-10 done.\ncorr_matrix for 1992-07-09 done.\ncorr_matrix for 1992-07-08 done.\ncorr_matrix for 1992-07-07 done.\ncorr_matrix for 1992-07-06 done.\ncorr_matrix for 1992-07-02 done.\ncorr_matrix for 1992-07-01 done.\ncorr_matrix for 1992-06-30 done.\ncorr_matrix for 1992-06-29 done.\n"
     ]
    },
    {
     "name": "stdout",
     "output_type": "stream",
     "text": [
      "corr_matrix for 1992-06-26 done.\ncorr_matrix for 1992-06-25 done.\ncorr_matrix for 1992-06-24 done.\ncorr_matrix for 1992-06-23 done.\ncorr_matrix for 1992-06-22 done.\ncorr_matrix for 1992-06-19 done.\ncorr_matrix for 1992-06-18 done.\ncorr_matrix for 1992-06-17 done.\ncorr_matrix for 1992-06-16 done.\ncorr_matrix for 1992-06-15 done.\ncorr_matrix for 1992-06-12 done.\n"
     ]
    },
    {
     "name": "stdout",
     "output_type": "stream",
     "text": [
      "corr_matrix for 1992-06-11 done.\ncorr_matrix for 1992-06-10 done.\ncorr_matrix for 1992-06-09 done.\ncorr_matrix for 1992-06-08 done.\ncorr_matrix for 1992-06-05 done.\ncorr_matrix for 1992-06-04 done.\ncorr_matrix for 1992-06-03 done.\ncorr_matrix for 1992-06-02 done.\ncorr_matrix for 1992-06-01 done.\ncorr_matrix for 1992-05-29 done.\ncorr_matrix for 1992-05-28 done.\ncorr_matrix for 1992-05-27 done."
     ]
    },
    {
     "name": "stdout",
     "output_type": "stream",
     "text": [
      "\ncorr_matrix for 1992-05-26 done.\ncorr_matrix for 1992-05-22 done.\ncorr_matrix for 1992-05-21 done.\ncorr_matrix for 1992-05-20 done.\ncorr_matrix for 1992-05-19 done.\ncorr_matrix for 1992-05-18 done.\ncorr_matrix for 1992-05-15 done.\ncorr_matrix for 1992-05-14 done.\ncorr_matrix for 1992-05-13 done.\ncorr_matrix for 1992-05-12 done.\ncorr_matrix for 1992-05-11 done.\n"
     ]
    },
    {
     "name": "stdout",
     "output_type": "stream",
     "text": [
      "corr_matrix for 1992-05-08 done.\ncorr_matrix for 1992-05-07 done.\ncorr_matrix for 1992-05-06 done.\ncorr_matrix for 1992-05-05 done.\ncorr_matrix for 1992-05-04 done.\ncorr_matrix for 1992-05-01 done.\ncorr_matrix for 1992-04-30 done.\ncorr_matrix for 1992-04-29 done.\ncorr_matrix for 1992-04-28 done.\ncorr_matrix for 1992-04-27 done.\ncorr_matrix for 1992-04-24 done.\n"
     ]
    },
    {
     "name": "stdout",
     "output_type": "stream",
     "text": [
      "corr_matrix for 1992-04-23 done.\ncorr_matrix for 1992-04-22 done.\ncorr_matrix for 1992-04-21 done.\ncorr_matrix for 1992-04-20 done.\ncorr_matrix for 1992-04-16 done.\ncorr_matrix for 1992-04-15 done.\ncorr_matrix for 1992-04-14 done.\ncorr_matrix for 1992-04-13 done.\ncorr_matrix for 1992-04-10 done.\ncorr_matrix for 1992-04-09 done.\ncorr_matrix for 1992-04-08 done.\ncorr_matrix for 1992-04-07 done.\n"
     ]
    },
    {
     "name": "stdout",
     "output_type": "stream",
     "text": [
      "corr_matrix for 1992-04-06 done.\ncorr_matrix for 1992-04-03 done.\ncorr_matrix for 1992-04-02 done.\ncorr_matrix for 1992-04-01 done.\ncorr_matrix for 1992-03-31 done.\ncorr_matrix for 1992-03-30 done.\ncorr_matrix for 1992-03-27 done.\ncorr_matrix for 1992-03-26 done.\ncorr_matrix for 1992-03-25 done.\ncorr_matrix for 1992-03-24 done.\ncorr_matrix for 1992-03-23 done.\n"
     ]
    },
    {
     "name": "stdout",
     "output_type": "stream",
     "text": [
      "corr_matrix for 1992-03-20 done.\ncorr_matrix for 1992-03-19 done.\ncorr_matrix for 1992-03-18 done.\ncorr_matrix for 1992-03-17 done.\ncorr_matrix for 1992-03-16 done.\ncorr_matrix for 1992-03-13 done.\ncorr_matrix for 1992-03-12 done.\ncorr_matrix for 1992-03-11 done.\ncorr_matrix for 1992-03-10 done.\ncorr_matrix for 1992-03-09 done.\n"
     ]
    },
    {
     "name": "stdout",
     "output_type": "stream",
     "text": [
      "corr_matrix for 1992-03-06 done.\ncorr_matrix for 1992-03-05 done.\ncorr_matrix for 1992-03-04 done.\ncorr_matrix for 1992-03-03 done.\ncorr_matrix for 1992-03-02 done.\ncorr_matrix for 1992-02-28 done.\ncorr_matrix for 1992-02-27 done.\ncorr_matrix for 1992-02-26 done.\ncorr_matrix for 1992-02-25 done.\ncorr_matrix for 1992-02-24 done.\ncorr_matrix for 1992-02-21 done.\n"
     ]
    },
    {
     "name": "stdout",
     "output_type": "stream",
     "text": [
      "corr_matrix for 1992-02-20 done.\ncorr_matrix for 1992-02-19 done.\ncorr_matrix for 1992-02-18 done.\ncorr_matrix for 1992-02-14 done.\ncorr_matrix for 1992-02-13 done.\ncorr_matrix for 1992-02-12 done.\ncorr_matrix for 1992-02-11 done.\ncorr_matrix for 1992-02-10 done.\ncorr_matrix for 1992-02-07 done.\ncorr_matrix for 1992-02-06 done.\n"
     ]
    },
    {
     "name": "stdout",
     "output_type": "stream",
     "text": [
      "corr_matrix for 1992-02-05 done.\ncorr_matrix for 1992-02-04 done.\ncorr_matrix for 1992-02-03 done.\ncorr_matrix for 1992-01-31 done.\ncorr_matrix for 1992-01-30 done.\ncorr_matrix for 1992-01-29 done.\ncorr_matrix for 1992-01-28 done.\ncorr_matrix for 1992-01-27 done.\ncorr_matrix for 1992-01-24 done.\ncorr_matrix for 1992-01-23 done.\ncorr_matrix for 1992-01-22 done."
     ]
    },
    {
     "name": "stdout",
     "output_type": "stream",
     "text": [
      "\ncorr_matrix for 1992-01-21 done.\ncorr_matrix for 1992-01-20 done.\ncorr_matrix for 1992-01-17 done.\ncorr_matrix for 1992-01-16 done.\ncorr_matrix for 1992-01-15 done.\ncorr_matrix for 1992-01-14 done.\ncorr_matrix for 1992-01-13 done.\ncorr_matrix for 1992-01-10 done.\ncorr_matrix for 1992-01-09 done.\ncorr_matrix for 1992-01-08 done.\ncorr_matrix for 1992-01-07 done.\n"
     ]
    },
    {
     "name": "stdout",
     "output_type": "stream",
     "text": [
      "corr_matrix for 1992-01-06 done.\ncorr_matrix for 1992-01-03 done.\ncorr_matrix for 1992-01-02 done.\ncorr_matrix for 1991-12-31 done.\ncorr_matrix for 1991-12-30 done.\ncorr_matrix for 1991-12-27 done.\ncorr_matrix for 1991-12-26 done.\ncorr_matrix for 1991-12-24 done.\ncorr_matrix for 1991-12-23 done.\ncorr_matrix for 1991-12-20 done.\ncorr_matrix for 1991-12-19 done.\n"
     ]
    },
    {
     "name": "stdout",
     "output_type": "stream",
     "text": [
      "corr_matrix for 1991-12-18 done.\ncorr_matrix for 1991-12-17 done.\ncorr_matrix for 1991-12-16 done.\ncorr_matrix for 1991-12-13 done.\ncorr_matrix for 1991-12-12 done.\ncorr_matrix for 1991-12-11 done.\ncorr_matrix for 1991-12-10 done.\ncorr_matrix for 1991-12-09 done.\ncorr_matrix for 1991-12-06 done.\ncorr_matrix for 1991-12-05 done.\ncorr_matrix for 1991-12-04 done.\n"
     ]
    },
    {
     "name": "stdout",
     "output_type": "stream",
     "text": [
      "corr_matrix for 1991-12-03 done.\ncorr_matrix for 1991-12-02 done.\ncorr_matrix for 1991-11-29 done.\ncorr_matrix for 1991-11-27 done.\ncorr_matrix for 1991-11-26 done.\ncorr_matrix for 1991-11-25 done.\ncorr_matrix for 1991-11-22 done.\ncorr_matrix for 1991-11-21 done.\ncorr_matrix for 1991-11-20 done.\ncorr_matrix for 1991-11-19 done.\ncorr_matrix for 1991-11-18 done.\n"
     ]
    },
    {
     "name": "stdout",
     "output_type": "stream",
     "text": [
      "corr_matrix for 1991-11-15 done.\ncorr_matrix for 1991-11-14 done.\ncorr_matrix for 1991-11-13 done.\ncorr_matrix for 1991-11-12 done.\ncorr_matrix for 1991-11-11 done.\ncorr_matrix for 1991-11-08 done.\ncorr_matrix for 1991-11-07 done.\ncorr_matrix for 1991-11-06 done.\ncorr_matrix for 1991-11-05 done.\ncorr_matrix for 1991-11-04 done.\ncorr_matrix for 1991-11-01 done.\n"
     ]
    },
    {
     "name": "stdout",
     "output_type": "stream",
     "text": [
      "corr_matrix for 1991-10-31 done.\ncorr_matrix for 1991-10-30 done.\ncorr_matrix for 1991-10-29 done.\ncorr_matrix for 1991-10-28 done.\ncorr_matrix for 1991-10-25 done.\ncorr_matrix for 1991-10-24 done.\ncorr_matrix for 1991-10-23 done.\ncorr_matrix for 1991-10-22 done.\ncorr_matrix for 1991-10-21 done.\ncorr_matrix for 1991-10-18 done.\ncorr_matrix for 1991-10-17 done.\n"
     ]
    },
    {
     "name": "stdout",
     "output_type": "stream",
     "text": [
      "corr_matrix for 1991-10-16 done.\ncorr_matrix for 1991-10-15 done.\ncorr_matrix for 1991-10-14 done.\ncorr_matrix for 1991-10-11 done.\ncorr_matrix for 1991-10-10 done.\ncorr_matrix for 1991-10-09 done.\ncorr_matrix for 1991-10-08 done.\ncorr_matrix for 1991-10-07 done.\ncorr_matrix for 1991-10-04 done.\ncorr_matrix for 1991-10-03 done.\ncorr_matrix for 1991-10-02 done.\n"
     ]
    },
    {
     "name": "stdout",
     "output_type": "stream",
     "text": [
      "corr_matrix for 1991-10-01 done.\ncorr_matrix for 1991-09-30 done.\ncorr_matrix for 1991-09-27 done.\ncorr_matrix for 1991-09-26 done.\ncorr_matrix for 1991-09-25 done.\ncorr_matrix for 1991-09-24 done.\ncorr_matrix for 1991-09-23 done.\ncorr_matrix for 1991-09-20 done.\ncorr_matrix for 1991-09-19 done.\ncorr_matrix for 1991-09-18 done.\ncorr_matrix for 1991-09-17 done.\n"
     ]
    },
    {
     "name": "stdout",
     "output_type": "stream",
     "text": [
      "corr_matrix for 1991-09-16 done.\ncorr_matrix for 1991-09-13 done.\ncorr_matrix for 1991-09-12 done.\ncorr_matrix for 1991-09-11 done.\ncorr_matrix for 1991-09-10 done.\ncorr_matrix for 1991-09-09 done.\ncorr_matrix for 1991-09-06 done.\ncorr_matrix for 1991-09-05 done.\ncorr_matrix for 1991-09-04 done.\ncorr_matrix for 1991-09-03 done.\n"
     ]
    },
    {
     "name": "stdout",
     "output_type": "stream",
     "text": [
      "corr_matrix for 1991-08-30 done.\ncorr_matrix for 1991-08-29 done.\ncorr_matrix for 1991-08-28 done.\ncorr_matrix for 1991-08-27 done.\ncorr_matrix for 1991-08-26 done.\ncorr_matrix for 1991-08-23 done.\ncorr_matrix for 1991-08-22 done.\ncorr_matrix for 1991-08-21 done.\ncorr_matrix for 1991-08-20 done.\ncorr_matrix for 1991-08-19 done.\n"
     ]
    },
    {
     "name": "stdout",
     "output_type": "stream",
     "text": [
      "corr_matrix for 1991-08-16 done.\ncorr_matrix for 1991-08-15 done.\ncorr_matrix for 1991-08-14 done.\ncorr_matrix for 1991-08-13 done.\ncorr_matrix for 1991-08-12 done.\ncorr_matrix for 1991-08-09 done.\ncorr_matrix for 1991-08-08 done.\ncorr_matrix for 1991-08-07 done.\ncorr_matrix for 1991-08-06 done.\ncorr_matrix for 1991-08-05 done.\n"
     ]
    },
    {
     "name": "stdout",
     "output_type": "stream",
     "text": [
      "corr_matrix for 1991-08-02 done.\ncorr_matrix for 1991-08-01 done.\ncorr_matrix for 1991-07-31 done.\ncorr_matrix for 1991-07-30 done.\ncorr_matrix for 1991-07-29 done.\ncorr_matrix for 1991-07-26 done.\ncorr_matrix for 1991-07-25 done.\ncorr_matrix for 1991-07-24 done.\ncorr_matrix for 1991-07-23 done.\ncorr_matrix for 1991-07-22 done.\ncorr_matrix for 1991-07-19 done.\ncorr_matrix for 1991-07-18 done.\n"
     ]
    },
    {
     "name": "stdout",
     "output_type": "stream",
     "text": [
      "corr_matrix for 1991-07-17 done.\ncorr_matrix for 1991-07-16 done.\ncorr_matrix for 1991-07-15 done.\ncorr_matrix for 1991-07-12 done.\ncorr_matrix for 1991-07-11 done.\ncorr_matrix for 1991-07-10 done.\ncorr_matrix for 1991-07-09 done.\ncorr_matrix for 1991-07-08 done.\ncorr_matrix for 1991-07-05 done.\ncorr_matrix for 1991-07-03 done.\ncorr_matrix for 1991-07-02 done.\n"
     ]
    },
    {
     "name": "stdout",
     "output_type": "stream",
     "text": [
      "corr_matrix for 1991-07-01 done.\ncorr_matrix for 1991-06-28 done.\ncorr_matrix for 1991-06-27 done.\ncorr_matrix for 1991-06-26 done.\ncorr_matrix for 1991-06-25 done.\ncorr_matrix for 1991-06-24 done.\ncorr_matrix for 1991-06-21 done.\n"
     ]
    },
    {
     "name": "stdout",
     "output_type": "stream",
     "text": [
      "corr_matrix for 1991-06-20 done.\ncorr_matrix for 1991-06-19 done.\ncorr_matrix for 1991-06-18 done.\ncorr_matrix for 1991-06-17 done.\ncorr_matrix for 1991-06-14 done.\ncorr_matrix for 1991-06-13 done.\ncorr_matrix for 1991-06-12 done.\ncorr_matrix for 1991-06-11 done.\ncorr_matrix for 1991-06-10 done.\ncorr_matrix for 1991-06-07 done.\n"
     ]
    },
    {
     "name": "stdout",
     "output_type": "stream",
     "text": [
      "corr_matrix for 1991-06-06 done.\ncorr_matrix for 1991-06-05 done.\ncorr_matrix for 1991-06-04 done.\ncorr_matrix for 1991-06-03 done.\ncorr_matrix for 1991-05-31 done.\ncorr_matrix for 1991-05-30 done.\ncorr_matrix for 1991-05-29 done.\ncorr_matrix for 1991-05-28 done.\ncorr_matrix for 1991-05-24 done.\ncorr_matrix for 1991-05-23 done.\ncorr_matrix for 1991-05-22 done."
     ]
    },
    {
     "name": "stdout",
     "output_type": "stream",
     "text": [
      "\ncorr_matrix for 1991-05-21 done.\ncorr_matrix for 1991-05-20 done.\ncorr_matrix for 1991-05-17 done.\ncorr_matrix for 1991-05-16 done.\ncorr_matrix for 1991-05-15 done.\ncorr_matrix for 1991-05-14 done.\ncorr_matrix for 1991-05-13 done.\ncorr_matrix for 1991-05-10 done.\ncorr_matrix for 1991-05-09 done.\ncorr_matrix for 1991-05-08 done.\n"
     ]
    },
    {
     "name": "stdout",
     "output_type": "stream",
     "text": [
      "corr_matrix for 1991-05-07 done.\ncorr_matrix for 1991-05-06 done.\ncorr_matrix for 1991-05-03 done.\ncorr_matrix for 1991-05-02 done.\ncorr_matrix for 1991-05-01 done.\ncorr_matrix for 1991-04-30 done.\ncorr_matrix for 1991-04-29 done.\ncorr_matrix for 1991-04-26 done.\ncorr_matrix for 1991-04-25 done.\ncorr_matrix for 1991-04-24 done.\ncorr_matrix for 1991-04-23 done.\n"
     ]
    },
    {
     "name": "stdout",
     "output_type": "stream",
     "text": [
      "corr_matrix for 1991-04-22 done.\ncorr_matrix for 1991-04-19 done.\ncorr_matrix for 1991-04-18 done.\ncorr_matrix for 1991-04-17 done.\ncorr_matrix for 1991-04-16 done.\ncorr_matrix for 1991-04-15 done.\ncorr_matrix for 1991-04-12 done.\ncorr_matrix for 1991-04-11 done.\ncorr_matrix for 1991-04-10 done.\ncorr_matrix for 1991-04-09 done.\ncorr_matrix for 1991-04-08 done.\n"
     ]
    },
    {
     "name": "stdout",
     "output_type": "stream",
     "text": [
      "corr_matrix for 1991-04-05 done.\ncorr_matrix for 1991-04-04 done.\ncorr_matrix for 1991-04-03 done.\ncorr_matrix for 1991-04-02 done.\ncorr_matrix for 1991-04-01 done.\ncorr_matrix for 1991-03-28 done.\ncorr_matrix for 1991-03-27 done.\ncorr_matrix for 1991-03-26 done.\ncorr_matrix for 1991-03-25 done.\ncorr_matrix for 1991-03-22 done.\n"
     ]
    },
    {
     "name": "stdout",
     "output_type": "stream",
     "text": [
      "corr_matrix for 1991-03-21 done.\ncorr_matrix for 1991-03-20 done.\ncorr_matrix for 1991-03-19 done.\ncorr_matrix for 1991-03-18 done.\ncorr_matrix for 1991-03-15 done.\ncorr_matrix for 1991-03-14 done.\ncorr_matrix for 1991-03-13 done.\ncorr_matrix for 1991-03-12 done.\ncorr_matrix for 1991-03-11 done.\ncorr_matrix for 1991-03-08 done.\ncorr_matrix for 1991-03-07 done.\n"
     ]
    },
    {
     "name": "stdout",
     "output_type": "stream",
     "text": [
      "corr_matrix for 1991-03-06 done.\ncorr_matrix for 1991-03-05 done.\ncorr_matrix for 1991-03-04 done.\ncorr_matrix for 1991-03-01 done.\ncorr_matrix for 1991-02-28 done.\ncorr_matrix for 1991-02-27 done.\ncorr_matrix for 1991-02-26 done.\ncorr_matrix for 1991-02-25 done.\ncorr_matrix for 1991-02-22 done.\ncorr_matrix for 1991-02-21 done.\ncorr_matrix for 1991-02-20 done.\n"
     ]
    },
    {
     "name": "stdout",
     "output_type": "stream",
     "text": [
      "corr_matrix for 1991-02-19 done.\ncorr_matrix for 1991-02-15 done.\ncorr_matrix for 1991-02-14 done.\ncorr_matrix for 1991-02-13 done.\ncorr_matrix for 1991-02-12 done.\ncorr_matrix for 1991-02-11 done.\ncorr_matrix for 1991-02-08 done.\ncorr_matrix for 1991-02-07 done.\ncorr_matrix for 1991-02-06 done.\ncorr_matrix for 1991-02-05 done.\n"
     ]
    },
    {
     "name": "stdout",
     "output_type": "stream",
     "text": [
      "corr_matrix for 1991-02-04 done.\ncorr_matrix for 1991-02-01 done.\ncorr_matrix for 1991-01-31 done.\ncorr_matrix for 1991-01-30 done.\ncorr_matrix for 1991-01-29 done.\ncorr_matrix for 1991-01-28 done.\ncorr_matrix for 1991-01-25 done.\ncorr_matrix for 1991-01-24 done.\ncorr_matrix for 1991-01-23 done.\ncorr_matrix for 1991-01-22 done.\ncorr_matrix for 1991-01-21 done.\n"
     ]
    },
    {
     "name": "stdout",
     "output_type": "stream",
     "text": [
      "corr_matrix for 1991-01-18 done.\ncorr_matrix for 1991-01-17 done.\ncorr_matrix for 1991-01-16 done.\ncorr_matrix for 1991-01-15 done.\ncorr_matrix for 1991-01-14 done.\ncorr_matrix for 1991-01-11 done.\ncorr_matrix for 1991-01-10 done.\ncorr_matrix for 1991-01-09 done.\ncorr_matrix for 1991-01-08 done.\ncorr_matrix for 1991-01-07 done.\ncorr_matrix for 1991-01-04 done.\n"
     ]
    },
    {
     "name": "stdout",
     "output_type": "stream",
     "text": [
      "corr_matrix for 1991-01-03 done.\ncorr_matrix for 1991-01-02 done.\ncorr_matrix for 1990-12-31 done.\ncorr_matrix for 1990-12-28 done.\ncorr_matrix for 1990-12-27 done.\ncorr_matrix for 1990-12-26 done.\ncorr_matrix for 1990-12-24 done.\ncorr_matrix for 1990-12-21 done.\ncorr_matrix for 1990-12-20 done.\ncorr_matrix for 1990-12-19 done.\ncorr_matrix for 1990-12-18 done.\n"
     ]
    },
    {
     "name": "stdout",
     "output_type": "stream",
     "text": [
      "corr_matrix for 1990-12-17 done.\ncorr_matrix for 1990-12-14 done.\ncorr_matrix for 1990-12-13 done.\ncorr_matrix for 1990-12-12 done.\ncorr_matrix for 1990-12-11 done.\ncorr_matrix for 1990-12-10 done.\ncorr_matrix for 1990-12-07 done.\ncorr_matrix for 1990-12-06 done.\ncorr_matrix for 1990-12-05 done.\ncorr_matrix for 1990-12-04 done.\ncorr_matrix for 1990-12-03 done.\n"
     ]
    },
    {
     "name": "stdout",
     "output_type": "stream",
     "text": [
      "corr_matrix for 1990-11-30 done.\ncorr_matrix for 1990-11-29 done.\ncorr_matrix for 1990-11-28 done.\ncorr_matrix for 1990-11-27 done.\ncorr_matrix for 1990-11-26 done.\ncorr_matrix for 1990-11-23 done.\ncorr_matrix for 1990-11-21 done.\ncorr_matrix for 1990-11-20 done.\ncorr_matrix for 1990-11-19 done.\ncorr_matrix for 1990-11-16 done.\ncorr_matrix for 1990-11-15 done."
     ]
    },
    {
     "name": "stdout",
     "output_type": "stream",
     "text": [
      "\ncorr_matrix for 1990-11-14 done.\ncorr_matrix for 1990-11-13 done.\ncorr_matrix for 1990-11-12 done.\ncorr_matrix for 1990-11-09 done.\ncorr_matrix for 1990-11-08 done.\ncorr_matrix for 1990-11-07 done.\ncorr_matrix for 1990-11-06 done.\ncorr_matrix for 1990-11-05 done.\ncorr_matrix for 1990-11-02 done.\ncorr_matrix for 1990-11-01 done.\ncorr_matrix for 1990-10-31 done.\n"
     ]
    },
    {
     "name": "stdout",
     "output_type": "stream",
     "text": [
      "corr_matrix for 1990-10-30 done.\ncorr_matrix for 1990-10-29 done.\ncorr_matrix for 1990-10-26 done.\ncorr_matrix for 1990-10-25 done.\ncorr_matrix for 1990-10-24 done.\ncorr_matrix for 1990-10-23 done.\ncorr_matrix for 1990-10-22 done.\ncorr_matrix for 1990-10-19 done.\ncorr_matrix for 1990-10-18 done.\ncorr_matrix for 1990-10-17 done.\ncorr_matrix for 1990-10-16 done.\n"
     ]
    },
    {
     "name": "stdout",
     "output_type": "stream",
     "text": [
      "corr_matrix for 1990-10-15 done.\ncorr_matrix for 1990-10-12 done.\ncorr_matrix for 1990-10-11 done.\ncorr_matrix for 1990-10-10 done.\ncorr_matrix for 1990-10-09 done.\ncorr_matrix for 1990-10-08 done.\ncorr_matrix for 1990-10-05 done.\ncorr_matrix for 1990-10-04 done.\ncorr_matrix for 1990-10-03 done.\ncorr_matrix for 1990-10-02 done.\n"
     ]
    },
    {
     "name": "stdout",
     "output_type": "stream",
     "text": [
      "corr_matrix for 1990-10-01 done.\ncorr_matrix for 1990-09-28 done.\ncorr_matrix for 1990-09-27 done.\ncorr_matrix for 1990-09-26 done.\ncorr_matrix for 1990-09-25 done.\ncorr_matrix for 1990-09-24 done.\ncorr_matrix for 1990-09-21 done.\ncorr_matrix for 1990-09-20 done.\ncorr_matrix for 1990-09-19 done.\ncorr_matrix for 1990-09-18 done.\ncorr_matrix for 1990-09-17 done.\n"
     ]
    },
    {
     "name": "stdout",
     "output_type": "stream",
     "text": [
      "corr_matrix for 1990-09-14 done.\ncorr_matrix for 1990-09-13 done.\ncorr_matrix for 1990-09-12 done.\ncorr_matrix for 1990-09-11 done.\ncorr_matrix for 1990-09-10 done.\ncorr_matrix for 1990-09-07 done.\ncorr_matrix for 1990-09-06 done.\ncorr_matrix for 1990-09-05 done.\ncorr_matrix for 1990-09-04 done.\ncorr_matrix for 1990-08-31 done.\n"
     ]
    },
    {
     "name": "stdout",
     "output_type": "stream",
     "text": [
      "corr_matrix for 1990-08-30 done.\ncorr_matrix for 1990-08-29 done.\ncorr_matrix for 1990-08-28 done.\ncorr_matrix for 1990-08-27 done.\ncorr_matrix for 1990-08-24 done.\ncorr_matrix for 1990-08-23 done.\ncorr_matrix for 1990-08-22 done.\ncorr_matrix for 1990-08-21 done.\ncorr_matrix for 1990-08-20 done.\n"
     ]
    },
    {
     "name": "stdout",
     "output_type": "stream",
     "text": [
      "corr_matrix for 1990-08-17 done.\ncorr_matrix for 1990-08-16 done.\ncorr_matrix for 1990-08-15 done.\ncorr_matrix for 1990-08-14 done.\ncorr_matrix for 1990-08-13 done.\ncorr_matrix for 1990-08-10 done.\ncorr_matrix for 1990-08-09 done.\ncorr_matrix for 1990-08-08 done.\ncorr_matrix for 1990-08-07 done.\ncorr_matrix for 1990-08-06 done.\ncorr_matrix for 1990-08-03 done.\n"
     ]
    },
    {
     "name": "stdout",
     "output_type": "stream",
     "text": [
      "corr_matrix for 1990-08-02 done.\ncorr_matrix for 1990-08-01 done.\ncorr_matrix for 1990-07-31 done.\ncorr_matrix for 1990-07-30 done.\ncorr_matrix for 1990-07-27 done.\ncorr_matrix for 1990-07-26 done.\ncorr_matrix for 1990-07-25 done.\ncorr_matrix for 1990-07-24 done.\ncorr_matrix for 1990-07-23 done.\ncorr_matrix for 1990-07-20 done."
     ]
    },
    {
     "name": "stdout",
     "output_type": "stream",
     "text": [
      "\ncorr_matrix for 1990-07-19 done.\ncorr_matrix for 1990-07-18 done.\ncorr_matrix for 1990-07-17 done.\ncorr_matrix for 1990-07-16 done.\ncorr_matrix for 1990-07-13 done.\ncorr_matrix for 1990-07-12 done.\ncorr_matrix for 1990-07-11 done.\ncorr_matrix for 1990-07-10 done.\ncorr_matrix for 1990-07-09 done.\n"
     ]
    },
    {
     "name": "stdout",
     "output_type": "stream",
     "text": [
      "corr_matrix for 1990-07-06 done.\ncorr_matrix for 1990-07-05 done.\ncorr_matrix for 1990-07-03 done.\ncorr_matrix for 1990-07-02 done.\ncorr_matrix for 1990-06-29 done.\ncorr_matrix for 1990-06-28 done.\ncorr_matrix for 1990-06-27 done.\ncorr_matrix for 1990-06-26 done.\ncorr_matrix for 1990-06-25 done.\ncorr_matrix for 1990-06-22 done.\n"
     ]
    },
    {
     "name": "stdout",
     "output_type": "stream",
     "text": [
      "corr_matrix for 1990-06-21 done.\ncorr_matrix for 1990-06-20 done.\ncorr_matrix for 1990-06-19 done.\ncorr_matrix for 1990-06-18 done.\ncorr_matrix for 1990-06-15 done.\ncorr_matrix for 1990-06-14 done.\ncorr_matrix for 1990-06-13 done.\ncorr_matrix for 1990-06-12 done.\ncorr_matrix for 1990-06-11 done.\ncorr_matrix for 1990-06-08 done.\ncorr_matrix for 1990-06-07 done.\n"
     ]
    },
    {
     "name": "stdout",
     "output_type": "stream",
     "text": [
      "corr_matrix for 1990-06-06 done.\ncorr_matrix for 1990-06-05 done.\ncorr_matrix for 1990-06-04 done.\ncorr_matrix for 1990-06-01 done.\ncorr_matrix for 1990-05-31 done.\ncorr_matrix for 1990-05-30 done.\ncorr_matrix for 1990-05-29 done.\ncorr_matrix for 1990-05-25 done.\ncorr_matrix for 1990-05-24 done.\ncorr_matrix for 1990-05-23 done.\ncorr_matrix for 1990-05-22 done.\n"
     ]
    },
    {
     "name": "stdout",
     "output_type": "stream",
     "text": [
      "corr_matrix for 1990-05-21 done.\ncorr_matrix for 1990-05-18 done.\ncorr_matrix for 1990-05-17 done.\ncorr_matrix for 1990-05-16 done.\ncorr_matrix for 1990-05-15 done.\ncorr_matrix for 1990-05-14 done.\ncorr_matrix for 1990-05-11 done.\ncorr_matrix for 1990-05-10 done.\ncorr_matrix for 1990-05-09 done.\ncorr_matrix for 1990-05-08 done.\ncorr_matrix for 1990-05-07 done.\n"
     ]
    },
    {
     "name": "stdout",
     "output_type": "stream",
     "text": [
      "corr_matrix for 1990-05-04 done.\ncorr_matrix for 1990-05-03 done.\ncorr_matrix for 1990-05-02 done.\ncorr_matrix for 1990-05-01 done.\ncorr_matrix for 1990-04-30 done.\ncorr_matrix for 1990-04-27 done.\ncorr_matrix for 1990-04-26 done.\ncorr_matrix for 1990-04-25 done.\ncorr_matrix for 1990-04-24 done.\ncorr_matrix for 1990-04-23 done.\n"
     ]
    },
    {
     "name": "stdout",
     "output_type": "stream",
     "text": [
      "corr_matrix for 1990-04-20 done.\ncorr_matrix for 1990-04-19 done.\ncorr_matrix for 1990-04-18 done.\ncorr_matrix for 1990-04-17 done.\ncorr_matrix for 1990-04-16 done.\ncorr_matrix for 1990-04-12 done.\ncorr_matrix for 1990-04-11 done.\ncorr_matrix for 1990-04-10 done.\ncorr_matrix for 1990-04-09 done.\ncorr_matrix for 1990-04-06 done.\ncorr_matrix for 1990-04-05 done.\n"
     ]
    },
    {
     "name": "stdout",
     "output_type": "stream",
     "text": [
      "corr_matrix for 1990-04-04 done.\ncorr_matrix for 1990-04-03 done.\ncorr_matrix for 1990-04-02 done.\ncorr_matrix for 1990-03-30 done.\ncorr_matrix for 1990-03-29 done.\ncorr_matrix for 1990-03-28 done.\ncorr_matrix for 1990-03-27 done.\ncorr_matrix for 1990-03-26 done.\ncorr_matrix for 1990-03-23 done.\ncorr_matrix for 1990-03-22 done.\ncorr_matrix for 1990-03-21 done.\n"
     ]
    },
    {
     "name": "stdout",
     "output_type": "stream",
     "text": [
      "corr_matrix for 1990-03-20 done.\ncorr_matrix for 1990-03-19 done.\ncorr_matrix for 1990-03-16 done.\ncorr_matrix for 1990-03-15 done.\ncorr_matrix for 1990-03-14 done.\ncorr_matrix for 1990-03-13 done.\ncorr_matrix for 1990-03-12 done.\ncorr_matrix for 1990-03-09 done.\ncorr_matrix for 1990-03-08 done.\ncorr_matrix for 1990-03-07 done.\n"
     ]
    },
    {
     "name": "stdout",
     "output_type": "stream",
     "text": [
      "corr_matrix for 1990-03-06 done.\ncorr_matrix for 1990-03-05 done.\ncorr_matrix for 1990-03-02 done.\ncorr_matrix for 1990-03-01 done.\ncorr_matrix for 1990-02-28 done.\ncorr_matrix for 1990-02-27 done.\ncorr_matrix for 1990-02-26 done.\ncorr_matrix for 1990-02-23 done.\ncorr_matrix for 1990-02-22 done.\ncorr_matrix for 1990-02-21 done.\n"
     ]
    },
    {
     "name": "stdout",
     "output_type": "stream",
     "text": [
      "corr_matrix for 1990-02-20 done.\ncorr_matrix for 1990-02-16 done.\ncorr_matrix for 1990-02-15 done.\ncorr_matrix for 1990-02-14 done.\ncorr_matrix for 1990-02-13 done.\ncorr_matrix for 1990-02-12 done.\ncorr_matrix for 1990-02-09 done.\ncorr_matrix for 1990-02-08 done.\ncorr_matrix for 1990-02-07 done.\ncorr_matrix for 1990-02-06 done.\ncorr_matrix for 1990-02-05 done.\n"
     ]
    },
    {
     "name": "stdout",
     "output_type": "stream",
     "text": [
      "corr_matrix for 1990-02-02 done.\ncorr_matrix for 1990-02-01 done.\ncorr_matrix for 1990-01-31 done.\ncorr_matrix for 1990-01-30 done.\ncorr_matrix for 1990-01-29 done.\ncorr_matrix for 1990-01-26 done.\ncorr_matrix for 1990-01-25 done.\ncorr_matrix for 1990-01-24 done.\ncorr_matrix for 1990-01-23 done.\ncorr_matrix for 1990-01-22 done.\n"
     ]
    },
    {
     "name": "stdout",
     "output_type": "stream",
     "text": [
      "corr_matrix for 1990-01-19 done.\ncorr_matrix for 1990-01-18 done.\ncorr_matrix for 1990-01-17 done.\ncorr_matrix for 1990-01-16 done.\ncorr_matrix for 1990-01-15 done.\ncorr_matrix for 1990-01-12 done.\ncorr_matrix for 1990-01-11 done.\ncorr_matrix for 1990-01-10 done.\ncorr_matrix for 1990-01-09 done.\ncorr_matrix for 1990-01-08 done.\ncorr_matrix for 1990-01-05 done."
     ]
    },
    {
     "name": "stdout",
     "output_type": "stream",
     "text": [
      "\ncorr_matrix for 1990-01-04 done.\ncorr_matrix for 1990-01-03 done.\ncorr_matrix for 1990-01-02 done.\ncorr_matrix for 1989-12-29 done.\ncorr_matrix for 1989-12-28 done.\ncorr_matrix for 1989-12-27 done.\ncorr_matrix for 1989-12-26 done.\ncorr_matrix for 1989-12-22 done.\ncorr_matrix for 1989-12-21 done.\ncorr_matrix for 1989-12-20 done.\ncorr_matrix for 1989-12-19 done.\n"
     ]
    },
    {
     "name": "stdout",
     "output_type": "stream",
     "text": [
      "corr_matrix for 1989-12-18 done.\ncorr_matrix for 1989-12-15 done.\ncorr_matrix for 1989-12-14 done.\ncorr_matrix for 1989-12-13 done.\ncorr_matrix for 1989-12-12 done.\ncorr_matrix for 1989-12-11 done.\ncorr_matrix for 1989-12-08 done.\ncorr_matrix for 1989-12-07 done.\ncorr_matrix for 1989-12-06 done.\ncorr_matrix for 1989-12-05 done.\n"
     ]
    },
    {
     "name": "stdout",
     "output_type": "stream",
     "text": [
      "corr_matrix for 1989-12-04 done.\ncorr_matrix for 1989-12-01 done.\ncorr_matrix for 1989-11-30 done.\ncorr_matrix for 1989-11-29 done.\ncorr_matrix for 1989-11-28 done.\ncorr_matrix for 1989-11-27 done.\ncorr_matrix for 1989-11-24 done.\ncorr_matrix for 1989-11-22 done.\ncorr_matrix for 1989-11-21 done.\ncorr_matrix for 1989-11-20 done.\ncorr_matrix for 1989-11-17 done.\n"
     ]
    },
    {
     "name": "stdout",
     "output_type": "stream",
     "text": [
      "corr_matrix for 1989-11-16 done.\ncorr_matrix for 1989-11-15 done.\ncorr_matrix for 1989-11-14 done.\ncorr_matrix for 1989-11-13 done.\ncorr_matrix for 1989-11-10 done.\ncorr_matrix for 1989-11-09 done.\ncorr_matrix for 1989-11-08 done.\ncorr_matrix for 1989-11-07 done.\ncorr_matrix for 1989-11-06 done.\ncorr_matrix for 1989-11-03 done.\n"
     ]
    },
    {
     "name": "stdout",
     "output_type": "stream",
     "text": [
      "corr_matrix for 1989-11-02 done.\ncorr_matrix for 1989-11-01 done.\ncorr_matrix for 1989-10-31 done.\ncorr_matrix for 1989-10-30 done.\ncorr_matrix for 1989-10-27 done.\ncorr_matrix for 1989-10-26 done.\ncorr_matrix for 1989-10-25 done.\ncorr_matrix for 1989-10-24 done.\ncorr_matrix for 1989-10-23 done.\ncorr_matrix for 1989-10-20 done.\ncorr_matrix for 1989-10-19 done.\n"
     ]
    },
    {
     "name": "stdout",
     "output_type": "stream",
     "text": [
      "corr_matrix for 1989-10-18 done.\ncorr_matrix for 1989-10-17 done.\ncorr_matrix for 1989-10-16 done.\ncorr_matrix for 1989-10-13 done.\ncorr_matrix for 1989-10-12 done.\ncorr_matrix for 1989-10-11 done.\ncorr_matrix for 1989-10-10 done.\ncorr_matrix for 1989-10-09 done.\ncorr_matrix for 1989-10-06 done.\ncorr_matrix for 1989-10-05 done.\n"
     ]
    },
    {
     "name": "stdout",
     "output_type": "stream",
     "text": [
      "corr_matrix for 1989-10-04 done.\ncorr_matrix for 1989-10-03 done.\ncorr_matrix for 1989-10-02 done.\ncorr_matrix for 1989-09-29 done.\ncorr_matrix for 1989-09-28 done.\ncorr_matrix for 1989-09-27 done.\ncorr_matrix for 1989-09-26 done.\ncorr_matrix for 1989-09-25 done.\ncorr_matrix for 1989-09-22 done.\ncorr_matrix for 1989-09-21 done.\ncorr_matrix for 1989-09-20 done.\n"
     ]
    },
    {
     "name": "stdout",
     "output_type": "stream",
     "text": [
      "corr_matrix for 1989-09-19 done.\ncorr_matrix for 1989-09-18 done.\ncorr_matrix for 1989-09-15 done.\ncorr_matrix for 1989-09-14 done.\ncorr_matrix for 1989-09-13 done.\ncorr_matrix for 1989-09-12 done.\ncorr_matrix for 1989-09-11 done.\ncorr_matrix for 1989-09-08 done.\ncorr_matrix for 1989-09-07 done.\ncorr_matrix for 1989-09-06 done.\ncorr_matrix for 1989-09-05 done.\n"
     ]
    },
    {
     "name": "stdout",
     "output_type": "stream",
     "text": [
      "corr_matrix for 1989-09-01 done.\ncorr_matrix for 1989-08-31 done.\ncorr_matrix for 1989-08-30 done.\ncorr_matrix for 1989-08-29 done.\ncorr_matrix for 1989-08-28 done.\ncorr_matrix for 1989-08-25 done.\ncorr_matrix for 1989-08-24 done.\ncorr_matrix for 1989-08-23 done.\ncorr_matrix for 1989-08-22 done.\ncorr_matrix for 1989-08-21 done.\ncorr_matrix for 1989-08-18 done.\n"
     ]
    },
    {
     "name": "stdout",
     "output_type": "stream",
     "text": [
      "corr_matrix for 1989-08-17 done.\ncorr_matrix for 1989-08-16 done.\ncorr_matrix for 1989-08-15 done.\ncorr_matrix for 1989-08-14 done.\ncorr_matrix for 1989-08-11 done.\ncorr_matrix for 1989-08-10 done.\ncorr_matrix for 1989-08-09 done.\ncorr_matrix for 1989-08-08 done.\ncorr_matrix for 1989-08-07 done.\ncorr_matrix for 1989-08-04 done.\ncorr_matrix for 1989-08-03 done.\ncorr_matrix for 1989-08-02 done.\n"
     ]
    },
    {
     "name": "stdout",
     "output_type": "stream",
     "text": [
      "corr_matrix for 1989-08-01 done.\ncorr_matrix for 1989-07-31 done.\ncorr_matrix for 1989-07-28 done.\ncorr_matrix for 1989-07-27 done.\ncorr_matrix for 1989-07-26 done.\ncorr_matrix for 1989-07-25 done.\ncorr_matrix for 1989-07-24 done.\ncorr_matrix for 1989-07-21 done.\ncorr_matrix for 1989-07-20 done.\ncorr_matrix for 1989-07-19 done.\ncorr_matrix for 1989-07-18 done.\n"
     ]
    },
    {
     "name": "stdout",
     "output_type": "stream",
     "text": [
      "corr_matrix for 1989-07-17 done.\ncorr_matrix for 1989-07-14 done.\ncorr_matrix for 1989-07-13 done.\ncorr_matrix for 1989-07-12 done.\ncorr_matrix for 1989-07-11 done.\ncorr_matrix for 1989-07-10 done.\ncorr_matrix for 1989-07-07 done.\ncorr_matrix for 1989-07-06 done.\ncorr_matrix for 1989-07-05 done.\ncorr_matrix for 1989-07-03 done.\ncorr_matrix for 1989-06-30 done.\n"
     ]
    },
    {
     "name": "stdout",
     "output_type": "stream",
     "text": [
      "corr_matrix for 1989-06-29 done.\ncorr_matrix for 1989-06-28 done.\ncorr_matrix for 1989-06-27 done.\ncorr_matrix for 1989-06-26 done.\ncorr_matrix for 1989-06-23 done.\ncorr_matrix for 1989-06-22 done.\ncorr_matrix for 1989-06-21 done.\ncorr_matrix for 1989-06-20 done.\ncorr_matrix for 1989-06-19 done.\ncorr_matrix for 1989-06-16 done.\n"
     ]
    },
    {
     "name": "stdout",
     "output_type": "stream",
     "text": [
      "corr_matrix for 1989-06-15 done.\ncorr_matrix for 1989-06-14 done.\ncorr_matrix for 1989-06-13 done.\ncorr_matrix for 1989-06-12 done.\ncorr_matrix for 1989-06-09 done.\ncorr_matrix for 1989-06-08 done.\ncorr_matrix for 1989-06-07 done.\ncorr_matrix for 1989-06-06 done.\n"
     ]
    },
    {
     "name": "stdout",
     "output_type": "stream",
     "text": [
      "corr_matrix for 1989-06-05 done.\ncorr_matrix for 1989-06-02 done.\ncorr_matrix for 1989-06-01 done.\ncorr_matrix for 1989-05-31 done.\ncorr_matrix for 1989-05-30 done.\ncorr_matrix for 1989-05-26 done.\ncorr_matrix for 1989-05-25 done.\ncorr_matrix for 1989-05-24 done.\ncorr_matrix for 1989-05-23 done.\ncorr_matrix for 1989-05-22 done.\ncorr_matrix for 1989-05-19 done.\n"
     ]
    },
    {
     "name": "stdout",
     "output_type": "stream",
     "text": [
      "corr_matrix for 1989-05-18 done.\ncorr_matrix for 1989-05-17 done.\ncorr_matrix for 1989-05-16 done.\ncorr_matrix for 1989-05-15 done.\ncorr_matrix for 1989-05-12 done.\ncorr_matrix for 1989-05-11 done.\ncorr_matrix for 1989-05-10 done.\ncorr_matrix for 1989-05-09 done.\ncorr_matrix for 1989-05-08 done.\ncorr_matrix for 1989-05-05 done.\n"
     ]
    },
    {
     "name": "stdout",
     "output_type": "stream",
     "text": [
      "corr_matrix for 1989-05-04 done.\ncorr_matrix for 1989-05-03 done.\ncorr_matrix for 1989-05-02 done.\ncorr_matrix for 1989-05-01 done.\ncorr_matrix for 1989-04-28 done.\ncorr_matrix for 1989-04-27 done.\ncorr_matrix for 1989-04-26 done.\ncorr_matrix for 1989-04-25 done.\ncorr_matrix for 1989-04-24 done.\ncorr_matrix for 1989-04-21 done.\ncorr_matrix for 1989-04-20 done.\n"
     ]
    },
    {
     "name": "stdout",
     "output_type": "stream",
     "text": [
      "corr_matrix for 1989-04-19 done.\ncorr_matrix for 1989-04-18 done.\ncorr_matrix for 1989-04-17 done.\ncorr_matrix for 1989-04-14 done.\ncorr_matrix for 1989-04-13 done.\ncorr_matrix for 1989-04-12 done.\ncorr_matrix for 1989-04-11 done.\ncorr_matrix for 1989-04-10 done.\ncorr_matrix for 1989-04-07 done.\ncorr_matrix for 1989-04-06 done.\ncorr_matrix for 1989-04-05 done.\n"
     ]
    },
    {
     "name": "stdout",
     "output_type": "stream",
     "text": [
      "corr_matrix for 1989-04-04 done.\ncorr_matrix for 1989-04-03 done.\ncorr_matrix for 1989-03-31 done.\ncorr_matrix for 1989-03-30 done.\ncorr_matrix for 1989-03-29 done.\ncorr_matrix for 1989-03-28 done.\ncorr_matrix for 1989-03-27 done.\ncorr_matrix for 1989-03-23 done.\ncorr_matrix for 1989-03-22 done.\ncorr_matrix for 1989-03-21 done.\n"
     ]
    },
    {
     "name": "stdout",
     "output_type": "stream",
     "text": [
      "corr_matrix for 1989-03-20 done.\ncorr_matrix for 1989-03-17 done.\ncorr_matrix for 1989-03-16 done.\ncorr_matrix for 1989-03-15 done.\ncorr_matrix for 1989-03-14 done.\ncorr_matrix for 1989-03-13 done.\ncorr_matrix for 1989-03-10 done.\ncorr_matrix for 1989-03-09 done.\ncorr_matrix for 1989-03-08 done.\ncorr_matrix for 1989-03-07 done.\n"
     ]
    },
    {
     "name": "stdout",
     "output_type": "stream",
     "text": [
      "corr_matrix for 1989-03-06 done.\ncorr_matrix for 1989-03-03 done.\ncorr_matrix for 1989-03-02 done.\ncorr_matrix for 1989-03-01 done.\ncorr_matrix for 1989-02-28 done.\ncorr_matrix for 1989-02-27 done.\ncorr_matrix for 1989-02-24 done.\ncorr_matrix for 1989-02-23 done.\ncorr_matrix for 1989-02-22 done.\ncorr_matrix for 1989-02-21 done.\n"
     ]
    },
    {
     "name": "stdout",
     "output_type": "stream",
     "text": [
      "corr_matrix for 1989-02-17 done.\ncorr_matrix for 1989-02-16 done.\ncorr_matrix for 1989-02-15 done.\ncorr_matrix for 1989-02-14 done.\ncorr_matrix for 1989-02-13 done.\ncorr_matrix for 1989-02-10 done.\ncorr_matrix for 1989-02-09 done.\ncorr_matrix for 1989-02-08 done.\ncorr_matrix for 1989-02-07 done.\ncorr_matrix for 1989-02-06 done.\ncorr_matrix for 1989-02-03 done.\n"
     ]
    },
    {
     "name": "stdout",
     "output_type": "stream",
     "text": [
      "corr_matrix for 1989-02-02 done.\ncorr_matrix for 1989-02-01 done.\ncorr_matrix for 1989-01-31 done.\ncorr_matrix for 1989-01-30 done.\ncorr_matrix for 1989-01-27 done.\ncorr_matrix for 1989-01-26 done.\ncorr_matrix for 1989-01-25 done.\ncorr_matrix for 1989-01-24 done.\ncorr_matrix for 1989-01-23 done.\ncorr_matrix for 1989-01-20 done.\ncorr_matrix for 1989-01-19 done.\n"
     ]
    },
    {
     "name": "stdout",
     "output_type": "stream",
     "text": [
      "corr_matrix for 1989-01-18 done.\ncorr_matrix for 1989-01-17 done.\ncorr_matrix for 1989-01-16 done.\ncorr_matrix for 1989-01-13 done.\ncorr_matrix for 1989-01-12 done.\ncorr_matrix for 1989-01-11 done.\ncorr_matrix for 1989-01-10 done.\ncorr_matrix for 1989-01-09 done.\ncorr_matrix for 1989-01-06 done.\ncorr_matrix for 1989-01-05 done.\ncorr_matrix for 1989-01-04 done.\n"
     ]
    },
    {
     "name": "stdout",
     "output_type": "stream",
     "text": [
      "corr_matrix for 1989-01-03 done.\ncorr_matrix for 1988-12-30 done.\ncorr_matrix for 1988-12-29 done.\ncorr_matrix for 1988-12-28 done.\ncorr_matrix for 1988-12-27 done.\ncorr_matrix for 1988-12-23 done.\ncorr_matrix for 1988-12-22 done.\ncorr_matrix for 1988-12-21 done.\ncorr_matrix for 1988-12-20 done.\ncorr_matrix for 1988-12-19 done.\ncorr_matrix for 1988-12-16 done.\n"
     ]
    },
    {
     "name": "stdout",
     "output_type": "stream",
     "text": [
      "corr_matrix for 1988-12-15 done.\ncorr_matrix for 1988-12-14 done.\ncorr_matrix for 1988-12-13 done.\ncorr_matrix for 1988-12-12 done.\ncorr_matrix for 1988-12-09 done.\ncorr_matrix for 1988-12-08 done.\ncorr_matrix for 1988-12-07 done.\ncorr_matrix for 1988-12-06 done.\ncorr_matrix for 1988-12-05 done.\ncorr_matrix for 1988-12-02 done.\n"
     ]
    },
    {
     "name": "stdout",
     "output_type": "stream",
     "text": [
      "corr_matrix for 1988-12-01 done.\ncorr_matrix for 1988-11-30 done.\ncorr_matrix for 1988-11-29 done.\ncorr_matrix for 1988-11-28 done.\ncorr_matrix for 1988-11-25 done.\ncorr_matrix for 1988-11-23 done.\ncorr_matrix for 1988-11-22 done.\ncorr_matrix for 1988-11-21 done.\n"
     ]
    },
    {
     "name": "stdout",
     "output_type": "stream",
     "text": [
      "corr_matrix for 1988-11-18 done.\ncorr_matrix for 1988-11-17 done.\ncorr_matrix for 1988-11-16 done.\ncorr_matrix for 1988-11-15 done.\ncorr_matrix for 1988-11-14 done.\ncorr_matrix for 1988-11-11 done.\ncorr_matrix for 1988-11-10 done.\ncorr_matrix for 1988-11-09 done.\ncorr_matrix for 1988-11-08 done.\n"
     ]
    },
    {
     "name": "stdout",
     "output_type": "stream",
     "text": [
      "corr_matrix for 1988-11-07 done.\ncorr_matrix for 1988-11-04 done.\ncorr_matrix for 1988-11-03 done.\ncorr_matrix for 1988-11-02 done.\ncorr_matrix for 1988-11-01 done.\ncorr_matrix for 1988-10-31 done.\ncorr_matrix for 1988-10-28 done.\ncorr_matrix for 1988-10-27 done.\ncorr_matrix for 1988-10-26 done.\ncorr_matrix for 1988-10-25 done.\n"
     ]
    },
    {
     "name": "stdout",
     "output_type": "stream",
     "text": [
      "corr_matrix for 1988-10-24 done.\ncorr_matrix for 1988-10-21 done.\ncorr_matrix for 1988-10-20 done.\ncorr_matrix for 1988-10-19 done.\ncorr_matrix for 1988-10-18 done.\ncorr_matrix for 1988-10-17 done.\ncorr_matrix for 1988-10-14 done.\ncorr_matrix for 1988-10-13 done.\ncorr_matrix for 1988-10-12 done.\n"
     ]
    },
    {
     "name": "stdout",
     "output_type": "stream",
     "text": [
      "corr_matrix for 1988-10-11 done.\ncorr_matrix for 1988-10-10 done.\ncorr_matrix for 1988-10-07 done.\ncorr_matrix for 1988-10-06 done.\ncorr_matrix for 1988-10-05 done.\ncorr_matrix for 1988-10-04 done.\ncorr_matrix for 1988-10-03 done.\ncorr_matrix for 1988-09-30 done.\ncorr_matrix for 1988-09-29 done.\ncorr_matrix for 1988-09-28 done.\n"
     ]
    },
    {
     "name": "stdout",
     "output_type": "stream",
     "text": [
      "corr_matrix for 1988-09-27 done.\ncorr_matrix for 1988-09-26 done.\ncorr_matrix for 1988-09-23 done.\ncorr_matrix for 1988-09-22 done.\ncorr_matrix for 1988-09-21 done.\ncorr_matrix for 1988-09-20 done.\ncorr_matrix for 1988-09-19 done.\ncorr_matrix for 1988-09-16 done.\ncorr_matrix for 1988-09-15 done.\ncorr_matrix for 1988-09-14 done.\n"
     ]
    },
    {
     "name": "stdout",
     "output_type": "stream",
     "text": [
      "corr_matrix for 1988-09-13 done.\ncorr_matrix for 1988-09-12 done.\ncorr_matrix for 1988-09-09 done.\ncorr_matrix for 1988-09-08 done.\ncorr_matrix for 1988-09-07 done.\ncorr_matrix for 1988-09-06 done.\ncorr_matrix for 1988-09-02 done.\ncorr_matrix for 1988-09-01 done.\ncorr_matrix for 1988-08-31 done.\ncorr_matrix for 1988-08-30 done.\n"
     ]
    },
    {
     "name": "stdout",
     "output_type": "stream",
     "text": [
      "corr_matrix for 1988-08-29 done.\ncorr_matrix for 1988-08-26 done.\ncorr_matrix for 1988-08-25 done.\ncorr_matrix for 1988-08-24 done.\ncorr_matrix for 1988-08-23 done.\ncorr_matrix for 1988-08-22 done.\ncorr_matrix for 1988-08-19 done.\ncorr_matrix for 1988-08-18 done.\ncorr_matrix for 1988-08-17 done.\ncorr_matrix for 1988-08-16 done.\ncorr_matrix for 1988-08-15 done."
     ]
    },
    {
     "name": "stdout",
     "output_type": "stream",
     "text": [
      "\ncorr_matrix for 1988-08-12 done.\ncorr_matrix for 1988-08-11 done.\ncorr_matrix for 1988-08-10 done.\ncorr_matrix for 1988-08-09 done.\ncorr_matrix for 1988-08-08 done.\ncorr_matrix for 1988-08-05 done.\ncorr_matrix for 1988-08-04 done.\ncorr_matrix for 1988-08-03 done.\ncorr_matrix for 1988-08-02 done.\n"
     ]
    },
    {
     "name": "stdout",
     "output_type": "stream",
     "text": [
      "corr_matrix for 1988-08-01 done.\ncorr_matrix for 1988-07-29 done.\ncorr_matrix for 1988-07-28 done.\ncorr_matrix for 1988-07-27 done.\ncorr_matrix for 1988-07-26 done.\ncorr_matrix for 1988-07-25 done.\ncorr_matrix for 1988-07-22 done.\ncorr_matrix for 1988-07-21 done.\ncorr_matrix for 1988-07-20 done.\n"
     ]
    },
    {
     "name": "stdout",
     "output_type": "stream",
     "text": [
      "corr_matrix for 1988-07-19 done.\ncorr_matrix for 1988-07-18 done.\ncorr_matrix for 1988-07-15 done.\ncorr_matrix for 1988-07-14 done.\ncorr_matrix for 1988-07-13 done.\ncorr_matrix for 1988-07-12 done.\ncorr_matrix for 1988-07-11 done.\ncorr_matrix for 1988-07-08 done.\ncorr_matrix for 1988-07-07 done.\n"
     ]
    },
    {
     "name": "stdout",
     "output_type": "stream",
     "text": [
      "corr_matrix for 1988-07-06 done.\ncorr_matrix for 1988-07-05 done.\ncorr_matrix for 1988-07-01 done.\ncorr_matrix for 1988-06-30 done.\ncorr_matrix for 1988-06-29 done.\ncorr_matrix for 1988-06-28 done.\ncorr_matrix for 1988-06-27 done.\ncorr_matrix for 1988-06-24 done.\ncorr_matrix for 1988-06-23 done.\ncorr_matrix for 1988-06-22 done.\n"
     ]
    },
    {
     "name": "stdout",
     "output_type": "stream",
     "text": [
      "corr_matrix for 1988-06-21 done.\ncorr_matrix for 1988-06-20 done.\ncorr_matrix for 1988-06-17 done.\ncorr_matrix for 1988-06-16 done.\ncorr_matrix for 1988-06-15 done.\ncorr_matrix for 1988-06-14 done.\ncorr_matrix for 1988-06-13 done.\ncorr_matrix for 1988-06-10 done.\ncorr_matrix for 1988-06-09 done.\n"
     ]
    },
    {
     "name": "stdout",
     "output_type": "stream",
     "text": [
      "corr_matrix for 1988-06-08 done.\ncorr_matrix for 1988-06-07 done.\ncorr_matrix for 1988-06-06 done.\ncorr_matrix for 1988-06-03 done.\ncorr_matrix for 1988-06-02 done.\ncorr_matrix for 1988-06-01 done.\ncorr_matrix for 1988-05-31 done.\ncorr_matrix for 1988-05-27 done.\ncorr_matrix for 1988-05-26 done.\ncorr_matrix for 1988-05-25 done.\n"
     ]
    },
    {
     "name": "stdout",
     "output_type": "stream",
     "text": [
      "corr_matrix for 1988-05-24 done.\ncorr_matrix for 1988-05-23 done.\ncorr_matrix for 1988-05-20 done.\ncorr_matrix for 1988-05-19 done.\ncorr_matrix for 1988-05-18 done.\ncorr_matrix for 1988-05-17 done.\ncorr_matrix for 1988-05-16 done.\ncorr_matrix for 1988-05-13 done.\ncorr_matrix for 1988-05-12 done.\ncorr_matrix for 1988-05-11 done.\n"
     ]
    },
    {
     "name": "stdout",
     "output_type": "stream",
     "text": [
      "corr_matrix for 1988-05-10 done.\ncorr_matrix for 1988-05-09 done.\ncorr_matrix for 1988-05-06 done.\ncorr_matrix for 1988-05-05 done.\ncorr_matrix for 1988-05-04 done.\ncorr_matrix for 1988-05-03 done.\ncorr_matrix for 1988-05-02 done.\ncorr_matrix for 1988-04-29 done.\ncorr_matrix for 1988-04-28 done.\ncorr_matrix for 1988-04-27 done.\n"
     ]
    },
    {
     "name": "stdout",
     "output_type": "stream",
     "text": [
      "corr_matrix for 1988-04-26 done.\ncorr_matrix for 1988-04-25 done.\ncorr_matrix for 1988-04-22 done.\ncorr_matrix for 1988-04-21 done.\ncorr_matrix for 1988-04-20 done.\ncorr_matrix for 1988-04-19 done.\ncorr_matrix for 1988-04-18 done.\ncorr_matrix for 1988-04-15 done.\ncorr_matrix for 1988-04-14 done.\ncorr_matrix for 1988-04-13 done.\n"
     ]
    },
    {
     "name": "stdout",
     "output_type": "stream",
     "text": [
      "corr_matrix for 1988-04-12 done.\ncorr_matrix for 1988-04-11 done.\ncorr_matrix for 1988-04-08 done.\ncorr_matrix for 1988-04-07 done.\ncorr_matrix for 1988-04-06 done.\ncorr_matrix for 1988-04-05 done.\ncorr_matrix for 1988-04-04 done.\ncorr_matrix for 1988-03-31 done.\ncorr_matrix for 1988-03-30 done.\ncorr_matrix for 1988-03-29 done.\n"
     ]
    },
    {
     "name": "stdout",
     "output_type": "stream",
     "text": [
      "corr_matrix for 1988-03-28 done.\ncorr_matrix for 1988-03-25 done.\ncorr_matrix for 1988-03-24 done.\ncorr_matrix for 1988-03-23 done.\ncorr_matrix for 1988-03-22 done.\ncorr_matrix for 1988-03-21 done.\ncorr_matrix for 1988-03-18 done.\ncorr_matrix for 1988-03-17 done.\ncorr_matrix for 1988-03-16 done.\ncorr_matrix for 1988-03-15 done.\ncorr_matrix for 1988-03-14 done.\n"
     ]
    },
    {
     "name": "stdout",
     "output_type": "stream",
     "text": [
      "corr_matrix for 1988-03-11 done.\ncorr_matrix for 1988-03-10 done.\ncorr_matrix for 1988-03-09 done.\ncorr_matrix for 1988-03-08 done.\ncorr_matrix for 1988-03-07 done.\ncorr_matrix for 1988-03-04 done.\ncorr_matrix for 1988-03-03 done.\ncorr_matrix for 1988-03-02 done.\ncorr_matrix for 1988-03-01 done.\ncorr_matrix for 1988-02-29 done.\ncorr_matrix for 1988-02-26 done.\n"
     ]
    },
    {
     "name": "stdout",
     "output_type": "stream",
     "text": [
      "corr_matrix for 1988-02-25 done.\ncorr_matrix for 1988-02-24 done.\ncorr_matrix for 1988-02-23 done.\ncorr_matrix for 1988-02-22 done.\ncorr_matrix for 1988-02-19 done.\ncorr_matrix for 1988-02-18 done.\ncorr_matrix for 1988-02-17 done.\ncorr_matrix for 1988-02-16 done.\ncorr_matrix for 1988-02-12 done.\ncorr_matrix for 1988-02-11 done.\ncorr_matrix for 1988-02-10 done.\n"
     ]
    },
    {
     "name": "stdout",
     "output_type": "stream",
     "text": [
      "corr_matrix for 1988-02-09 done.\ncorr_matrix for 1988-02-08 done.\ncorr_matrix for 1988-02-05 done.\ncorr_matrix for 1988-02-04 done.\ncorr_matrix for 1988-02-03 done.\ncorr_matrix for 1988-02-02 done.\ncorr_matrix for 1988-02-01 done.\ncorr_matrix for 1988-01-29 done.\ncorr_matrix for 1988-01-28 done.\ncorr_matrix for 1988-01-27 done.\ncorr_matrix for 1988-01-26 done.\n"
     ]
    },
    {
     "name": "stdout",
     "output_type": "stream",
     "text": [
      "corr_matrix for 1988-01-25 done.\ncorr_matrix for 1988-01-22 done.\ncorr_matrix for 1988-01-21 done.\ncorr_matrix for 1988-01-20 done.\ncorr_matrix for 1988-01-19 done.\ncorr_matrix for 1988-01-18 done.\ncorr_matrix for 1988-01-15 done.\ncorr_matrix for 1988-01-14 done.\ncorr_matrix for 1988-01-13 done.\ncorr_matrix for 1988-01-12 done.\n"
     ]
    },
    {
     "name": "stdout",
     "output_type": "stream",
     "text": [
      "corr_matrix for 1988-01-11 done.\ncorr_matrix for 1988-01-08 done.\ncorr_matrix for 1988-01-07 done.\ncorr_matrix for 1988-01-06 done.\ncorr_matrix for 1988-01-05 done.\ncorr_matrix for 1988-01-04 done.\ncorr_matrix for 1987-12-31 done.\ncorr_matrix for 1987-12-30 done.\ncorr_matrix for 1987-12-29 done.\ncorr_matrix for 1987-12-28 done.\n"
     ]
    },
    {
     "name": "stdout",
     "output_type": "stream",
     "text": [
      "corr_matrix for 1987-12-24 done.\ncorr_matrix for 1987-12-23 done.\ncorr_matrix for 1987-12-22 done.\ncorr_matrix for 1987-12-21 done.\ncorr_matrix for 1987-12-18 done.\ncorr_matrix for 1987-12-17 done.\ncorr_matrix for 1987-12-16 done.\ncorr_matrix for 1987-12-15 done.\ncorr_matrix for 1987-12-14 done.\ncorr_matrix for 1987-12-11 done.\ncorr_matrix for 1987-12-10 done.\n"
     ]
    },
    {
     "name": "stdout",
     "output_type": "stream",
     "text": [
      "corr_matrix for 1987-12-09 done.\ncorr_matrix for 1987-12-08 done.\ncorr_matrix for 1987-12-07 done.\ncorr_matrix for 1987-12-04 done.\ncorr_matrix for 1987-12-03 done.\ncorr_matrix for 1987-12-02 done.\ncorr_matrix for 1987-12-01 done.\ncorr_matrix for 1987-11-30 done.\ncorr_matrix for 1987-11-27 done.\ncorr_matrix for 1987-11-25 done.\ncorr_matrix for 1987-11-24 done.\n"
     ]
    },
    {
     "name": "stdout",
     "output_type": "stream",
     "text": [
      "corr_matrix for 1987-11-23 done.\ncorr_matrix for 1987-11-20 done.\ncorr_matrix for 1987-11-19 done.\ncorr_matrix for 1987-11-18 done.\ncorr_matrix for 1987-11-17 done.\ncorr_matrix for 1987-11-16 done.\ncorr_matrix for 1987-11-13 done.\ncorr_matrix for 1987-11-12 done.\ncorr_matrix for 1987-11-11 done.\ncorr_matrix for 1987-11-10 done.\ncorr_matrix for 1987-11-09 done."
     ]
    },
    {
     "name": "stdout",
     "output_type": "stream",
     "text": [
      "\ncorr_matrix for 1987-11-06 done.\ncorr_matrix for 1987-11-05 done.\ncorr_matrix for 1987-11-04 done.\ncorr_matrix for 1987-11-03 done.\ncorr_matrix for 1987-11-02 done.\ncorr_matrix for 1987-10-30 done.\ncorr_matrix for 1987-10-29 done.\ncorr_matrix for 1987-10-28 done.\ncorr_matrix for 1987-10-27 done.\n"
     ]
    },
    {
     "name": "stdout",
     "output_type": "stream",
     "text": [
      "corr_matrix for 1987-10-26 done.\ncorr_matrix for 1987-10-23 done.\ncorr_matrix for 1987-10-22 done.\ncorr_matrix for 1987-10-21 done.\ncorr_matrix for 1987-10-20 done.\ncorr_matrix for 1987-10-19 done.\ncorr_matrix for 1987-10-16 done.\ncorr_matrix for 1987-10-15 done.\ncorr_matrix for 1987-10-14 done.\ncorr_matrix for 1987-10-13 done.\n"
     ]
    },
    {
     "name": "stdout",
     "output_type": "stream",
     "text": [
      "corr_matrix for 1987-10-12 done.\ncorr_matrix for 1987-10-09 done.\ncorr_matrix for 1987-10-08 done.\ncorr_matrix for 1987-10-07 done.\ncorr_matrix for 1987-10-06 done.\ncorr_matrix for 1987-10-05 done.\ncorr_matrix for 1987-10-02 done.\ncorr_matrix for 1987-10-01 done.\ncorr_matrix for 1987-09-30 done.\ncorr_matrix for 1987-09-29 done.\ncorr_matrix for 1987-09-28 done.\n"
     ]
    },
    {
     "name": "stdout",
     "output_type": "stream",
     "text": [
      "corr_matrix for 1987-09-25 done.\ncorr_matrix for 1987-09-24 done.\ncorr_matrix for 1987-09-23 done.\ncorr_matrix for 1987-09-22 done.\ncorr_matrix for 1987-09-21 done.\ncorr_matrix for 1987-09-18 done.\ncorr_matrix for 1987-09-17 done.\ncorr_matrix for 1987-09-16 done.\ncorr_matrix for 1987-09-15 done.\ncorr_matrix for 1987-09-14 done.\ncorr_matrix for 1987-09-11 done.\n"
     ]
    },
    {
     "name": "stdout",
     "output_type": "stream",
     "text": [
      "corr_matrix for 1987-09-10 done.\ncorr_matrix for 1987-09-09 done.\ncorr_matrix for 1987-09-08 done.\ncorr_matrix for 1987-09-04 done.\ncorr_matrix for 1987-09-03 done.\ncorr_matrix for 1987-09-02 done.\ncorr_matrix for 1987-09-01 done.\ncorr_matrix for 1987-08-31 done.\ncorr_matrix for 1987-08-28 done.\ncorr_matrix for 1987-08-27 done.\ncorr_matrix for 1987-08-26 done.\ncorr_matrix for 1987-08-25 done.\n"
     ]
    },
    {
     "name": "stdout",
     "output_type": "stream",
     "text": [
      "corr_matrix for 1987-08-24 done.\ncorr_matrix for 1987-08-21 done.\ncorr_matrix for 1987-08-20 done.\ncorr_matrix for 1987-08-19 done.\ncorr_matrix for 1987-08-18 done.\ncorr_matrix for 1987-08-17 done.\ncorr_matrix for 1987-08-14 done.\ncorr_matrix for 1987-08-13 done.\ncorr_matrix for 1987-08-12 done.\ncorr_matrix for 1987-08-11 done.\ncorr_matrix for 1987-08-10 done.\n"
     ]
    },
    {
     "name": "stdout",
     "output_type": "stream",
     "text": [
      "corr_matrix for 1987-08-07 done.\ncorr_matrix for 1987-08-06 done.\ncorr_matrix for 1987-08-05 done.\ncorr_matrix for 1987-08-04 done.\ncorr_matrix for 1987-08-03 done.\ncorr_matrix for 1987-07-31 done.\ncorr_matrix for 1987-07-30 done.\ncorr_matrix for 1987-07-29 done.\ncorr_matrix for 1987-07-28 done.\n"
     ]
    },
    {
     "name": "stdout",
     "output_type": "stream",
     "text": [
      "corr_matrix for 1987-07-27 done.\ncorr_matrix for 1987-07-24 done.\ncorr_matrix for 1987-07-23 done.\ncorr_matrix for 1987-07-22 done.\ncorr_matrix for 1987-07-21 done.\ncorr_matrix for 1987-07-20 done.\ncorr_matrix for 1987-07-17 done.\ncorr_matrix for 1987-07-16 done.\ncorr_matrix for 1987-07-15 done.\n"
     ]
    },
    {
     "name": "stdout",
     "output_type": "stream",
     "text": [
      "corr_matrix for 1987-07-14 done.\ncorr_matrix for 1987-07-13 done.\ncorr_matrix for 1987-07-10 done.\ncorr_matrix for 1987-07-09 done.\ncorr_matrix for 1987-07-08 done.\ncorr_matrix for 1987-07-07 done.\ncorr_matrix for 1987-07-06 done.\ncorr_matrix for 1987-07-02 done.\ncorr_matrix for 1987-07-01 done.\ncorr_matrix for 1987-06-30 done.\n"
     ]
    },
    {
     "name": "stdout",
     "output_type": "stream",
     "text": [
      "corr_matrix for 1987-06-29 done.\ncorr_matrix for 1987-06-26 done.\ncorr_matrix for 1987-06-25 done.\ncorr_matrix for 1987-06-24 done.\ncorr_matrix for 1987-06-23 done.\ncorr_matrix for 1987-06-22 done.\ncorr_matrix for 1987-06-19 done.\ncorr_matrix for 1987-06-18 done.\n"
     ]
    },
    {
     "name": "stdout",
     "output_type": "stream",
     "text": [
      "corr_matrix for 1987-06-17 done.\ncorr_matrix for 1987-06-16 done.\ncorr_matrix for 1987-06-15 done.\n"
     ]
    },
    {
     "name": "stdout",
     "output_type": "stream",
     "text": [
      "corr_matrix for 1987-06-12 done.\ncorr_matrix for 1987-06-11 done.\ncorr_matrix for 1987-06-10 done.\ncorr_matrix for 1987-06-09 done.\ncorr_matrix for 1987-06-08 done.\ncorr_matrix for 1987-06-05 done.\n"
     ]
    },
    {
     "name": "stdout",
     "output_type": "stream",
     "text": [
      "corr_matrix for 1987-06-04 done.\ncorr_matrix for 1987-06-03 done.\ncorr_matrix for 1987-06-02 done.\ncorr_matrix for 1987-06-01 done.\ncorr_matrix for 1987-05-29 done.\ncorr_matrix for 1987-05-28 done.\ncorr_matrix for 1987-05-27 done.\ncorr_matrix for 1987-05-26 done.\n"
     ]
    },
    {
     "name": "stdout",
     "output_type": "stream",
     "text": [
      "corr_matrix for 1987-05-22 done.\ncorr_matrix for 1987-05-21 done.\ncorr_matrix for 1987-05-20 done.\ncorr_matrix for 1987-05-19 done.\ncorr_matrix for 1987-05-18 done.\ncorr_matrix for 1987-05-15 done.\ncorr_matrix for 1987-05-14 done.\ncorr_matrix for 1987-05-13 done.\n"
     ]
    },
    {
     "name": "stdout",
     "output_type": "stream",
     "text": [
      "corr_matrix for 1987-05-12 done.\ncorr_matrix for 1987-05-11 done.\ncorr_matrix for 1987-05-08 done.\ncorr_matrix for 1987-05-07 done.\ncorr_matrix for 1987-05-06 done.\ncorr_matrix for 1987-05-05 done.\ncorr_matrix for 1987-05-04 done.\ncorr_matrix for 1987-05-01 done.\ncorr_matrix for 1987-04-30 done.\n"
     ]
    },
    {
     "name": "stdout",
     "output_type": "stream",
     "text": [
      "corr_matrix for 1987-04-29 done.\ncorr_matrix for 1987-04-28 done.\ncorr_matrix for 1987-04-27 done.\ncorr_matrix for 1987-04-24 done.\ncorr_matrix for 1987-04-23 done.\ncorr_matrix for 1987-04-22 done.\ncorr_matrix for 1987-04-21 done.\ncorr_matrix for 1987-04-20 done.\ncorr_matrix for 1987-04-16 done.\n"
     ]
    },
    {
     "name": "stdout",
     "output_type": "stream",
     "text": [
      "corr_matrix for 1987-04-15 done.\ncorr_matrix for 1987-04-14 done.\ncorr_matrix for 1987-04-13 done.\ncorr_matrix for 1987-04-10 done.\ncorr_matrix for 1987-04-09 done.\ncorr_matrix for 1987-04-08 done.\ncorr_matrix for 1987-04-07 done.\ncorr_matrix for 1987-04-06 done.\ncorr_matrix for 1987-04-03 done.\n"
     ]
    },
    {
     "name": "stdout",
     "output_type": "stream",
     "text": [
      "corr_matrix for 1987-04-02 done.\ncorr_matrix for 1987-04-01 done.\ncorr_matrix for 1987-03-31 done.\ncorr_matrix for 1987-03-30 done.\ncorr_matrix for 1987-03-27 done.\ncorr_matrix for 1987-03-26 done.\ncorr_matrix for 1987-03-25 done.\ncorr_matrix for 1987-03-24 done.\ncorr_matrix for 1987-03-23 done.\ncorr_matrix for 1987-03-20 done.\n"
     ]
    },
    {
     "name": "stdout",
     "output_type": "stream",
     "text": [
      "corr_matrix for 1987-03-19 done.\ncorr_matrix for 1987-03-18 done.\ncorr_matrix for 1987-03-17 done.\ncorr_matrix for 1987-03-16 done.\ncorr_matrix for 1987-03-13 done.\ncorr_matrix for 1987-03-12 done.\ncorr_matrix for 1987-03-11 done.\ncorr_matrix for 1987-03-10 done.\ncorr_matrix for 1987-03-09 done.\n"
     ]
    },
    {
     "name": "stdout",
     "output_type": "stream",
     "text": [
      "corr_matrix for 1987-03-06 done.\ncorr_matrix for 1987-03-05 done.\ncorr_matrix for 1987-03-04 done.\ncorr_matrix for 1987-03-03 done.\ncorr_matrix for 1987-03-02 done.\ncorr_matrix for 1987-02-27 done.\ncorr_matrix for 1987-02-26 done.\ncorr_matrix for 1987-02-25 done.\ncorr_matrix for 1987-02-24 done.\n"
     ]
    },
    {
     "name": "stdout",
     "output_type": "stream",
     "text": [
      "corr_matrix for 1987-02-23 done.\ncorr_matrix for 1987-02-20 done.\ncorr_matrix for 1987-02-19 done.\ncorr_matrix for 1987-02-18 done.\ncorr_matrix for 1987-02-17 done.\ncorr_matrix for 1987-02-13 done.\ncorr_matrix for 1987-02-12 done.\ncorr_matrix for 1987-02-11 done.\ncorr_matrix for 1987-02-10 done.\ncorr_matrix for 1987-02-09 done.\n"
     ]
    },
    {
     "name": "stdout",
     "output_type": "stream",
     "text": [
      "corr_matrix for 1987-02-06 done.\ncorr_matrix for 1987-02-05 done.\ncorr_matrix for 1987-02-04 done.\ncorr_matrix for 1987-02-03 done.\ncorr_matrix for 1987-02-02 done.\ncorr_matrix for 1987-01-30 done.\ncorr_matrix for 1987-01-29 done.\ncorr_matrix for 1987-01-28 done.\ncorr_matrix for 1987-01-27 done.\ncorr_matrix for 1987-01-26 done.\n"
     ]
    },
    {
     "name": "stdout",
     "output_type": "stream",
     "text": [
      "corr_matrix for 1987-01-23 done.\ncorr_matrix for 1987-01-22 done.\ncorr_matrix for 1987-01-21 done.\ncorr_matrix for 1987-01-20 done.\ncorr_matrix for 1987-01-19 done.\ncorr_matrix for 1987-01-16 done.\ncorr_matrix for 1987-01-15 done.\ncorr_matrix for 1987-01-14 done.\ncorr_matrix for 1987-01-13 done.\ncorr_matrix for 1987-01-12 done.\n"
     ]
    },
    {
     "name": "stdout",
     "output_type": "stream",
     "text": [
      "corr_matrix for 1987-01-09 done.\ncorr_matrix for 1987-01-08 done.\ncorr_matrix for 1987-01-07 done.\ncorr_matrix for 1987-01-06 done.\ncorr_matrix for 1987-01-05 done.\ncorr_matrix for 1987-01-02 done.\ncorr_matrix for 1986-12-31 done.\ncorr_matrix for 1986-12-30 done.\ncorr_matrix for 1986-12-29 done.\ncorr_matrix for 1986-12-26 done.\ncorr_matrix for 1986-12-24 done.\n"
     ]
    },
    {
     "name": "stdout",
     "output_type": "stream",
     "text": [
      "corr_matrix for 1986-12-23 done.\ncorr_matrix for 1986-12-22 done.\ncorr_matrix for 1986-12-19 done.\ncorr_matrix for 1986-12-18 done.\ncorr_matrix for 1986-12-17 done.\ncorr_matrix for 1986-12-16 done.\ncorr_matrix for 1986-12-15 done.\ncorr_matrix for 1986-12-12 done.\ncorr_matrix for 1986-12-11 done.\ncorr_matrix for 1986-12-10 done.\ncorr_matrix for 1986-12-09 done.\ncorr_matrix for 1986-12-08 done.\n"
     ]
    },
    {
     "name": "stdout",
     "output_type": "stream",
     "text": [
      "corr_matrix for 1986-12-05 done.\ncorr_matrix for 1986-12-04 done.\ncorr_matrix for 1986-12-03 done.\ncorr_matrix for 1986-12-02 done.\ncorr_matrix for 1986-12-01 done.\ncorr_matrix for 1986-11-28 done.\ncorr_matrix for 1986-11-26 done.\ncorr_matrix for 1986-11-25 done.\ncorr_matrix for 1986-11-24 done.\ncorr_matrix for 1986-11-21 done.\ncorr_matrix for 1986-11-20 done.\ncorr_matrix for 1986-11-19 done."
     ]
    },
    {
     "name": "stdout",
     "output_type": "stream",
     "text": [
      "\ncorr_matrix for 1986-11-18 done.\ncorr_matrix for 1986-11-17 done.\ncorr_matrix for 1986-11-14 done.\ncorr_matrix for 1986-11-13 done.\ncorr_matrix for 1986-11-12 done.\ncorr_matrix for 1986-11-11 done.\ncorr_matrix for 1986-11-10 done.\ncorr_matrix for 1986-11-07 done.\ncorr_matrix for 1986-11-06 done.\ncorr_matrix for 1986-11-05 done.\ncorr_matrix for 1986-11-04 done.\n"
     ]
    },
    {
     "name": "stdout",
     "output_type": "stream",
     "text": [
      "corr_matrix for 1986-11-03 done.\ncorr_matrix for 1986-10-31 done.\ncorr_matrix for 1986-10-30 done.\ncorr_matrix for 1986-10-29 done.\ncorr_matrix for 1986-10-28 done.\ncorr_matrix for 1986-10-27 done.\ncorr_matrix for 1986-10-24 done.\ncorr_matrix for 1986-10-23 done.\ncorr_matrix for 1986-10-22 done.\ncorr_matrix for 1986-10-21 done.\ncorr_matrix for 1986-10-20 done.\n"
     ]
    },
    {
     "name": "stdout",
     "output_type": "stream",
     "text": [
      "corr_matrix for 1986-10-17 done.\ncorr_matrix for 1986-10-16 done.\ncorr_matrix for 1986-10-15 done.\ncorr_matrix for 1986-10-14 done.\ncorr_matrix for 1986-10-13 done.\ncorr_matrix for 1986-10-10 done.\ncorr_matrix for 1986-10-09 done.\ncorr_matrix for 1986-10-08 done.\ncorr_matrix for 1986-10-07 done.\ncorr_matrix for 1986-10-06 done.\ncorr_matrix for 1986-10-03 done.\n"
     ]
    },
    {
     "name": "stdout",
     "output_type": "stream",
     "text": [
      "corr_matrix for 1986-10-02 done.\ncorr_matrix for 1986-10-01 done.\ncorr_matrix for 1986-09-30 done.\ncorr_matrix for 1986-09-29 done.\ncorr_matrix for 1986-09-26 done.\ncorr_matrix for 1986-09-25 done.\ncorr_matrix for 1986-09-24 done.\ncorr_matrix for 1986-09-23 done.\ncorr_matrix for 1986-09-22 done.\ncorr_matrix for 1986-09-19 done.\n"
     ]
    },
    {
     "name": "stdout",
     "output_type": "stream",
     "text": [
      "corr_matrix for 1986-09-18 done.\ncorr_matrix for 1986-09-17 done.\ncorr_matrix for 1986-09-16 done.\ncorr_matrix for 1986-09-15 done.\ncorr_matrix for 1986-09-12 done.\ncorr_matrix for 1986-09-11 done.\ncorr_matrix for 1986-09-10 done.\ncorr_matrix for 1986-09-09 done.\ncorr_matrix for 1986-09-08 done.\ncorr_matrix for 1986-09-05 done.\ncorr_matrix for 1986-09-04 done.\n"
     ]
    },
    {
     "name": "stdout",
     "output_type": "stream",
     "text": [
      "corr_matrix for 1986-09-03 done.\ncorr_matrix for 1986-09-02 done.\ncorr_matrix for 1986-08-29 done.\ncorr_matrix for 1986-08-28 done.\ncorr_matrix for 1986-08-27 done.\ncorr_matrix for 1986-08-26 done.\ncorr_matrix for 1986-08-25 done.\ncorr_matrix for 1986-08-22 done.\ncorr_matrix for 1986-08-21 done.\ncorr_matrix for 1986-08-20 done.\ncorr_matrix for 1986-08-19 done.\n"
     ]
    },
    {
     "name": "stdout",
     "output_type": "stream",
     "text": [
      "corr_matrix for 1986-08-18 done.\ncorr_matrix for 1986-08-15 done.\ncorr_matrix for 1986-08-14 done.\ncorr_matrix for 1986-08-13 done.\ncorr_matrix for 1986-08-12 done.\ncorr_matrix for 1986-08-11 done.\ncorr_matrix for 1986-08-08 done.\ncorr_matrix for 1986-08-07 done.\ncorr_matrix for 1986-08-06 done.\ncorr_matrix for 1986-08-05 done.\ncorr_matrix for 1986-08-04 done.\ncorr_matrix for 1986-08-01 done.\n"
     ]
    },
    {
     "name": "stdout",
     "output_type": "stream",
     "text": [
      "corr_matrix for 1986-07-31 done.\ncorr_matrix for 1986-07-30 done.\ncorr_matrix for 1986-07-29 done.\ncorr_matrix for 1986-07-28 done.\ncorr_matrix for 1986-07-25 done.\ncorr_matrix for 1986-07-24 done.\ncorr_matrix for 1986-07-23 done.\ncorr_matrix for 1986-07-22 done.\ncorr_matrix for 1986-07-21 done.\ncorr_matrix for 1986-07-18 done.\ncorr_matrix for 1986-07-17 done.\ncorr_matrix for 1986-07-16 done.\ncorr_matrix for 1986-07-15 done."
     ]
    },
    {
     "name": "stdout",
     "output_type": "stream",
     "text": [
      "\ncorr_matrix for 1986-07-14 done.\ncorr_matrix for 1986-07-11 done.\ncorr_matrix for 1986-07-10 done.\ncorr_matrix for 1986-07-09 done.\ncorr_matrix for 1986-07-08 done.\ncorr_matrix for 1986-07-07 done.\ncorr_matrix for 1986-07-03 done.\ncorr_matrix for 1986-07-02 done.\ncorr_matrix for 1986-07-01 done.\ncorr_matrix for 1986-06-30 done.\ncorr_matrix for 1986-06-27 done.\n"
     ]
    },
    {
     "name": "stdout",
     "output_type": "stream",
     "text": [
      "corr_matrix for 1986-06-26 done.\ncorr_matrix for 1986-06-25 done.\ncorr_matrix for 1986-06-24 done.\ncorr_matrix for 1986-06-23 done.\ncorr_matrix for 1986-06-20 done.\ncorr_matrix for 1986-06-19 done.\ncorr_matrix for 1986-06-18 done.\ncorr_matrix for 1986-06-17 done.\ncorr_matrix for 1986-06-16 done.\ncorr_matrix for 1986-06-13 done.\n"
     ]
    },
    {
     "name": "stdout",
     "output_type": "stream",
     "text": [
      "corr_matrix for 1986-06-12 done.\ncorr_matrix for 1986-06-11 done.\ncorr_matrix for 1986-06-10 done.\ncorr_matrix for 1986-06-09 done.\ncorr_matrix for 1986-06-06 done.\ncorr_matrix for 1986-06-05 done.\ncorr_matrix for 1986-06-04 done.\ncorr_matrix for 1986-06-03 done.\ncorr_matrix for 1986-06-02 done.\ncorr_matrix for 1986-05-30 done.\ncorr_matrix for 1986-05-29 done.\n"
     ]
    },
    {
     "name": "stdout",
     "output_type": "stream",
     "text": [
      "corr_matrix for 1986-05-28 done.\ncorr_matrix for 1986-05-27 done.\ncorr_matrix for 1986-05-23 done.\ncorr_matrix for 1986-05-22 done.\ncorr_matrix for 1986-05-21 done.\ncorr_matrix for 1986-05-20 done.\ncorr_matrix for 1986-05-19 done.\ncorr_matrix for 1986-05-16 done.\ncorr_matrix for 1986-05-15 done.\ncorr_matrix for 1986-05-14 done.\n"
     ]
    },
    {
     "name": "stdout",
     "output_type": "stream",
     "text": [
      "corr_matrix for 1986-05-13 done.\ncorr_matrix for 1986-05-12 done.\ncorr_matrix for 1986-05-09 done.\ncorr_matrix for 1986-05-08 done.\ncorr_matrix for 1986-05-07 done.\ncorr_matrix for 1986-05-06 done.\ncorr_matrix for 1986-05-05 done.\ncorr_matrix for 1986-05-02 done.\ncorr_matrix for 1986-05-01 done.\ncorr_matrix for 1986-04-30 done.\ncorr_matrix for 1986-04-29 done.\n"
     ]
    },
    {
     "name": "stdout",
     "output_type": "stream",
     "text": [
      "corr_matrix for 1986-04-28 done.\ncorr_matrix for 1986-04-25 done.\ncorr_matrix for 1986-04-24 done.\ncorr_matrix for 1986-04-23 done.\ncorr_matrix for 1986-04-22 done.\ncorr_matrix for 1986-04-21 done.\ncorr_matrix for 1986-04-18 done.\ncorr_matrix for 1986-04-17 done.\ncorr_matrix for 1986-04-16 done.\ncorr_matrix for 1986-04-15 done.\ncorr_matrix for 1986-04-14 done.\ncorr_matrix for 1986-04-11 done.\n"
     ]
    },
    {
     "name": "stdout",
     "output_type": "stream",
     "text": [
      "corr_matrix for 1986-04-10 done.\ncorr_matrix for 1986-04-09 done.\ncorr_matrix for 1986-04-08 done.\ncorr_matrix for 1986-04-07 done.\ncorr_matrix for 1986-04-04 done.\ncorr_matrix for 1986-04-03 done.\ncorr_matrix for 1986-04-02 done.\ncorr_matrix for 1986-04-01 done.\ncorr_matrix for 1986-03-31 done.\ncorr_matrix for 1986-03-27 done.\ncorr_matrix for 1986-03-26 done.\n"
     ]
    },
    {
     "name": "stdout",
     "output_type": "stream",
     "text": [
      "corr_matrix for 1986-03-25 done.\ncorr_matrix for 1986-03-24 done.\ncorr_matrix for 1986-03-21 done.\ncorr_matrix for 1986-03-20 done.\ncorr_matrix for 1986-03-19 done.\ncorr_matrix for 1986-03-18 done.\ncorr_matrix for 1986-03-17 done.\ncorr_matrix for 1986-03-14 done.\ncorr_matrix for 1986-03-13 done.\ncorr_matrix for 1986-03-12 done.\ncorr_matrix for 1986-03-11 done.\n"
     ]
    },
    {
     "name": "stdout",
     "output_type": "stream",
     "text": [
      "corr_matrix for 1986-03-10 done.\ncorr_matrix for 1986-03-07 done.\ncorr_matrix for 1986-03-06 done.\ncorr_matrix for 1986-03-05 done.\ncorr_matrix for 1986-03-04 done.\ncorr_matrix for 1986-03-03 done.\ncorr_matrix for 1986-02-28 done.\ncorr_matrix for 1986-02-27 done.\ncorr_matrix for 1986-02-26 done.\ncorr_matrix for 1986-02-25 done.\ncorr_matrix for 1986-02-24 done.\n"
     ]
    },
    {
     "name": "stdout",
     "output_type": "stream",
     "text": [
      "corr_matrix for 1986-02-21 done.\ncorr_matrix for 1986-02-20 done.\ncorr_matrix for 1986-02-19 done.\ncorr_matrix for 1986-02-18 done.\ncorr_matrix for 1986-02-14 done.\ncorr_matrix for 1986-02-13 done.\ncorr_matrix for 1986-02-12 done.\ncorr_matrix for 1986-02-11 done.\ncorr_matrix for 1986-02-10 done.\ncorr_matrix for 1986-02-07 done.\ncorr_matrix for 1986-02-06 done."
     ]
    },
    {
     "name": "stdout",
     "output_type": "stream",
     "text": [
      "\ncorr_matrix for 1986-02-05 done.\ncorr_matrix for 1986-02-04 done.\ncorr_matrix for 1986-02-03 done.\ncorr_matrix for 1986-01-31 done.\ncorr_matrix for 1986-01-30 done.\ncorr_matrix for 1986-01-29 done.\ncorr_matrix for 1986-01-28 done.\ncorr_matrix for 1986-01-27 done.\ncorr_matrix for 1986-01-24 done.\ncorr_matrix for 1986-01-23 done.\ncorr_matrix for 1986-01-22 done.\n"
     ]
    },
    {
     "name": "stdout",
     "output_type": "stream",
     "text": [
      "corr_matrix for 1986-01-21 done.\ncorr_matrix for 1986-01-20 done.\ncorr_matrix for 1986-01-17 done.\ncorr_matrix for 1986-01-16 done.\ncorr_matrix for 1986-01-15 done.\ncorr_matrix for 1986-01-14 done.\ncorr_matrix for 1986-01-13 done.\ncorr_matrix for 1986-01-10 done.\ncorr_matrix for 1986-01-09 done.\ncorr_matrix for 1986-01-08 done.\ncorr_matrix for 1986-01-07 done.\n"
     ]
    },
    {
     "name": "stdout",
     "output_type": "stream",
     "text": [
      "corr_matrix for 1986-01-06 done.\ncorr_matrix for 1986-01-03 done.\ncorr_matrix for 1986-01-02 done.\ncorr_matrix for 1985-12-31 done.\ncorr_matrix for 1985-12-30 done.\ncorr_matrix for 1985-12-27 done.\ncorr_matrix for 1985-12-26 done.\ncorr_matrix for 1985-12-24 done.\ncorr_matrix for 1985-12-23 done.\ncorr_matrix for 1985-12-20 done.\ncorr_matrix for 1985-12-19 done.\ncorr_matrix for 1985-12-18 done.\ncorr_matrix for 1985-12-17 done.\n"
     ]
    },
    {
     "name": "stdout",
     "output_type": "stream",
     "text": [
      "corr_matrix for 1985-12-16 done.\ncorr_matrix for 1985-12-13 done.\ncorr_matrix for 1985-12-12 done.\ncorr_matrix for 1985-12-11 done.\ncorr_matrix for 1985-12-10 done.\ncorr_matrix for 1985-12-09 done.\ncorr_matrix for 1985-12-06 done.\ncorr_matrix for 1985-12-05 done.\ncorr_matrix for 1985-12-04 done.\ncorr_matrix for 1985-12-03 done.\ncorr_matrix for 1985-12-02 done.\ncorr_matrix for 1985-11-29 done.\n"
     ]
    },
    {
     "name": "stdout",
     "output_type": "stream",
     "text": [
      "corr_matrix for 1985-11-27 done.\ncorr_matrix for 1985-11-26 done.\ncorr_matrix for 1985-11-25 done.\ncorr_matrix for 1985-11-22 done.\ncorr_matrix for 1985-11-21 done.\ncorr_matrix for 1985-11-20 done.\ncorr_matrix for 1985-11-19 done.\ncorr_matrix for 1985-11-18 done.\ncorr_matrix for 1985-11-15 done.\ncorr_matrix for 1985-11-14 done.\ncorr_matrix for 1985-11-13 done.\ncorr_matrix for 1985-11-12 done.\n"
     ]
    },
    {
     "name": "stdout",
     "output_type": "stream",
     "text": [
      "corr_matrix for 1985-11-11 done.\ncorr_matrix for 1985-11-08 done.\ncorr_matrix for 1985-11-07 done.\ncorr_matrix for 1985-11-06 done.\ncorr_matrix for 1985-11-05 done.\ncorr_matrix for 1985-11-04 done.\ncorr_matrix for 1985-11-01 done.\ncorr_matrix for 1985-10-31 done.\ncorr_matrix for 1985-10-30 done.\ncorr_matrix for 1985-10-29 done.\ncorr_matrix for 1985-10-28 done.\ncorr_matrix for 1985-10-25 done.\n"
     ]
    },
    {
     "name": "stdout",
     "output_type": "stream",
     "text": [
      "corr_matrix for 1985-10-24 done.\ncorr_matrix for 1985-10-23 done.\ncorr_matrix for 1985-10-22 done.\ncorr_matrix for 1985-10-21 done.\ncorr_matrix for 1985-10-18 done.\ncorr_matrix for 1985-10-17 done.\ncorr_matrix for 1985-10-16 done.\ncorr_matrix for 1985-10-15 done.\ncorr_matrix for 1985-10-14 done.\ncorr_matrix for 1985-10-11 done.\ncorr_matrix for 1985-10-10 done.\ncorr_matrix for 1985-10-09 done.\n"
     ]
    },
    {
     "name": "stdout",
     "output_type": "stream",
     "text": [
      "corr_matrix for 1985-10-08 done.\ncorr_matrix for 1985-10-07 done.\ncorr_matrix for 1985-10-04 done.\ncorr_matrix for 1985-10-03 done.\ncorr_matrix for 1985-10-02 done.\ncorr_matrix for 1985-10-01 done.\ncorr_matrix for 1985-09-30 done.\ncorr_matrix for 1985-09-26 done.\ncorr_matrix for 1985-09-25 done.\ncorr_matrix for 1985-09-24 done.\ncorr_matrix for 1985-09-23 done.\ncorr_matrix for 1985-09-20 done.\n"
     ]
    },
    {
     "name": "stdout",
     "output_type": "stream",
     "text": [
      "corr_matrix for 1985-09-19 done.\ncorr_matrix for 1985-09-18 done.\ncorr_matrix for 1985-09-17 done.\ncorr_matrix for 1985-09-16 done.\ncorr_matrix for 1985-09-13 done.\ncorr_matrix for 1985-09-12 done.\ncorr_matrix for 1985-09-11 done.\ncorr_matrix for 1985-09-10 done.\ncorr_matrix for 1985-09-09 done.\ncorr_matrix for 1985-09-06 done.\ncorr_matrix for 1985-09-05 done.\ncorr_matrix for 1985-09-04 done.\n"
     ]
    },
    {
     "name": "stdout",
     "output_type": "stream",
     "text": [
      "corr_matrix for 1985-09-03 done.\ncorr_matrix for 1985-08-30 done.\ncorr_matrix for 1985-08-29 done.\ncorr_matrix for 1985-08-28 done.\ncorr_matrix for 1985-08-27 done.\ncorr_matrix for 1985-08-26 done.\ncorr_matrix for 1985-08-23 done.\ncorr_matrix for 1985-08-22 done.\ncorr_matrix for 1985-08-21 done.\ncorr_matrix for 1985-08-20 done.\ncorr_matrix for 1985-08-19 done.\ncorr_matrix for 1985-08-16 done.\n"
     ]
    },
    {
     "name": "stdout",
     "output_type": "stream",
     "text": [
      "corr_matrix for 1985-08-15 done.\ncorr_matrix for 1985-08-14 done.\ncorr_matrix for 1985-08-13 done.\ncorr_matrix for 1985-08-12 done.\ncorr_matrix for 1985-08-09 done.\ncorr_matrix for 1985-08-08 done.\ncorr_matrix for 1985-08-07 done.\ncorr_matrix for 1985-08-06 done.\ncorr_matrix for 1985-08-05 done.\ncorr_matrix for 1985-08-02 done.\ncorr_matrix for 1985-08-01 done.\ncorr_matrix for 1985-07-31 done.\n"
     ]
    },
    {
     "name": "stdout",
     "output_type": "stream",
     "text": [
      "corr_matrix for 1985-07-30 done.\ncorr_matrix for 1985-07-29 done.\ncorr_matrix for 1985-07-26 done.\ncorr_matrix for 1985-07-25 done.\ncorr_matrix for 1985-07-24 done.\ncorr_matrix for 1985-07-23 done.\ncorr_matrix for 1985-07-22 done.\ncorr_matrix for 1985-07-19 done.\ncorr_matrix for 1985-07-18 done.\ncorr_matrix for 1985-07-17 done.\ncorr_matrix for 1985-07-16 done.\ncorr_matrix for 1985-07-15 done.\n"
     ]
    },
    {
     "name": "stdout",
     "output_type": "stream",
     "text": [
      "corr_matrix for 1985-07-12 done.\ncorr_matrix for 1985-07-11 done.\ncorr_matrix for 1985-07-10 done.\ncorr_matrix for 1985-07-09 done.\ncorr_matrix for 1985-07-08 done.\ncorr_matrix for 1985-07-05 done.\ncorr_matrix for 1985-07-03 done.\ncorr_matrix for 1985-07-02 done.\ncorr_matrix for 1985-07-01 done.\ncorr_matrix for 1985-06-28 done.\ncorr_matrix for 1985-06-27 done.\ncorr_matrix for 1985-06-26 done.\n"
     ]
    },
    {
     "name": "stdout",
     "output_type": "stream",
     "text": [
      "corr_matrix for 1985-06-25 done.\ncorr_matrix for 1985-06-24 done.\ncorr_matrix for 1985-06-21 done.\ncorr_matrix for 1985-06-20 done.\ncorr_matrix for 1985-06-19 done.\ncorr_matrix for 1985-06-18 done.\ncorr_matrix for 1985-06-17 done.\ncorr_matrix for 1985-06-14 done.\ncorr_matrix for 1985-06-13 done.\ncorr_matrix for 1985-06-12 done.\ncorr_matrix for 1985-06-11 done.\n"
     ]
    },
    {
     "name": "stdout",
     "output_type": "stream",
     "text": [
      "corr_matrix for 1985-06-10 done.\ncorr_matrix for 1985-06-07 done.\ncorr_matrix for 1985-06-06 done.\ncorr_matrix for 1985-06-05 done.\ncorr_matrix for 1985-06-04 done.\ncorr_matrix for 1985-06-03 done.\ncorr_matrix for 1985-05-31 done.\ncorr_matrix for 1985-05-30 done.\ncorr_matrix for 1985-05-29 done.\ncorr_matrix for 1985-05-28 done.\ncorr_matrix for 1985-05-24 done.\n"
     ]
    },
    {
     "name": "stdout",
     "output_type": "stream",
     "text": [
      "corr_matrix for 1985-05-23 done.\ncorr_matrix for 1985-05-22 done.\ncorr_matrix for 1985-05-21 done.\ncorr_matrix for 1985-05-20 done.\ncorr_matrix for 1985-05-17 done.\ncorr_matrix for 1985-05-16 done.\ncorr_matrix for 1985-05-15 done.\ncorr_matrix for 1985-05-14 done.\ncorr_matrix for 1985-05-13 done.\ncorr_matrix for 1985-05-10 done.\ncorr_matrix for 1985-05-09 done.\ncorr_matrix for 1985-05-08 done."
     ]
    },
    {
     "name": "stdout",
     "output_type": "stream",
     "text": [
      "\ncorr_matrix for 1985-05-07 done.\ncorr_matrix for 1985-05-06 done.\ncorr_matrix for 1985-05-03 done.\ncorr_matrix for 1985-05-02 done.\ncorr_matrix for 1985-05-01 done.\ncorr_matrix for 1985-04-30 done.\ncorr_matrix for 1985-04-29 done.\ncorr_matrix for 1985-04-26 done.\ncorr_matrix for 1985-04-25 done.\ncorr_matrix for 1985-04-24 done.\n"
     ]
    },
    {
     "name": "stdout",
     "output_type": "stream",
     "text": [
      "corr_matrix for 1985-04-23 done.\ncorr_matrix for 1985-04-22 done.\ncorr_matrix for 1985-04-19 done.\ncorr_matrix for 1985-04-18 done.\ncorr_matrix for 1985-04-17 done.\ncorr_matrix for 1985-04-16 done.\ncorr_matrix for 1985-04-15 done.\ncorr_matrix for 1985-04-12 done.\ncorr_matrix for 1985-04-11 done."
     ]
    },
    {
     "name": "stdout",
     "output_type": "stream",
     "text": [
      "\ncorr_matrix for 1985-04-10 done.\ncorr_matrix for 1985-04-09 done.\ncorr_matrix for 1985-04-08 done.\ncorr_matrix for 1985-04-04 done.\ncorr_matrix for 1985-04-03 done.\ncorr_matrix for 1985-04-02 done.\ncorr_matrix for 1985-04-01 done.\ncorr_matrix for 1985-03-29 done.\ncorr_matrix for 1985-03-28 done.\ncorr_matrix for 1985-03-27 done.\n"
     ]
    },
    {
     "name": "stdout",
     "output_type": "stream",
     "text": [
      "corr_matrix for 1985-03-26 done.\ncorr_matrix for 1985-03-25 done.\ncorr_matrix for 1985-03-22 done.\ncorr_matrix for 1985-03-21 done.\ncorr_matrix for 1985-03-20 done.\ncorr_matrix for 1985-03-19 done.\ncorr_matrix for 1985-03-18 done.\ncorr_matrix for 1985-03-15 done.\ncorr_matrix for 1985-03-14 done.\ncorr_matrix for 1985-03-13 done.\ncorr_matrix for 1985-03-12 done.\n"
     ]
    },
    {
     "name": "stdout",
     "output_type": "stream",
     "text": [
      "corr_matrix for 1985-03-11 done.\ncorr_matrix for 1985-03-08 done.\ncorr_matrix for 1985-03-07 done.\ncorr_matrix for 1985-03-06 done.\ncorr_matrix for 1985-03-05 done.\ncorr_matrix for 1985-03-04 done.\ncorr_matrix for 1985-03-01 done.\ncorr_matrix for 1985-02-28 done.\ncorr_matrix for 1985-02-27 done.\ncorr_matrix for 1985-02-26 done.\ncorr_matrix for 1985-02-25 done.\n"
     ]
    },
    {
     "name": "stdout",
     "output_type": "stream",
     "text": [
      "corr_matrix for 1985-02-22 done.\ncorr_matrix for 1985-02-21 done.\ncorr_matrix for 1985-02-20 done.\ncorr_matrix for 1985-02-19 done.\ncorr_matrix for 1985-02-15 done.\ncorr_matrix for 1985-02-14 done.\ncorr_matrix for 1985-02-13 done.\ncorr_matrix for 1985-02-12 done.\ncorr_matrix for 1985-02-11 done.\ncorr_matrix for 1985-02-08 done.\n"
     ]
    },
    {
     "name": "stdout",
     "output_type": "stream",
     "text": [
      "corr_matrix for 1985-02-07 done.\ncorr_matrix for 1985-02-06 done.\ncorr_matrix for 1985-02-05 done.\ncorr_matrix for 1985-02-04 done.\ncorr_matrix for 1985-02-01 done.\ncorr_matrix for 1985-01-31 done.\ncorr_matrix for 1985-01-30 done.\ncorr_matrix for 1985-01-29 done.\ncorr_matrix for 1985-01-28 done.\ncorr_matrix for 1985-01-25 done.\ncorr_matrix for 1985-01-24 done.\n"
     ]
    },
    {
     "name": "stdout",
     "output_type": "stream",
     "text": [
      "corr_matrix for 1985-01-23 done.\ncorr_matrix for 1985-01-22 done.\ncorr_matrix for 1985-01-21 done.\ncorr_matrix for 1985-01-18 done.\ncorr_matrix for 1985-01-17 done.\ncorr_matrix for 1985-01-16 done.\ncorr_matrix for 1985-01-15 done.\ncorr_matrix for 1985-01-14 done.\ncorr_matrix for 1985-01-11 done.\ncorr_matrix for 1985-01-10 done.\ncorr_matrix for 1985-01-09 done.\ncorr_matrix for 1985-01-08 done.\n"
     ]
    },
    {
     "name": "stdout",
     "output_type": "stream",
     "text": [
      "corr_matrix for 1985-01-07 done.\ncorr_matrix for 1985-01-04 done.\ncorr_matrix for 1985-01-03 done.\n"
     ]
    },
    {
     "name": "stdout",
     "output_type": "stream",
     "text": [
      "building tree for date 1985-01-03 done.\n"
     ]
    },
    {
     "name": "stdout",
     "output_type": "stream",
     "text": [
      "building tree for date 1985-01-04 done.\n"
     ]
    },
    {
     "name": "stdout",
     "output_type": "stream",
     "text": [
      "building tree for date 1985-01-07 done.\n"
     ]
    },
    {
     "name": "stdout",
     "output_type": "stream",
     "text": [
      "building tree for date 1985-01-08 done.\n"
     ]
    },
    {
     "name": "stdout",
     "output_type": "stream",
     "text": [
      "building tree for date 1985-01-09 done.\n"
     ]
    },
    {
     "name": "stdout",
     "output_type": "stream",
     "text": [
      "building tree for date 1985-01-10 done.\n"
     ]
    },
    {
     "name": "stdout",
     "output_type": "stream",
     "text": [
      "building tree for date 1985-01-11 done.\n"
     ]
    },
    {
     "name": "stdout",
     "output_type": "stream",
     "text": [
      "building tree for date 1985-01-14 done.\n"
     ]
    },
    {
     "name": "stdout",
     "output_type": "stream",
     "text": [
      "building tree for date 1985-01-15 done.\n"
     ]
    },
    {
     "name": "stdout",
     "output_type": "stream",
     "text": [
      "building tree for date 1985-01-16 done.\n"
     ]
    },
    {
     "name": "stdout",
     "output_type": "stream",
     "text": [
      "building tree for date 1985-01-17 done.\n"
     ]
    },
    {
     "name": "stdout",
     "output_type": "stream",
     "text": [
      "building tree for date 1985-01-18 done.\n"
     ]
    },
    {
     "name": "stdout",
     "output_type": "stream",
     "text": [
      "building tree for date 1985-01-21 done.\n"
     ]
    },
    {
     "name": "stdout",
     "output_type": "stream",
     "text": [
      "building tree for date 1985-01-22 done.\n"
     ]
    },
    {
     "name": "stdout",
     "output_type": "stream",
     "text": [
      "building tree for date 1985-01-23 done.\n"
     ]
    },
    {
     "name": "stdout",
     "output_type": "stream",
     "text": [
      "building tree for date 1985-01-24 done.\n"
     ]
    },
    {
     "name": "stdout",
     "output_type": "stream",
     "text": [
      "building tree for date 1985-01-25 done.\n"
     ]
    },
    {
     "name": "stdout",
     "output_type": "stream",
     "text": [
      "building tree for date 1985-01-28 done.\n"
     ]
    },
    {
     "name": "stdout",
     "output_type": "stream",
     "text": [
      "building tree for date 1985-01-29 done.\n"
     ]
    },
    {
     "name": "stdout",
     "output_type": "stream",
     "text": [
      "building tree for date 1985-01-30 done.\n"
     ]
    },
    {
     "name": "stdout",
     "output_type": "stream",
     "text": [
      "building tree for date 1985-01-31 done.\n"
     ]
    },
    {
     "name": "stdout",
     "output_type": "stream",
     "text": [
      "building tree for date 1985-02-01 done.\n"
     ]
    },
    {
     "name": "stdout",
     "output_type": "stream",
     "text": [
      "building tree for date 1985-02-04 done.\n"
     ]
    },
    {
     "name": "stdout",
     "output_type": "stream",
     "text": [
      "building tree for date 1985-02-05 done.\n"
     ]
    },
    {
     "name": "stdout",
     "output_type": "stream",
     "text": [
      "building tree for date 1985-02-06 done.\n"
     ]
    },
    {
     "name": "stdout",
     "output_type": "stream",
     "text": [
      "building tree for date 1985-02-07 done.\n"
     ]
    },
    {
     "name": "stdout",
     "output_type": "stream",
     "text": [
      "building tree for date 1985-02-08 done.\n"
     ]
    },
    {
     "name": "stdout",
     "output_type": "stream",
     "text": [
      "building tree for date 1985-02-11 done.\n"
     ]
    },
    {
     "name": "stdout",
     "output_type": "stream",
     "text": [
      "building tree for date 1985-02-12 done.\n"
     ]
    },
    {
     "name": "stdout",
     "output_type": "stream",
     "text": [
      "building tree for date 1985-02-13 done.\n"
     ]
    },
    {
     "name": "stdout",
     "output_type": "stream",
     "text": [
      "building tree for date 1985-02-14 done.\n"
     ]
    },
    {
     "name": "stdout",
     "output_type": "stream",
     "text": [
      "building tree for date 1985-02-15 done.\n"
     ]
    },
    {
     "name": "stdout",
     "output_type": "stream",
     "text": [
      "building tree for date 1985-02-19 done.\n"
     ]
    },
    {
     "name": "stdout",
     "output_type": "stream",
     "text": [
      "building tree for date 1985-02-20 done.\n"
     ]
    },
    {
     "name": "stdout",
     "output_type": "stream",
     "text": [
      "building tree for date 1985-02-21 done.\n"
     ]
    },
    {
     "name": "stdout",
     "output_type": "stream",
     "text": [
      "building tree for date 1985-02-22 done.\n"
     ]
    },
    {
     "name": "stdout",
     "output_type": "stream",
     "text": [
      "building tree for date 1985-02-25 done.\n"
     ]
    },
    {
     "name": "stdout",
     "output_type": "stream",
     "text": [
      "building tree for date 1985-02-26 done.\n"
     ]
    },
    {
     "name": "stdout",
     "output_type": "stream",
     "text": [
      "building tree for date 1985-02-27 done.\n"
     ]
    },
    {
     "name": "stdout",
     "output_type": "stream",
     "text": [
      "building tree for date 1985-02-28 done.\n"
     ]
    },
    {
     "name": "stdout",
     "output_type": "stream",
     "text": [
      "building tree for date 1985-03-01 done.\n"
     ]
    },
    {
     "name": "stdout",
     "output_type": "stream",
     "text": [
      "building tree for date 1985-03-04 done.\n"
     ]
    },
    {
     "name": "stdout",
     "output_type": "stream",
     "text": [
      "building tree for date 1985-03-05 done.\n"
     ]
    },
    {
     "name": "stdout",
     "output_type": "stream",
     "text": [
      "building tree for date 1985-03-06 done.\n"
     ]
    },
    {
     "name": "stdout",
     "output_type": "stream",
     "text": [
      "building tree for date 1985-03-07 done.\n"
     ]
    },
    {
     "name": "stdout",
     "output_type": "stream",
     "text": [
      "building tree for date 1985-03-08 done.\n"
     ]
    },
    {
     "name": "stdout",
     "output_type": "stream",
     "text": [
      "building tree for date 1985-03-11 done.\n"
     ]
    },
    {
     "name": "stdout",
     "output_type": "stream",
     "text": [
      "building tree for date 1985-03-12 done.\n"
     ]
    },
    {
     "name": "stdout",
     "output_type": "stream",
     "text": [
      "building tree for date 1985-03-13 done.\n"
     ]
    },
    {
     "name": "stdout",
     "output_type": "stream",
     "text": [
      "building tree for date 1985-03-14 done.\n"
     ]
    },
    {
     "name": "stdout",
     "output_type": "stream",
     "text": [
      "building tree for date 1985-03-15 done.\n"
     ]
    },
    {
     "name": "stdout",
     "output_type": "stream",
     "text": [
      "building tree for date 1985-03-18 done.\n"
     ]
    },
    {
     "name": "stdout",
     "output_type": "stream",
     "text": [
      "building tree for date 1985-03-19 done.\n"
     ]
    },
    {
     "name": "stdout",
     "output_type": "stream",
     "text": [
      "building tree for date 1985-03-20 done.\n"
     ]
    },
    {
     "name": "stdout",
     "output_type": "stream",
     "text": [
      "building tree for date 1985-03-21 done.\n"
     ]
    },
    {
     "name": "stdout",
     "output_type": "stream",
     "text": [
      "building tree for date 1985-03-22 done.\n"
     ]
    },
    {
     "name": "stdout",
     "output_type": "stream",
     "text": [
      "building tree for date 1985-03-25 done.\n"
     ]
    },
    {
     "name": "stdout",
     "output_type": "stream",
     "text": [
      "building tree for date 1985-03-26 done.\n"
     ]
    },
    {
     "name": "stdout",
     "output_type": "stream",
     "text": [
      "building tree for date 1985-03-27 done.\n"
     ]
    },
    {
     "name": "stdout",
     "output_type": "stream",
     "text": [
      "building tree for date 1985-03-28 done.\n"
     ]
    },
    {
     "name": "stdout",
     "output_type": "stream",
     "text": [
      "building tree for date 1985-03-29 done.\n"
     ]
    },
    {
     "name": "stdout",
     "output_type": "stream",
     "text": [
      "building tree for date 1985-04-01 done.\n"
     ]
    },
    {
     "name": "stdout",
     "output_type": "stream",
     "text": [
      "building tree for date 1985-04-02 done.\n"
     ]
    },
    {
     "name": "stdout",
     "output_type": "stream",
     "text": [
      "building tree for date 1985-04-03 done.\n"
     ]
    },
    {
     "name": "stdout",
     "output_type": "stream",
     "text": [
      "building tree for date 1985-04-04 done.\n"
     ]
    },
    {
     "name": "stdout",
     "output_type": "stream",
     "text": [
      "building tree for date 1985-04-08 done.\n"
     ]
    },
    {
     "name": "stdout",
     "output_type": "stream",
     "text": [
      "building tree for date 1985-04-09 done.\n"
     ]
    },
    {
     "name": "stdout",
     "output_type": "stream",
     "text": [
      "building tree for date 1985-04-10 done.\n"
     ]
    },
    {
     "name": "stdout",
     "output_type": "stream",
     "text": [
      "building tree for date 1985-04-11 done.\n"
     ]
    },
    {
     "name": "stdout",
     "output_type": "stream",
     "text": [
      "building tree for date 1985-04-12 done.\n"
     ]
    },
    {
     "name": "stdout",
     "output_type": "stream",
     "text": [
      "building tree for date 1985-04-15 done.\n"
     ]
    },
    {
     "name": "stdout",
     "output_type": "stream",
     "text": [
      "building tree for date 1985-04-16 done.\n"
     ]
    },
    {
     "name": "stdout",
     "output_type": "stream",
     "text": [
      "building tree for date 1985-04-17 done.\n"
     ]
    },
    {
     "name": "stdout",
     "output_type": "stream",
     "text": [
      "building tree for date 1985-04-18 done.\n"
     ]
    },
    {
     "name": "stdout",
     "output_type": "stream",
     "text": [
      "building tree for date 1985-04-19 done.\n"
     ]
    },
    {
     "name": "stdout",
     "output_type": "stream",
     "text": [
      "building tree for date 1985-04-22 done.\n"
     ]
    },
    {
     "name": "stdout",
     "output_type": "stream",
     "text": [
      "building tree for date 1985-04-23 done.\n"
     ]
    },
    {
     "name": "stdout",
     "output_type": "stream",
     "text": [
      "building tree for date 1985-04-24 done.\n"
     ]
    },
    {
     "name": "stdout",
     "output_type": "stream",
     "text": [
      "building tree for date 1985-04-25 done.\n"
     ]
    },
    {
     "name": "stdout",
     "output_type": "stream",
     "text": [
      "building tree for date 1985-04-26 done.\n"
     ]
    },
    {
     "name": "stdout",
     "output_type": "stream",
     "text": [
      "building tree for date 1985-04-29 done.\n"
     ]
    },
    {
     "name": "stdout",
     "output_type": "stream",
     "text": [
      "building tree for date 1985-04-30 done.\n"
     ]
    },
    {
     "name": "stdout",
     "output_type": "stream",
     "text": [
      "building tree for date 1985-05-01 done.\n"
     ]
    },
    {
     "name": "stdout",
     "output_type": "stream",
     "text": [
      "building tree for date 1985-05-02 done.\n"
     ]
    },
    {
     "name": "stdout",
     "output_type": "stream",
     "text": [
      "building tree for date 1985-05-03 done.\n"
     ]
    },
    {
     "name": "stdout",
     "output_type": "stream",
     "text": [
      "building tree for date 1985-05-06 done.\n"
     ]
    },
    {
     "name": "stdout",
     "output_type": "stream",
     "text": [
      "building tree for date 1985-05-07 done.\n"
     ]
    },
    {
     "name": "stdout",
     "output_type": "stream",
     "text": [
      "building tree for date 1985-05-08 done.\n"
     ]
    },
    {
     "name": "stdout",
     "output_type": "stream",
     "text": [
      "building tree for date 1985-05-09 done.\n"
     ]
    },
    {
     "name": "stdout",
     "output_type": "stream",
     "text": [
      "building tree for date 1985-05-10 done.\n"
     ]
    },
    {
     "name": "stdout",
     "output_type": "stream",
     "text": [
      "building tree for date 1985-05-13 done.\n"
     ]
    },
    {
     "name": "stdout",
     "output_type": "stream",
     "text": [
      "building tree for date 1985-05-14 done.\n"
     ]
    },
    {
     "name": "stdout",
     "output_type": "stream",
     "text": [
      "building tree for date 1985-05-15 done.\n"
     ]
    },
    {
     "name": "stdout",
     "output_type": "stream",
     "text": [
      "building tree for date 1985-05-16 done.\n"
     ]
    },
    {
     "name": "stdout",
     "output_type": "stream",
     "text": [
      "building tree for date 1985-05-17 done.\n"
     ]
    },
    {
     "name": "stdout",
     "output_type": "stream",
     "text": [
      "building tree for date 1985-05-20 done.\n"
     ]
    },
    {
     "name": "stdout",
     "output_type": "stream",
     "text": [
      "building tree for date 1985-05-21 done.\n"
     ]
    },
    {
     "name": "stdout",
     "output_type": "stream",
     "text": [
      "building tree for date 1985-05-22 done.\n"
     ]
    },
    {
     "name": "stdout",
     "output_type": "stream",
     "text": [
      "building tree for date 1985-05-23 done.\n"
     ]
    },
    {
     "name": "stdout",
     "output_type": "stream",
     "text": [
      "building tree for date 1985-05-24 done.\n"
     ]
    },
    {
     "name": "stdout",
     "output_type": "stream",
     "text": [
      "building tree for date 1985-05-28 done.\n"
     ]
    },
    {
     "name": "stdout",
     "output_type": "stream",
     "text": [
      "building tree for date 1985-05-29 done.\n"
     ]
    },
    {
     "name": "stdout",
     "output_type": "stream",
     "text": [
      "building tree for date 1985-05-30 done.\n"
     ]
    },
    {
     "name": "stdout",
     "output_type": "stream",
     "text": [
      "building tree for date 1985-05-31 done.\n"
     ]
    },
    {
     "name": "stdout",
     "output_type": "stream",
     "text": [
      "building tree for date 1985-06-03 done.\n"
     ]
    },
    {
     "name": "stdout",
     "output_type": "stream",
     "text": [
      "building tree for date 1985-06-04 done.\n"
     ]
    },
    {
     "name": "stdout",
     "output_type": "stream",
     "text": [
      "building tree for date 1985-06-05 done.\n"
     ]
    },
    {
     "name": "stdout",
     "output_type": "stream",
     "text": [
      "building tree for date 1985-06-06 done.\n"
     ]
    },
    {
     "name": "stdout",
     "output_type": "stream",
     "text": [
      "building tree for date 1985-06-07 done.\n"
     ]
    },
    {
     "name": "stdout",
     "output_type": "stream",
     "text": [
      "building tree for date 1985-06-10 done.\n"
     ]
    },
    {
     "name": "stdout",
     "output_type": "stream",
     "text": [
      "building tree for date 1985-06-11 done.\n"
     ]
    },
    {
     "name": "stdout",
     "output_type": "stream",
     "text": [
      "building tree for date 1985-06-12 done.\n"
     ]
    },
    {
     "name": "stdout",
     "output_type": "stream",
     "text": [
      "building tree for date 1985-06-13 done.\n"
     ]
    },
    {
     "name": "stdout",
     "output_type": "stream",
     "text": [
      "building tree for date 1985-06-14 done.\n"
     ]
    },
    {
     "name": "stdout",
     "output_type": "stream",
     "text": [
      "building tree for date 1985-06-17 done.\n"
     ]
    },
    {
     "name": "stdout",
     "output_type": "stream",
     "text": [
      "building tree for date 1985-06-18 done.\n"
     ]
    },
    {
     "name": "stdout",
     "output_type": "stream",
     "text": [
      "building tree for date 1985-06-19 done.\n"
     ]
    },
    {
     "name": "stdout",
     "output_type": "stream",
     "text": [
      "building tree for date 1985-06-20 done.\n"
     ]
    },
    {
     "name": "stdout",
     "output_type": "stream",
     "text": [
      "building tree for date 1985-06-21 done.\n"
     ]
    },
    {
     "name": "stdout",
     "output_type": "stream",
     "text": [
      "building tree for date 1985-06-24 done.\n"
     ]
    },
    {
     "name": "stdout",
     "output_type": "stream",
     "text": [
      "building tree for date 1985-06-25 done.\n"
     ]
    },
    {
     "name": "stdout",
     "output_type": "stream",
     "text": [
      "building tree for date 1985-06-26 done.\n"
     ]
    },
    {
     "name": "stdout",
     "output_type": "stream",
     "text": [
      "building tree for date 1985-06-27 done.\n"
     ]
    },
    {
     "name": "stdout",
     "output_type": "stream",
     "text": [
      "building tree for date 1985-06-28 done.\n"
     ]
    },
    {
     "name": "stdout",
     "output_type": "stream",
     "text": [
      "building tree for date 1985-07-01 done.\n"
     ]
    },
    {
     "name": "stdout",
     "output_type": "stream",
     "text": [
      "building tree for date 1985-07-02 done.\n"
     ]
    },
    {
     "name": "stdout",
     "output_type": "stream",
     "text": [
      "building tree for date 1985-07-03 done.\n"
     ]
    },
    {
     "name": "stdout",
     "output_type": "stream",
     "text": [
      "building tree for date 1985-07-05 done.\n"
     ]
    },
    {
     "name": "stdout",
     "output_type": "stream",
     "text": [
      "building tree for date 1985-07-08 done.\n"
     ]
    },
    {
     "name": "stdout",
     "output_type": "stream",
     "text": [
      "building tree for date 1985-07-09 done.\n"
     ]
    },
    {
     "name": "stdout",
     "output_type": "stream",
     "text": [
      "building tree for date 1985-07-10 done.\n"
     ]
    },
    {
     "name": "stdout",
     "output_type": "stream",
     "text": [
      "building tree for date 1985-07-11 done.\n"
     ]
    },
    {
     "name": "stdout",
     "output_type": "stream",
     "text": [
      "building tree for date 1985-07-12 done.\n"
     ]
    },
    {
     "name": "stdout",
     "output_type": "stream",
     "text": [
      "building tree for date 1985-07-15 done.\n"
     ]
    },
    {
     "name": "stdout",
     "output_type": "stream",
     "text": [
      "building tree for date 1985-07-16 done.\n"
     ]
    },
    {
     "name": "stdout",
     "output_type": "stream",
     "text": [
      "building tree for date 1985-07-17 done.\n"
     ]
    },
    {
     "name": "stdout",
     "output_type": "stream",
     "text": [
      "building tree for date 1985-07-18 done.\n"
     ]
    },
    {
     "name": "stdout",
     "output_type": "stream",
     "text": [
      "building tree for date 1985-07-19 done.\n"
     ]
    },
    {
     "name": "stdout",
     "output_type": "stream",
     "text": [
      "building tree for date 1985-07-22 done.\n"
     ]
    },
    {
     "name": "stdout",
     "output_type": "stream",
     "text": [
      "building tree for date 1985-07-23 done.\n"
     ]
    },
    {
     "name": "stdout",
     "output_type": "stream",
     "text": [
      "building tree for date 1985-07-24 done.\n"
     ]
    },
    {
     "name": "stdout",
     "output_type": "stream",
     "text": [
      "building tree for date 1985-07-25 done.\n"
     ]
    },
    {
     "name": "stdout",
     "output_type": "stream",
     "text": [
      "building tree for date 1985-07-26 done.\n"
     ]
    },
    {
     "name": "stdout",
     "output_type": "stream",
     "text": [
      "building tree for date 1985-07-29 done.\n"
     ]
    },
    {
     "name": "stdout",
     "output_type": "stream",
     "text": [
      "building tree for date 1985-07-30 done.\n"
     ]
    },
    {
     "name": "stdout",
     "output_type": "stream",
     "text": [
      "building tree for date 1985-07-31 done.\n"
     ]
    },
    {
     "name": "stdout",
     "output_type": "stream",
     "text": [
      "building tree for date 1985-08-01 done.\n"
     ]
    },
    {
     "name": "stdout",
     "output_type": "stream",
     "text": [
      "building tree for date 1985-08-02 done.\n"
     ]
    },
    {
     "name": "stdout",
     "output_type": "stream",
     "text": [
      "building tree for date 1985-08-05 done.\n"
     ]
    },
    {
     "name": "stdout",
     "output_type": "stream",
     "text": [
      "building tree for date 1985-08-06 done.\n"
     ]
    },
    {
     "name": "stdout",
     "output_type": "stream",
     "text": [
      "building tree for date 1985-08-07 done.\n"
     ]
    },
    {
     "name": "stdout",
     "output_type": "stream",
     "text": [
      "building tree for date 1985-08-08 done.\n"
     ]
    },
    {
     "name": "stdout",
     "output_type": "stream",
     "text": [
      "building tree for date 1985-08-09 done.\n"
     ]
    },
    {
     "name": "stdout",
     "output_type": "stream",
     "text": [
      "building tree for date 1985-08-12 done.\n"
     ]
    },
    {
     "name": "stdout",
     "output_type": "stream",
     "text": [
      "building tree for date 1985-08-13 done.\n"
     ]
    },
    {
     "name": "stdout",
     "output_type": "stream",
     "text": [
      "building tree for date 1985-08-14 done.\n"
     ]
    },
    {
     "name": "stdout",
     "output_type": "stream",
     "text": [
      "building tree for date 1985-08-15 done.\n"
     ]
    },
    {
     "name": "stdout",
     "output_type": "stream",
     "text": [
      "building tree for date 1985-08-16 done.\n"
     ]
    },
    {
     "name": "stdout",
     "output_type": "stream",
     "text": [
      "building tree for date 1985-08-19 done.\n"
     ]
    },
    {
     "name": "stdout",
     "output_type": "stream",
     "text": [
      "building tree for date 1985-08-20 done.\n"
     ]
    },
    {
     "name": "stdout",
     "output_type": "stream",
     "text": [
      "building tree for date 1985-08-21 done.\n"
     ]
    },
    {
     "name": "stdout",
     "output_type": "stream",
     "text": [
      "building tree for date 1985-08-22 done.\n"
     ]
    },
    {
     "name": "stdout",
     "output_type": "stream",
     "text": [
      "building tree for date 1985-08-23 done.\n"
     ]
    },
    {
     "name": "stdout",
     "output_type": "stream",
     "text": [
      "building tree for date 1985-08-26 done.\n"
     ]
    },
    {
     "name": "stdout",
     "output_type": "stream",
     "text": [
      "building tree for date 1985-08-27 done.\n"
     ]
    },
    {
     "name": "stdout",
     "output_type": "stream",
     "text": [
      "building tree for date 1985-08-28 done.\n"
     ]
    },
    {
     "name": "stdout",
     "output_type": "stream",
     "text": [
      "building tree for date 1985-08-29 done.\n"
     ]
    },
    {
     "name": "stdout",
     "output_type": "stream",
     "text": [
      "building tree for date 1985-08-30 done.\n"
     ]
    },
    {
     "name": "stdout",
     "output_type": "stream",
     "text": [
      "building tree for date 1985-09-03 done.\n"
     ]
    },
    {
     "name": "stdout",
     "output_type": "stream",
     "text": [
      "building tree for date 1985-09-04 done.\n"
     ]
    },
    {
     "name": "stdout",
     "output_type": "stream",
     "text": [
      "building tree for date 1985-09-05 done.\n"
     ]
    },
    {
     "name": "stdout",
     "output_type": "stream",
     "text": [
      "building tree for date 1985-09-06 done.\n"
     ]
    },
    {
     "name": "stdout",
     "output_type": "stream",
     "text": [
      "building tree for date 1985-09-09 done.\n"
     ]
    },
    {
     "name": "stdout",
     "output_type": "stream",
     "text": [
      "building tree for date 1985-09-10 done.\n"
     ]
    },
    {
     "name": "stdout",
     "output_type": "stream",
     "text": [
      "building tree for date 1985-09-11 done.\n"
     ]
    },
    {
     "name": "stdout",
     "output_type": "stream",
     "text": [
      "building tree for date 1985-09-12 done.\n"
     ]
    },
    {
     "name": "stdout",
     "output_type": "stream",
     "text": [
      "building tree for date 1985-09-13 done.\n"
     ]
    },
    {
     "name": "stdout",
     "output_type": "stream",
     "text": [
      "building tree for date 1985-09-16 done.\n"
     ]
    },
    {
     "name": "stdout",
     "output_type": "stream",
     "text": [
      "building tree for date 1985-09-17 done.\n"
     ]
    },
    {
     "name": "stdout",
     "output_type": "stream",
     "text": [
      "building tree for date 1985-09-18 done.\n"
     ]
    },
    {
     "name": "stdout",
     "output_type": "stream",
     "text": [
      "building tree for date 1985-09-19 done.\n"
     ]
    },
    {
     "name": "stdout",
     "output_type": "stream",
     "text": [
      "building tree for date 1985-09-20 done.\n"
     ]
    },
    {
     "name": "stdout",
     "output_type": "stream",
     "text": [
      "building tree for date 1985-09-23 done.\n"
     ]
    },
    {
     "name": "stdout",
     "output_type": "stream",
     "text": [
      "building tree for date 1985-09-24 done.\n"
     ]
    },
    {
     "name": "stdout",
     "output_type": "stream",
     "text": [
      "building tree for date 1985-09-25 done.\n"
     ]
    },
    {
     "name": "stdout",
     "output_type": "stream",
     "text": [
      "building tree for date 1985-09-26 done.\n"
     ]
    },
    {
     "name": "stdout",
     "output_type": "stream",
     "text": [
      "building tree for date 1985-09-30 done.\n"
     ]
    },
    {
     "name": "stdout",
     "output_type": "stream",
     "text": [
      "building tree for date 1985-10-01 done.\n"
     ]
    },
    {
     "name": "stdout",
     "output_type": "stream",
     "text": [
      "building tree for date 1985-10-02 done.\n"
     ]
    },
    {
     "name": "stdout",
     "output_type": "stream",
     "text": [
      "building tree for date 1985-10-03 done.\n"
     ]
    },
    {
     "name": "stdout",
     "output_type": "stream",
     "text": [
      "building tree for date 1985-10-04 done.\n"
     ]
    },
    {
     "name": "stdout",
     "output_type": "stream",
     "text": [
      "building tree for date 1985-10-07 done.\n"
     ]
    },
    {
     "name": "stdout",
     "output_type": "stream",
     "text": [
      "building tree for date 1985-10-08 done.\n"
     ]
    },
    {
     "name": "stdout",
     "output_type": "stream",
     "text": [
      "building tree for date 1985-10-09 done.\n"
     ]
    },
    {
     "name": "stdout",
     "output_type": "stream",
     "text": [
      "building tree for date 1985-10-10 done.\n"
     ]
    },
    {
     "name": "stdout",
     "output_type": "stream",
     "text": [
      "building tree for date 1985-10-11 done.\n"
     ]
    },
    {
     "name": "stdout",
     "output_type": "stream",
     "text": [
      "building tree for date 1985-10-14 done.\n"
     ]
    },
    {
     "name": "stdout",
     "output_type": "stream",
     "text": [
      "building tree for date 1985-10-15 done.\n"
     ]
    },
    {
     "name": "stdout",
     "output_type": "stream",
     "text": [
      "building tree for date 1985-10-16 done.\n"
     ]
    },
    {
     "name": "stdout",
     "output_type": "stream",
     "text": [
      "building tree for date 1985-10-17 done.\n"
     ]
    },
    {
     "name": "stdout",
     "output_type": "stream",
     "text": [
      "building tree for date 1985-10-18 done.\n"
     ]
    },
    {
     "name": "stdout",
     "output_type": "stream",
     "text": [
      "building tree for date 1985-10-21 done.\n"
     ]
    },
    {
     "name": "stdout",
     "output_type": "stream",
     "text": [
      "building tree for date 1985-10-22 done.\n"
     ]
    },
    {
     "name": "stdout",
     "output_type": "stream",
     "text": [
      "building tree for date 1985-10-23 done.\n"
     ]
    },
    {
     "name": "stdout",
     "output_type": "stream",
     "text": [
      "building tree for date 1985-10-24 done.\n"
     ]
    },
    {
     "name": "stdout",
     "output_type": "stream",
     "text": [
      "building tree for date 1985-10-25 done.\n"
     ]
    },
    {
     "name": "stdout",
     "output_type": "stream",
     "text": [
      "building tree for date 1985-10-28 done.\n"
     ]
    },
    {
     "name": "stdout",
     "output_type": "stream",
     "text": [
      "building tree for date 1985-10-29 done.\n"
     ]
    },
    {
     "name": "stdout",
     "output_type": "stream",
     "text": [
      "building tree for date 1985-10-30 done.\n"
     ]
    },
    {
     "name": "stdout",
     "output_type": "stream",
     "text": [
      "building tree for date 1985-10-31 done.\n"
     ]
    },
    {
     "name": "stdout",
     "output_type": "stream",
     "text": [
      "building tree for date 1985-11-01 done.\n"
     ]
    },
    {
     "name": "stdout",
     "output_type": "stream",
     "text": [
      "building tree for date 1985-11-04 done.\n"
     ]
    },
    {
     "name": "stdout",
     "output_type": "stream",
     "text": [
      "building tree for date 1985-11-05 done.\n"
     ]
    },
    {
     "name": "stdout",
     "output_type": "stream",
     "text": [
      "building tree for date 1985-11-06 done.\n"
     ]
    },
    {
     "name": "stdout",
     "output_type": "stream",
     "text": [
      "building tree for date 1985-11-07 done.\n"
     ]
    },
    {
     "name": "stdout",
     "output_type": "stream",
     "text": [
      "building tree for date 1985-11-08 done.\n"
     ]
    },
    {
     "name": "stdout",
     "output_type": "stream",
     "text": [
      "building tree for date 1985-11-11 done.\n"
     ]
    },
    {
     "name": "stdout",
     "output_type": "stream",
     "text": [
      "building tree for date 1985-11-12 done.\n"
     ]
    },
    {
     "name": "stdout",
     "output_type": "stream",
     "text": [
      "building tree for date 1985-11-13 done.\n"
     ]
    },
    {
     "name": "stdout",
     "output_type": "stream",
     "text": [
      "building tree for date 1985-11-14 done.\n"
     ]
    },
    {
     "name": "stdout",
     "output_type": "stream",
     "text": [
      "building tree for date 1985-11-15 done.\n"
     ]
    },
    {
     "name": "stdout",
     "output_type": "stream",
     "text": [
      "building tree for date 1985-11-18 done.\n"
     ]
    },
    {
     "name": "stdout",
     "output_type": "stream",
     "text": [
      "building tree for date 1985-11-19 done.\n"
     ]
    },
    {
     "name": "stdout",
     "output_type": "stream",
     "text": [
      "building tree for date 1985-11-20 done.\n"
     ]
    },
    {
     "name": "stdout",
     "output_type": "stream",
     "text": [
      "building tree for date 1985-11-21 done.\n"
     ]
    },
    {
     "name": "stdout",
     "output_type": "stream",
     "text": [
      "building tree for date 1985-11-22 done.\n"
     ]
    },
    {
     "ename": "KeyboardInterrupt",
     "evalue": "",
     "traceback": [
      "\u001b[0;31m\u001b[0m",
      "\u001b[0;31mKeyboardInterrupt\u001b[0mTraceback (most recent call last)",
      "\u001b[0;32m<ipython-input-2-45bb05c95dce>\u001b[0m in \u001b[0;36m<module>\u001b[0;34m()\u001b[0m\n\u001b[1;32m      2\u001b[0m                         \u001b[0mstartdate\u001b[0m\u001b[0;34m=\u001b[0m\u001b[0;34m'1985-01-02'\u001b[0m\u001b[0;34m,\u001b[0m\u001b[0;34m\u001b[0m\u001b[0m\n\u001b[1;32m      3\u001b[0m                         \u001b[0mspace\u001b[0m\u001b[0;34m=\u001b[0m\u001b[0;36m1\u001b[0m\u001b[0;34m,\u001b[0m\u001b[0;34m\u001b[0m\u001b[0m\n\u001b[0;32m----> 4\u001b[0;31m                         tree_type='MST', shrinkage=\"None\")\n\u001b[0m",
      "\u001b[0;32m/Users/JenniferZong/xxLionmailDrive/clustering/trees.py\u001b[0m in \u001b[0;36mconstruct_trees\u001b[0;34m(thresh, filename, window, enddate, startdate, space, tree_type, shrinkage)\u001b[0m\n\u001b[1;32m    110\u001b[0m     \u001b[0;32mif\u001b[0m \u001b[0mtree_type\u001b[0m \u001b[0;34m==\u001b[0m \u001b[0;34m'MST'\u001b[0m\u001b[0;34m:\u001b[0m\u001b[0;34m\u001b[0m\u001b[0m\n\u001b[1;32m    111\u001b[0m         return MST(thresh=thresh, filename=filename, window=window, enddate=enddate, startdate=startdate, space=space,\n\u001b[0;32m--> 112\u001b[0;31m                    shrinkage=shrinkage)\n\u001b[0m\u001b[1;32m    113\u001b[0m     \u001b[0;32melif\u001b[0m \u001b[0mtree_type\u001b[0m \u001b[0;34m==\u001b[0m \u001b[0;34m'DBHT'\u001b[0m\u001b[0;34m:\u001b[0m\u001b[0;34m\u001b[0m\u001b[0m\n\u001b[1;32m    114\u001b[0m         \u001b[0;32mpass\u001b[0m\u001b[0;34m\u001b[0m\u001b[0m\n",
      "\u001b[0;32m/Users/JenniferZong/xxLionmailDrive/clustering/trees.py\u001b[0m in \u001b[0;36mMST\u001b[0;34m(thresh, filename, window, enddate, startdate, space, shrinkage)\u001b[0m\n\u001b[1;32m     96\u001b[0m     \u001b[0;32mfor\u001b[0m \u001b[0mkey\u001b[0m \u001b[0;32min\u001b[0m \u001b[0msorted\u001b[0m\u001b[0;34m(\u001b[0m\u001b[0mdic\u001b[0m\u001b[0;34m.\u001b[0m\u001b[0mkeys\u001b[0m\u001b[0;34m(\u001b[0m\u001b[0;34m)\u001b[0m\u001b[0;34m)\u001b[0m\u001b[0;34m:\u001b[0m\u001b[0;34m\u001b[0m\u001b[0m\n\u001b[1;32m     97\u001b[0m         \u001b[0mcorr_matrix\u001b[0m \u001b[0;34m=\u001b[0m \u001b[0mdic\u001b[0m\u001b[0;34m[\u001b[0m\u001b[0mkey\u001b[0m\u001b[0;34m]\u001b[0m\u001b[0;34m\u001b[0m\u001b[0m\n\u001b[0;32m---> 98\u001b[0;31m         \u001b[0mG\u001b[0m \u001b[0;34m=\u001b[0m \u001b[0mconstructgraph\u001b[0m\u001b[0;34m(\u001b[0m\u001b[0mcorr_matrix\u001b[0m\u001b[0;34m)\u001b[0m\u001b[0;34m\u001b[0m\u001b[0m\n\u001b[0m\u001b[1;32m     99\u001b[0m         \u001b[0mT\u001b[0m \u001b[0;34m=\u001b[0m \u001b[0mnx\u001b[0m\u001b[0;34m.\u001b[0m\u001b[0mminimum_spanning_tree\u001b[0m\u001b[0;34m(\u001b[0m\u001b[0mG\u001b[0m\u001b[0;34m,\u001b[0m \u001b[0;34m\"weight\"\u001b[0m\u001b[0;34m)\u001b[0m\u001b[0;34m\u001b[0m\u001b[0m\n\u001b[1;32m    100\u001b[0m         \u001b[0mtrees\u001b[0m\u001b[0;34m[\u001b[0m\u001b[0mkey\u001b[0m\u001b[0;34m]\u001b[0m \u001b[0;34m=\u001b[0m \u001b[0mT\u001b[0m\u001b[0;34m\u001b[0m\u001b[0m\n",
      "\u001b[0;32m/Users/JenniferZong/xxLionmailDrive/clustering/trees.py\u001b[0m in \u001b[0;36mconstructgraph\u001b[0;34m(corr_matrix)\u001b[0m\n\u001b[1;32m     53\u001b[0m \u001b[0;32mdef\u001b[0m \u001b[0mconstructgraph\u001b[0m\u001b[0;34m(\u001b[0m\u001b[0mcorr_matrix\u001b[0m\u001b[0;34m)\u001b[0m\u001b[0;34m:\u001b[0m\u001b[0;34m\u001b[0m\u001b[0m\n\u001b[1;32m     54\u001b[0m     \u001b[0;34m\"\"\"Convert a correlation matrix to a graph\"\"\"\u001b[0m\u001b[0;34m\u001b[0m\u001b[0m\n\u001b[0;32m---> 55\u001b[0;31m     \u001b[0mG\u001b[0m \u001b[0;34m=\u001b[0m \u001b[0mnx\u001b[0m\u001b[0;34m.\u001b[0m\u001b[0mfrom_numpy_matrix\u001b[0m\u001b[0;34m(\u001b[0m\u001b[0mcorr_matrix\u001b[0m\u001b[0;34m.\u001b[0m\u001b[0mvalues\u001b[0m\u001b[0;34m)\u001b[0m\u001b[0;34m\u001b[0m\u001b[0m\n\u001b[0m\u001b[1;32m     56\u001b[0m     \u001b[0mmapping\u001b[0m \u001b[0;34m=\u001b[0m \u001b[0mdict\u001b[0m\u001b[0;34m(\u001b[0m\u001b[0mzip\u001b[0m\u001b[0;34m(\u001b[0m\u001b[0mlist\u001b[0m\u001b[0;34m(\u001b[0m\u001b[0mrange\u001b[0m\u001b[0;34m(\u001b[0m\u001b[0mlen\u001b[0m\u001b[0;34m(\u001b[0m\u001b[0mcorr_matrix\u001b[0m\u001b[0;34m.\u001b[0m\u001b[0mindex\u001b[0m\u001b[0;34m)\u001b[0m\u001b[0;34m)\u001b[0m\u001b[0;34m)\u001b[0m\u001b[0;34m,\u001b[0m \u001b[0mlist\u001b[0m\u001b[0;34m(\u001b[0m\u001b[0mcorr_matrix\u001b[0m\u001b[0;34m.\u001b[0m\u001b[0mindex\u001b[0m\u001b[0;34m)\u001b[0m\u001b[0;34m)\u001b[0m\u001b[0;34m)\u001b[0m\u001b[0;34m\u001b[0m\u001b[0m\n\u001b[1;32m     57\u001b[0m     \u001b[0mG\u001b[0m \u001b[0;34m=\u001b[0m \u001b[0mnx\u001b[0m\u001b[0;34m.\u001b[0m\u001b[0mrelabel_nodes\u001b[0m\u001b[0;34m(\u001b[0m\u001b[0mG\u001b[0m\u001b[0;34m,\u001b[0m \u001b[0mmapping\u001b[0m\u001b[0;34m,\u001b[0m \u001b[0mcopy\u001b[0m\u001b[0;34m=\u001b[0m\u001b[0mFalse\u001b[0m\u001b[0;34m)\u001b[0m\u001b[0;34m\u001b[0m\u001b[0m\n",
      "\u001b[0;32m/Users/JenniferZong/anaconda/envs/Py27/lib/python2.7/site-packages/networkx-2.0.dev20170320093606-py2.7.egg/networkx/convert_matrix.pyc\u001b[0m in \u001b[0;36mfrom_numpy_matrix\u001b[0;34m(A, parallel_edges, create_using)\u001b[0m\n\u001b[1;32m    550\u001b[0m     \u001b[0;32mif\u001b[0m \u001b[0mG\u001b[0m\u001b[0;34m.\u001b[0m\u001b[0mis_multigraph\u001b[0m\u001b[0;34m(\u001b[0m\u001b[0;34m)\u001b[0m \u001b[0;32mand\u001b[0m \u001b[0;32mnot\u001b[0m \u001b[0mG\u001b[0m\u001b[0;34m.\u001b[0m\u001b[0mis_directed\u001b[0m\u001b[0;34m(\u001b[0m\u001b[0;34m)\u001b[0m\u001b[0;34m:\u001b[0m\u001b[0;34m\u001b[0m\u001b[0m\n\u001b[1;32m    551\u001b[0m         \u001b[0mtriples\u001b[0m \u001b[0;34m=\u001b[0m \u001b[0;34m(\u001b[0m\u001b[0;34m(\u001b[0m\u001b[0mu\u001b[0m\u001b[0;34m,\u001b[0m \u001b[0mv\u001b[0m\u001b[0;34m,\u001b[0m \u001b[0md\u001b[0m\u001b[0;34m)\u001b[0m \u001b[0;32mfor\u001b[0m \u001b[0mu\u001b[0m\u001b[0;34m,\u001b[0m \u001b[0mv\u001b[0m\u001b[0;34m,\u001b[0m \u001b[0md\u001b[0m \u001b[0;32min\u001b[0m \u001b[0mtriples\u001b[0m \u001b[0;32mif\u001b[0m \u001b[0mu\u001b[0m \u001b[0;34m<=\u001b[0m \u001b[0mv\u001b[0m\u001b[0;34m)\u001b[0m\u001b[0;34m\u001b[0m\u001b[0m\n\u001b[0;32m--> 552\u001b[0;31m     \u001b[0mG\u001b[0m\u001b[0;34m.\u001b[0m\u001b[0madd_edges_from\u001b[0m\u001b[0;34m(\u001b[0m\u001b[0mtriples\u001b[0m\u001b[0;34m)\u001b[0m\u001b[0;34m\u001b[0m\u001b[0m\n\u001b[0m\u001b[1;32m    553\u001b[0m     \u001b[0;32mreturn\u001b[0m \u001b[0mG\u001b[0m\u001b[0;34m\u001b[0m\u001b[0m\n\u001b[1;32m    554\u001b[0m \u001b[0;34m\u001b[0m\u001b[0m\n",
      "\u001b[0;32m/Users/JenniferZong/anaconda/envs/Py27/lib/python2.7/site-packages/networkx-2.0.dev20170320093606-py2.7.egg/networkx/classes/graph.pyc\u001b[0m in \u001b[0;36madd_edges_from\u001b[0;34m(self, ebunch, **attr)\u001b[0m\n\u001b[1;32m    842\u001b[0m         \"\"\"\n\u001b[1;32m    843\u001b[0m         \u001b[0;31m# process ebunch\u001b[0m\u001b[0;34m\u001b[0m\u001b[0;34m\u001b[0m\u001b[0m\n\u001b[0;32m--> 844\u001b[0;31m         \u001b[0;32mfor\u001b[0m \u001b[0me\u001b[0m \u001b[0;32min\u001b[0m \u001b[0mebunch\u001b[0m\u001b[0;34m:\u001b[0m\u001b[0;34m\u001b[0m\u001b[0m\n\u001b[0m\u001b[1;32m    845\u001b[0m             \u001b[0mne\u001b[0m \u001b[0;34m=\u001b[0m \u001b[0mlen\u001b[0m\u001b[0;34m(\u001b[0m\u001b[0me\u001b[0m\u001b[0;34m)\u001b[0m\u001b[0;34m\u001b[0m\u001b[0m\n\u001b[1;32m    846\u001b[0m             \u001b[0;32mif\u001b[0m \u001b[0mne\u001b[0m \u001b[0;34m==\u001b[0m \u001b[0;36m3\u001b[0m\u001b[0;34m:\u001b[0m\u001b[0;34m\u001b[0m\u001b[0m\n",
      "\u001b[0;32m/Users/JenniferZong/anaconda/envs/Py27/lib/python2.7/site-packages/networkx-2.0.dev20170320093606-py2.7.egg/networkx/convert_matrix.pyc\u001b[0m in \u001b[0;36m<genexpr>\u001b[0;34m((u, v))\u001b[0m\n\u001b[1;32m    539\u001b[0m     \u001b[0;32melse\u001b[0m\u001b[0;34m:\u001b[0m  \u001b[0;31m# basic data type\u001b[0m\u001b[0;34m\u001b[0m\u001b[0m\n\u001b[1;32m    540\u001b[0m         triples = ((u, v, dict(weight=python_type(A[u, v])))\n\u001b[0;32m--> 541\u001b[0;31m                    for u, v in edges)\n\u001b[0m\u001b[1;32m    542\u001b[0m     \u001b[0;31m# If we are creating an undirected multigraph, only add the edges from the\u001b[0m\u001b[0;34m\u001b[0m\u001b[0;34m\u001b[0m\u001b[0m\n\u001b[1;32m    543\u001b[0m     \u001b[0;31m# upper triangle of the matrix. Otherwise, add all the edges. This relies\u001b[0m\u001b[0;34m\u001b[0m\u001b[0;34m\u001b[0m\u001b[0m\n",
      "\u001b[0;31mKeyboardInterrupt\u001b[0m: "
     ],
     "output_type": "error"
    }
   ],
   "source": [
    "trees = construct_trees(thresh=95, filename=\"data/WRDS/SP500_ret_1985.csv\", window=100, enddate=\"2016-12-30\",\n",
    "                        startdate='1985-01-02',\n",
    "                        space=1,\n",
    "                        tree_type='MST', shrinkage=\"None\")"
   ]
  },
  {
   "cell_type": "code",
   "execution_count": 78,
   "metadata": {},
   "outputs": [],
   "source": [
    "raw_data = pd.read_csv('data/SP5001984.csv',dtype={'PERMNO':str})"
   ]
  },
  {
   "cell_type": "code",
   "execution_count": 79,
   "metadata": {},
   "outputs": [],
   "source": [
    "ret_data = raw_data[['date', 'RET', 'PERMNO']].copy()"
   ]
  },
  {
   "cell_type": "code",
   "execution_count": null,
   "metadata": {},
   "outputs": [],
   "source": [
    "ret_data = ret_data.dropna(axis=0, how='any').drop_duplicates()\n",
    "ret_data = ret_data[ret_data.RET != 'C']"
   ]
  },
  {
   "cell_type": "code",
   "execution_count": 81,
   "metadata": {
    "collapsed": true
   },
   "outputs": [
    {
     "name": "stdout",
     "output_type": "stream",
     "text": [
      "0\n"
     ]
    },
    {
     "ename": "KeyError",
     "evalue": "'the label [0] is not in the [index]'",
     "traceback": [
      "\u001b[0;31m\u001b[0m",
      "\u001b[0;31mKeyError\u001b[0mTraceback (most recent call last)",
      "\u001b[0;32m<ipython-input-81-ce04412e45e2>\u001b[0m in \u001b[0;36m<module>\u001b[0;34m()\u001b[0m\n\u001b[1;32m      1\u001b[0m \u001b[0;32mfor\u001b[0m \u001b[0mi\u001b[0m \u001b[0;32min\u001b[0m \u001b[0mret_data\u001b[0m\u001b[0;34m[\u001b[0m\u001b[0mret_data\u001b[0m\u001b[0;34m.\u001b[0m\u001b[0mRET\u001b[0m \u001b[0;34m==\u001b[0m \u001b[0;34m'C'\u001b[0m\u001b[0;34m]\u001b[0m\u001b[0;34m.\u001b[0m\u001b[0mindex\u001b[0m\u001b[0;34m-\u001b[0m\u001b[0;36m1\u001b[0m\u001b[0;34m:\u001b[0m\u001b[0;34m\u001b[0m\u001b[0m\n\u001b[1;32m      2\u001b[0m     \u001b[0;32mprint\u001b[0m \u001b[0mi\u001b[0m\u001b[0;34m\u001b[0m\u001b[0m\n\u001b[0;32m----> 3\u001b[0;31m     \u001b[0;32mif\u001b[0m \u001b[0mpd\u001b[0m\u001b[0;34m.\u001b[0m\u001b[0misnull\u001b[0m\u001b[0;34m(\u001b[0m\u001b[0mret_data\u001b[0m\u001b[0;34m.\u001b[0m\u001b[0mloc\u001b[0m\u001b[0;34m[\u001b[0m\u001b[0mi\u001b[0m\u001b[0;34m]\u001b[0m\u001b[0;34m.\u001b[0m\u001b[0mRET\u001b[0m\u001b[0;34m)\u001b[0m \u001b[0;32mand\u001b[0m \u001b[0mret_data\u001b[0m\u001b[0;34m.\u001b[0m\u001b[0mloc\u001b[0m\u001b[0;34m[\u001b[0m\u001b[0;36m1\u001b[0m\u001b[0;34m]\u001b[0m\u001b[0;34m.\u001b[0m\u001b[0mRET\u001b[0m \u001b[0;34m==\u001b[0m \u001b[0;34m'C'\u001b[0m\u001b[0;34m:\u001b[0m\u001b[0;34m\u001b[0m\u001b[0m\n\u001b[0m\u001b[1;32m      4\u001b[0m         \u001b[0mret_data\u001b[0m\u001b[0;34m.\u001b[0m\u001b[0mdrop\u001b[0m\u001b[0;34m(\u001b[0m\u001b[0mi\u001b[0m\u001b[0;34m,\u001b[0m \u001b[0minplace\u001b[0m\u001b[0;34m=\u001b[0m\u001b[0mTrue\u001b[0m\u001b[0;34m)\u001b[0m\u001b[0;34m\u001b[0m\u001b[0m\n",
      "\u001b[0;32m/home/xuxiao2695/anaconda2/envs/Neduv/lib/python2.7/site-packages/pandas/core/indexing.pyc\u001b[0m in \u001b[0;36m__getitem__\u001b[0;34m(self, key)\u001b[0m\n\u001b[1;32m   1326\u001b[0m         \u001b[0;32melse\u001b[0m\u001b[0;34m:\u001b[0m\u001b[0;34m\u001b[0m\u001b[0m\n\u001b[1;32m   1327\u001b[0m             \u001b[0mkey\u001b[0m \u001b[0;34m=\u001b[0m \u001b[0mcom\u001b[0m\u001b[0;34m.\u001b[0m\u001b[0m_apply_if_callable\u001b[0m\u001b[0;34m(\u001b[0m\u001b[0mkey\u001b[0m\u001b[0;34m,\u001b[0m \u001b[0mself\u001b[0m\u001b[0;34m.\u001b[0m\u001b[0mobj\u001b[0m\u001b[0;34m)\u001b[0m\u001b[0;34m\u001b[0m\u001b[0m\n\u001b[0;32m-> 1328\u001b[0;31m             \u001b[0;32mreturn\u001b[0m \u001b[0mself\u001b[0m\u001b[0;34m.\u001b[0m\u001b[0m_getitem_axis\u001b[0m\u001b[0;34m(\u001b[0m\u001b[0mkey\u001b[0m\u001b[0;34m,\u001b[0m \u001b[0maxis\u001b[0m\u001b[0;34m=\u001b[0m\u001b[0;36m0\u001b[0m\u001b[0;34m)\u001b[0m\u001b[0;34m\u001b[0m\u001b[0m\n\u001b[0m\u001b[1;32m   1329\u001b[0m \u001b[0;34m\u001b[0m\u001b[0m\n\u001b[1;32m   1330\u001b[0m     \u001b[0;32mdef\u001b[0m \u001b[0m_is_scalar_access\u001b[0m\u001b[0;34m(\u001b[0m\u001b[0mself\u001b[0m\u001b[0;34m,\u001b[0m \u001b[0mkey\u001b[0m\u001b[0;34m)\u001b[0m\u001b[0;34m:\u001b[0m\u001b[0;34m\u001b[0m\u001b[0m\n",
      "\u001b[0;32m/home/xuxiao2695/anaconda2/envs/Neduv/lib/python2.7/site-packages/pandas/core/indexing.pyc\u001b[0m in \u001b[0;36m_getitem_axis\u001b[0;34m(self, key, axis)\u001b[0m\n\u001b[1;32m   1549\u001b[0m \u001b[0;34m\u001b[0m\u001b[0m\n\u001b[1;32m   1550\u001b[0m         \u001b[0;31m# fall thru to straight lookup\u001b[0m\u001b[0;34m\u001b[0m\u001b[0;34m\u001b[0m\u001b[0m\n\u001b[0;32m-> 1551\u001b[0;31m         \u001b[0mself\u001b[0m\u001b[0;34m.\u001b[0m\u001b[0m_has_valid_type\u001b[0m\u001b[0;34m(\u001b[0m\u001b[0mkey\u001b[0m\u001b[0;34m,\u001b[0m \u001b[0maxis\u001b[0m\u001b[0;34m)\u001b[0m\u001b[0;34m\u001b[0m\u001b[0m\n\u001b[0m\u001b[1;32m   1552\u001b[0m         \u001b[0;32mreturn\u001b[0m \u001b[0mself\u001b[0m\u001b[0;34m.\u001b[0m\u001b[0m_get_label\u001b[0m\u001b[0;34m(\u001b[0m\u001b[0mkey\u001b[0m\u001b[0;34m,\u001b[0m \u001b[0maxis\u001b[0m\u001b[0;34m=\u001b[0m\u001b[0maxis\u001b[0m\u001b[0;34m)\u001b[0m\u001b[0;34m\u001b[0m\u001b[0m\n\u001b[1;32m   1553\u001b[0m \u001b[0;34m\u001b[0m\u001b[0m\n",
      "\u001b[0;32m/home/xuxiao2695/anaconda2/envs/Neduv/lib/python2.7/site-packages/pandas/core/indexing.pyc\u001b[0m in \u001b[0;36m_has_valid_type\u001b[0;34m(self, key, axis)\u001b[0m\n\u001b[1;32m   1440\u001b[0m                 \u001b[0;32mraise\u001b[0m\u001b[0;34m\u001b[0m\u001b[0m\n\u001b[1;32m   1441\u001b[0m             \u001b[0;32mexcept\u001b[0m\u001b[0;34m:\u001b[0m\u001b[0;34m\u001b[0m\u001b[0m\n\u001b[0;32m-> 1442\u001b[0;31m                 \u001b[0merror\u001b[0m\u001b[0;34m(\u001b[0m\u001b[0;34m)\u001b[0m\u001b[0;34m\u001b[0m\u001b[0m\n\u001b[0m\u001b[1;32m   1443\u001b[0m \u001b[0;34m\u001b[0m\u001b[0m\n\u001b[1;32m   1444\u001b[0m         \u001b[0;32mreturn\u001b[0m \u001b[0mTrue\u001b[0m\u001b[0;34m\u001b[0m\u001b[0m\n",
      "\u001b[0;32m/home/xuxiao2695/anaconda2/envs/Neduv/lib/python2.7/site-packages/pandas/core/indexing.pyc\u001b[0m in \u001b[0;36merror\u001b[0;34m()\u001b[0m\n\u001b[1;32m   1427\u001b[0m                                     \"key\")\n\u001b[1;32m   1428\u001b[0m                 raise KeyError(\"the label [%s] is not in the [%s]\" %\n\u001b[0;32m-> 1429\u001b[0;31m                                (key, self.obj._get_axis_name(axis)))\n\u001b[0m\u001b[1;32m   1430\u001b[0m \u001b[0;34m\u001b[0m\u001b[0m\n\u001b[1;32m   1431\u001b[0m             \u001b[0;32mtry\u001b[0m\u001b[0;34m:\u001b[0m\u001b[0;34m\u001b[0m\u001b[0m\n",
      "\u001b[0;31mKeyError\u001b[0m: 'the label [0] is not in the [index]'"
     ],
     "output_type": "error"
    }
   ],
   "source": [
    "for i in ret_data[ret_data.RET == 'C'].index-1:\n",
    "    print i\n",
    "    if pd.isnull(ret_data.loc[i].RET) and ret_data.loc[1].RET == 'C':\n",
    "        ret_data.drop(i, inplace=True)"
   ]
  },
  {
   "cell_type": "code",
   "execution_count": 83,
   "metadata": {},
   "outputs": [],
   "source": [
    "ret_data = ret_data[ret_data.RET != 'C']"
   ]
  },
  {
   "cell_type": "code",
   "execution_count": 89,
   "metadata": {},
   "outputs": [],
   "source": [
    "ret_data = ret_data.fillna(0).drop_duplicates()"
   ]
  },
  {
   "cell_type": "code",
   "execution_count": 86,
   "metadata": {},
   "outputs": [],
   "source": [
    "nodenames = pd.read_csv(\"data/WRDS/SP500_price_1985.csv\", nrows=5).columns"
   ]
  },
  {
   "cell_type": "code",
   "execution_count": 5,
   "metadata": {
    "collapsed": true
   },
   "outputs": [],
   "source": [
    "nodenames = ret_data.PERMNO.unique()"
   ]
  },
  {
   "cell_type": "code",
   "execution_count": 91,
   "metadata": {
    "collapsed": true
   },
   "outputs": [],
   "source": [
    "df = ret_data.loc[lambda ret_data: ret_data.PERMNO == nodenames[0], :].copy()\n",
    "df['Date'] = pd.to_datetime(df['date'])\n",
    "df = df.drop('date', axis=1)\n",
    "temp = pd.concat([df.set_index(keys='Date', drop=True)['RET']], axis=1)\n",
    "temp.columns = [nodenames[0]]\n",
    "for stock in nodenames[1:]:\n",
    "    df = ret_data.loc[lambda ret_data: ret_data.PERMNO == stock, :].copy()\n",
    "    df['Date'] = pd.to_datetime(df['date'])\n",
    "    df = df.drop('date', axis=1)\n",
    "    t = pd.concat([df.set_index(keys='Date', drop=True)['RET']], axis=1)\n",
    "    t.columns = [stock]\n",
    "    temp = pd.concat([temp, t], axis=1)\n",
    "temp = temp.sort_index()"
   ]
  },
  {
   "cell_type": "code",
   "execution_count": null,
   "metadata": {},
   "outputs": [],
   "source": [
    "df = price_data.loc[lambda price_data: price_data.PERMNO == nodenames[0], :].copy()\n",
    "df['Date'] = pd.to_datetime(df['date'])\n",
    "df = df.drop('date', axis=1)\n",
    "temp = pd.concat([df.set_index(keys='Date', drop=True)['PRC']], axis=1)\n",
    "temp.columns = [nodenames[0]]\n",
    "for stock in nodenames[1:]:\n",
    "    df = price_data.loc[lambda price_data: price_data.PERMNO == stock, :].copy()\n",
    "    df['Date'] = pd.to_datetime(df['date'])\n",
    "    df = df.drop('date', axis=1)\n",
    "    t = pd.concat([df.set_index(keys='Date', drop=True)['PRC']], axis=1)\n",
    "    t.columns = [stock]\n",
    "    temp = pd.concat([temp, t], axis=1)\n",
    "temp = temp.sort_index()"
   ]
  },
  {
   "cell_type": "code",
   "execution_count": null,
   "metadata": {},
   "outputs": [],
   "source": [
    "div_data = raw_data[['date', 'DIVAMT', 'PERMNO']]\n",
    "div_data = div_data.fillna(0).drop_duplicates()\n",
    "df = div_data.loc[lambda div_data: div_data.PERMNO == nodenames[0], :].copy()\n",
    "df['Date'] = pd.to_datetime(df['date'])\n",
    "df = df.drop('date', axis=1)\n",
    "temp = pd.concat([df.set_index(keys='Date', drop=True)['DIVAMT']], axis=1)\n",
    "temp.columns = [nodenames[0]]\n",
    "temp = temp.groupby(temp.index).agg({nodenames[0]:sum})\n",
    "for stock in nodenames[1:]:\n",
    "    df = div_data.loc[lambda div_data: div_data.PERMNO == stock, :].copy()\n",
    "    df['Date'] = pd.to_datetime(df['date'])\n",
    "    df = df.drop('date', axis=1)\n",
    "    print stock\n",
    "    t = pd.concat([df.set_index(keys='Date', drop=True)['DIVAMT']], axis=1)\n",
    "    t.columns = [stock]\n",
    "    t = t.groupby(t.index).agg({stock:sum})\n",
    "    temp = pd.concat([temp, t], axis=1)\n",
    "temp = temp.sort_index()"
   ]
  },
  {
   "cell_type": "code",
   "execution_count": 7,
   "metadata": {
    "collapsed": true
   },
   "outputs": [
    {
     "name": "stdout",
     "output_type": "stream",
     "text": [
      "10107\n"
     ]
    },
    {
     "name": "stdout",
     "output_type": "stream",
     "text": [
      "10138\n"
     ]
    },
    {
     "name": "stdout",
     "output_type": "stream",
     "text": [
      "10145\n"
     ]
    },
    {
     "name": "stdout",
     "output_type": "stream",
     "text": [
      "10299\n"
     ]
    },
    {
     "name": "stdout",
     "output_type": "stream",
     "text": [
      "10516\n"
     ]
    },
    {
     "name": "stdout",
     "output_type": "stream",
     "text": [
      "10696\n"
     ]
    },
    {
     "name": "stdout",
     "output_type": "stream",
     "text": [
      "10909\n"
     ]
    },
    {
     "name": "stdout",
     "output_type": "stream",
     "text": [
      "11308\n"
     ]
    },
    {
     "name": "stdout",
     "output_type": "stream",
     "text": [
      "11404\n"
     ]
    },
    {
     "name": "stdout",
     "output_type": "stream",
     "text": [
      "11552\n"
     ]
    },
    {
     "name": "stdout",
     "output_type": "stream",
     "text": [
      "11600\n"
     ]
    },
    {
     "name": "stdout",
     "output_type": "stream",
     "text": [
      "11618\n"
     ]
    },
    {
     "name": "stdout",
     "output_type": "stream",
     "text": [
      "11674\n"
     ]
    },
    {
     "name": "stdout",
     "output_type": "stream",
     "text": [
      "11703\n"
     ]
    },
    {
     "name": "stdout",
     "output_type": "stream",
     "text": [
      "11762\n"
     ]
    },
    {
     "name": "stdout",
     "output_type": "stream",
     "text": [
      "11850\n"
     ]
    },
    {
     "name": "stdout",
     "output_type": "stream",
     "text": [
      "11955\n"
     ]
    },
    {
     "name": "stdout",
     "output_type": "stream",
     "text": [
      "12052\n"
     ]
    },
    {
     "name": "stdout",
     "output_type": "stream",
     "text": [
      "12060\n"
     ]
    },
    {
     "name": "stdout",
     "output_type": "stream",
     "text": [
      "12062\n"
     ]
    },
    {
     "name": "stdout",
     "output_type": "stream",
     "text": [
      "12073\n"
     ]
    },
    {
     "name": "stdout",
     "output_type": "stream",
     "text": [
      "12076\n12308\n"
     ]
    },
    {
     "name": "stdout",
     "output_type": "stream",
     "text": [
      "12345\n12369\n"
     ]
    },
    {
     "name": "stdout",
     "output_type": "stream",
     "text": [
      "12431\n"
     ]
    },
    {
     "name": "stdout",
     "output_type": "stream",
     "text": [
      "12490\n12542\n"
     ]
    },
    {
     "name": "stdout",
     "output_type": "stream",
     "text": [
      "12558\n12622\n"
     ]
    },
    {
     "name": "stdout",
     "output_type": "stream",
     "text": [
      "12650\n12872\n"
     ]
    },
    {
     "name": "stdout",
     "output_type": "stream",
     "text": [
      "12981\n13035\n"
     ]
    },
    {
     "name": "stdout",
     "output_type": "stream",
     "text": [
      "13103\n13142\n"
     ]
    },
    {
     "name": "stdout",
     "output_type": "stream",
     "text": [
      "13168\n13356\n"
     ]
    },
    {
     "name": "stdout",
     "output_type": "stream",
     "text": [
      "13407\n13586\n"
     ]
    },
    {
     "name": "stdout",
     "output_type": "stream",
     "text": [
      "13688\n13721\n"
     ]
    },
    {
     "name": "stdout",
     "output_type": "stream",
     "text": [
      "13788\n"
     ]
    },
    {
     "name": "stdout",
     "output_type": "stream",
     "text": [
      "13856\n"
     ]
    },
    {
     "name": "stdout",
     "output_type": "stream",
     "text": [
      "13901\n"
     ]
    },
    {
     "name": "stdout",
     "output_type": "stream",
     "text": [
      "13928\n"
     ]
    },
    {
     "name": "stdout",
     "output_type": "stream",
     "text": [
      "13936\n13963\n"
     ]
    },
    {
     "name": "stdout",
     "output_type": "stream",
     "text": [
      "13964\n13983\n"
     ]
    },
    {
     "name": "stdout",
     "output_type": "stream",
     "text": [
      "14008\n14011\n"
     ]
    },
    {
     "name": "stdout",
     "output_type": "stream",
     "text": [
      "14277\n14297\n"
     ]
    },
    {
     "name": "stdout",
     "output_type": "stream",
     "text": [
      "14541\n14542\n"
     ]
    },
    {
     "name": "stdout",
     "output_type": "stream",
     "text": [
      "14593\n14601\n"
     ]
    },
    {
     "name": "stdout",
     "output_type": "stream",
     "text": [
      "14702\n14776\n14889\n"
     ]
    },
    {
     "name": "stdout",
     "output_type": "stream",
     "text": [
      "15069\n"
     ]
    },
    {
     "name": "stdout",
     "output_type": "stream",
     "text": [
      "15202\n15408\n"
     ]
    },
    {
     "name": "stdout",
     "output_type": "stream",
     "text": [
      "15456\n15488\n"
     ]
    },
    {
     "name": "stdout",
     "output_type": "stream",
     "text": [
      "15579\n15707\n"
     ]
    },
    {
     "name": "stdout",
     "output_type": "stream",
     "text": [
      "15720\n15797\n15980\n16087\n"
     ]
    },
    {
     "name": "stdout",
     "output_type": "stream",
     "text": [
      "16432\n"
     ]
    },
    {
     "name": "stdout",
     "output_type": "stream",
     "text": [
      "16600\n"
     ]
    },
    {
     "name": "stdout",
     "output_type": "stream",
     "text": [
      "16678\n"
     ]
    },
    {
     "name": "stdout",
     "output_type": "stream",
     "text": [
      "17005\n"
     ]
    },
    {
     "name": "stdout",
     "output_type": "stream",
     "text": [
      "17144\n"
     ]
    },
    {
     "name": "stdout",
     "output_type": "stream",
     "text": [
      "17478\n"
     ]
    },
    {
     "name": "stdout",
     "output_type": "stream",
     "text": [
      "17750\n"
     ]
    },
    {
     "name": "stdout",
     "output_type": "stream",
     "text": [
      "17830\n"
     ]
    },
    {
     "name": "stdout",
     "output_type": "stream",
     "text": [
      "18163\n"
     ]
    },
    {
     "name": "stdout",
     "output_type": "stream",
     "text": [
      "18411\n"
     ]
    },
    {
     "name": "stdout",
     "output_type": "stream",
     "text": [
      "18542\n"
     ]
    },
    {
     "name": "stdout",
     "output_type": "stream",
     "text": [
      "18729\n"
     ]
    },
    {
     "name": "stdout",
     "output_type": "stream",
     "text": [
      "19166\n"
     ]
    },
    {
     "name": "stdout",
     "output_type": "stream",
     "text": [
      "19350\n"
     ]
    },
    {
     "name": "stdout",
     "output_type": "stream",
     "text": [
      "19393\n"
     ]
    },
    {
     "name": "stdout",
     "output_type": "stream",
     "text": [
      "19502\n"
     ]
    },
    {
     "name": "stdout",
     "output_type": "stream",
     "text": [
      "19561\n"
     ]
    },
    {
     "name": "stdout",
     "output_type": "stream",
     "text": [
      "20415\n"
     ]
    },
    {
     "name": "stdout",
     "output_type": "stream",
     "text": [
      "20482\n"
     ]
    },
    {
     "name": "stdout",
     "output_type": "stream",
     "text": [
      "20626\n"
     ]
    },
    {
     "name": "stdout",
     "output_type": "stream",
     "text": [
      "21020\n"
     ]
    },
    {
     "name": "stdout",
     "output_type": "stream",
     "text": [
      "21178\n"
     ]
    },
    {
     "name": "stdout",
     "output_type": "stream",
     "text": [
      "21186\n"
     ]
    },
    {
     "name": "stdout",
     "output_type": "stream",
     "text": [
      "21207\n"
     ]
    },
    {
     "name": "stdout",
     "output_type": "stream",
     "text": [
      "21371\n"
     ]
    },
    {
     "name": "stdout",
     "output_type": "stream",
     "text": [
      "21573\n"
     ]
    },
    {
     "name": "stdout",
     "output_type": "stream",
     "text": [
      "21776\n"
     ]
    },
    {
     "name": "stdout",
     "output_type": "stream",
     "text": [
      "21792\n"
     ]
    },
    {
     "name": "stdout",
     "output_type": "stream",
     "text": [
      "21936\n"
     ]
    },
    {
     "name": "stdout",
     "output_type": "stream",
     "text": [
      "22103\n"
     ]
    },
    {
     "name": "stdout",
     "output_type": "stream",
     "text": [
      "22111\n"
     ]
    },
    {
     "name": "stdout",
     "output_type": "stream",
     "text": [
      "22293\n"
     ]
    },
    {
     "name": "stdout",
     "output_type": "stream",
     "text": [
      "22509\n"
     ]
    },
    {
     "name": "stdout",
     "output_type": "stream",
     "text": [
      "22517\n"
     ]
    },
    {
     "name": "stdout",
     "output_type": "stream",
     "text": [
      "22592\n"
     ]
    },
    {
     "name": "stdout",
     "output_type": "stream",
     "text": [
      "22752\n"
     ]
    },
    {
     "name": "stdout",
     "output_type": "stream",
     "text": [
      "22779\n"
     ]
    },
    {
     "name": "stdout",
     "output_type": "stream",
     "text": [
      "23026\n"
     ]
    },
    {
     "name": "stdout",
     "output_type": "stream",
     "text": [
      "23085\n"
     ]
    },
    {
     "name": "stdout",
     "output_type": "stream",
     "text": [
      "23229\n"
     ]
    },
    {
     "name": "stdout",
     "output_type": "stream",
     "text": [
      "23393\n"
     ]
    },
    {
     "name": "stdout",
     "output_type": "stream",
     "text": [
      "23473\n"
     ]
    },
    {
     "name": "stdout",
     "output_type": "stream",
     "text": [
      "23536\n"
     ]
    },
    {
     "name": "stdout",
     "output_type": "stream",
     "text": [
      "23579\n"
     ]
    },
    {
     "name": "stdout",
     "output_type": "stream",
     "text": [
      "23660\n"
     ]
    },
    {
     "name": "stdout",
     "output_type": "stream",
     "text": [
      "23712\n"
     ]
    },
    {
     "name": "stdout",
     "output_type": "stream",
     "text": [
      "23819\n"
     ]
    },
    {
     "name": "stdout",
     "output_type": "stream",
     "text": [
      "23887\n"
     ]
    },
    {
     "name": "stdout",
     "output_type": "stream",
     "text": [
      "23931\n"
     ]
    },
    {
     "name": "stdout",
     "output_type": "stream",
     "text": [
      "24010\n"
     ]
    },
    {
     "name": "stdout",
     "output_type": "stream",
     "text": [
      "24109\n"
     ]
    },
    {
     "name": "stdout",
     "output_type": "stream",
     "text": [
      "24205\n"
     ]
    },
    {
     "name": "stdout",
     "output_type": "stream",
     "text": [
      "24328\n"
     ]
    },
    {
     "name": "stdout",
     "output_type": "stream",
     "text": [
      "24459\n"
     ]
    },
    {
     "name": "stdout",
     "output_type": "stream",
     "text": [
      "24643\n"
     ]
    },
    {
     "name": "stdout",
     "output_type": "stream",
     "text": [
      "24766\n"
     ]
    },
    {
     "name": "stdout",
     "output_type": "stream",
     "text": [
      "24942\n"
     ]
    },
    {
     "name": "stdout",
     "output_type": "stream",
     "text": [
      "24985\n"
     ]
    },
    {
     "name": "stdout",
     "output_type": "stream",
     "text": [
      "25081\n"
     ]
    },
    {
     "name": "stdout",
     "output_type": "stream",
     "text": [
      "25232\n"
     ]
    },
    {
     "name": "stdout",
     "output_type": "stream",
     "text": [
      "25320\n"
     ]
    },
    {
     "name": "stdout",
     "output_type": "stream",
     "text": [
      "25419\n"
     ]
    },
    {
     "name": "stdout",
     "output_type": "stream",
     "text": [
      "25582\n"
     ]
    },
    {
     "name": "stdout",
     "output_type": "stream",
     "text": [
      "25778\n"
     ]
    },
    {
     "name": "stdout",
     "output_type": "stream",
     "text": [
      "25785\n"
     ]
    },
    {
     "name": "stdout",
     "output_type": "stream",
     "text": [
      "25953\n"
     ]
    },
    {
     "name": "stdout",
     "output_type": "stream",
     "text": [
      "26403\n"
     ]
    },
    {
     "name": "stdout",
     "output_type": "stream",
     "text": [
      "26710\n"
     ]
    },
    {
     "name": "stdout",
     "output_type": "stream",
     "text": [
      "26825\n"
     ]
    },
    {
     "name": "stdout",
     "output_type": "stream",
     "text": [
      "27043\n"
     ]
    },
    {
     "name": "stdout",
     "output_type": "stream",
     "text": [
      "27633\n"
     ]
    },
    {
     "name": "stdout",
     "output_type": "stream",
     "text": [
      "27828\n"
     ]
    },
    {
     "name": "stdout",
     "output_type": "stream",
     "text": [
      "27887\n"
     ]
    },
    {
     "name": "stdout",
     "output_type": "stream",
     "text": [
      "27959\n"
     ]
    },
    {
     "name": "stdout",
     "output_type": "stream",
     "text": [
      "27983\n"
     ]
    },
    {
     "name": "stdout",
     "output_type": "stream",
     "text": [
      "27991\n"
     ]
    },
    {
     "name": "stdout",
     "output_type": "stream",
     "text": [
      "28222\n"
     ]
    },
    {
     "name": "stdout",
     "output_type": "stream",
     "text": [
      "28345\n"
     ]
    },
    {
     "name": "stdout",
     "output_type": "stream",
     "text": [
      "28388\n"
     ]
    },
    {
     "name": "stdout",
     "output_type": "stream",
     "text": [
      "28484\n"
     ]
    },
    {
     "name": "stdout",
     "output_type": "stream",
     "text": [
      "28804\n"
     ]
    },
    {
     "name": "stdout",
     "output_type": "stream",
     "text": [
      "29946\n"
     ]
    },
    {
     "name": "stdout",
     "output_type": "stream",
     "text": [
      "30681\n"
     ]
    },
    {
     "name": "stdout",
     "output_type": "stream",
     "text": [
      "30940\n"
     ]
    },
    {
     "name": "stdout",
     "output_type": "stream",
     "text": [
      "32707\n"
     ]
    },
    {
     "name": "stdout",
     "output_type": "stream",
     "text": [
      "32870\n"
     ]
    },
    {
     "name": "stdout",
     "output_type": "stream",
     "text": [
      "34032\n"
     ]
    },
    {
     "name": "stdout",
     "output_type": "stream",
     "text": [
      "34746\n"
     ]
    },
    {
     "name": "stdout",
     "output_type": "stream",
     "text": [
      "34817\n"
     ]
    },
    {
     "name": "stdout",
     "output_type": "stream",
     "text": [
      "34833\n"
     ]
    },
    {
     "name": "stdout",
     "output_type": "stream",
     "text": [
      "35044\n"
     ]
    },
    {
     "name": "stdout",
     "output_type": "stream",
     "text": [
      "35554\n"
     ]
    },
    {
     "name": "stdout",
     "output_type": "stream",
     "text": [
      "36468\n"
     ]
    },
    {
     "name": "stdout",
     "output_type": "stream",
     "text": [
      "37284\n"
     ]
    },
    {
     "name": "stdout",
     "output_type": "stream",
     "text": [
      "37584\n"
     ]
    },
    {
     "name": "stdout",
     "output_type": "stream",
     "text": [
      "38093\n"
     ]
    },
    {
     "name": "stdout",
     "output_type": "stream",
     "text": [
      "38156\n"
     ]
    },
    {
     "name": "stdout",
     "output_type": "stream",
     "text": [
      "38703\n"
     ]
    },
    {
     "name": "stdout",
     "output_type": "stream",
     "text": [
      "38762\n"
     ]
    },
    {
     "name": "stdout",
     "output_type": "stream",
     "text": [
      "39490\n"
     ]
    },
    {
     "name": "stdout",
     "output_type": "stream",
     "text": [
      "39538\n"
     ]
    },
    {
     "name": "stdout",
     "output_type": "stream",
     "text": [
      "39642\n"
     ]
    },
    {
     "name": "stdout",
     "output_type": "stream",
     "text": [
      "39917\n"
     ]
    },
    {
     "name": "stdout",
     "output_type": "stream",
     "text": [
      "40272\n"
     ]
    },
    {
     "name": "stdout",
     "output_type": "stream",
     "text": [
      "40539\n"
     ]
    },
    {
     "name": "stdout",
     "output_type": "stream",
     "text": [
      "41080\n"
     ]
    },
    {
     "name": "stdout",
     "output_type": "stream",
     "text": [
      "41355\n"
     ]
    },
    {
     "name": "stdout",
     "output_type": "stream",
     "text": [
      "42200\n"
     ]
    },
    {
     "name": "stdout",
     "output_type": "stream",
     "text": [
      "42585\n"
     ]
    },
    {
     "name": "stdout",
     "output_type": "stream",
     "text": [
      "42877\n"
     ]
    },
    {
     "name": "stdout",
     "output_type": "stream",
     "text": [
      "42906\n"
     ]
    },
    {
     "name": "stdout",
     "output_type": "stream",
     "text": [
      "43350\n"
     ]
    },
    {
     "name": "stdout",
     "output_type": "stream",
     "text": [
      "43449\n"
     ]
    },
    {
     "name": "stdout",
     "output_type": "stream",
     "text": [
      "43553\n"
     ]
    },
    {
     "name": "stdout",
     "output_type": "stream",
     "text": [
      "44206\n"
     ]
    },
    {
     "name": "stdout",
     "output_type": "stream",
     "text": [
      "44601\n"
     ]
    },
    {
     "name": "stdout",
     "output_type": "stream",
     "text": [
      "44644\n"
     ]
    },
    {
     "name": "stdout",
     "output_type": "stream",
     "text": [
      "45356\n"
     ]
    },
    {
     "name": "stdout",
     "output_type": "stream",
     "text": [
      "45751\n"
     ]
    },
    {
     "name": "stdout",
     "output_type": "stream",
     "text": [
      "45911\n"
     ]
    },
    {
     "name": "stdout",
     "output_type": "stream",
     "text": [
      "46578\n"
     ]
    },
    {
     "name": "stdout",
     "output_type": "stream",
     "text": [
      "46674\n"
     ]
    },
    {
     "name": "stdout",
     "output_type": "stream",
     "text": [
      "46703\n"
     ]
    },
    {
     "name": "stdout",
     "output_type": "stream",
     "text": [
      "46877\n"
     ]
    },
    {
     "name": "stdout",
     "output_type": "stream",
     "text": [
      "46886\n"
     ]
    },
    {
     "name": "stdout",
     "output_type": "stream",
     "text": [
      "47896\n"
     ]
    },
    {
     "name": "stdout",
     "output_type": "stream",
     "text": [
      "47941\n"
     ]
    },
    {
     "name": "stdout",
     "output_type": "stream",
     "text": [
      "48486\n"
     ]
    },
    {
     "name": "stdout",
     "output_type": "stream",
     "text": [
      "48506\n"
     ]
    },
    {
     "name": "stdout",
     "output_type": "stream",
     "text": [
      "48653\n"
     ]
    },
    {
     "name": "stdout",
     "output_type": "stream",
     "text": [
      "48725\n"
     ]
    },
    {
     "name": "stdout",
     "output_type": "stream",
     "text": [
      "49015\n"
     ]
    },
    {
     "name": "stdout",
     "output_type": "stream",
     "text": [
      "49154\n"
     ]
    },
    {
     "name": "stdout",
     "output_type": "stream",
     "text": [
      "49373\n"
     ]
    },
    {
     "name": "stdout",
     "output_type": "stream",
     "text": [
      "49656\n"
     ]
    },
    {
     "name": "stdout",
     "output_type": "stream",
     "text": [
      "49680\n"
     ]
    },
    {
     "name": "stdout",
     "output_type": "stream",
     "text": [
      "50017\n"
     ]
    },
    {
     "name": "stdout",
     "output_type": "stream",
     "text": [
      "50876\n"
     ]
    },
    {
     "name": "stdout",
     "output_type": "stream",
     "text": [
      "52038\n"
     ]
    },
    {
     "name": "stdout",
     "output_type": "stream",
     "text": [
      "52090\n"
     ]
    },
    {
     "name": "stdout",
     "output_type": "stream",
     "text": [
      "52230\n"
     ]
    },
    {
     "name": "stdout",
     "output_type": "stream",
     "text": [
      "52329\n"
     ]
    },
    {
     "name": "stdout",
     "output_type": "stream",
     "text": [
      "52476\n"
     ]
    },
    {
     "name": "stdout",
     "output_type": "stream",
     "text": [
      "52695\n"
     ]
    },
    {
     "name": "stdout",
     "output_type": "stream",
     "text": [
      "52708\n"
     ]
    },
    {
     "name": "stdout",
     "output_type": "stream",
     "text": [
      "52978\n"
     ]
    },
    {
     "name": "stdout",
     "output_type": "stream",
     "text": [
      "53065\n"
     ]
    },
    {
     "name": "stdout",
     "output_type": "stream",
     "text": [
      "53613\n"
     ]
    },
    {
     "name": "stdout",
     "output_type": "stream",
     "text": [
      "54148\n"
     ]
    },
    {
     "name": "stdout",
     "output_type": "stream",
     "text": [
      "55976\n"
     ]
    },
    {
     "name": "stdout",
     "output_type": "stream",
     "text": [
      "56274\n"
     ]
    },
    {
     "name": "stdout",
     "output_type": "stream",
     "text": [
      "56573\n"
     ]
    },
    {
     "name": "stdout",
     "output_type": "stream",
     "text": [
      "57568\n"
     ]
    },
    {
     "name": "stdout",
     "output_type": "stream",
     "text": [
      "57665\n"
     ]
    },
    {
     "name": "stdout",
     "output_type": "stream",
     "text": [
      "57817\n"
     ]
    },
    {
     "name": "stdout",
     "output_type": "stream",
     "text": [
      "57904\n"
     ]
    },
    {
     "name": "stdout",
     "output_type": "stream",
     "text": [
      "58246\n"
     ]
    },
    {
     "name": "stdout",
     "output_type": "stream",
     "text": [
      "58413\n"
     ]
    },
    {
     "name": "stdout",
     "output_type": "stream",
     "text": [
      "58683\n"
     ]
    },
    {
     "name": "stdout",
     "output_type": "stream",
     "text": [
      "58819\n"
     ]
    },
    {
     "name": "stdout",
     "output_type": "stream",
     "text": [
      "59010\n"
     ]
    },
    {
     "name": "stdout",
     "output_type": "stream",
     "text": [
      "59176\n"
     ]
    },
    {
     "name": "stdout",
     "output_type": "stream",
     "text": [
      "59248\n"
     ]
    },
    {
     "name": "stdout",
     "output_type": "stream",
     "text": [
      "59300\n"
     ]
    },
    {
     "name": "stdout",
     "output_type": "stream",
     "text": [
      "59328\n"
     ]
    },
    {
     "name": "stdout",
     "output_type": "stream",
     "text": [
      "59408\n"
     ]
    },
    {
     "name": "stdout",
     "output_type": "stream",
     "text": [
      "59459\n"
     ]
    },
    {
     "name": "stdout",
     "output_type": "stream",
     "text": [
      "60097\n"
     ]
    },
    {
     "name": "stdout",
     "output_type": "stream",
     "text": [
      "60206\n"
     ]
    },
    {
     "name": "stdout",
     "output_type": "stream",
     "text": [
      "60442\n"
     ]
    },
    {
     "name": "stdout",
     "output_type": "stream",
     "text": [
      "60506\n"
     ]
    },
    {
     "name": "stdout",
     "output_type": "stream",
     "text": [
      "60599\n"
     ]
    },
    {
     "name": "stdout",
     "output_type": "stream",
     "text": [
      "60628\n"
     ]
    },
    {
     "name": "stdout",
     "output_type": "stream",
     "text": [
      "60871\n"
     ]
    },
    {
     "name": "stdout",
     "output_type": "stream",
     "text": [
      "60943\n"
     ]
    },
    {
     "name": "stdout",
     "output_type": "stream",
     "text": [
      "60986\n"
     ]
    },
    {
     "name": "stdout",
     "output_type": "stream",
     "text": [
      "61399\n"
     ]
    },
    {
     "name": "stdout",
     "output_type": "stream",
     "text": [
      "61621\n"
     ]
    },
    {
     "name": "stdout",
     "output_type": "stream",
     "text": [
      "61735\n"
     ]
    },
    {
     "name": "stdout",
     "output_type": "stream",
     "text": [
      "61815\n"
     ]
    },
    {
     "name": "stdout",
     "output_type": "stream",
     "text": [
      "62092\n"
     ]
    },
    {
     "name": "stdout",
     "output_type": "stream",
     "text": [
      "62148\n"
     ]
    },
    {
     "name": "stdout",
     "output_type": "stream",
     "text": [
      "62308\n"
     ]
    },
    {
     "name": "stdout",
     "output_type": "stream",
     "text": [
      "63765\n"
     ]
    },
    {
     "name": "stdout",
     "output_type": "stream",
     "text": [
      "64186\n"
     ]
    },
    {
     "name": "stdout",
     "output_type": "stream",
     "text": [
      "64282\n"
     ]
    },
    {
     "name": "stdout",
     "output_type": "stream",
     "text": [
      "64311\n"
     ]
    },
    {
     "name": "stdout",
     "output_type": "stream",
     "text": [
      "64390\n"
     ]
    },
    {
     "name": "stdout",
     "output_type": "stream",
     "text": [
      "64653\n"
     ]
    },
    {
     "name": "stdout",
     "output_type": "stream",
     "text": [
      "64936\n"
     ]
    },
    {
     "name": "stdout",
     "output_type": "stream",
     "text": [
      "64995\n"
     ]
    },
    {
     "name": "stdout",
     "output_type": "stream",
     "text": [
      "65541\n"
     ]
    },
    {
     "name": "stdout",
     "output_type": "stream",
     "text": [
      "65875\n"
     ]
    },
    {
     "name": "stdout",
     "output_type": "stream",
     "text": [
      "65947\n"
     ]
    },
    {
     "name": "stdout",
     "output_type": "stream",
     "text": [
      "66093\n"
     ]
    },
    {
     "name": "stdout",
     "output_type": "stream",
     "text": [
      "66157\n"
     ]
    },
    {
     "name": "stdout",
     "output_type": "stream",
     "text": [
      "66181\n"
     ]
    },
    {
     "name": "stdout",
     "output_type": "stream",
     "text": [
      "66384\n"
     ]
    },
    {
     "name": "stdout",
     "output_type": "stream",
     "text": [
      "66800\n"
     ]
    },
    {
     "name": "stdout",
     "output_type": "stream",
     "text": [
      "67598\n"
     ]
    },
    {
     "name": "stdout",
     "output_type": "stream",
     "text": [
      "68144\n"
     ]
    },
    {
     "name": "stdout",
     "output_type": "stream",
     "text": [
      "68591\n"
     ]
    },
    {
     "name": "stdout",
     "output_type": "stream",
     "text": [
      "69032\n"
     ]
    },
    {
     "name": "stdout",
     "output_type": "stream",
     "text": [
      "69550\n"
     ]
    },
    {
     "name": "stdout",
     "output_type": "stream",
     "text": [
      "69796\n"
     ]
    },
    {
     "name": "stdout",
     "output_type": "stream",
     "text": [
      "70033\n"
     ]
    },
    {
     "name": "stdout",
     "output_type": "stream",
     "text": [
      "70332\n"
     ]
    },
    {
     "name": "stdout",
     "output_type": "stream",
     "text": [
      "70519\n"
     ]
    },
    {
     "name": "stdout",
     "output_type": "stream",
     "text": [
      "70578\n"
     ]
    },
    {
     "name": "stdout",
     "output_type": "stream",
     "text": [
      "71175\n"
     ]
    },
    {
     "name": "stdout",
     "output_type": "stream",
     "text": [
      "71563\n"
     ]
    },
    {
     "name": "stdout",
     "output_type": "stream",
     "text": [
      "72726\n"
     ]
    },
    {
     "name": "stdout",
     "output_type": "stream",
     "text": [
      "73139\n"
     ]
    },
    {
     "name": "stdout",
     "output_type": "stream",
     "text": [
      "75034\n"
     ]
    },
    {
     "name": "stdout",
     "output_type": "stream",
     "text": [
      "75100\n"
     ]
    },
    {
     "name": "stdout",
     "output_type": "stream",
     "text": [
      "75154\n"
     ]
    },
    {
     "name": "stdout",
     "output_type": "stream",
     "text": [
      "75186\n"
     ]
    },
    {
     "name": "stdout",
     "output_type": "stream",
     "text": [
      "75224\n"
     ]
    },
    {
     "name": "stdout",
     "output_type": "stream",
     "text": [
      "75241\n"
     ]
    },
    {
     "name": "stdout",
     "output_type": "stream",
     "text": [
      "75489\n"
     ]
    },
    {
     "name": "stdout",
     "output_type": "stream",
     "text": [
      "75510\n"
     ]
    },
    {
     "name": "stdout",
     "output_type": "stream",
     "text": [
      "75607\n"
     ]
    },
    {
     "name": "stdout",
     "output_type": "stream",
     "text": [
      "75819\n"
     ]
    },
    {
     "name": "stdout",
     "output_type": "stream",
     "text": [
      "75825\n"
     ]
    },
    {
     "name": "stdout",
     "output_type": "stream",
     "text": [
      "75828\n"
     ]
    },
    {
     "name": "stdout",
     "output_type": "stream",
     "text": [
      "76076\n"
     ]
    },
    {
     "name": "stdout",
     "output_type": "stream",
     "text": [
      "76082\n"
     ]
    },
    {
     "name": "stdout",
     "output_type": "stream",
     "text": [
      "76095\n"
     ]
    },
    {
     "name": "stdout",
     "output_type": "stream",
     "text": [
      "76201\n"
     ]
    },
    {
     "name": "stdout",
     "output_type": "stream",
     "text": [
      "76226\n"
     ]
    },
    {
     "name": "stdout",
     "output_type": "stream",
     "text": [
      "76282\n"
     ]
    },
    {
     "name": "stdout",
     "output_type": "stream",
     "text": [
      "76605\n"
     ]
    },
    {
     "name": "stdout",
     "output_type": "stream",
     "text": [
      "76614\n"
     ]
    },
    {
     "name": "stdout",
     "output_type": "stream",
     "text": [
      "76639\n"
     ]
    },
    {
     "name": "stdout",
     "output_type": "stream",
     "text": [
      "76712\n"
     ]
    },
    {
     "name": "stdout",
     "output_type": "stream",
     "text": [
      "76744\n"
     ]
    },
    {
     "name": "stdout",
     "output_type": "stream",
     "text": [
      "76841\n"
     ]
    },
    {
     "name": "stdout",
     "output_type": "stream",
     "text": [
      "77129\n"
     ]
    },
    {
     "name": "stdout",
     "output_type": "stream",
     "text": [
      "77178\n"
     ]
    },
    {
     "name": "stdout",
     "output_type": "stream",
     "text": [
      "77182\n"
     ]
    },
    {
     "name": "stdout",
     "output_type": "stream",
     "text": [
      "77274\n"
     ]
    },
    {
     "name": "stdout",
     "output_type": "stream",
     "text": [
      "77281\n"
     ]
    },
    {
     "name": "stdout",
     "output_type": "stream",
     "text": [
      "77338\n"
     ]
    },
    {
     "name": "stdout",
     "output_type": "stream",
     "text": [
      "77418\n"
     ]
    },
    {
     "name": "stdout",
     "output_type": "stream",
     "text": [
      "77462\n"
     ]
    },
    {
     "name": "stdout",
     "output_type": "stream",
     "text": [
      "77496\n"
     ]
    },
    {
     "name": "stdout",
     "output_type": "stream",
     "text": [
      "77605\n"
     ]
    },
    {
     "name": "stdout",
     "output_type": "stream",
     "text": [
      "77606\n"
     ]
    },
    {
     "name": "stdout",
     "output_type": "stream",
     "text": [
      "77659\n"
     ]
    },
    {
     "name": "stdout",
     "output_type": "stream",
     "text": [
      "77661\n"
     ]
    },
    {
     "name": "stdout",
     "output_type": "stream",
     "text": [
      "77668\n"
     ]
    },
    {
     "name": "stdout",
     "output_type": "stream",
     "text": [
      "77702\n"
     ]
    },
    {
     "name": "stdout",
     "output_type": "stream",
     "text": [
      "77730\n"
     ]
    },
    {
     "name": "stdout",
     "output_type": "stream",
     "text": [
      "77768\n"
     ]
    },
    {
     "name": "stdout",
     "output_type": "stream",
     "text": [
      "78034\n"
     ]
    },
    {
     "name": "stdout",
     "output_type": "stream",
     "text": [
      "78877\n"
     ]
    },
    {
     "name": "stdout",
     "output_type": "stream",
     "text": [
      "78916\n"
     ]
    },
    {
     "name": "stdout",
     "output_type": "stream",
     "text": [
      "78975\n"
     ]
    },
    {
     "name": "stdout",
     "output_type": "stream",
     "text": [
      "78987\n"
     ]
    },
    {
     "name": "stdout",
     "output_type": "stream",
     "text": [
      "79057\n"
     ]
    },
    {
     "name": "stdout",
     "output_type": "stream",
     "text": [
      "79103\n"
     ]
    },
    {
     "name": "stdout",
     "output_type": "stream",
     "text": [
      "79129\n"
     ]
    },
    {
     "name": "stdout",
     "output_type": "stream",
     "text": [
      "79145\n"
     ]
    },
    {
     "name": "stdout",
     "output_type": "stream",
     "text": [
      "79237\n"
     ]
    },
    {
     "name": "stdout",
     "output_type": "stream",
     "text": [
      "79265\n"
     ]
    },
    {
     "name": "stdout",
     "output_type": "stream",
     "text": [
      "79323\n"
     ]
    },
    {
     "name": "stdout",
     "output_type": "stream",
     "text": [
      "79545\n"
     ]
    },
    {
     "name": "stdout",
     "output_type": "stream",
     "text": [
      "79547\n"
     ]
    },
    {
     "name": "stdout",
     "output_type": "stream",
     "text": [
      "79637\n"
     ]
    },
    {
     "name": "stdout",
     "output_type": "stream",
     "text": [
      "79678\n"
     ]
    },
    {
     "name": "stdout",
     "output_type": "stream",
     "text": [
      "79881\n"
     ]
    },
    {
     "name": "stdout",
     "output_type": "stream",
     "text": [
      "79915\n"
     ]
    },
    {
     "name": "stdout",
     "output_type": "stream",
     "text": [
      "80080\n"
     ]
    },
    {
     "name": "stdout",
     "output_type": "stream",
     "text": [
      "80100\n"
     ]
    },
    {
     "name": "stdout",
     "output_type": "stream",
     "text": [
      "80183\n"
     ]
    },
    {
     "name": "stdout",
     "output_type": "stream",
     "text": [
      "80191\n"
     ]
    },
    {
     "name": "stdout",
     "output_type": "stream",
     "text": [
      "80204\n"
     ]
    },
    {
     "name": "stdout",
     "output_type": "stream",
     "text": [
      "80286\n"
     ]
    },
    {
     "name": "stdout",
     "output_type": "stream",
     "text": [
      "80381\n"
     ]
    },
    {
     "name": "stdout",
     "output_type": "stream",
     "text": [
      "80399\n"
     ]
    },
    {
     "name": "stdout",
     "output_type": "stream",
     "text": [
      "80681\n"
     ]
    },
    {
     "name": "stdout",
     "output_type": "stream",
     "text": [
      "80711\n"
     ]
    },
    {
     "name": "stdout",
     "output_type": "stream",
     "text": [
      "81045\n"
     ]
    },
    {
     "name": "stdout",
     "output_type": "stream",
     "text": [
      "81055\n"
     ]
    },
    {
     "name": "stdout",
     "output_type": "stream",
     "text": [
      "81061\n"
     ]
    },
    {
     "name": "stdout",
     "output_type": "stream",
     "text": [
      "81481\n"
     ]
    },
    {
     "name": "stdout",
     "output_type": "stream",
     "text": [
      "81540\n"
     ]
    },
    {
     "name": "stdout",
     "output_type": "stream",
     "text": [
      "81655\n"
     ]
    },
    {
     "name": "stdout",
     "output_type": "stream",
     "text": [
      "81774\n"
     ]
    },
    {
     "name": "stdout",
     "output_type": "stream",
     "text": [
      "81910\n"
     ]
    },
    {
     "name": "stdout",
     "output_type": "stream",
     "text": [
      "82307\n"
     ]
    },
    {
     "name": "stdout",
     "output_type": "stream",
     "text": [
      "82581\n"
     ]
    },
    {
     "name": "stdout",
     "output_type": "stream",
     "text": [
      "82598\n"
     ]
    },
    {
     "name": "stdout",
     "output_type": "stream",
     "text": [
      "82642\n"
     ]
    },
    {
     "name": "stdout",
     "output_type": "stream",
     "text": [
      "82651\n"
     ]
    },
    {
     "name": "stdout",
     "output_type": "stream",
     "text": [
      "82686\n"
     ]
    },
    {
     "name": "stdout",
     "output_type": "stream",
     "text": [
      "82775\n"
     ]
    },
    {
     "name": "stdout",
     "output_type": "stream",
     "text": [
      "83111\n"
     ]
    },
    {
     "name": "stdout",
     "output_type": "stream",
     "text": [
      "83143\n"
     ]
    },
    {
     "name": "stdout",
     "output_type": "stream",
     "text": [
      "83443\n"
     ]
    },
    {
     "name": "stdout",
     "output_type": "stream",
     "text": [
      "83862\n"
     ]
    },
    {
     "name": "stdout",
     "output_type": "stream",
     "text": [
      "83906\n"
     ]
    },
    {
     "name": "stdout",
     "output_type": "stream",
     "text": [
      "84032\n"
     ]
    },
    {
     "name": "stdout",
     "output_type": "stream",
     "text": [
      "84129\n"
     ]
    },
    {
     "name": "stdout",
     "output_type": "stream",
     "text": [
      "84373\n"
     ]
    },
    {
     "name": "stdout",
     "output_type": "stream",
     "text": [
      "84381\n"
     ]
    },
    {
     "name": "stdout",
     "output_type": "stream",
     "text": [
      "84769\n"
     ]
    },
    {
     "name": "stdout",
     "output_type": "stream",
     "text": [
      "84788\n"
     ]
    },
    {
     "name": "stdout",
     "output_type": "stream",
     "text": [
      "85035\n"
     ]
    },
    {
     "name": "stdout",
     "output_type": "stream",
     "text": [
      "85058\n"
     ]
    },
    {
     "name": "stdout",
     "output_type": "stream",
     "text": [
      "85072\n"
     ]
    },
    {
     "name": "stdout",
     "output_type": "stream",
     "text": [
      "85257\n"
     ]
    },
    {
     "name": "stdout",
     "output_type": "stream",
     "text": [
      "85265\n"
     ]
    },
    {
     "name": "stdout",
     "output_type": "stream",
     "text": [
      "85269\n"
     ]
    },
    {
     "name": "stdout",
     "output_type": "stream",
     "text": [
      "85348\n"
     ]
    },
    {
     "name": "stdout",
     "output_type": "stream",
     "text": [
      "85459\n"
     ]
    },
    {
     "name": "stdout",
     "output_type": "stream",
     "text": [
      "85592\n"
     ]
    },
    {
     "name": "stdout",
     "output_type": "stream",
     "text": [
      "85593\n"
     ]
    },
    {
     "name": "stdout",
     "output_type": "stream",
     "text": [
      "85621\n"
     ]
    },
    {
     "name": "stdout",
     "output_type": "stream",
     "text": [
      "85631\n"
     ]
    },
    {
     "name": "stdout",
     "output_type": "stream",
     "text": [
      "85663\n"
     ]
    },
    {
     "name": "stdout",
     "output_type": "stream",
     "text": [
      "85675\n"
     ]
    },
    {
     "name": "stdout",
     "output_type": "stream",
     "text": [
      "85753\n"
     ]
    },
    {
     "name": "stdout",
     "output_type": "stream",
     "text": [
      "85792\n"
     ]
    },
    {
     "name": "stdout",
     "output_type": "stream",
     "text": [
      "85913\n"
     ]
    },
    {
     "name": "stdout",
     "output_type": "stream",
     "text": [
      "85914\n"
     ]
    },
    {
     "name": "stdout",
     "output_type": "stream",
     "text": [
      "85926\n"
     ]
    },
    {
     "name": "stdout",
     "output_type": "stream",
     "text": [
      "85991\n"
     ]
    },
    {
     "name": "stdout",
     "output_type": "stream",
     "text": [
      "86021\n"
     ]
    },
    {
     "name": "stdout",
     "output_type": "stream",
     "text": [
      "86111\n"
     ]
    },
    {
     "name": "stdout",
     "output_type": "stream",
     "text": [
      "86136\n"
     ]
    },
    {
     "name": "stdout",
     "output_type": "stream",
     "text": [
      "86158\n"
     ]
    },
    {
     "name": "stdout",
     "output_type": "stream",
     "text": [
      "86228\n"
     ]
    },
    {
     "name": "stdout",
     "output_type": "stream",
     "text": [
      "86314\n"
     ]
    },
    {
     "name": "stdout",
     "output_type": "stream",
     "text": [
      "86339\n"
     ]
    },
    {
     "name": "stdout",
     "output_type": "stream",
     "text": [
      "86356\n"
     ]
    },
    {
     "name": "stdout",
     "output_type": "stream",
     "text": [
      "86580\n"
     ]
    },
    {
     "name": "stdout",
     "output_type": "stream",
     "text": [
      "86783\n"
     ]
    },
    {
     "name": "stdout",
     "output_type": "stream",
     "text": [
      "86868\n"
     ]
    },
    {
     "name": "stdout",
     "output_type": "stream",
     "text": [
      "86946\n"
     ]
    },
    {
     "name": "stdout",
     "output_type": "stream",
     "text": [
      "86964\n"
     ]
    },
    {
     "name": "stdout",
     "output_type": "stream",
     "text": [
      "86979\n"
     ]
    },
    {
     "name": "stdout",
     "output_type": "stream",
     "text": [
      "87055\n"
     ]
    },
    {
     "name": "stdout",
     "output_type": "stream",
     "text": [
      "87137\n"
     ]
    },
    {
     "name": "stdout",
     "output_type": "stream",
     "text": [
      "87184\n"
     ]
    },
    {
     "name": "stdout",
     "output_type": "stream",
     "text": [
      "87267\n"
     ]
    },
    {
     "name": "stdout",
     "output_type": "stream",
     "text": [
      "87299\n"
     ]
    },
    {
     "name": "stdout",
     "output_type": "stream",
     "text": [
      "87432\n"
     ]
    },
    {
     "name": "stdout",
     "output_type": "stream",
     "text": [
      "87447\n"
     ]
    },
    {
     "name": "stdout",
     "output_type": "stream",
     "text": [
      "87657\n"
     ]
    },
    {
     "name": "stdout",
     "output_type": "stream",
     "text": [
      "87717\n"
     ]
    },
    {
     "name": "stdout",
     "output_type": "stream",
     "text": [
      "87842\n"
     ]
    },
    {
     "name": "stdout",
     "output_type": "stream",
     "text": [
      "88031\n"
     ]
    },
    {
     "name": "stdout",
     "output_type": "stream",
     "text": [
      "88352\n"
     ]
    },
    {
     "name": "stdout",
     "output_type": "stream",
     "text": [
      "88436\n"
     ]
    },
    {
     "name": "stdout",
     "output_type": "stream",
     "text": [
      "88446\n"
     ]
    },
    {
     "name": "stdout",
     "output_type": "stream",
     "text": [
      "88590\n"
     ]
    },
    {
     "name": "stdout",
     "output_type": "stream",
     "text": [
      "88661\n"
     ]
    },
    {
     "name": "stdout",
     "output_type": "stream",
     "text": [
      "88668\n"
     ]
    },
    {
     "name": "stdout",
     "output_type": "stream",
     "text": [
      "88837\n"
     ]
    },
    {
     "name": "stdout",
     "output_type": "stream",
     "text": [
      "88845\n"
     ]
    },
    {
     "name": "stdout",
     "output_type": "stream",
     "text": [
      "88853\n"
     ]
    },
    {
     "name": "stdout",
     "output_type": "stream",
     "text": [
      "88873\n"
     ]
    },
    {
     "name": "stdout",
     "output_type": "stream",
     "text": [
      "89002\n"
     ]
    },
    {
     "name": "stdout",
     "output_type": "stream",
     "text": [
      "89003\n"
     ]
    },
    {
     "name": "stdout",
     "output_type": "stream",
     "text": [
      "89004\n"
     ]
    },
    {
     "name": "stdout",
     "output_type": "stream",
     "text": [
      "89006\n"
     ]
    },
    {
     "name": "stdout",
     "output_type": "stream",
     "text": [
      "89014\n"
     ]
    },
    {
     "name": "stdout",
     "output_type": "stream",
     "text": [
      "89017\n"
     ]
    },
    {
     "name": "stdout",
     "output_type": "stream",
     "text": [
      "89070\n"
     ]
    },
    {
     "name": "stdout",
     "output_type": "stream",
     "text": [
      "89071\n"
     ]
    },
    {
     "name": "stdout",
     "output_type": "stream",
     "text": [
      "89179\n"
     ]
    },
    {
     "name": "stdout",
     "output_type": "stream",
     "text": [
      "89195\n"
     ]
    },
    {
     "name": "stdout",
     "output_type": "stream",
     "text": [
      "89216\n"
     ]
    },
    {
     "name": "stdout",
     "output_type": "stream",
     "text": [
      "89217\n"
     ]
    },
    {
     "name": "stdout",
     "output_type": "stream",
     "text": [
      "89258\n"
     ]
    },
    {
     "name": "stdout",
     "output_type": "stream",
     "text": [
      "89269\n"
     ]
    },
    {
     "name": "stdout",
     "output_type": "stream",
     "text": [
      "89393\n"
     ]
    },
    {
     "name": "stdout",
     "output_type": "stream",
     "text": [
      "89508\n"
     ]
    },
    {
     "name": "stdout",
     "output_type": "stream",
     "text": [
      "89509\n"
     ]
    },
    {
     "name": "stdout",
     "output_type": "stream",
     "text": [
      "89525\n"
     ]
    },
    {
     "name": "stdout",
     "output_type": "stream",
     "text": [
      "89533\n"
     ]
    },
    {
     "name": "stdout",
     "output_type": "stream",
     "text": [
      "89617\n"
     ]
    },
    {
     "name": "stdout",
     "output_type": "stream",
     "text": [
      "89626\n"
     ]
    },
    {
     "name": "stdout",
     "output_type": "stream",
     "text": [
      "89641\n"
     ]
    },
    {
     "name": "stdout",
     "output_type": "stream",
     "text": [
      "89866\n"
     ]
    },
    {
     "name": "stdout",
     "output_type": "stream",
     "text": [
      "90038\n"
     ]
    },
    {
     "name": "stdout",
     "output_type": "stream",
     "text": [
      "90071\n"
     ]
    },
    {
     "name": "stdout",
     "output_type": "stream",
     "text": [
      "90199\n"
     ]
    },
    {
     "name": "stdout",
     "output_type": "stream",
     "text": [
      "90215\n"
     ]
    },
    {
     "name": "stdout",
     "output_type": "stream",
     "text": [
      "90305\n"
     ]
    },
    {
     "name": "stdout",
     "output_type": "stream",
     "text": [
      "90319\n"
     ]
    },
    {
     "name": "stdout",
     "output_type": "stream",
     "text": [
      "90373\n"
     ]
    },
    {
     "name": "stdout",
     "output_type": "stream",
     "text": [
      "90386\n"
     ]
    },
    {
     "name": "stdout",
     "output_type": "stream",
     "text": [
      "90441\n"
     ]
    },
    {
     "name": "stdout",
     "output_type": "stream",
     "text": [
      "90442\n"
     ]
    },
    {
     "name": "stdout",
     "output_type": "stream",
     "text": [
      "90601\n"
     ]
    },
    {
     "name": "stdout",
     "output_type": "stream",
     "text": [
      "90805\n"
     ]
    },
    {
     "name": "stdout",
     "output_type": "stream",
     "text": [
      "90808\n"
     ]
    },
    {
     "name": "stdout",
     "output_type": "stream",
     "text": [
      "90829\n"
     ]
    },
    {
     "name": "stdout",
     "output_type": "stream",
     "text": [
      "90880\n"
     ]
    },
    {
     "name": "stdout",
     "output_type": "stream",
     "text": [
      "90979\n"
     ]
    },
    {
     "name": "stdout",
     "output_type": "stream",
     "text": [
      "90993\n"
     ]
    },
    {
     "name": "stdout",
     "output_type": "stream",
     "text": [
      "91063\n"
     ]
    },
    {
     "name": "stdout",
     "output_type": "stream",
     "text": [
      "91068\n"
     ]
    },
    {
     "name": "stdout",
     "output_type": "stream",
     "text": [
      "91103\n"
     ]
    },
    {
     "name": "stdout",
     "output_type": "stream",
     "text": [
      "91152\n"
     ]
    },
    {
     "name": "stdout",
     "output_type": "stream",
     "text": [
      "91233\n"
     ]
    },
    {
     "name": "stdout",
     "output_type": "stream",
     "text": [
      "91392\n"
     ]
    },
    {
     "name": "stdout",
     "output_type": "stream",
     "text": [
      "91416\n"
     ]
    },
    {
     "name": "stdout",
     "output_type": "stream",
     "text": [
      "91461\n"
     ]
    },
    {
     "name": "stdout",
     "output_type": "stream",
     "text": [
      "91556\n"
     ]
    },
    {
     "name": "stdout",
     "output_type": "stream",
     "text": [
      "91611\n"
     ]
    },
    {
     "name": "stdout",
     "output_type": "stream",
     "text": [
      "91650\n"
     ]
    },
    {
     "name": "stdout",
     "output_type": "stream",
     "text": [
      "91926\n"
     ]
    },
    {
     "name": "stdout",
     "output_type": "stream",
     "text": [
      "92121\n"
     ]
    },
    {
     "name": "stdout",
     "output_type": "stream",
     "text": [
      "92157\n"
     ]
    },
    {
     "name": "stdout",
     "output_type": "stream",
     "text": [
      "92239\n"
     ]
    },
    {
     "name": "stdout",
     "output_type": "stream",
     "text": [
      "92293\n"
     ]
    },
    {
     "name": "stdout",
     "output_type": "stream",
     "text": [
      "92322\n"
     ]
    },
    {
     "name": "stdout",
     "output_type": "stream",
     "text": [
      "92602\n"
     ]
    },
    {
     "name": "stdout",
     "output_type": "stream",
     "text": [
      "92611\n"
     ]
    },
    {
     "name": "stdout",
     "output_type": "stream",
     "text": [
      "92614\n"
     ]
    },
    {
     "name": "stdout",
     "output_type": "stream",
     "text": [
      "92618\n"
     ]
    },
    {
     "name": "stdout",
     "output_type": "stream",
     "text": [
      "92655\n"
     ]
    },
    {
     "name": "stdout",
     "output_type": "stream",
     "text": [
      "92709\n"
     ]
    },
    {
     "name": "stdout",
     "output_type": "stream",
     "text": [
      "92778\n"
     ]
    },
    {
     "name": "stdout",
     "output_type": "stream",
     "text": [
      "92890\n"
     ]
    },
    {
     "name": "stdout",
     "output_type": "stream",
     "text": [
      "93002\n"
     ]
    },
    {
     "name": "stdout",
     "output_type": "stream",
     "text": [
      "93089\n"
     ]
    },
    {
     "name": "stdout",
     "output_type": "stream",
     "text": [
      "93096\n"
     ]
    }
   ],
   "source": [
    "CPR_data = raw_data[['date', 'CFACPR', 'PERMNO']]\n",
    "CPR_data = CPR_data.fillna(0).drop_duplicates()\n",
    "df = CPR_data.loc[lambda CPR_data: CPR_data.PERMNO == nodenames[0], :].copy()\n",
    "df['Date'] = pd.to_datetime(df['date'])\n",
    "df = df.drop('date', axis=1)\n",
    "temp = pd.concat([df.set_index(keys='Date', drop=True)['CFACPR']], axis=1)\n",
    "temp.columns = [nodenames[0]]\n",
    "temp = temp.groupby(temp.index).agg({nodenames[0]:sum})\n",
    "for stock in nodenames[1:]:\n",
    "    df = CPR_data.loc[lambda CPR_data: CPR_data.PERMNO == stock, :].copy()\n",
    "    df['Date'] = pd.to_datetime(df['date'])\n",
    "    df = df.drop('date', axis=1)\n",
    "    print stock\n",
    "    t = pd.concat([df.set_index(keys='Date', drop=True)['CFACPR']], axis=1)\n",
    "    t.columns = [stock]\n",
    "    t = t.groupby(t.index).agg({stock:sum})\n",
    "    temp = pd.concat([temp, t], axis=1)\n",
    "temp = temp.sort_index()"
   ]
  },
  {
   "cell_type": "code",
   "execution_count": 9,
   "metadata": {},
   "outputs": [],
   "source": [
    "stocklist = pd.read_csv(\"data/WRDS/SP500_price_1985.csv\", nrows=5).columns"
   ]
  },
  {
   "cell_type": "code",
   "execution_count": 13,
   "metadata": {},
   "outputs": [],
   "source": [
    "stocklist = map(int, stocklist)"
   ]
  },
  {
   "cell_type": "code",
   "execution_count": 12,
   "metadata": {},
   "outputs": [
    {
     "data": {
      "text/plain": [
       "Int64Index([10104, 10107, 10138, 10145, 10299, 10516, 10696, 10909, 11308,\n            11404,\n            ...\n            92611, 92614, 92618, 92655, 92709, 92778, 92890, 93002, 93089,\n            93096],\n           dtype='int64', length=504)"
      ]
     },
     "execution_count": 12,
     "metadata": {},
     "output_type": "execute_result"
    }
   ],
   "source": [
    "temp.columns"
   ]
  },
  {
   "cell_type": "code",
   "execution_count": 14,
   "metadata": {},
   "outputs": [],
   "source": [
    "usabledata = temp.loc[:,stocklist]"
   ]
  },
  {
   "cell_type": "code",
   "execution_count": 16,
   "metadata": {},
   "outputs": [],
   "source": [
    "usabledata.to_csv(\"data/WRDS/SP500_cpr_1985.csv\")"
   ]
  },
  {
   "cell_type": "code",
   "execution_count": 51,
   "metadata": {
    "collapsed": true
   },
   "outputs": [
    {
     "data": {
      "text/plain": [
       "ORCL    -0.006203\nMSFT    -0.012083\nTROW    -0.003707\nORCL    -0.006203\nMSFT    -0.012083\nTROW    -0.003707\nName: 2016-12-30 00:00:00, dtype: object"
      ]
     },
     "execution_count": 51,
     "metadata": {},
     "output_type": "execute_result"
    }
   ],
   "source": [
    "temp.iloc[-1].dropna()"
   ]
  },
  {
   "cell_type": "code",
   "execution_count": 43,
   "metadata": {},
   "outputs": [],
   "source": [
    "import csv\n",
    "\n",
    "cusip = []\n",
    "with open('SP500_constituents.txt', 'r') as f:\n",
    "    next(f)  # skip headings\n",
    "    reader = csv.reader(f, delimiter='\\t')\n",
    "    with open('SP500_ticker.txt', 'w') as f2:\n",
    "        for i in reader:\n",
    "            if int(i[2]) < 20161231 and (i[3] == '' or int(i[3]) > 20161231):\n",
    "                cusip.append(i[-2])\n",
    "                f2.write('%s,' % i[-2])"
   ]
  },
  {
   "cell_type": "code",
   "execution_count": 37,
   "metadata": {},
   "outputs": [
    {
     "data": {
      "text/plain": [
       "505"
      ]
     },
     "execution_count": 37,
     "metadata": {},
     "output_type": "execute_result"
    }
   ],
   "source": [
    "with open('SP500_permno.txt', 'w') as f:\n",
    "    for i in permno:\n",
    "        f.write('%s\\n' % i)"
   ]
  },
  {
   "cell_type": "code",
   "execution_count": 49,
   "metadata": {},
   "outputs": [
    {
     "data": {
      "text/html": [
       "<div>\n",
       "<table border=\"1\" class=\"dataframe\">\n",
       "  <thead>\n",
       "    <tr style=\"text-align: right;\">\n",
       "      <th></th>\n",
       "      <th>TAP</th>\n",
       "    </tr>\n",
       "    <tr>\n",
       "      <th>Date</th>\n",
       "      <th></th>\n",
       "    </tr>\n",
       "  </thead>\n",
       "  <tbody>\n",
       "    <tr>\n",
       "      <th>2005-02-09</th>\n",
       "      <td>-0.030087</td>\n",
       "    </tr>\n",
       "    <tr>\n",
       "      <th>2005-02-10</th>\n",
       "      <td>-0.025170</td>\n",
       "    </tr>\n",
       "    <tr>\n",
       "      <th>2005-02-11</th>\n",
       "      <td>0.020237</td>\n",
       "    </tr>\n",
       "    <tr>\n",
       "      <th>2005-02-10</th>\n",
       "      <td>-0.021666</td>\n",
       "    </tr>\n",
       "    <tr>\n",
       "      <th>2005-02-11</th>\n",
       "      <td>0.010381</td>\n",
       "    </tr>\n",
       "  </tbody>\n",
       "</table>\n",
       "</div>"
      ],
      "text/plain": [
       "<div>\n",
       "<table border=\"1\" class=\"dataframe\">\n",
       "  <thead>\n",
       "    <tr style=\"text-align: right;\">\n",
       "      <th></th>\n",
       "      <th>TAP</th>\n",
       "    </tr>\n",
       "    <tr>\n",
       "      <th>Date</th>\n",
       "      <th></th>\n",
       "    </tr>\n",
       "  </thead>\n",
       "  <tbody>\n",
       "    <tr>\n",
       "      <th>2005-02-09</th>\n",
       "      <td>-0.030087</td>\n",
       "    </tr>\n",
       "    <tr>\n",
       "      <th>2005-02-10</th>\n",
       "      <td>-0.025170</td>\n",
       "    </tr>\n",
       "    <tr>\n",
       "      <th>2005-02-11</th>\n",
       "      <td>0.020237</td>\n",
       "    </tr>\n",
       "    <tr>\n",
       "      <th>2005-02-10</th>\n",
       "      <td>-0.021666</td>\n",
       "    </tr>\n",
       "    <tr>\n",
       "      <th>2005-02-11</th>\n",
       "      <td>0.010381</td>\n",
       "    </tr>\n",
       "  </tbody>\n",
       "</table>\n",
       "</div>"
      ]
     },
     "execution_count": 49,
     "metadata": {},
     "output_type": "execute_result"
    }
   ],
   "source": [
    "t['2005-02-09':'2005-02-11']"
   ]
  }
 ],
 "metadata": {
  "kernelspec": {
   "display_name": "Python 2",
   "language": "python",
   "name": "python2"
  },
  "language_info": {
   "codemirror_mode": {
    "name": "ipython",
    "version": 2.0
   },
   "file_extension": ".py",
   "mimetype": "text/x-python",
   "name": "python",
   "nbconvert_exporter": "python",
   "pygments_lexer": "ipython2",
   "version": "2.7.6"
  }
 },
 "nbformat": 4,
 "nbformat_minor": 0
}