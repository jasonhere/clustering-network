{
 "cells": [
  {
   "cell_type": "code",
   "execution_count": 1,
   "metadata": {
    "collapsed": true
   },
   "outputs": [],
   "source": [
    "import pandas as pd\n",
    "from trees import *\n"
   ]
  },
  {
   "cell_type": "code",
   "execution_count": null,
   "metadata": {},
   "outputs": [],
   "source": [
    "raw_data = pd.read_csv('SP5001984.csv')"
   ]
  },
  {
   "cell_type": "code",
   "execution_count": 3,
   "metadata": {},
   "outputs": [
    {
     "name": "stderr",
     "output_type": "stream",
     "text": [
      "/Users/JenniferZong/anaconda/envs/Py27/lib/python2.7/site-packages/IPython/core/interactiveshell.py:2717: DtypeWarning: Columns (7) have mixed types. Specify dtype option on import or set low_memory=False.\n  interactivity=interactivity, compiler=compiler, result=result)\n"
     ]
    }
   ],
   "source": [
    "ret_data = raw_data[['date', 'RET', 'PERMNO']]\n",
    "ret_data = ret_data.dropna(axis=0, how='any').drop_duplicates()\n",
    "ret_data = ret_data[ret_data.RET != 'C']"
   ]
  },
  {
   "cell_type": "code",
   "execution_count": null,
   "metadata": {
    "collapsed": true
   },
   "outputs": [],
   "source": [
    "nodenames = ret_data.PERMNO.unique()\n",
    "df = ret_data.loc[lambda ret_data: ret_data.PERMNO == nodenames[0], :].copy()\n",
    "df['Date'] = pd.to_datetime(df['date'])\n",
    "df = df.drop('date', axis=1)\n",
    "temp = pd.concat([df.set_index(keys='Date', drop=True)['RET']], axis=1)\n",
    "temp.columns = [nodenames[0]]\n",
    "for stock in nodenames[1:]:\n",
    "    df = ret_data.loc[lambda ret_data: ret_data.PERMNO == stock, :].copy()\n",
    "    df['Date'] = pd.to_datetime(df['date'])\n",
    "    df = df.drop('date', axis=1)\n",
    "    t = pd.concat([df.set_index(keys='Date', drop=True)['RET']], axis=1)\n",
    "    t.columns = [stock]\n",
    "    temp = pd.concat([temp, t], axis=1)\n",
    "temp = temp.sort_index()"
   ]
  },
  {
   "cell_type": "code",
   "execution_count": null,
   "metadata": {},
   "outputs": [],
   "source": [
    "df = price_data.loc[lambda price_data: price_data.PERMNO == nodenames[0], :].copy()\n",
    "df['Date'] = pd.to_datetime(df['date'])\n",
    "df = df.drop('date', axis=1)\n",
    "temp = pd.concat([df.set_index(keys='Date', drop=True)['PRC']], axis=1)\n",
    "temp.columns = [nodenames[0]]\n",
    "for stock in nodenames[1:]:\n",
    "    df = price_data.loc[lambda price_data: price_data.PERMNO == stock, :].copy()\n",
    "    df['Date'] = pd.to_datetime(df['date'])\n",
    "    df = df.drop('date', axis=1)\n",
    "    t = pd.concat([df.set_index(keys='Date', drop=True)['PRC']], axis=1)\n",
    "    t.columns = [stock]\n",
    "    temp = pd.concat([temp, t], axis=1)\n",
    "temp = temp.sort_index()"
   ]
  },
  {
   "cell_type": "code",
   "execution_count": null,
   "metadata": {},
   "outputs": [],
   "source": [
    "div_data = raw_data[['date', 'DIVAMT', 'PERMNO']]\n",
    "div_data = div_data.fillna(0).drop_duplicates()\n",
    "df = div_data.loc[lambda div_data: div_data.PERMNO == nodenames[0], :].copy()\n",
    "df['Date'] = pd.to_datetime(df['date'])\n",
    "df = df.drop('date', axis=1)\n",
    "temp = pd.concat([df.set_index(keys='Date', drop=True)['DIVAMT']], axis=1)\n",
    "temp.columns = [nodenames[0]]\n",
    "temp = temp.groupby(temp.index).agg({nodenames[0]:sum})\n",
    "for stock in nodenames[1:]:\n",
    "    df = div_data.loc[lambda div_data: div_data.PERMNO == stock, :].copy()\n",
    "    df['Date'] = pd.to_datetime(df['date'])\n",
    "    df = df.drop('date', axis=1)\n",
    "    print stock\n",
    "    t = pd.concat([df.set_index(keys='Date', drop=True)['DIVAMT']], axis=1)\n",
    "    t.columns = [stock]\n",
    "    t = t.groupby(t.index).agg({stock:sum})\n",
    "    temp = pd.concat([temp, t], axis=1)\n",
    "temp = temp.sort_index()"
   ]
  },
  {
   "cell_type": "code",
   "execution_count": 51,
   "metadata": {
    "collapsed": true
   },
   "outputs": [
    {
     "data": {
      "text/plain": [
       "ORCL    -0.006203\nMSFT    -0.012083\nTROW    -0.003707\nORCL    -0.006203\nMSFT    -0.012083\nTROW    -0.003707\nName: 2016-12-30 00:00:00, dtype: object"
      ]
     },
     "execution_count": 51,
     "metadata": {},
     "output_type": "execute_result"
    }
   ],
   "source": [
    "temp.iloc[-1].dropna()"
   ]
  },
  {
   "cell_type": "code",
   "execution_count": 43,
   "metadata": {},
   "outputs": [],
   "source": [
    "import csv\n",
    "\n",
    "cusip = []\n",
    "with open('SP500_constituents.txt', 'r') as f:\n",
    "    next(f)  # skip headings\n",
    "    reader = csv.reader(f, delimiter='\\t')\n",
    "    with open('SP500_ticker.txt', 'w') as f2:\n",
    "        for i in reader:\n",
    "            if int(i[2]) < 20161231 and (i[3] == '' or int(i[3]) > 20161231):\n",
    "                cusip.append(i[-2])\n",
    "                f2.write('%s,' % i[-2])"
   ]
  },
  {
   "cell_type": "code",
   "execution_count": 37,
   "metadata": {},
   "outputs": [
    {
     "data": {
      "text/plain": [
       "505"
      ]
     },
     "execution_count": 37,
     "metadata": {},
     "output_type": "execute_result"
    }
   ],
   "source": [
    "with open('SP500_permno.txt', 'w') as f:\n",
    "    for i in permno:\n",
    "        f.write('%s\\n' % i)"
   ]
  },
  {
   "cell_type": "code",
   "execution_count": 49,
   "metadata": {},
   "outputs": [
    {
     "data": {
      "text/html": [
       "<div>\n",
       "<table border=\"1\" class=\"dataframe\">\n",
       "  <thead>\n",
       "    <tr style=\"text-align: right;\">\n",
       "      <th></th>\n",
       "      <th>TAP</th>\n",
       "    </tr>\n",
       "    <tr>\n",
       "      <th>Date</th>\n",
       "      <th></th>\n",
       "    </tr>\n",
       "  </thead>\n",
       "  <tbody>\n",
       "    <tr>\n",
       "      <th>2005-02-09</th>\n",
       "      <td>-0.030087</td>\n",
       "    </tr>\n",
       "    <tr>\n",
       "      <th>2005-02-10</th>\n",
       "      <td>-0.025170</td>\n",
       "    </tr>\n",
       "    <tr>\n",
       "      <th>2005-02-11</th>\n",
       "      <td>0.020237</td>\n",
       "    </tr>\n",
       "    <tr>\n",
       "      <th>2005-02-10</th>\n",
       "      <td>-0.021666</td>\n",
       "    </tr>\n",
       "    <tr>\n",
       "      <th>2005-02-11</th>\n",
       "      <td>0.010381</td>\n",
       "    </tr>\n",
       "  </tbody>\n",
       "</table>\n",
       "</div>"
      ],
      "text/plain": [
       "<div>\n",
       "<table border=\"1\" class=\"dataframe\">\n",
       "  <thead>\n",
       "    <tr style=\"text-align: right;\">\n",
       "      <th></th>\n",
       "      <th>TAP</th>\n",
       "    </tr>\n",
       "    <tr>\n",
       "      <th>Date</th>\n",
       "      <th></th>\n",
       "    </tr>\n",
       "  </thead>\n",
       "  <tbody>\n",
       "    <tr>\n",
       "      <th>2005-02-09</th>\n",
       "      <td>-0.030087</td>\n",
       "    </tr>\n",
       "    <tr>\n",
       "      <th>2005-02-10</th>\n",
       "      <td>-0.025170</td>\n",
       "    </tr>\n",
       "    <tr>\n",
       "      <th>2005-02-11</th>\n",
       "      <td>0.020237</td>\n",
       "    </tr>\n",
       "    <tr>\n",
       "      <th>2005-02-10</th>\n",
       "      <td>-0.021666</td>\n",
       "    </tr>\n",
       "    <tr>\n",
       "      <th>2005-02-11</th>\n",
       "      <td>0.010381</td>\n",
       "    </tr>\n",
       "  </tbody>\n",
       "</table>\n",
       "</div>"
      ]
     },
     "execution_count": 49,
     "metadata": {},
     "output_type": "execute_result"
    }
   ],
   "source": [
    "t['2005-02-09':'2005-02-11']"
   ]
  }
 ],
 "metadata": {
  "kernelspec": {
   "display_name": "Python 2",
   "language": "python",
   "name": "python2"
  },
  "language_info": {
   "codemirror_mode": {
    "name": "ipython",
    "version": 2.0
   },
   "file_extension": ".py",
   "mimetype": "text/x-python",
   "name": "python",
   "nbconvert_exporter": "python",
   "pygments_lexer": "ipython2",
   "version": "2.7.6"
  }
 },
 "nbformat": 4,
 "nbformat_minor": 0
}