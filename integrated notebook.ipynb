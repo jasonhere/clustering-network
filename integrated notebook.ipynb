{
 "cells": [
  {
   "cell_type": "code",
   "execution_count": null,
   "metadata": {
    "collapsed": true
   },
   "outputs": [],
   "source": [
    "from functions import *\n",
    "import pandas as pd\n",
    "import numpy as np\n",
    "import datetime as dt\n",
    "import math\n",
    "import networkx as nx\n",
    "#networkx 2.0\n",
    "from networkx.drawing.nx_agraph import graphviz_layout\n",
    "import pygraphviz\n",
    "import matplotlib.pyplot as plt\n",
    "from scipy.stats import hypergeom\n",
    "from MST import importdata, MST, draw_network\n",
    "from sklearn.metrics import adjusted_rand_score\n",
    "import igraph as ig"
   ]
  },
  {
   "cell_type": "code",
   "execution_count": null,
   "metadata": {
    "collapsed": true
   },
   "outputs": [],
   "source": [
    "price, log_ret = importdata(\"sp96price.csv\")\n",
    "dic = rolling_corr(log_ret, 250, \"2017-01-31\", \"2015-12-30\", 10)\n",
    "ret = price/price.shift(1)\n",
    "ret = ret.iloc[1:]"
   ]
  },
  {
   "cell_type": "code",
   "execution_count": null,
   "metadata": {
    "collapsed": true
   },
   "outputs": [],
   "source": [
    "#test for the hypergeometric test\n",
    "nodenames = np.array(importdata(\"SP100_prices.csv\")[0].columns)\n",
    "clusters = clustersGirvanNewman2\n",
    "df = importdata(\"SP100_prices.csv\")[1]\n",
    "sorteddates = sorted(clusters.keys(), key=lambda d: map(int, d.split('-')))\n",
    "HGT = np.empty(len(sorteddates)-1)\n",
    "enddate = \"2017-01-24\"\n",
    "startdate = '2015-12-30'   \n",
    "end = int(np.where(df.index==enddate)[0])\n",
    "start = int(np.where(df.index==startdate)[0])\n",
    "total_trees = MST(filename=\"SP100_prices.csv\", window=end-start+1, enddate=\"2017-01-24\", startdate='2015-12-30',space=1)\n",
    "total_clusters = tuple(nx.girvan_newman(total_trees[sorteddates[0]]))[0]\n",
    "# The total number of elements within all the clusters is N for the whole time frame\n",
    "N = 0\n",
    "for cluster in total_clusters:\n",
    "    N = N + len(cluster)\n",
    "    \n",
    "new_current_date_clusters = {}\n",
    "for i in range(0,len(sorteddates)):\n",
    "    current_date_clusters = clusters[sorteddates[i]]\n",
    "    current_cluster_list = {}\n",
    "    for j in range(0, len(total_clusters)):\n",
    "        current_cluster = tuple()\n",
    "        for k in range(0, len(current_date_clusters)):\n",
    "            overlap = len((current_date_clusters[k]).intersection(total_clusters[j]))\n",
    "            p = hypergeom.pmf(overlap, N, len(current_date_clusters[k]), len(total_clusters[j])) \n",
    "            if((p < 0.01) & (len(current_cluster) < len(current_date_clusters[k]))):\n",
    "                current_cluster = current_date_clusters[k]\n",
    "        current_cluster_list[j] = current_cluster\n",
    "    new_current_date_clusters[sorteddates[i]] = current_cluster_list\n",
    "\n",
    "print new_current_date_clusters"
   ]
  },
  {
   "cell_type": "code",
   "execution_count": null,
   "metadata": {
    "collapsed": true
   },
   "outputs": [],
   "source": [
    "nodenames = np.array(importdata(\"SP100_prices.csv\")[0].columns)\n",
    "trees = MST()\n",
    "sorteddates = sorted(trees.keys(), key=lambda d: map(int, d.split('-')))"
   ]
  },
  {
   "cell_type": "code",
   "execution_count": null,
   "metadata": {
    "collapsed": true
   },
   "outputs": [],
   "source": [
    "IGtrees = {}\n",
    "for key in sorteddates:\n",
    "    IGtrees[key] = NXtoIG(trees[key])"
   ]
  },
  {
   "cell_type": "markdown",
   "metadata": {},
   "source": [
    "Newman - community_leading_eigenvector()  \n",
    "Newman Girvan - nx.girvan_newman()  \n",
    "Newman Clauset - community_fastgreedy()"
   ]
  },
  {
   "cell_type": "code",
   "execution_count": 1,
   "metadata": {
    "collapsed": true
   },
   "outputs": [
    {
     "ename": "NameError",
     "evalue": "name 'sorteddates' is not defined",
     "output_type": "error",
     "traceback": [
      "\u001b[0;31m---------------------------------------------------------------------------\u001b[0m",
      "\u001b[0;31mNameError\u001b[0m                                 Traceback (most recent call last)",
      "\u001b[0;32m<ipython-input-1-826e76d26a68>\u001b[0m in \u001b[0;36m<module>\u001b[0;34m()\u001b[0m\n\u001b[1;32m      3\u001b[0m \u001b[0mclustersGirvanNewman8\u001b[0m \u001b[0;34m=\u001b[0m \u001b[0;34m{\u001b[0m\u001b[0;34m}\u001b[0m\u001b[0;34m\u001b[0m\u001b[0m\n\u001b[1;32m      4\u001b[0m \u001b[0mclustersGirvanNewman16\u001b[0m \u001b[0;34m=\u001b[0m \u001b[0;34m{\u001b[0m\u001b[0;34m}\u001b[0m\u001b[0;34m\u001b[0m\u001b[0m\n\u001b[0;32m----> 5\u001b[0;31m \u001b[0;32mfor\u001b[0m \u001b[0mkey\u001b[0m \u001b[0;32min\u001b[0m \u001b[0msorteddates\u001b[0m\u001b[0;34m:\u001b[0m\u001b[0;34m\u001b[0m\u001b[0m\n\u001b[0m\u001b[1;32m      6\u001b[0m     \u001b[0mC\u001b[0m \u001b[0;34m=\u001b[0m \u001b[0mtuple\u001b[0m\u001b[0;34m(\u001b[0m\u001b[0mnx\u001b[0m\u001b[0;34m.\u001b[0m\u001b[0mgirvan_newman\u001b[0m\u001b[0;34m(\u001b[0m\u001b[0mtrees\u001b[0m\u001b[0;34m[\u001b[0m\u001b[0mkey\u001b[0m\u001b[0;34m]\u001b[0m\u001b[0;34m)\u001b[0m\u001b[0;34m)\u001b[0m\u001b[0;34m\u001b[0m\u001b[0m\n\u001b[1;32m      7\u001b[0m     \u001b[0mclustersGirvanNewman2\u001b[0m\u001b[0;34m[\u001b[0m\u001b[0mkey\u001b[0m\u001b[0;34m]\u001b[0m \u001b[0;34m=\u001b[0m \u001b[0mC\u001b[0m\u001b[0;34m[\u001b[0m\u001b[0;36m0\u001b[0m\u001b[0;34m]\u001b[0m\u001b[0;34m\u001b[0m\u001b[0m\n",
      "\u001b[0;31mNameError\u001b[0m: name 'sorteddates' is not defined"
     ]
    }
   ],
   "source": [
    "clustersGirvanNewman2 = {}\n",
    "clustersGirvanNewman4 = {}\n",
    "clustersGirvanNewman8 = {}\n",
    "clustersGirvanNewman16 = {}\n",
    "for key in sorteddates:\n",
    "    C = tuple(nx.girvan_newman(trees[key]))\n",
    "    clustersGirvanNewman2[key] = C[0]\n",
    "    clustersGirvanNewman4[key] = C[2]\n",
    "    clustersGirvanNewman8[key] = C[6]\n",
    "    clustersGirvanNewman16[key] = C[14]"
   ]
  },
  {
   "cell_type": "code",
   "execution_count": null,
   "metadata": {
    "collapsed": true
   },
   "outputs": [],
   "source": [
    "ig.arpack_options.maxiter=500000\n",
    "clustersNewman = {}\n",
    "clustersClausetNewman = {}\n",
    "for key in sorteddates:\n",
    "    C = IGtrees[key].community_leading_eigenvector(weights=\"weight\")\n",
    "    clustersNewman[key] = list(C)\n",
    "    for i in range(0,len(C)):\n",
    "        clustersNewman[key][i] = [IGtrees[key].vs[\"name\"][j] for j in C[i]]\n",
    "    C = IGtrees[key].community_fastgreedy(weights=\"weight\").as_clustering()\n",
    "    clustersClausetNewman[key] = list(C)\n",
    "    for i in range(0,len(C)):\n",
    "        clustersClausetNewman[key][i] = [IGtrees[key].vs[\"name\"][j] for j in C[i]]"
   ]
  },
  {
   "cell_type": "code",
   "execution_count": null,
   "metadata": {
    "collapsed": true
   },
   "outputs": [],
   "source": []
  }
 ],
 "metadata": {
  "kernelspec": {
   "display_name": "Python 2",
   "language": "python",
   "name": "python2"
  },
  "language_info": {
   "codemirror_mode": {
    "name": "ipython",
    "version": 2
   },
   "file_extension": ".py",
   "mimetype": "text/x-python",
   "name": "python",
   "nbconvert_exporter": "python",
   "pygments_lexer": "ipython2",
   "version": "2.7.11"
  }
 },
 "nbformat": 4,
 "nbformat_minor": 0
}
