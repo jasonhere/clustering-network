{
 "cells": [
  {
   "cell_type": "code",
   "execution_count": 1,
   "metadata": {
    "collapsed": true
   },
   "outputs": [],
   "source": [
    "from clustering import *\n",
    "from downloaddata import *\n",
    "from portfolio_and_performance import *\n",
    "from trees import *\n",
    "import cPickle as pickle"
   ]
  },
  {
   "cell_type": "code",
   "execution_count": 2,
   "metadata": {},
   "outputs": [],
   "source": [
    "import gc\n",
    "picklename = open('pickle/MST_WRDS_LedoitWolf_spaced_1985.p', 'rb')\n",
    "gc.disable()\n",
    "trees = pickle.load(picklename)\n",
    "gc.enable()\n",
    "picklename.close()"
   ]
  },
  {
   "cell_type": "code",
   "execution_count": 3,
   "metadata": {},
   "outputs": [],
   "source": [
    "sorteddates = sorted(trees.keys(), key=lambda d: map(int, d.split('-')))\n",
    "IGtrees = {}\n",
    "for key in sorteddates:\n",
    "    IGtrees[key] = NXtoIG(trees[key])"
   ]
  },
  {
   "cell_type": "code",
   "execution_count": 5,
   "metadata": {},
   "outputs": [],
   "source": [
    "gc.disable()\n",
    "picklename = open('pickle/LedoitWolf_clustersNewman.p', 'rb')\n",
    "clustersNewman = pickle.load(picklename) \n",
    "picklename.close()\n",
    "picklename = open('pickle/LedoitWolf_clustersClausetNewman.p', 'rb')\n",
    "clustersClausetNewman = pickle.load(picklename) \n",
    "picklename.close()\n",
    "picklename = open('pickle/LedoitWolf_IGclustersNewman.p', 'rb')\n",
    "IGclustersNewman = pickle.load(picklename) \n",
    "picklename.close()\n",
    "picklename = open('pickle/LedoitWolf_IGclustersClausetNewman.p', 'rb')\n",
    "IGclustersClausetNewman = pickle.load(picklename) \n",
    "picklename.close()\n",
    "gc.enable()"
   ]
  },
  {
   "cell_type": "code",
   "execution_count": 6,
   "metadata": {},
   "outputs": [],
   "source": [
    "clustersNewman, IGclustersNewman = construct_clusters(IGtrees, method='Newman')\n",
    "clustersClausetNewman, IGclustersClausetNewman = construct_clusters(IGtrees, method=\"ClausetNewman\")"
   ]
  },
  {
   "cell_type": "code",
   "execution_count": 4,
   "metadata": {},
   "outputs": [],
   "source": [
    "window = 100\n",
    "space = 10\n",
    "thresh = 95\n",
    "filename = \"SP500_from_1985.csv\"\n",
    "enddate='2017-06-28'\n",
    "startdate='1985-01-02'"
   ]
  },
  {
   "cell_type": "code",
   "execution_count": 8,
   "metadata": {},
   "outputs": [],
   "source": [
    "pickle.dump(clustersNewman,open(\"pickle/LedoitWolf_clustersNewman.p\",'wb'))\n",
    "pickle.dump(IGclustersNewman,open(\"pickle/LedoitWolf_IGclustersNewman.p\",'wb'))\n",
    "pickle.dump(clustersClausetNewman,open(\"pickle/LedoitWolf_clustersClausetNewman.p\",'wb'))\n",
    "pickle.dump(IGclustersClausetNewman,open(\"pickle/LedoitWolf_IGclustersClausetNewman.p\",'wb'))"
   ]
  },
  {
   "cell_type": "code",
   "execution_count": 9,
   "metadata": {},
   "outputs": [],
   "source": [
    "NewmanUniverse = {}\n",
    "ClausetNewmanUniverse = {}\n",
    "for measure in ['degree', 'closeness', 'betweenness']:\n",
    "    NewmanUniverse[measure] = clustering_universe(trees, clustersNewman, measure, quantile=0)\n",
    "    ClausetNewmanUniverse[measure] = clustering_universe(trees, clustersClausetNewman, \n",
    "                                                         measure, quantile=0)\n",
    "universes = {'Newman': NewmanUniverse, 'ClausetNewman': ClausetNewmanUniverse}"
   ]
  },
  {
   "cell_type": "code",
   "execution_count": 6,
   "metadata": {},
   "outputs": [],
   "source": [
    "universes = pickle.load(open(\"pickle/universes_unshrunk.p\", \"rb\"))"
   ]
  },
  {
   "cell_type": "code",
   "execution_count": 10,
   "metadata": {},
   "outputs": [],
   "source": [
    "pickle.dump(universes, open(\"pickle/universes_LedoitWolf.p\", \"wb\"))"
   ]
  },
  {
   "cell_type": "code",
   "execution_count": 7,
   "metadata": {},
   "outputs": [],
   "source": [
    "price = importdata(\"data/WRDS/SP500_price_1985.csv\").replace(0,np.nan).ffill()\n",
    "ret = importdata(\"data/WRDS/SP500_ret_1985.csv\").fillna(0)\n",
    "div = importdata(\"data/WRDS/SP500_div_1985.csv\").fillna(0)\n",
    "cpr = importdata(\"data/WRDS/SP500_cpr_1985.csv\").replace(0,np.nan).ffill()"
   ]
  },
  {
   "cell_type": "code",
   "execution_count": 8,
   "metadata": {},
   "outputs": [],
   "source": [
    "shrinkage = 'LedoitWolf'"
   ]
  },
  {
   "cell_type": "code",
   "execution_count": 13,
   "metadata": {},
   "outputs": [],
   "source": [
    "performance_weighted, performance_unweighted = \\\n",
    "    benchmark_performance(price, ret, div, cpr, thresh=thresh,\n",
    "                          universes=universes['Newman']['betweenness'],\n",
    "                          window=window, shrinkage=shrinkage)\n",
    "performance_comparison_weighted = {'benchmark': performance_weighted}\n",
    "performance_comparison_unweighted = {'benchmark': performance_unweighted}"
   ]
  },
  {
   "cell_type": "code",
   "execution_count": 14,
   "metadata": {},
   "outputs": [],
   "source": [
    "pickle.dump(performance_comparison_unweighted, open(\"pickle/performance_LedoitWolf_unweighted.p\", \"wb\"))\n",
    "pickle.dump(performance_comparison_weighted, open(\"pickle/performance_LedoitWolf_weighted.p\", \"wb\"))"
   ]
  },
  {
   "cell_type": "code",
   "execution_count": 16,
   "metadata": {
    "collapsed": true
   },
   "outputs": [
    {
     "name": "stdout",
     "output_type": "stream",
     "text": [
      "doing Newman degree: 22:19:50.405490\n"
     ]
    },
    {
     "name": "stdout",
     "output_type": "stream",
     "text": [
      "done: 22:21:31.079253\ndoing Newman closeness: 22:21:31.079425\n"
     ]
    },
    {
     "name": "stdout",
     "output_type": "stream",
     "text": [
      "done: 22:23:07.833255\ndoing Newman betweenness: 22:23:07.833428\n"
     ]
    },
    {
     "name": "stdout",
     "output_type": "stream",
     "text": [
      "done: 22:24:48.885623\ndoing ClausetNewman degree: 22:24:48.885805\n"
     ]
    },
    {
     "name": "stdout",
     "output_type": "stream",
     "text": [
      "done: 22:26:31.841682\ndoing ClausetNewman closeness: 22:26:31.841771\n"
     ]
    },
    {
     "name": "stdout",
     "output_type": "stream",
     "text": [
      "done: 22:28:07.808607\ndoing ClausetNewman betweenness: 22:28:07.808778\n"
     ]
    },
    {
     "name": "stdout",
     "output_type": "stream",
     "text": [
      "done: 22:29:42.225376\ndoing Newman degree: 22:29:42.225887\n"
     ]
    },
    {
     "name": "stdout",
     "output_type": "stream",
     "text": [
      "done: 22:31:14.240929\ndoing Newman closeness: 22:31:14.241016\n"
     ]
    },
    {
     "name": "stdout",
     "output_type": "stream",
     "text": [
      "done: 22:32:48.405656\ndoing Newman betweenness: 22:32:48.405778\n"
     ]
    },
    {
     "name": "stdout",
     "output_type": "stream",
     "text": [
      "done: 22:34:26.712006\ndoing ClausetNewman degree: 22:34:26.712240\n"
     ]
    },
    {
     "name": "stdout",
     "output_type": "stream",
     "text": [
      "done: 22:36:02.210496\ndoing ClausetNewman closeness: 22:36:02.210590\n"
     ]
    },
    {
     "name": "stdout",
     "output_type": "stream",
     "text": [
      "done: 22:37:35.975841\ndoing ClausetNewman betweenness: 22:37:35.975936\n"
     ]
    },
    {
     "name": "stdout",
     "output_type": "stream",
     "text": [
      "done: 22:39:13.903046\n"
     ]
    }
   ],
   "source": [
    "import datetime\n",
    "\n",
    "for method in ['Newman', 'ClausetNewman']:\n",
    "    performance_comparison_unweighted[method] = {}\n",
    "    for measure in ['degree', 'closeness', 'betweenness']:\n",
    "        print \"doing \" + method + \" \" + measure + \": \" + str(datetime.datetime.now().time())\n",
    "        temp = clustering_performance(price, ret, div, cpr, thresh=thresh, universes=universes[method][measure],\n",
    "                                      weighted='FALSE', window=window, shrinkage=shrinkage)\n",
    "        performance_comparison_unweighted[method][measure] = pd.DataFrame.from_dict(temp)\n",
    "        performance_comparison_unweighted[method][measure]['benchmark'] = \\\n",
    "        performance_comparison_unweighted['benchmark'][\n",
    "            'benchmark']\n",
    "        performance_comparison_unweighted[method][measure] = performance_comparison_unweighted[method][measure][[\n",
    "            'benchmark', 'central', 'peripheral']]\n",
    "        print \"done\" + \": \" + str(datetime.datetime.now().time())\n",
    "for method in ['Newman', 'ClausetNewman']:\n",
    "    performance_comparison_weighted[method] = {}\n",
    "    for measure in ['degree', 'closeness', 'betweenness']:\n",
    "        print \"doing \" + method + \" \" + measure + \": \" + str(datetime.datetime.now().time())\n",
    "        temp = clustering_performance(price, ret, div, cpr, thresh=thresh, universes=universes[method][measure],\n",
    "                                      weighted='TRUE', window=window, shrinkage=shrinkage)\n",
    "        performance_comparison_weighted[method][measure] = pd.DataFrame.from_dict(temp)\n",
    "        performance_comparison_weighted[method][measure]['benchmark'] = performance_comparison_weighted['benchmark'][\n",
    "            'benchmark']\n",
    "        performance_comparison_weighted[method][measure] = performance_comparison_weighted[method][measure][[\n",
    "            'benchmark', 'central', 'peripheral']]\n",
    "        print \"done\" + \": \" + str(datetime.datetime.now().time())"
   ]
  },
  {
   "cell_type": "code",
   "execution_count": 17,
   "metadata": {},
   "outputs": [],
   "source": [
    "pickle.dump(performance_comparison_unweighted, open(\"pickle/performance_LedoitWolf_unweighted.p\", \"wb\"))\n",
    "pickle.dump(performance_comparison_weighted, open(\"pickle/performance_LedoitWolf_weighted.p\", \"wb\"))"
   ]
  },
  {
   "cell_type": "code",
   "execution_count": 9,
   "metadata": {},
   "outputs": [],
   "source": [
    "performance_comparison_unweighted = pickle.load(open(\"pickle/performance_LedoitWolf_unweighted.p\", \"rb\"))\n",
    "performance_comparison_weighted = pickle.load(open(\"pickle/performance_LedoitWolf_weighted.p\", \"rb\"))"
   ]
  },
  {
   "cell_type": "code",
   "execution_count": 16,
   "metadata": {},
   "outputs": [
    {
     "name": "stdout",
     "output_type": "stream",
     "text": [
      "doing nocluster degree: 23:54:17.460329\n"
     ]
    },
    {
     "name": "stdout",
     "output_type": "stream",
     "text": [
      "done: 23:55:59.040036\ndoing nocluster closeness: 23:55:59.040276\n"
     ]
    },
    {
     "name": "stdout",
     "output_type": "stream",
     "text": [
      "done: 00:00:27.424770\ndoing nocluster betweenness: 00:00:27.424866\n"
     ]
    },
    {
     "name": "stdout",
     "output_type": "stream",
     "text": [
      "done: 00:06:24.512399\n"
     ]
    }
   ],
   "source": [
    "noclusteruniverse_0 = {}\n",
    "performance_comparison_unweighted['nocluster'] = {}\n",
    "for c_measure in ['degree', 'closeness', 'betweenness']:\n",
    "    print \"doing \" + \"nocluster\" + \" \" + c_measure+ \": \" + str(datetime.datetime.now().time())\n",
    "    noclusteruniverse_0[c_measure] = no_cluster_universe(trees=trees, c_measure=c_measure, quantile=0.25)\n",
    "    performance_comparison_unweighted['nocluster'][c_measure] = pd.DataFrame.from_dict(\n",
    "        clustering_performance(price, ret, div, cpr, thresh=thresh, universes=noclusteruniverse_0[c_measure],\n",
    "                               weighted='FALSE', window=window, shrinkage=shrinkage))\n",
    "    print \"done\"+ \": \" + str(datetime.datetime.now().time())"
   ]
  },
  {
   "cell_type": "code",
   "execution_count": null,
   "metadata": {},
   "outputs": [
    {
     "name": "stdout",
     "output_type": "stream",
     "text": [
      "doing nocluster degree: 23:54:17.460329\n"
     ]
    },
    {
     "name": "stdout",
     "output_type": "stream",
     "text": [
      "done: 23:55:59.040036\ndoing nocluster closeness: 23:55:59.040276\n"
     ]
    },
    {
     "name": "stdout",
     "output_type": "stream",
     "text": [
      "done: 00:00:27.424770\ndoing nocluster betweenness: 00:00:27.424866\n"
     ]
    },
    {
     "name": "stdout",
     "output_type": "stream",
     "text": [
      "done: 00:06:24.512399\n"
     ]
    }
   ],
   "source": [
    "#single nocluster universe, unweighted\n",
    "single_noclusteruniverse = {}\n",
    "performance_comparison_unweighted['single_nocluster'] = {}\n",
    "for c_measure in ['degree', 'closeness', 'betweenness']:\n",
    "    print \"doing \" + \"single_cluster\" + \" \" + c_measure+ \": \" + str(datetime.datetime.now().time())\n",
    "    single_noclusteruniverse[c_measure] = no_cluster_universe(trees=trees, c_measure=c_measure, quantile=0)\n",
    "    performance_comparison_unweighted['single_nocluster'][c_measure] = pd.DataFrame.from_dict(\n",
    "        clustering_performance(price, ret, div, cpr, thresh=thresh, universes=single_noclusteruniverse[c_measure],\n",
    "                               weighted='FALSE', window=window, shrinkage=shrinkage))\n",
    "    print \"done\"+ \": \" + str(datetime.datetime.now().time())"
   ]
  },
  {
   "cell_type": "code",
   "execution_count": 21,
   "metadata": {
    "collapsed": true
   },
   "outputs": [
    {
     "data": {
      "text/plain": [
       "{'betweenness':                central  peripheral\n 1985-01-03    1.000000    1.000000\n 1985-01-04    0.995082    0.995058\n 1985-01-07    0.998035    0.997704\n 1985-01-08    0.996313    0.998800\n 1985-01-09    1.003200    1.002832\n 1985-01-10    1.027403    1.013280\n 1985-01-11    1.029110    1.017498\n 1985-01-14    1.046369    1.029620\n 1985-01-15    1.051848    1.036875\n 1985-01-16    1.060597    1.044616\n 1985-01-17    1.058849    1.046682\n 1985-01-18    1.063521    1.050442\n 1985-01-21    1.085002    1.065406\n 1985-01-22    1.086880    1.066976\n 1985-01-23    1.096091    1.077863\n 1985-01-24    1.099517    1.077980\n 1985-01-25    1.108385    1.082635\n 1985-01-28    1.114873    1.086225\n 1985-01-29    1.123468    1.095195\n 1985-01-30    1.131333    1.100767\n 1985-01-31    1.127355    1.100607\n 1985-02-01    1.120269    1.097783\n 1985-02-04    1.134249    1.103879\n 1985-02-05    1.138206    1.107410\n 1985-02-06    1.143931    1.111024\n 1985-02-07    1.155940    1.118586\n 1985-02-08    1.161888    1.118681\n 1985-02-11    1.150764    1.113071\n 1985-02-12    1.147096    1.114880\n 1985-02-13    1.164842    1.127618\n ...                ...         ...\n 2016-11-17  106.064099   74.586767\n 2016-11-18  105.932929   74.384244\n 2016-11-21  106.912520   74.809709\n 2016-11-22  107.391771   75.133017\n 2016-11-23  107.785672   75.279131\n 2016-11-25  108.286110   75.687172\n 2016-11-28  107.402278   75.353495\n 2016-11-29  107.270628   75.382917\n 2016-11-30  108.109693   75.153377\n 2016-12-01  107.831707   75.103890\n 2016-12-02  108.237858   75.208096\n 2016-12-05  109.059291   75.517846\n 2016-12-06  109.504153   75.756366\n 2016-12-07  111.553716   76.851702\n 2016-12-08  112.050729   77.004023\n 2016-12-09  112.134477   77.386089\n 2016-12-12  111.966565   77.351969\n 2016-12-13  112.315714   77.760211\n 2016-12-14  110.961224   76.852721\n 2016-12-15  111.321562   77.139466\n 2016-12-16  110.785026   77.150717\n 2016-12-19  111.027024   77.313815\n 2016-12-20  111.598073   77.540556\n 2016-12-21  111.463375   77.364236\n 2016-12-22  111.428236   77.182605\n 2016-12-23  111.628955   77.226037\n 2016-12-27  111.964650   77.388211\n 2016-12-28  110.706113   76.637134\n 2016-12-29  110.659832   76.709188\n 2016-12-30  110.206484   76.431524\n \n [8067 rows x 2 columns], 'closeness':               central  peripheral\n 1985-01-03   1.000000    1.000000\n 1985-01-04   0.994013    0.997535\n 1985-01-07   0.999327    0.995948\n 1985-01-08   0.996433    0.999771\n 1985-01-09   1.005913    1.004851\n 1985-01-10   1.027447    1.017133\n 1985-01-11   1.032467    1.018716\n 1985-01-14   1.050698    1.024598\n 1985-01-15   1.056568    1.030540\n 1985-01-16   1.061967    1.040108\n 1985-01-17   1.056936    1.044583\n 1985-01-18   1.059083    1.047780\n 1985-01-21   1.082808    1.061771\n 1985-01-22   1.086923    1.063307\n 1985-01-23   1.097375    1.074918\n 1985-01-24   1.096851    1.079388\n 1985-01-25   1.101430    1.082792\n 1985-01-28   1.106945    1.087160\n 1985-01-29   1.115443    1.094040\n 1985-01-30   1.118158    1.106496\n 1985-01-31   1.116337    1.112579\n 1985-02-01   1.108148    1.111105\n 1985-02-04   1.120885    1.116878\n 1985-02-05   1.121843    1.124021\n 1985-02-06   1.122301    1.131254\n 1985-02-07   1.132087    1.141315\n 1985-02-08   1.139197    1.140884\n 1985-02-11   1.129876    1.133290\n 1985-02-12   1.124680    1.141152\n 1985-02-13   1.140374    1.155261\n ...               ...         ...\n 2016-11-17  86.475080   62.753640\n 2016-11-18  86.420922   62.658271\n 2016-11-21  86.946302   62.991553\n 2016-11-22  87.297530   63.381894\n 2016-11-23  87.702722   63.382377\n 2016-11-25  88.111505   63.835352\n 2016-11-28  87.187652   63.596826\n 2016-11-29  87.214664   63.612492\n 2016-11-30  87.828907   62.648730\n 2016-12-01  88.201200   62.101110\n 2016-12-02  88.146996   62.289607\n 2016-12-05  88.684408   62.593139\n 2016-12-06  88.995117   62.788910\n 2016-12-07  90.431464   63.739947\n 2016-12-08  90.688694   63.878867\n 2016-12-09  90.721677   64.179313\n 2016-12-12  90.481027   64.196187\n 2016-12-13  90.572909   64.436136\n 2016-12-14  89.491688   63.659758\n 2016-12-15  89.588916   63.968358\n 2016-12-16  89.169767   64.180786\n 2016-12-19  89.398410   64.219821\n 2016-12-20  89.795559   64.303686\n 2016-12-21  89.587605   64.139556\n 2016-12-22  89.777386   63.888109\n 2016-12-23  89.894542   63.948294\n 2016-12-27  90.156578   64.110668\n 2016-12-28  89.167903   63.569460\n 2016-12-29  88.807280   63.621374\n 2016-12-30  88.564907   63.345466\n \n [8067 rows x 2 columns], 'degree':                central  peripheral\n 1985-01-03    1.000000    1.000000\n 1985-01-04    0.994529    0.995522\n 1985-01-07    0.997906    0.998206\n 1985-01-08    0.995187    0.999330\n 1985-01-09    1.002535    1.002581\n 1985-01-10    1.025421    1.008599\n 1985-01-11    1.028372    1.013134\n 1985-01-14    1.046765    1.021315\n 1985-01-15    1.051931    1.030644\n 1985-01-16    1.061278    1.039651\n 1985-01-17    1.056641    1.044371\n 1985-01-18    1.058380    1.050886\n 1985-01-21    1.083763    1.062696\n 1985-01-22    1.084705    1.064405\n 1985-01-23    1.094754    1.071248\n 1985-01-24    1.097255    1.072596\n 1985-01-25    1.101405    1.076998\n 1985-01-28    1.109470    1.080510\n 1985-01-29    1.119003    1.086327\n 1985-01-30    1.124235    1.093936\n 1985-01-31    1.120612    1.093481\n 1985-02-01    1.112178    1.091616\n 1985-02-04    1.127347    1.093952\n 1985-02-05    1.132562    1.097988\n 1985-02-06    1.137619    1.102128\n 1985-02-07    1.150334    1.110414\n 1985-02-08    1.155227    1.113075\n 1985-02-11    1.145236    1.109501\n 1985-02-12    1.141132    1.114670\n 1985-02-13    1.157654    1.122800\n ...                ...         ...\n 2016-11-17  103.249853   71.788278\n 2016-11-18  103.135443   71.382229\n 2016-11-21  104.105156   71.533671\n 2016-11-22  104.453041   72.025240\n 2016-11-23  104.743814   72.236148\n 2016-11-25  105.143807   72.581490\n 2016-11-28  104.290553   72.196250\n 2016-11-29  104.140454   72.259783\n 2016-11-30  105.434432   71.766652\n 2016-12-01  105.244631   71.458363\n 2016-12-02  105.416314   71.543903\n 2016-12-05  106.258158   71.768511\n 2016-12-06  106.885677   72.035592\n 2016-12-07  108.532251   73.248313\n 2016-12-08  109.062631   73.415245\n 2016-12-09  109.272813   73.813024\n 2016-12-12  108.931752   73.707900\n 2016-12-13  109.251063   74.170476\n 2016-12-14  107.854310   73.386939\n 2016-12-15  108.241596   73.685136\n 2016-12-16  107.845110   73.696482\n 2016-12-19  108.121866   73.841840\n 2016-12-20  108.622645   73.946475\n 2016-12-21  108.608094   73.762703\n 2016-12-22  108.638939   73.458762\n 2016-12-23  108.866254   73.526711\n 2016-12-27  109.213697   73.616933\n 2016-12-28  107.893732   72.941093\n 2016-12-29  107.873699   73.003997\n 2016-12-30  107.464193   72.672053\n \n [8067 rows x 2 columns]}"
      ]
     },
     "execution_count": 21,
     "metadata": {},
     "output_type": "execute_result"
    }
   ],
   "source": [
    "performance_comparison_unweighted['nocluster']"
   ]
  },
  {
   "cell_type": "code",
   "execution_count": 22,
   "metadata": {
    "collapsed": false
   },
   "outputs": [
    {
     "name": "stdout",
     "output_type": "stream",
     "text": [
      "doing nocluster degree: 00:08:09.268729\n"
     ]
    },
    {
     "name": "stdout",
     "output_type": "stream",
     "text": [
      "done: 00:09:54.131108\ndoing nocluster closeness: 00:09:54.131207\n"
     ]
    },
    {
     "name": "stdout",
     "output_type": "stream",
     "text": [
      "done: 00:11:39.544558\ndoing nocluster betweenness: 00:11:39.544652\n"
     ]
    },
    {
     "name": "stdout",
     "output_type": "stream",
     "text": [
      "done: 00:13:22.754371\ndoing single_cluster degree: 00:13:22.754732\n"
     ]
    },
    {
     "name": "stdout",
     "output_type": "stream",
     "text": [
      "done: 00:14:56.619014\ndoing single_cluster closeness: 00:14:56.619138\n"
     ]
    },
    {
     "name": "stdout",
     "output_type": "stream",
     "text": [
      "done: 00:16:30.275133\ndoing single_cluster betweenness: 00:16:30.275316\n"
     ]
    },
    {
     "name": "stdout",
     "output_type": "stream",
     "text": [
      "done: 00:18:06.393760\n"
     ]
    }
   ],
   "source": [
    "import datetime\n",
    "\n",
    "#no cluster universe, weighted--------------\n",
    "performance_comparison_weighted['nocluster'] = {}\n",
    "for c_measure in ['degree', 'closeness', 'betweenness']:\n",
    "    print \"doing \" + \"nocluster\" + \" \" + c_measure+ \": \" + str(datetime.datetime.now().time())\n",
    "    performance_comparison_weighted['nocluster'][c_measure] = pd.DataFrame.from_dict(\n",
    "        clustering_performance(price, ret, div, cpr, thresh=thresh, universes=noclusteruniverse_0[c_measure],\n",
    "                               weighted='TRUE', window=window, shrinkage=shrinkage))\n",
    "    print \"done\"+ \": \" + str(datetime.datetime.now().time())\n",
    "\n",
    "    #single nocluster universe, weighted\n",
    "performance_comparison_weighted['single_nocluster'] = {}\n",
    "for c_measure in ['degree', 'closeness', 'betweenness']:\n",
    "    print \"doing \" + \"single_cluster\" + \" \" + c_measure+ \": \" + str(datetime.datetime.now().time())\n",
    "    performance_comparison_weighted['single_nocluster'][c_measure] = pd.DataFrame.from_dict(\n",
    "        clustering_performance(price, ret, div, cpr, thresh=thresh, universes=single_noclusteruniverse[c_measure],\n",
    "                               weighted='TRUE', window=window, shrinkage=shrinkage))\n",
    "    print \"done\"+ \": \" + str(datetime.datetime.now().time())"
   ]
  },
  {
   "cell_type": "code",
   "execution_count": 10,
   "metadata": {},
   "outputs": [],
   "source": [
    "single_noclusteruniverse = pickle.load(open(\"pickle/single_nocluster_universe_LedoitWolf.p\", \"rb\"))\n",
    "noclusteruniverse_0 = pickle.load(open(\"pickle/nocluster_universe_LedoitWolf.p\", \"rb\"))"
   ]
  },
  {
   "cell_type": "code",
   "execution_count": 23,
   "metadata": {},
   "outputs": [],
   "source": [
    "pickle.dump(performance_comparison_unweighted, open(\"pickle/performance_LedoitWolf_unweighted.p\", \"wb\"))"
   ]
  },
  {
   "cell_type": "code",
   "execution_count": 24,
   "metadata": {},
   "outputs": [],
   "source": [
    "pickle.dump(performance_comparison_weighted, open(\"pickle/performance_LedoitWolf_weighted.p\", \"wb\"))"
   ]
  },
  {
   "cell_type": "code",
   "execution_count": 25,
   "metadata": {},
   "outputs": [],
   "source": [
    "pickle.dump(single_noclusteruniverse, open(\"pickle/single_nocluster_universe_LedoitWolf.p\", \"wb\"))\n",
    "pickle.dump(noclusteruniverse_0, open(\"pickle/nocluster_universe_LedoitWolf.p\", \"wb\"))"
   ]
  },
  {
   "cell_type": "code",
   "execution_count": 26,
   "metadata": {},
   "outputs": [],
   "source": [
    "performance_LedoitWolf_unweighted = pickle.load(open(\"pickle/performance_LedoitWolf_unweighted.p\", \"rb\"))\n",
    "performance_LedoitWolf_weighted = pickle.load(open(\"pickle/performance_LedoitWolf_weighted.p\", \"rb\"))\n",
    "performance_unshrunk_unweighted = pickle.load(open(\"pickle/performance_unshunk_unweighted.p\", \"rb\"))\n",
    "performance_unshrunk_weighted = pickle.load(open(\"pickle/performance_unshunk_weighted.p\", \"rb\"))"
   ]
  },
  {
   "cell_type": "code",
   "execution_count": 27,
   "metadata": {},
   "outputs": [],
   "source": [
    "final_result = {'None': {'weighted': performance_unshrunk_weighted,\n",
    "                         'unweighted': performance_unshrunk_unweighted},\n",
    "                'LedoitWolf': {'weighted': performance_LedoitWolf_weighted,\n",
    "                               'unweighted': performance_LedoitWolf_unweighted}\n",
    "                }"
   ]
  },
  {
   "cell_type": "code",
   "execution_count": 28,
   "metadata": {},
   "outputs": [],
   "source": [
    "pickle.dump(final_result, open(\"pickle/final_result.p\", \"wb\"))"
   ]
  },
  {
   "cell_type": "code",
   "execution_count": 29,
   "metadata": {},
   "outputs": [],
   "source": [
    "import matplotlib as mpl\n",
    "mpl.is_interactive()\n",
    "from matplotlib import pyplot as plt\n",
    "plt.ioff()"
   ]
  },
  {
   "cell_type": "code",
   "execution_count": 30,
   "metadata": {},
   "outputs": [
    {
     "name": "stdout",
     "output_type": "stream",
     "text": [
      "Using matplotlib backend: Qt5Agg\n"
     ]
    },
    {
     "name": "stderr",
     "output_type": "stream",
     "text": [
      "/home/xuxiao2695/anaconda2/envs/Neduv/lib/python2.7/site-packages/matplotlib/pyplot.py:524: RuntimeWarning: More than 20 figures have been opened. Figures created through the pyplot interface (`matplotlib.pyplot.figure`) are retained until explicitly closed and may consume too much memory. (To control this warning, see the rcParam `figure.max_open_warning`).\n  max_open_warning, RuntimeWarning)\n"
     ]
    }
   ],
   "source": [
    "import matplotlib.pyplot as plt\n",
    "\n",
    "%matplotlib\n",
    "for shrinkage in ['None','LedoitWolf']:\n",
    "    for weighted in ['weighted','unweighted']:\n",
    "        for method in final_result[shrinkage][weighted].keys():\n",
    "            if method != 'benchmark':\n",
    "                for measure in ['betweenness','degree','closeness']:\n",
    "                    fig = plt.figure()\n",
    "                    final_result[shrinkage][weighted][method][measure].plot(figsize=(20, 8))\n",
    "                    fig.text(.1,.1,shrinkage+'_'+weighted+'_'+method+'_'+measure)\n",
    "                    plt.savefig(\"Graphs/\"+shrinkage+'_'+weighted+'_'+method+'_'+measure+\".pdf\", bbox_inches='tight')\n",
    "            else:\n",
    "                final_result[shrinkage][weighted][method].plot(figsize=(20, 8))\n",
    "                plt.savefig(\"Graphs/\"+shrinkage+'_'+weighted+'_'+method+'_'+\".pdf\", bbox_inches='tight')"
   ]
  },
  {
   "cell_type": "code",
   "execution_count": 31,
   "metadata": {},
   "outputs": [
    {
     "name": "stdout",
     "output_type": "stream",
     "text": [
      "None_weighted_Newman_betweenness_central: 0.712797\nNone_weighted_Newman_betweenness_peripheral: 1.015834\nNone_weighted_Newman_degree_central: 0.717881\nNone_weighted_Newman_degree_peripheral: 0.919497\nNone_weighted_Newman_closeness_central: 0.793827\nNone_weighted_Newman_closeness_peripheral: 0.909553\nNone_weighted_benchmark: 0.903382\nNone_weighted_ClausetNewman_betweenness_central: 0.506679\nNone_weighted_ClausetNewman_betweenness_peripheral: 1.020761\nNone_weighted_ClausetNewman_degree_central: 0.572815\nNone_weighted_ClausetNewman_degree_peripheral: 0.927211\nNone_weighted_ClausetNewman_closeness_central: 0.617496\nNone_weighted_ClausetNewman_closeness_peripheral: 0.910924\nNone_weighted_nocluster_betweenness_central: 0.673821\nNone_weighted_nocluster_betweenness_peripheral: 1.018595\nNone_weighted_nocluster_degree_central: 0.673454"
     ]
    },
    {
     "name": "stdout",
     "output_type": "stream",
     "text": [
      "\nNone_weighted_nocluster_degree_peripheral: 0.929432\nNone_weighted_nocluster_closeness_central: 0.694232\nNone_weighted_nocluster_closeness_peripheral: 0.886595\nNone_weighted_single_nocluster_betweenness_central: 0.394447\nNone_weighted_single_nocluster_betweenness_peripheral: 1.018595\nNone_weighted_single_nocluster_degree_central: 0.481476\nNone_weighted_single_nocluster_degree_peripheral: 0.878712\nNone_weighted_single_nocluster_closeness_central: 0.391425\nNone_weighted_single_nocluster_closeness_peripheral: 0.537708\nNone_unweighted_Newman_betweenness_central: 0.671289\nNone_unweighted_Newman_betweenness_peripheral: 0.887636\nNone_unweighted_Newman_degree_central: 0.732724\nNone_unweighted_Newman_degree_peripheral: 1.002596\nNone_unweighted_Newman_closeness_central: 0.740025\nNone_unweighted_Newman_closeness_peripheral: 0.981584\nNone_unweighted_benchmark: 0.848655\nNone_unweighted_ClausetNewman_betweenness_central: 0.690064\nNone_unweighted_ClausetNewman_betweenness_peripheral: 0.892267\nNone_unweighted_ClausetNewman_degree_central: 0.673213\nNone_unweighted_ClausetNewman_degree_peripheral: 1.024336\nNone_unweighted_ClausetNewman_closeness_central: 0.718140\nNone_unweighted_ClausetNewman_closeness_peripheral: 1.017331\nNone_unweighted_nocluster_betweenness_central: 0.745294\nNone_unweighted_nocluster_betweenness_peripheral: 0.899373\nNone_unweighted_nocluster_degree_central: 0.732713\nNone_unweighted_nocluster_degree_peripheral: 0.978010\nNone_unweighted_nocluster_closeness_central: 0.702771\nNone_unweighted_nocluster_closeness_peripheral: 0.891196\nNone_unweighted_single_nocluster_betweenness_central: 0.394447\nNone_unweighted_single_nocluster_betweenness_peripheral: 0.899373\nNone_unweighted_single_nocluster_degree_central: 0.481476\nNone_unweighted_single_nocluster_degree_peripheral: 0.865294\nNone_unweighted_single_nocluster_closeness_central: 0.391425\nNone_unweighted_single_nocluster_closeness_peripheral: 0.593922\nLedoitWolf_weighted_Newman_betweenness_central: 0.686626\nLedoitWolf_weighted_Newman_betweenness_peripheral: 0.967702\nLedoitWolf_weighted_Newman_degree_central: 0.701239\nLedoitWolf_weighted_Newman_degree_peripheral: 0.995562\nLedoitWolf_weighted_Newman_closeness_central: 0.768736\nLedoitWolf_weighted_Newman_closeness_peripheral: 0.958529\nLedoitWolf_weighted_benchmark: 0.940547\nLedoitWolf_weighted_ClausetNewman_betweenness_central: 0.575704\nLedoitWolf_weighted_ClausetNewman_betweenness_peripheral: 0.972867\nLedoitWolf_weighted_ClausetNewman_degree_central: 0.613916\nLedoitWolf_weighted_ClausetNewman_degree_peripheral: 1.049049\nLedoitWolf_weighted_ClausetNewman_closeness_central: 0.591241\nLedoitWolf_weighted_ClausetNewman_closeness_peripheral: 0.961373\nLedoitWolf_weighted_nocluster_betweenness_central: 0.727036\nLedoitWolf_weighted_nocluster_betweenness_peripheral: 0.974062\nLedoitWolf_weighted_nocluster_degree_central: 0.681827\nLedoitWolf_weighted_nocluster_degree_peripheral: 1.001633\nLedoitWolf_weighted_nocluster_closeness_central: 0.828559\nLedoitWolf_weighted_nocluster_closeness_peripheral: 0.899807\nLedoitWolf_weighted_single_nocluster_betweenness_central: 0.397401\nLedoitWolf_weighted_single_nocluster_betweenness_peripheral: 0.974062\nLedoitWolf_weighted_single_nocluster_degree_central: 0.308254\nLedoitWolf_weighted_single_nocluster_degree_peripheral: 0.871783\nLedoitWolf_weighted_single_nocluster_closeness_central: 0.485751\nLedoitWolf_weighted_single_nocluster_closeness_peripheral: 0.645851\nLedoitWolf_unweighted_Newman_betweenness_central: 0.792859\nLedoitWolf_unweighted_Newman_betweenness_peripheral: 0.877498\nLedoitWolf_unweighted_Newman_degree_central: 0.785105\nLedoitWolf_unweighted_Newman_degree_peripheral: 1.016114\nLedoitWolf_unweighted_Newman_closeness_central: 0.808467\nLedoitWolf_unweighted_Newman_closeness_peripheral: 0.917321\nLedoitWolf_unweighted_nocluster_betweenness_central: 0.771582\nLedoitWolf_unweighted_nocluster_betweenness_peripheral: 0.887274\nLedoitWolf_unweighted_nocluster_degree_central: 0.752247\nLedoitWolf_unweighted_nocluster_degree_peripheral: 0.997814\nLedoitWolf_unweighted_nocluster_closeness_central: 0.739678\nLedoitWolf_unweighted_nocluster_closeness_peripheral: 0.836181\nLedoitWolf_unweighted_ClausetNewman_betweenness_central: 0.674123\nLedoitWolf_unweighted_ClausetNewman_betweenness_peripheral: 0.884915\nLedoitWolf_unweighted_ClausetNewman_degree_central: 0.670145\nLedoitWolf_unweighted_ClausetNewman_degree_peripheral: 1.063201\nLedoitWolf_unweighted_ClausetNewman_closeness_central: 0.649009\nLedoitWolf_unweighted_ClausetNewman_closeness_peripheral: 0.951709\nLedoitWolf_unweighted_benchmark: 0.848655\nLedoitWolf_unweighted_single_nocluster_betweenness_central: 0.396944\nLedoitWolf_unweighted_single_nocluster_betweenness_peripheral: 0.887274\nLedoitWolf_unweighted_single_nocluster_degree_central: 0.308254\nLedoitWolf_unweighted_single_nocluster_degree_peripheral: 0.918420\nLedoitWolf_unweighted_single_nocluster_closeness_central: 0.485751\nLedoitWolf_unweighted_single_nocluster_closeness_peripheral: 0.659025\n"
     ]
    }
   ],
   "source": [
    "for shrinkage in ['None','LedoitWolf']:\n",
    "    for weighted in ['weighted','unweighted']:\n",
    "        for method in final_result[shrinkage][weighted].keys():\n",
    "            if method != 'benchmark':\n",
    "                for measure in ['betweenness','degree','closeness']:\n",
    "                    for port in ['central','peripheral']:\n",
    "                        print(\"%s: %f\" % (shrinkage+'_'+weighted+'_'+method+'_'+measure+'_'+port\n",
    "                                          , sharpe_ratio(\n",
    "                            final_result[shrinkage][weighted][method][measure][port],0.01)))\n",
    "            else:\n",
    "                print(\"%s: %f\" % (shrinkage+'_'+weighted+'_'+method\n",
    "                                          , sharpe_ratio(\n",
    "                            final_result[shrinkage][weighted][method]['benchmark'],0.01)))"
   ]
  }
 ],
 "metadata": {
  "kernelspec": {
   "display_name": "Python 2",
   "language": "python",
   "name": "python2"
  },
  "language_info": {
   "codemirror_mode": {
    "name": "ipython",
    "version": 2.0
   },
   "file_extension": ".py",
   "mimetype": "text/x-python",
   "name": "python",
   "nbconvert_exporter": "python",
   "pygments_lexer": "ipython2",
   "version": "2.7.6"
  }
 },
 "nbformat": 4,
 "nbformat_minor": 0
}