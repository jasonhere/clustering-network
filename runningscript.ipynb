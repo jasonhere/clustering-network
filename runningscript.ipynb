{
 "cells": [
  {
   "cell_type": "code",
   "execution_count": 1,
   "metadata": {
    "collapsed": true
   },
   "outputs": [],
   "source": [
    "from clustering import *\n",
    "from downloaddata import *\n",
    "from portfolio_and_performance import *\n",
    "from trees import *"
   ]
  },
  {
   "cell_type": "code",
   "execution_count": 2,
   "metadata": {
    "collapsed": true
   },
   "outputs": [
    {
     "name": "stdout",
     "output_type": "stream",
     "text": [
      "downloading MMM\n"
     ]
    },
    {
     "name": "stdout",
     "output_type": "stream",
     "text": [
      "downloading ABT\n"
     ]
    },
    {
     "name": "stdout",
     "output_type": "stream",
     "text": [
      "downloading ABBV\n"
     ]
    },
    {
     "name": "stdout",
     "output_type": "stream",
     "text": [
      "downloading ACN\n"
     ]
    },
    {
     "name": "stdout",
     "output_type": "stream",
     "text": [
      "downloading ATVI\n"
     ]
    },
    {
     "name": "stdout",
     "output_type": "stream",
     "text": [
      "downloading AYI\n"
     ]
    },
    {
     "name": "stdout",
     "output_type": "stream",
     "text": [
      "downloading ADBE\n"
     ]
    },
    {
     "name": "stdout",
     "output_type": "stream",
     "text": [
      "downloading AAP\n"
     ]
    },
    {
     "name": "stdout",
     "output_type": "stream",
     "text": [
      "downloading AES\n"
     ]
    },
    {
     "name": "stdout",
     "output_type": "stream",
     "text": [
      "downloading AET\n"
     ]
    },
    {
     "name": "stdout",
     "output_type": "stream",
     "text": [
      "downloading AMG\n"
     ]
    },
    {
     "name": "stdout",
     "output_type": "stream",
     "text": [
      "downloading AFL\n"
     ]
    },
    {
     "name": "stdout",
     "output_type": "stream",
     "text": [
      "downloading A\n"
     ]
    },
    {
     "name": "stdout",
     "output_type": "stream",
     "text": [
      "downloading APD\n"
     ]
    },
    {
     "name": "stdout",
     "output_type": "stream",
     "text": [
      "downloading AKAM\n"
     ]
    },
    {
     "name": "stdout",
     "output_type": "stream",
     "text": [
      "downloading ALK\n"
     ]
    },
    {
     "name": "stdout",
     "output_type": "stream",
     "text": [
      "downloading ALB\n"
     ]
    },
    {
     "name": "stdout",
     "output_type": "stream",
     "text": [
      "downloading ALXN\n"
     ]
    },
    {
     "name": "stdout",
     "output_type": "stream",
     "text": [
      "downloading ALLE\n"
     ]
    },
    {
     "name": "stdout",
     "output_type": "stream",
     "text": [
      "downloading AGN\n"
     ]
    },
    {
     "name": "stdout",
     "output_type": "stream",
     "text": [
      "downloading ADS\n"
     ]
    },
    {
     "name": "stdout",
     "output_type": "stream",
     "text": [
      "downloading LNT\n"
     ]
    },
    {
     "name": "stdout",
     "output_type": "stream",
     "text": [
      "downloading ALL\n"
     ]
    },
    {
     "name": "stdout",
     "output_type": "stream",
     "text": [
      "downloading GOOGL\n"
     ]
    },
    {
     "name": "stdout",
     "output_type": "stream",
     "text": [
      "downloading GOOG\n"
     ]
    },
    {
     "name": "stdout",
     "output_type": "stream",
     "text": [
      "downloading MO\n"
     ]
    },
    {
     "name": "stdout",
     "output_type": "stream",
     "text": [
      "downloading AMZN\n"
     ]
    },
    {
     "name": "stdout",
     "output_type": "stream",
     "text": [
      "downloading AEE\n"
     ]
    },
    {
     "name": "stdout",
     "output_type": "stream",
     "text": [
      "downloading AAL\n"
     ]
    },
    {
     "name": "stdout",
     "output_type": "stream",
     "text": [
      "downloading AEP\n"
     ]
    },
    {
     "name": "stdout",
     "output_type": "stream",
     "text": [
      "downloading AXP\n"
     ]
    },
    {
     "name": "stdout",
     "output_type": "stream",
     "text": [
      "downloading AIG\n"
     ]
    },
    {
     "name": "stdout",
     "output_type": "stream",
     "text": [
      "downloading AMT\n"
     ]
    },
    {
     "name": "stdout",
     "output_type": "stream",
     "text": [
      "downloading AWK\n"
     ]
    },
    {
     "name": "stdout",
     "output_type": "stream",
     "text": [
      "downloading AMP\n"
     ]
    },
    {
     "name": "stdout",
     "output_type": "stream",
     "text": [
      "downloading ABC\n"
     ]
    },
    {
     "name": "stdout",
     "output_type": "stream",
     "text": [
      "downloading AME\n"
     ]
    },
    {
     "name": "stdout",
     "output_type": "stream",
     "text": [
      "downloading AMGN\n"
     ]
    },
    {
     "name": "stdout",
     "output_type": "stream",
     "text": [
      "downloading APH\n"
     ]
    },
    {
     "name": "stdout",
     "output_type": "stream",
     "text": [
      "downloading APC\n"
     ]
    },
    {
     "name": "stdout",
     "output_type": "stream",
     "text": [
      "downloading ADI\n"
     ]
    },
    {
     "name": "stdout",
     "output_type": "stream",
     "text": [
      "downloading ANTM\n"
     ]
    },
    {
     "name": "stdout",
     "output_type": "stream",
     "text": [
      "downloading AON\n"
     ]
    },
    {
     "name": "stdout",
     "output_type": "stream",
     "text": [
      "downloading APA\n"
     ]
    },
    {
     "name": "stdout",
     "output_type": "stream",
     "text": [
      "downloading AIV\n"
     ]
    },
    {
     "name": "stdout",
     "output_type": "stream",
     "text": [
      "downloading AAPL\n"
     ]
    },
    {
     "name": "stdout",
     "output_type": "stream",
     "text": [
      "downloading AMAT\n"
     ]
    },
    {
     "name": "stdout",
     "output_type": "stream",
     "text": [
      "downloading ADM\n"
     ]
    },
    {
     "name": "stdout",
     "output_type": "stream",
     "text": [
      "downloading ARNC\n"
     ]
    },
    {
     "name": "stdout",
     "output_type": "stream",
     "text": [
      "downloading AJG\n"
     ]
    },
    {
     "name": "stdout",
     "output_type": "stream",
     "text": [
      "downloading AIZ\n"
     ]
    },
    {
     "name": "stdout",
     "output_type": "stream",
     "text": [
      "downloading T\n"
     ]
    },
    {
     "name": "stdout",
     "output_type": "stream",
     "text": [
      "downloading ADSK\n"
     ]
    },
    {
     "name": "stdout",
     "output_type": "stream",
     "text": [
      "downloading ADP\n"
     ]
    },
    {
     "name": "stdout",
     "output_type": "stream",
     "text": [
      "downloading AN\n"
     ]
    },
    {
     "name": "stdout",
     "output_type": "stream",
     "text": [
      "downloading AZO\n"
     ]
    },
    {
     "name": "stdout",
     "output_type": "stream",
     "text": [
      "downloading AVB\n"
     ]
    },
    {
     "name": "stdout",
     "output_type": "stream",
     "text": [
      "downloading AVY\n"
     ]
    },
    {
     "name": "stdout",
     "output_type": "stream",
     "text": [
      "downloading BHI\n"
     ]
    },
    {
     "name": "stdout",
     "output_type": "stream",
     "text": [
      "downloading BLL\n"
     ]
    },
    {
     "name": "stdout",
     "output_type": "stream",
     "text": [
      "downloading BAC\n"
     ]
    },
    {
     "name": "stdout",
     "output_type": "stream",
     "text": [
      "downloading BCR\n"
     ]
    },
    {
     "name": "stdout",
     "output_type": "stream",
     "text": [
      "downloading BAX\n"
     ]
    },
    {
     "name": "stdout",
     "output_type": "stream",
     "text": [
      "downloading BBT\n"
     ]
    },
    {
     "name": "stdout",
     "output_type": "stream",
     "text": [
      "downloading BDX\n"
     ]
    },
    {
     "name": "stdout",
     "output_type": "stream",
     "text": [
      "downloading BBBY\n"
     ]
    },
    {
     "name": "stdout",
     "output_type": "stream",
     "text": [
      "downloading BRK_B\n"
     ]
    },
    {
     "name": "stdout",
     "output_type": "stream",
     "text": [
      "downloading BBY\n"
     ]
    },
    {
     "name": "stdout",
     "output_type": "stream",
     "text": [
      "downloading BIIB\n"
     ]
    },
    {
     "name": "stdout",
     "output_type": "stream",
     "text": [
      "downloading BLK\n"
     ]
    },
    {
     "name": "stdout",
     "output_type": "stream",
     "text": [
      "downloading HRB\n"
     ]
    },
    {
     "name": "stdout",
     "output_type": "stream",
     "text": [
      "downloading BA\n"
     ]
    },
    {
     "name": "stdout",
     "output_type": "stream",
     "text": [
      "downloading BWA\n"
     ]
    },
    {
     "name": "stdout",
     "output_type": "stream",
     "text": [
      "downloading BXP\n"
     ]
    },
    {
     "name": "stdout",
     "output_type": "stream",
     "text": [
      "downloading BSX\n"
     ]
    },
    {
     "name": "stdout",
     "output_type": "stream",
     "text": [
      "downloading BMY\n"
     ]
    },
    {
     "name": "stdout",
     "output_type": "stream",
     "text": [
      "downloading AVGO\n"
     ]
    },
    {
     "name": "stdout",
     "output_type": "stream",
     "text": [
      "downloading BF_B\n"
     ]
    },
    {
     "name": "stdout",
     "output_type": "stream",
     "text": [
      "downloading CHRW\n"
     ]
    },
    {
     "name": "stdout",
     "output_type": "stream",
     "text": [
      "downloading CA\n"
     ]
    },
    {
     "name": "stdout",
     "output_type": "stream",
     "text": [
      "downloading COG\n"
     ]
    },
    {
     "name": "stdout",
     "output_type": "stream",
     "text": [
      "downloading CPB\n"
     ]
    },
    {
     "name": "stdout",
     "output_type": "stream",
     "text": [
      "downloading COF\n"
     ]
    },
    {
     "name": "stdout",
     "output_type": "stream",
     "text": [
      "downloading CAH\n"
     ]
    },
    {
     "name": "stdout",
     "output_type": "stream",
     "text": [
      "downloading KMX\n"
     ]
    },
    {
     "name": "stdout",
     "output_type": "stream",
     "text": [
      "downloading CCL\n"
     ]
    },
    {
     "name": "stdout",
     "output_type": "stream",
     "text": [
      "downloading CAT\n"
     ]
    },
    {
     "name": "stdout",
     "output_type": "stream",
     "text": [
      "downloading CBOE\n"
     ]
    },
    {
     "name": "stdout",
     "output_type": "stream",
     "text": [
      "downloading CBG\n"
     ]
    },
    {
     "name": "stdout",
     "output_type": "stream",
     "text": [
      "downloading CBS\n"
     ]
    },
    {
     "name": "stdout",
     "output_type": "stream",
     "text": [
      "downloading CELG\n"
     ]
    },
    {
     "name": "stdout",
     "output_type": "stream",
     "text": [
      "downloading CNC\n"
     ]
    },
    {
     "name": "stdout",
     "output_type": "stream",
     "text": [
      "downloading CNP\n"
     ]
    },
    {
     "name": "stdout",
     "output_type": "stream",
     "text": [
      "downloading CTL\n"
     ]
    },
    {
     "name": "stdout",
     "output_type": "stream",
     "text": [
      "downloading CERN\n"
     ]
    },
    {
     "name": "stdout",
     "output_type": "stream",
     "text": [
      "downloading CF\n"
     ]
    },
    {
     "name": "stdout",
     "output_type": "stream",
     "text": [
      "downloading SCHW\n"
     ]
    },
    {
     "name": "stdout",
     "output_type": "stream",
     "text": [
      "downloading CHTR\n"
     ]
    },
    {
     "name": "stdout",
     "output_type": "stream",
     "text": [
      "downloading CHK\n"
     ]
    },
    {
     "name": "stdout",
     "output_type": "stream",
     "text": [
      "downloading CVX\n"
     ]
    },
    {
     "name": "stdout",
     "output_type": "stream",
     "text": [
      "downloading CMG\n"
     ]
    },
    {
     "name": "stdout",
     "output_type": "stream",
     "text": [
      "downloading CB\n"
     ]
    },
    {
     "name": "stdout",
     "output_type": "stream",
     "text": [
      "downloading CHD\n"
     ]
    },
    {
     "name": "stdout",
     "output_type": "stream",
     "text": [
      "downloading CI\n"
     ]
    },
    {
     "name": "stdout",
     "output_type": "stream",
     "text": [
      "downloading XEC\n"
     ]
    },
    {
     "name": "stdout",
     "output_type": "stream",
     "text": [
      "downloading CINF\n"
     ]
    },
    {
     "name": "stdout",
     "output_type": "stream",
     "text": [
      "downloading CTAS\n"
     ]
    },
    {
     "name": "stdout",
     "output_type": "stream",
     "text": [
      "downloading CSCO\n"
     ]
    },
    {
     "name": "stdout",
     "output_type": "stream",
     "text": [
      "downloading C\n"
     ]
    },
    {
     "name": "stdout",
     "output_type": "stream",
     "text": [
      "downloading CFG\n"
     ]
    },
    {
     "name": "stdout",
     "output_type": "stream",
     "text": [
      "downloading CTXS\n"
     ]
    },
    {
     "name": "stdout",
     "output_type": "stream",
     "text": [
      "downloading CME\n"
     ]
    },
    {
     "name": "stdout",
     "output_type": "stream",
     "text": [
      "downloading CMS\n"
     ]
    },
    {
     "name": "stdout",
     "output_type": "stream",
     "text": [
      "downloading COH\n"
     ]
    },
    {
     "name": "stdout",
     "output_type": "stream",
     "text": [
      "downloading KO\n"
     ]
    },
    {
     "name": "stdout",
     "output_type": "stream",
     "text": [
      "downloading CTSH\n"
     ]
    },
    {
     "name": "stdout",
     "output_type": "stream",
     "text": [
      "downloading CL\n"
     ]
    },
    {
     "name": "stdout",
     "output_type": "stream",
     "text": [
      "downloading CMCSA\n"
     ]
    },
    {
     "name": "stdout",
     "output_type": "stream",
     "text": [
      "downloading CMA\n"
     ]
    },
    {
     "name": "stdout",
     "output_type": "stream",
     "text": [
      "downloading CAG\n"
     ]
    },
    {
     "name": "stdout",
     "output_type": "stream",
     "text": [
      "downloading CXO\n"
     ]
    },
    {
     "name": "stdout",
     "output_type": "stream",
     "text": [
      "downloading COP\n"
     ]
    },
    {
     "name": "stdout",
     "output_type": "stream",
     "text": [
      "downloading ED\n"
     ]
    },
    {
     "name": "stdout",
     "output_type": "stream",
     "text": [
      "downloading STZ\n"
     ]
    },
    {
     "name": "stdout",
     "output_type": "stream",
     "text": [
      "downloading GLW\n"
     ]
    },
    {
     "name": "stdout",
     "output_type": "stream",
     "text": [
      "downloading COST\n"
     ]
    },
    {
     "name": "stdout",
     "output_type": "stream",
     "text": [
      "downloading COTY\n"
     ]
    },
    {
     "name": "stdout",
     "output_type": "stream",
     "text": [
      "downloading CCI\n"
     ]
    },
    {
     "name": "stdout",
     "output_type": "stream",
     "text": [
      "downloading CSRA\n"
     ]
    },
    {
     "name": "stdout",
     "output_type": "stream",
     "text": [
      "downloading CSX\n"
     ]
    },
    {
     "name": "stdout",
     "output_type": "stream",
     "text": [
      "downloading CMI\n"
     ]
    },
    {
     "name": "stdout",
     "output_type": "stream",
     "text": [
      "downloading CVS\n"
     ]
    },
    {
     "name": "stdout",
     "output_type": "stream",
     "text": [
      "downloading DHI\n"
     ]
    },
    {
     "name": "stdout",
     "output_type": "stream",
     "text": [
      "downloading DHR\n"
     ]
    },
    {
     "name": "stdout",
     "output_type": "stream",
     "text": [
      "downloading DRI\n"
     ]
    },
    {
     "name": "stdout",
     "output_type": "stream",
     "text": [
      "downloading DVA\n"
     ]
    },
    {
     "name": "stdout",
     "output_type": "stream",
     "text": [
      "downloading DE\n"
     ]
    },
    {
     "name": "stdout",
     "output_type": "stream",
     "text": [
      "downloading DLPH\n"
     ]
    },
    {
     "name": "stdout",
     "output_type": "stream",
     "text": [
      "downloading DAL\n"
     ]
    },
    {
     "name": "stdout",
     "output_type": "stream",
     "text": [
      "downloading XRAY\n"
     ]
    },
    {
     "name": "stdout",
     "output_type": "stream",
     "text": [
      "downloading DVN\n"
     ]
    },
    {
     "name": "stdout",
     "output_type": "stream",
     "text": [
      "downloading DLR\n"
     ]
    },
    {
     "name": "stdout",
     "output_type": "stream",
     "text": [
      "downloading DFS\n"
     ]
    },
    {
     "name": "stdout",
     "output_type": "stream",
     "text": [
      "downloading DISCA\n"
     ]
    },
    {
     "name": "stdout",
     "output_type": "stream",
     "text": [
      "downloading DISCK\n"
     ]
    },
    {
     "name": "stdout",
     "output_type": "stream",
     "text": [
      "downloading DG\n"
     ]
    },
    {
     "name": "stdout",
     "output_type": "stream",
     "text": [
      "downloading DLTR\n"
     ]
    },
    {
     "name": "stdout",
     "output_type": "stream",
     "text": [
      "downloading D\n"
     ]
    },
    {
     "name": "stdout",
     "output_type": "stream",
     "text": [
      "downloading DOV\n"
     ]
    },
    {
     "name": "stdout",
     "output_type": "stream",
     "text": [
      "downloading DOW\n"
     ]
    },
    {
     "name": "stdout",
     "output_type": "stream",
     "text": [
      "downloading DPS\n"
     ]
    },
    {
     "name": "stdout",
     "output_type": "stream",
     "text": [
      "downloading DTE\n"
     ]
    },
    {
     "name": "stdout",
     "output_type": "stream",
     "text": [
      "downloading DD\n"
     ]
    },
    {
     "name": "stdout",
     "output_type": "stream",
     "text": [
      "downloading DUK\n"
     ]
    },
    {
     "name": "stdout",
     "output_type": "stream",
     "text": [
      "downloading DNB\n"
     ]
    },
    {
     "name": "stdout",
     "output_type": "stream",
     "text": [
      "downloading ETFC\n"
     ]
    },
    {
     "name": "stdout",
     "output_type": "stream",
     "text": [
      "downloading EMN\n"
     ]
    },
    {
     "name": "stdout",
     "output_type": "stream",
     "text": [
      "downloading ETN\n"
     ]
    },
    {
     "name": "stdout",
     "output_type": "stream",
     "text": [
      "downloading EBAY\n"
     ]
    },
    {
     "name": "stdout",
     "output_type": "stream",
     "text": [
      "downloading ECL\n"
     ]
    },
    {
     "name": "stdout",
     "output_type": "stream",
     "text": [
      "downloading EIX\n"
     ]
    },
    {
     "name": "stdout",
     "output_type": "stream",
     "text": [
      "downloading EW\n"
     ]
    },
    {
     "name": "stdout",
     "output_type": "stream",
     "text": [
      "downloading EA\n"
     ]
    },
    {
     "name": "stdout",
     "output_type": "stream",
     "text": [
      "downloading EMR\n"
     ]
    },
    {
     "name": "stdout",
     "output_type": "stream",
     "text": [
      "downloading ETR\n"
     ]
    },
    {
     "name": "stdout",
     "output_type": "stream",
     "text": [
      "downloading EVHC\n"
     ]
    },
    {
     "name": "stdout",
     "output_type": "stream",
     "text": [
      "downloading EOG\n"
     ]
    },
    {
     "name": "stdout",
     "output_type": "stream",
     "text": [
      "downloading EQT\n"
     ]
    },
    {
     "name": "stdout",
     "output_type": "stream",
     "text": [
      "downloading EFX\n"
     ]
    },
    {
     "name": "stdout",
     "output_type": "stream",
     "text": [
      "downloading EQIX\n"
     ]
    },
    {
     "name": "stdout",
     "output_type": "stream",
     "text": [
      "downloading EQR\n"
     ]
    },
    {
     "name": "stdout",
     "output_type": "stream",
     "text": [
      "downloading ESS\n"
     ]
    },
    {
     "name": "stdout",
     "output_type": "stream",
     "text": [
      "downloading EL\n"
     ]
    },
    {
     "name": "stdout",
     "output_type": "stream",
     "text": [
      "downloading ES\n"
     ]
    },
    {
     "name": "stdout",
     "output_type": "stream",
     "text": [
      "downloading EXC\n"
     ]
    },
    {
     "name": "stdout",
     "output_type": "stream",
     "text": [
      "downloading EXPE\n"
     ]
    },
    {
     "name": "stdout",
     "output_type": "stream",
     "text": [
      "downloading EXPD\n"
     ]
    },
    {
     "name": "stdout",
     "output_type": "stream",
     "text": [
      "downloading ESRX\n"
     ]
    },
    {
     "name": "stdout",
     "output_type": "stream",
     "text": [
      "downloading EXR\n"
     ]
    },
    {
     "name": "stdout",
     "output_type": "stream",
     "text": [
      "downloading XOM\n"
     ]
    },
    {
     "name": "stdout",
     "output_type": "stream",
     "text": [
      "downloading FFIV\n"
     ]
    },
    {
     "name": "stdout",
     "output_type": "stream",
     "text": [
      "downloading FB\n"
     ]
    },
    {
     "name": "stdout",
     "output_type": "stream",
     "text": [
      "downloading FAST\n"
     ]
    },
    {
     "name": "stdout",
     "output_type": "stream",
     "text": [
      "downloading FRT\n"
     ]
    },
    {
     "name": "stdout",
     "output_type": "stream",
     "text": [
      "downloading FDX\n"
     ]
    },
    {
     "name": "stdout",
     "output_type": "stream",
     "text": [
      "downloading FIS\n"
     ]
    },
    {
     "name": "stdout",
     "output_type": "stream",
     "text": [
      "downloading FITB\n"
     ]
    },
    {
     "name": "stdout",
     "output_type": "stream",
     "text": [
      "downloading FSLR\n"
     ]
    },
    {
     "name": "stdout",
     "output_type": "stream",
     "text": [
      "downloading FE\n"
     ]
    },
    {
     "name": "stdout",
     "output_type": "stream",
     "text": [
      "downloading FISV\n"
     ]
    },
    {
     "name": "stdout",
     "output_type": "stream",
     "text": [
      "downloading FLIR\n"
     ]
    },
    {
     "name": "stdout",
     "output_type": "stream",
     "text": [
      "downloading FLS\n"
     ]
    },
    {
     "name": "stdout",
     "output_type": "stream",
     "text": [
      "downloading FLR\n"
     ]
    },
    {
     "name": "stdout",
     "output_type": "stream",
     "text": [
      "downloading FMC\n"
     ]
    },
    {
     "name": "stdout",
     "output_type": "stream",
     "text": [
      "downloading FTI\n"
     ]
    },
    {
     "name": "stdout",
     "output_type": "stream",
     "text": [
      "downloading FL\n"
     ]
    },
    {
     "name": "stdout",
     "output_type": "stream",
     "text": [
      "downloading F\n"
     ]
    },
    {
     "name": "stdout",
     "output_type": "stream",
     "text": [
      "downloading FTV\n"
     ]
    },
    {
     "name": "stdout",
     "output_type": "stream",
     "text": [
      "downloading FBHS\n"
     ]
    },
    {
     "name": "stdout",
     "output_type": "stream",
     "text": [
      "downloading BEN\n"
     ]
    },
    {
     "name": "stdout",
     "output_type": "stream",
     "text": [
      "downloading FCX\n"
     ]
    },
    {
     "name": "stdout",
     "output_type": "stream",
     "text": [
      "downloading FTR\n"
     ]
    },
    {
     "name": "stdout",
     "output_type": "stream",
     "text": [
      "downloading GPS\n"
     ]
    },
    {
     "name": "stdout",
     "output_type": "stream",
     "text": [
      "downloading GRMN\n"
     ]
    },
    {
     "name": "stdout",
     "output_type": "stream",
     "text": [
      "downloading GD\n"
     ]
    },
    {
     "name": "stdout",
     "output_type": "stream",
     "text": [
      "downloading GE\n"
     ]
    },
    {
     "name": "stdout",
     "output_type": "stream",
     "text": [
      "downloading GGP\n"
     ]
    },
    {
     "name": "stdout",
     "output_type": "stream",
     "text": [
      "downloading GIS\n"
     ]
    },
    {
     "name": "stdout",
     "output_type": "stream",
     "text": [
      "downloading GM\n"
     ]
    },
    {
     "name": "stdout",
     "output_type": "stream",
     "text": [
      "downloading GPC\n"
     ]
    },
    {
     "name": "stdout",
     "output_type": "stream",
     "text": [
      "downloading GILD\n"
     ]
    },
    {
     "name": "stdout",
     "output_type": "stream",
     "text": [
      "downloading GPN\n"
     ]
    },
    {
     "name": "stdout",
     "output_type": "stream",
     "text": [
      "downloading GS\n"
     ]
    },
    {
     "name": "stdout",
     "output_type": "stream",
     "text": [
      "downloading GT\n"
     ]
    },
    {
     "name": "stdout",
     "output_type": "stream",
     "text": [
      "downloading GWW\n"
     ]
    },
    {
     "name": "stdout",
     "output_type": "stream",
     "text": [
      "downloading HAL\n"
     ]
    },
    {
     "name": "stdout",
     "output_type": "stream",
     "text": [
      "downloading HBI\n"
     ]
    },
    {
     "name": "stdout",
     "output_type": "stream",
     "text": [
      "downloading HOG\n"
     ]
    },
    {
     "name": "stdout",
     "output_type": "stream",
     "text": [
      "downloading HAR\n"
     ]
    },
    {
     "name": "stdout",
     "output_type": "stream",
     "text": [
      "downloading HRS\n"
     ]
    },
    {
     "name": "stdout",
     "output_type": "stream",
     "text": [
      "downloading HIG\n"
     ]
    },
    {
     "name": "stdout",
     "output_type": "stream",
     "text": [
      "downloading HAS\n"
     ]
    },
    {
     "name": "stdout",
     "output_type": "stream",
     "text": [
      "downloading HCA\n"
     ]
    },
    {
     "name": "stdout",
     "output_type": "stream",
     "text": [
      "downloading HCP\n"
     ]
    },
    {
     "name": "stdout",
     "output_type": "stream",
     "text": [
      "downloading HP\n"
     ]
    },
    {
     "name": "stdout",
     "output_type": "stream",
     "text": [
      "downloading HSIC\n"
     ]
    },
    {
     "name": "stdout",
     "output_type": "stream",
     "text": [
      "downloading HES\n"
     ]
    },
    {
     "name": "stdout",
     "output_type": "stream",
     "text": [
      "downloading HPE\n"
     ]
    },
    {
     "name": "stdout",
     "output_type": "stream",
     "text": [
      "downloading HOLX\n"
     ]
    },
    {
     "name": "stdout",
     "output_type": "stream",
     "text": [
      "downloading HD\n"
     ]
    },
    {
     "name": "stdout",
     "output_type": "stream",
     "text": [
      "downloading HON\n"
     ]
    },
    {
     "name": "stdout",
     "output_type": "stream",
     "text": [
      "downloading HRL\n"
     ]
    },
    {
     "name": "stdout",
     "output_type": "stream",
     "text": [
      "downloading HST\n"
     ]
    },
    {
     "name": "stdout",
     "output_type": "stream",
     "text": [
      "downloading HPQ\n"
     ]
    },
    {
     "name": "stdout",
     "output_type": "stream",
     "text": [
      "downloading HUM\n"
     ]
    },
    {
     "name": "stdout",
     "output_type": "stream",
     "text": [
      "downloading HBAN\n"
     ]
    },
    {
     "name": "stdout",
     "output_type": "stream",
     "text": [
      "downloading IDXX\n"
     ]
    },
    {
     "name": "stdout",
     "output_type": "stream",
     "text": [
      "downloading ITW\n"
     ]
    },
    {
     "name": "stdout",
     "output_type": "stream",
     "text": [
      "downloading ILMN\n"
     ]
    },
    {
     "name": "stdout",
     "output_type": "stream",
     "text": [
      "downloading INCY\n"
     ]
    },
    {
     "name": "stdout",
     "output_type": "stream",
     "text": [
      "downloading IR\n"
     ]
    },
    {
     "name": "stdout",
     "output_type": "stream",
     "text": [
      "downloading INTC\n"
     ]
    },
    {
     "name": "stdout",
     "output_type": "stream",
     "text": [
      "downloading ICE\n"
     ]
    },
    {
     "name": "stdout",
     "output_type": "stream",
     "text": [
      "downloading IBM\n"
     ]
    },
    {
     "name": "stdout",
     "output_type": "stream",
     "text": [
      "downloading IP\n"
     ]
    },
    {
     "name": "stdout",
     "output_type": "stream",
     "text": [
      "downloading IPG\n"
     ]
    },
    {
     "name": "stdout",
     "output_type": "stream",
     "text": [
      "downloading IFF\n"
     ]
    },
    {
     "name": "stdout",
     "output_type": "stream",
     "text": [
      "downloading INTU\n"
     ]
    },
    {
     "name": "stdout",
     "output_type": "stream",
     "text": [
      "downloading ISRG\n"
     ]
    },
    {
     "name": "stdout",
     "output_type": "stream",
     "text": [
      "downloading IVZ\n"
     ]
    },
    {
     "name": "stdout",
     "output_type": "stream",
     "text": [
      "downloading IRM\n"
     ]
    },
    {
     "name": "stdout",
     "output_type": "stream",
     "text": [
      "downloading JBHT\n"
     ]
    },
    {
     "name": "stdout",
     "output_type": "stream",
     "text": [
      "downloading JEC\n"
     ]
    },
    {
     "name": "stdout",
     "output_type": "stream",
     "text": [
      "downloading SJM\n"
     ]
    },
    {
     "name": "stdout",
     "output_type": "stream",
     "text": [
      "downloading JNJ\n"
     ]
    },
    {
     "name": "stdout",
     "output_type": "stream",
     "text": [
      "downloading JCI\n"
     ]
    },
    {
     "name": "stdout",
     "output_type": "stream",
     "text": [
      "downloading JPM\n"
     ]
    },
    {
     "name": "stdout",
     "output_type": "stream",
     "text": [
      "downloading JNPR\n"
     ]
    },
    {
     "name": "stdout",
     "output_type": "stream",
     "text": [
      "downloading KSU\n"
     ]
    },
    {
     "name": "stdout",
     "output_type": "stream",
     "text": [
      "downloading K\n"
     ]
    },
    {
     "name": "stdout",
     "output_type": "stream",
     "text": [
      "downloading KEY\n"
     ]
    },
    {
     "name": "stdout",
     "output_type": "stream",
     "text": [
      "downloading KMB\n"
     ]
    },
    {
     "name": "stdout",
     "output_type": "stream",
     "text": [
      "downloading KIM\n"
     ]
    },
    {
     "name": "stdout",
     "output_type": "stream",
     "text": [
      "downloading KMI\n"
     ]
    },
    {
     "name": "stdout",
     "output_type": "stream",
     "text": [
      "downloading KLAC\n"
     ]
    },
    {
     "name": "stdout",
     "output_type": "stream",
     "text": [
      "downloading KSS\n"
     ]
    },
    {
     "name": "stdout",
     "output_type": "stream",
     "text": [
      "downloading KHC\n"
     ]
    },
    {
     "name": "stdout",
     "output_type": "stream",
     "text": [
      "downloading KR\n"
     ]
    },
    {
     "name": "stdout",
     "output_type": "stream",
     "text": [
      "downloading LB\n"
     ]
    },
    {
     "name": "stdout",
     "output_type": "stream",
     "text": [
      "downloading LLL\n"
     ]
    },
    {
     "name": "stdout",
     "output_type": "stream",
     "text": [
      "downloading LH\n"
     ]
    },
    {
     "name": "stdout",
     "output_type": "stream",
     "text": [
      "downloading LRCX\n"
     ]
    },
    {
     "name": "stdout",
     "output_type": "stream",
     "text": [
      "downloading LEG\n"
     ]
    },
    {
     "name": "stdout",
     "output_type": "stream",
     "text": [
      "downloading LEN\n"
     ]
    },
    {
     "name": "stdout",
     "output_type": "stream",
     "text": [
      "downloading LUK\n"
     ]
    },
    {
     "name": "stdout",
     "output_type": "stream",
     "text": [
      "downloading LVLT\n"
     ]
    },
    {
     "name": "stdout",
     "output_type": "stream",
     "text": [
      "downloading LLY\n"
     ]
    },
    {
     "name": "stdout",
     "output_type": "stream",
     "text": [
      "downloading LNC\n"
     ]
    },
    {
     "name": "stdout",
     "output_type": "stream",
     "text": [
      "downloading LLTC\n"
     ]
    },
    {
     "name": "stdout",
     "output_type": "stream",
     "text": [
      "downloading LKQ\n"
     ]
    },
    {
     "name": "stdout",
     "output_type": "stream",
     "text": [
      "downloading LMT\n"
     ]
    },
    {
     "name": "stdout",
     "output_type": "stream",
     "text": [
      "downloading L\n"
     ]
    },
    {
     "name": "stdout",
     "output_type": "stream",
     "text": [
      "downloading LOW\n"
     ]
    },
    {
     "name": "stdout",
     "output_type": "stream",
     "text": [
      "downloading LYB\n"
     ]
    },
    {
     "name": "stdout",
     "output_type": "stream",
     "text": [
      "downloading MTB\n"
     ]
    },
    {
     "name": "stdout",
     "output_type": "stream",
     "text": [
      "downloading MAC\n"
     ]
    },
    {
     "name": "stdout",
     "output_type": "stream",
     "text": [
      "downloading M\n"
     ]
    },
    {
     "name": "stdout",
     "output_type": "stream",
     "text": [
      "downloading MNK\n"
     ]
    },
    {
     "name": "stdout",
     "output_type": "stream",
     "text": [
      "downloading MRO\n"
     ]
    },
    {
     "name": "stdout",
     "output_type": "stream",
     "text": [
      "downloading MPC\n"
     ]
    },
    {
     "name": "stdout",
     "output_type": "stream",
     "text": [
      "downloading MAR\n"
     ]
    },
    {
     "name": "stdout",
     "output_type": "stream",
     "text": [
      "downloading MMC\n"
     ]
    },
    {
     "name": "stdout",
     "output_type": "stream",
     "text": [
      "downloading MLM\n"
     ]
    },
    {
     "name": "stdout",
     "output_type": "stream",
     "text": [
      "downloading MAS\n"
     ]
    },
    {
     "name": "stdout",
     "output_type": "stream",
     "text": [
      "downloading MA\n"
     ]
    },
    {
     "name": "stdout",
     "output_type": "stream",
     "text": [
      "downloading MAT\n"
     ]
    },
    {
     "name": "stdout",
     "output_type": "stream",
     "text": [
      "downloading MKC\n"
     ]
    },
    {
     "name": "stdout",
     "output_type": "stream",
     "text": [
      "downloading MCD\n"
     ]
    },
    {
     "name": "stdout",
     "output_type": "stream",
     "text": [
      "downloading MCK\n"
     ]
    },
    {
     "name": "stdout",
     "output_type": "stream",
     "text": [
      "downloading MJN\n"
     ]
    },
    {
     "name": "stdout",
     "output_type": "stream",
     "text": [
      "downloading MDT\n"
     ]
    },
    {
     "name": "stdout",
     "output_type": "stream",
     "text": [
      "downloading MRK\n"
     ]
    },
    {
     "name": "stdout",
     "output_type": "stream",
     "text": [
      "downloading MET\n"
     ]
    },
    {
     "name": "stdout",
     "output_type": "stream",
     "text": [
      "downloading MTD\n"
     ]
    },
    {
     "name": "stdout",
     "output_type": "stream",
     "text": [
      "downloading KORS\n"
     ]
    },
    {
     "name": "stdout",
     "output_type": "stream",
     "text": [
      "downloading MCHP\n"
     ]
    },
    {
     "name": "stdout",
     "output_type": "stream",
     "text": [
      "downloading MU\n"
     ]
    },
    {
     "name": "stdout",
     "output_type": "stream",
     "text": [
      "downloading MSFT\n"
     ]
    },
    {
     "name": "stdout",
     "output_type": "stream",
     "text": [
      "downloading MAA\n"
     ]
    },
    {
     "name": "stdout",
     "output_type": "stream",
     "text": [
      "downloading MHK\n"
     ]
    },
    {
     "name": "stdout",
     "output_type": "stream",
     "text": [
      "downloading TAP\n"
     ]
    },
    {
     "name": "stdout",
     "output_type": "stream",
     "text": [
      "downloading MDLZ\n"
     ]
    },
    {
     "name": "stdout",
     "output_type": "stream",
     "text": [
      "downloading MON\n"
     ]
    },
    {
     "name": "stdout",
     "output_type": "stream",
     "text": [
      "downloading MNST\n"
     ]
    },
    {
     "name": "stdout",
     "output_type": "stream",
     "text": [
      "downloading MCO\n"
     ]
    },
    {
     "name": "stdout",
     "output_type": "stream",
     "text": [
      "downloading MS\n"
     ]
    },
    {
     "name": "stdout",
     "output_type": "stream",
     "text": [
      "downloading MSI\n"
     ]
    },
    {
     "name": "stdout",
     "output_type": "stream",
     "text": [
      "downloading MUR\n"
     ]
    },
    {
     "name": "stdout",
     "output_type": "stream",
     "text": [
      "downloading MYL\n"
     ]
    },
    {
     "name": "stdout",
     "output_type": "stream",
     "text": [
      "downloading NDAQ\n"
     ]
    },
    {
     "name": "stdout",
     "output_type": "stream",
     "text": [
      "downloading NOV\n"
     ]
    },
    {
     "name": "stdout",
     "output_type": "stream",
     "text": [
      "downloading NAVI\n"
     ]
    },
    {
     "name": "stdout",
     "output_type": "stream",
     "text": [
      "downloading NTAP\n"
     ]
    },
    {
     "name": "stdout",
     "output_type": "stream",
     "text": [
      "downloading NFLX\n"
     ]
    },
    {
     "name": "stdout",
     "output_type": "stream",
     "text": [
      "downloading NWL\n"
     ]
    },
    {
     "name": "stdout",
     "output_type": "stream",
     "text": [
      "downloading NFX\n"
     ]
    },
    {
     "name": "stdout",
     "output_type": "stream",
     "text": [
      "downloading NEM\n"
     ]
    },
    {
     "name": "stdout",
     "output_type": "stream",
     "text": [
      "downloading NWSA\n"
     ]
    },
    {
     "name": "stdout",
     "output_type": "stream",
     "text": [
      "downloading NWS\n"
     ]
    },
    {
     "name": "stdout",
     "output_type": "stream",
     "text": [
      "downloading NEE\n"
     ]
    },
    {
     "name": "stdout",
     "output_type": "stream",
     "text": [
      "downloading NLSN\n"
     ]
    },
    {
     "name": "stdout",
     "output_type": "stream",
     "text": [
      "downloading NKE\n"
     ]
    },
    {
     "name": "stdout",
     "output_type": "stream",
     "text": [
      "downloading NI\n"
     ]
    },
    {
     "name": "stdout",
     "output_type": "stream",
     "text": [
      "downloading NBL\n"
     ]
    },
    {
     "name": "stdout",
     "output_type": "stream",
     "text": [
      "downloading JWN\n"
     ]
    },
    {
     "name": "stdout",
     "output_type": "stream",
     "text": [
      "downloading NSC\n"
     ]
    },
    {
     "name": "stdout",
     "output_type": "stream",
     "text": [
      "downloading NTRS\n"
     ]
    },
    {
     "name": "stdout",
     "output_type": "stream",
     "text": [
      "downloading NOC\n"
     ]
    },
    {
     "name": "stdout",
     "output_type": "stream",
     "text": [
      "downloading NRG\n"
     ]
    },
    {
     "name": "stdout",
     "output_type": "stream",
     "text": [
      "downloading NUE\n"
     ]
    },
    {
     "name": "stdout",
     "output_type": "stream",
     "text": [
      "downloading NVDA\n"
     ]
    },
    {
     "name": "stdout",
     "output_type": "stream",
     "text": [
      "downloading ORLY\n"
     ]
    },
    {
     "name": "stdout",
     "output_type": "stream",
     "text": [
      "downloading OXY\n"
     ]
    },
    {
     "name": "stdout",
     "output_type": "stream",
     "text": [
      "downloading OMC\n"
     ]
    },
    {
     "name": "stdout",
     "output_type": "stream",
     "text": [
      "downloading OKE\n"
     ]
    },
    {
     "name": "stdout",
     "output_type": "stream",
     "text": [
      "downloading ORCL\n"
     ]
    },
    {
     "name": "stdout",
     "output_type": "stream",
     "text": [
      "downloading PCAR\n"
     ]
    },
    {
     "name": "stdout",
     "output_type": "stream",
     "text": [
      "downloading PH\n"
     ]
    },
    {
     "name": "stdout",
     "output_type": "stream",
     "text": [
      "downloading PDCO\n"
     ]
    },
    {
     "name": "stdout",
     "output_type": "stream",
     "text": [
      "downloading PAYX\n"
     ]
    },
    {
     "name": "stdout",
     "output_type": "stream",
     "text": [
      "downloading PYPL\n"
     ]
    },
    {
     "name": "stdout",
     "output_type": "stream",
     "text": [
      "downloading PNR\n"
     ]
    },
    {
     "name": "stdout",
     "output_type": "stream",
     "text": [
      "downloading PBCT\n"
     ]
    },
    {
     "name": "stdout",
     "output_type": "stream",
     "text": [
      "downloading PEP\n"
     ]
    },
    {
     "name": "stdout",
     "output_type": "stream",
     "text": [
      "downloading PKI\n"
     ]
    },
    {
     "name": "stdout",
     "output_type": "stream",
     "text": [
      "downloading PRGO\n"
     ]
    },
    {
     "name": "stdout",
     "output_type": "stream",
     "text": [
      "downloading PFE\n"
     ]
    },
    {
     "name": "stdout",
     "output_type": "stream",
     "text": [
      "downloading PCG\n"
     ]
    },
    {
     "name": "stdout",
     "output_type": "stream",
     "text": [
      "downloading PM\n"
     ]
    },
    {
     "name": "stdout",
     "output_type": "stream",
     "text": [
      "downloading PSX\n"
     ]
    },
    {
     "name": "stdout",
     "output_type": "stream",
     "text": [
      "downloading PNW\n"
     ]
    },
    {
     "name": "stdout",
     "output_type": "stream",
     "text": [
      "downloading PXD\n"
     ]
    },
    {
     "name": "stdout",
     "output_type": "stream",
     "text": [
      "downloading PNC\n"
     ]
    },
    {
     "name": "stdout",
     "output_type": "stream",
     "text": [
      "downloading RL\n"
     ]
    },
    {
     "name": "stdout",
     "output_type": "stream",
     "text": [
      "downloading PPG\n"
     ]
    },
    {
     "name": "stdout",
     "output_type": "stream",
     "text": [
      "downloading PPL\n"
     ]
    },
    {
     "name": "stdout",
     "output_type": "stream",
     "text": [
      "downloading PX\n"
     ]
    },
    {
     "name": "stdout",
     "output_type": "stream",
     "text": [
      "downloading PCLN\n"
     ]
    },
    {
     "name": "stdout",
     "output_type": "stream",
     "text": [
      "downloading PFG\n"
     ]
    },
    {
     "name": "stdout",
     "output_type": "stream",
     "text": [
      "downloading PG\n"
     ]
    },
    {
     "name": "stdout",
     "output_type": "stream",
     "text": [
      "downloading PGR\n"
     ]
    },
    {
     "name": "stdout",
     "output_type": "stream",
     "text": [
      "downloading PLD\n"
     ]
    },
    {
     "name": "stdout",
     "output_type": "stream",
     "text": [
      "downloading PRU\n"
     ]
    },
    {
     "name": "stdout",
     "output_type": "stream",
     "text": [
      "downloading PEG\n"
     ]
    },
    {
     "name": "stdout",
     "output_type": "stream",
     "text": [
      "downloading PSA\n"
     ]
    },
    {
     "name": "stdout",
     "output_type": "stream",
     "text": [
      "downloading PHM\n"
     ]
    },
    {
     "name": "stdout",
     "output_type": "stream",
     "text": [
      "downloading PVH\n"
     ]
    },
    {
     "name": "stdout",
     "output_type": "stream",
     "text": [
      "downloading QRVO\n"
     ]
    },
    {
     "name": "stdout",
     "output_type": "stream",
     "text": [
      "downloading QCOM\n"
     ]
    },
    {
     "name": "stdout",
     "output_type": "stream",
     "text": [
      "downloading PWR\n"
     ]
    },
    {
     "name": "stdout",
     "output_type": "stream",
     "text": [
      "downloading DGX\n"
     ]
    },
    {
     "name": "stdout",
     "output_type": "stream",
     "text": [
      "downloading RRC\n"
     ]
    },
    {
     "name": "stdout",
     "output_type": "stream",
     "text": [
      "downloading RTN\n"
     ]
    },
    {
     "name": "stdout",
     "output_type": "stream",
     "text": [
      "downloading O\n"
     ]
    },
    {
     "name": "stdout",
     "output_type": "stream",
     "text": [
      "downloading RHT\n"
     ]
    },
    {
     "name": "stdout",
     "output_type": "stream",
     "text": [
      "downloading REG\n"
     ]
    },
    {
     "name": "stdout",
     "output_type": "stream",
     "text": [
      "downloading REGN\n"
     ]
    },
    {
     "name": "stdout",
     "output_type": "stream",
     "text": [
      "downloading RF\n"
     ]
    },
    {
     "name": "stdout",
     "output_type": "stream",
     "text": [
      "downloading RSG\n"
     ]
    },
    {
     "name": "stdout",
     "output_type": "stream",
     "text": [
      "downloading RAI\n"
     ]
    },
    {
     "name": "stdout",
     "output_type": "stream",
     "text": [
      "downloading RHI\n"
     ]
    },
    {
     "name": "stdout",
     "output_type": "stream",
     "text": [
      "downloading ROK\n"
     ]
    },
    {
     "name": "stdout",
     "output_type": "stream",
     "text": [
      "downloading COL\n"
     ]
    },
    {
     "name": "stdout",
     "output_type": "stream",
     "text": [
      "downloading ROP\n"
     ]
    },
    {
     "name": "stdout",
     "output_type": "stream",
     "text": [
      "downloading ROST\n"
     ]
    },
    {
     "name": "stdout",
     "output_type": "stream",
     "text": [
      "downloading RCL\n"
     ]
    },
    {
     "name": "stdout",
     "output_type": "stream",
     "text": [
      "downloading R\n"
     ]
    },
    {
     "name": "stdout",
     "output_type": "stream",
     "text": [
      "downloading SPGI\n"
     ]
    },
    {
     "name": "stdout",
     "output_type": "stream",
     "text": [
      "downloading CRM\n"
     ]
    },
    {
     "name": "stdout",
     "output_type": "stream",
     "text": [
      "downloading SCG\n"
     ]
    },
    {
     "name": "stdout",
     "output_type": "stream",
     "text": [
      "downloading SLB\n"
     ]
    },
    {
     "name": "stdout",
     "output_type": "stream",
     "text": [
      "downloading SNI\n"
     ]
    },
    {
     "name": "stdout",
     "output_type": "stream",
     "text": [
      "downloading STX\n"
     ]
    },
    {
     "name": "stdout",
     "output_type": "stream",
     "text": [
      "downloading SEE\n"
     ]
    },
    {
     "name": "stdout",
     "output_type": "stream",
     "text": [
      "downloading SRE\n"
     ]
    },
    {
     "name": "stdout",
     "output_type": "stream",
     "text": [
      "downloading SHW\n"
     ]
    },
    {
     "name": "stdout",
     "output_type": "stream",
     "text": [
      "downloading SIG\n"
     ]
    },
    {
     "name": "stdout",
     "output_type": "stream",
     "text": [
      "downloading SPG\n"
     ]
    },
    {
     "name": "stdout",
     "output_type": "stream",
     "text": [
      "downloading SWKS\n"
     ]
    },
    {
     "name": "stdout",
     "output_type": "stream",
     "text": [
      "downloading SLG\n"
     ]
    },
    {
     "name": "stdout",
     "output_type": "stream",
     "text": [
      "downloading SNA\n"
     ]
    },
    {
     "name": "stdout",
     "output_type": "stream",
     "text": [
      "downloading SO\n"
     ]
    },
    {
     "name": "stdout",
     "output_type": "stream",
     "text": [
      "downloading LUV\n"
     ]
    },
    {
     "name": "stdout",
     "output_type": "stream",
     "text": [
      "downloading SWN\n"
     ]
    },
    {
     "name": "stdout",
     "output_type": "stream",
     "text": [
      "downloading SWK\n"
     ]
    },
    {
     "name": "stdout",
     "output_type": "stream",
     "text": [
      "downloading SPLS\n"
     ]
    },
    {
     "name": "stdout",
     "output_type": "stream",
     "text": [
      "downloading SBUX\n"
     ]
    },
    {
     "name": "stdout",
     "output_type": "stream",
     "text": [
      "downloading STT\n"
     ]
    },
    {
     "name": "stdout",
     "output_type": "stream",
     "text": [
      "downloading SRCL\n"
     ]
    },
    {
     "name": "stdout",
     "output_type": "stream",
     "text": [
      "downloading SYK\n"
     ]
    },
    {
     "name": "stdout",
     "output_type": "stream",
     "text": [
      "downloading STI\n"
     ]
    },
    {
     "name": "stdout",
     "output_type": "stream",
     "text": [
      "downloading SYMC\n"
     ]
    },
    {
     "name": "stdout",
     "output_type": "stream",
     "text": [
      "downloading SYF\n"
     ]
    },
    {
     "name": "stdout",
     "output_type": "stream",
     "text": [
      "downloading SYY\n"
     ]
    },
    {
     "name": "stdout",
     "output_type": "stream",
     "text": [
      "downloading TROW\n"
     ]
    },
    {
     "name": "stdout",
     "output_type": "stream",
     "text": [
      "downloading TGT\n"
     ]
    },
    {
     "name": "stdout",
     "output_type": "stream",
     "text": [
      "downloading TEL\n"
     ]
    },
    {
     "name": "stdout",
     "output_type": "stream",
     "text": [
      "downloading TGNA\n"
     ]
    },
    {
     "name": "stdout",
     "output_type": "stream",
     "text": [
      "downloading TDC\n"
     ]
    },
    {
     "name": "stdout",
     "output_type": "stream",
     "text": [
      "downloading TSO\n"
     ]
    },
    {
     "name": "stdout",
     "output_type": "stream",
     "text": [
      "downloading TXN\n"
     ]
    },
    {
     "name": "stdout",
     "output_type": "stream",
     "text": [
      "downloading TXT\n"
     ]
    },
    {
     "name": "stdout",
     "output_type": "stream",
     "text": [
      "downloading BK\n"
     ]
    },
    {
     "name": "stdout",
     "output_type": "stream",
     "text": [
      "downloading CLX\n"
     ]
    },
    {
     "name": "stdout",
     "output_type": "stream",
     "text": [
      "downloading COO\n"
     ]
    },
    {
     "name": "stdout",
     "output_type": "stream",
     "text": [
      "downloading HSY\n"
     ]
    },
    {
     "name": "stdout",
     "output_type": "stream",
     "text": [
      "downloading MOS\n"
     ]
    },
    {
     "name": "stdout",
     "output_type": "stream",
     "text": [
      "downloading TRV\n"
     ]
    },
    {
     "name": "stdout",
     "output_type": "stream",
     "text": [
      "downloading DIS\n"
     ]
    },
    {
     "name": "stdout",
     "output_type": "stream",
     "text": [
      "downloading TMO\n"
     ]
    },
    {
     "name": "stdout",
     "output_type": "stream",
     "text": [
      "downloading TIF\n"
     ]
    },
    {
     "name": "stdout",
     "output_type": "stream",
     "text": [
      "downloading TWX\n"
     ]
    },
    {
     "name": "stdout",
     "output_type": "stream",
     "text": [
      "downloading TJX\n"
     ]
    },
    {
     "name": "stdout",
     "output_type": "stream",
     "text": [
      "downloading TMK\n"
     ]
    },
    {
     "name": "stdout",
     "output_type": "stream",
     "text": [
      "downloading TSS\n"
     ]
    },
    {
     "name": "stdout",
     "output_type": "stream",
     "text": [
      "downloading TSCO\n"
     ]
    },
    {
     "name": "stdout",
     "output_type": "stream",
     "text": [
      "downloading TDG\n"
     ]
    },
    {
     "name": "stdout",
     "output_type": "stream",
     "text": [
      "downloading RIG\n"
     ]
    },
    {
     "name": "stdout",
     "output_type": "stream",
     "text": [
      "downloading TRIP\n"
     ]
    },
    {
     "name": "stdout",
     "output_type": "stream",
     "text": [
      "downloading FOXA\n"
     ]
    },
    {
     "name": "stdout",
     "output_type": "stream",
     "text": [
      "downloading FOX\n"
     ]
    },
    {
     "name": "stdout",
     "output_type": "stream",
     "text": [
      "downloading TSN\n"
     ]
    },
    {
     "name": "stdout",
     "output_type": "stream",
     "text": [
      "downloading USB\n"
     ]
    },
    {
     "name": "stdout",
     "output_type": "stream",
     "text": [
      "downloading UDR\n"
     ]
    },
    {
     "name": "stdout",
     "output_type": "stream",
     "text": [
      "downloading ULTA\n"
     ]
    },
    {
     "name": "stdout",
     "output_type": "stream",
     "text": [
      "downloading UA\n"
     ]
    },
    {
     "name": "stdout",
     "output_type": "stream",
     "text": [
      "downloading UAA\n"
     ]
    },
    {
     "name": "stdout",
     "output_type": "stream",
     "text": [
      "downloading UNP\n"
     ]
    },
    {
     "name": "stdout",
     "output_type": "stream",
     "text": [
      "downloading UAL\n"
     ]
    },
    {
     "name": "stdout",
     "output_type": "stream",
     "text": [
      "downloading UNH\n"
     ]
    },
    {
     "name": "stdout",
     "output_type": "stream",
     "text": [
      "downloading UPS\n"
     ]
    },
    {
     "name": "stdout",
     "output_type": "stream",
     "text": [
      "downloading URI\n"
     ]
    },
    {
     "name": "stdout",
     "output_type": "stream",
     "text": [
      "downloading UTX\n"
     ]
    },
    {
     "name": "stdout",
     "output_type": "stream",
     "text": [
      "downloading UHS\n"
     ]
    },
    {
     "name": "stdout",
     "output_type": "stream",
     "text": [
      "downloading UNM\n"
     ]
    },
    {
     "name": "stdout",
     "output_type": "stream",
     "text": [
      "downloading URBN\n"
     ]
    },
    {
     "name": "stdout",
     "output_type": "stream",
     "text": [
      "downloading VFC\n"
     ]
    },
    {
     "name": "stdout",
     "output_type": "stream",
     "text": [
      "downloading VLO\n"
     ]
    },
    {
     "name": "stdout",
     "output_type": "stream",
     "text": [
      "downloading VAR\n"
     ]
    },
    {
     "name": "stdout",
     "output_type": "stream",
     "text": [
      "downloading VTR\n"
     ]
    },
    {
     "name": "stdout",
     "output_type": "stream",
     "text": [
      "downloading VRSN\n"
     ]
    },
    {
     "name": "stdout",
     "output_type": "stream",
     "text": [
      "downloading VRSK\n"
     ]
    },
    {
     "name": "stdout",
     "output_type": "stream",
     "text": [
      "downloading VZ\n"
     ]
    },
    {
     "name": "stdout",
     "output_type": "stream",
     "text": [
      "downloading VRTX\n"
     ]
    },
    {
     "name": "stdout",
     "output_type": "stream",
     "text": [
      "downloading VIAB\n"
     ]
    },
    {
     "name": "stdout",
     "output_type": "stream",
     "text": [
      "downloading V\n"
     ]
    },
    {
     "name": "stdout",
     "output_type": "stream",
     "text": [
      "downloading VNO\n"
     ]
    },
    {
     "name": "stdout",
     "output_type": "stream",
     "text": [
      "downloading VMC\n"
     ]
    },
    {
     "name": "stdout",
     "output_type": "stream",
     "text": [
      "downloading WMT\n"
     ]
    },
    {
     "name": "stdout",
     "output_type": "stream",
     "text": [
      "downloading WBA\n"
     ]
    },
    {
     "name": "stdout",
     "output_type": "stream",
     "text": [
      "downloading WM\n"
     ]
    },
    {
     "name": "stdout",
     "output_type": "stream",
     "text": [
      "downloading WAT\n"
     ]
    },
    {
     "name": "stdout",
     "output_type": "stream",
     "text": [
      "downloading WEC\n"
     ]
    },
    {
     "name": "stdout",
     "output_type": "stream",
     "text": [
      "downloading WFC\n"
     ]
    },
    {
     "name": "stdout",
     "output_type": "stream",
     "text": [
      "downloading HCN\n"
     ]
    },
    {
     "name": "stdout",
     "output_type": "stream",
     "text": [
      "downloading WDC\n"
     ]
    },
    {
     "name": "stdout",
     "output_type": "stream",
     "text": [
      "downloading WU\n"
     ]
    },
    {
     "name": "stdout",
     "output_type": "stream",
     "text": [
      "downloading WRK\n"
     ]
    },
    {
     "name": "stdout",
     "output_type": "stream",
     "text": [
      "downloading WY\n"
     ]
    },
    {
     "name": "stdout",
     "output_type": "stream",
     "text": [
      "downloading WHR\n"
     ]
    },
    {
     "name": "stdout",
     "output_type": "stream",
     "text": [
      "downloading WFM\n"
     ]
    },
    {
     "name": "stdout",
     "output_type": "stream",
     "text": [
      "downloading WMB\n"
     ]
    },
    {
     "name": "stdout",
     "output_type": "stream",
     "text": [
      "downloading WLTW\ndownloading WYN\n"
     ]
    },
    {
     "name": "stdout",
     "output_type": "stream",
     "text": [
      "downloading WYNN\n"
     ]
    },
    {
     "name": "stdout",
     "output_type": "stream",
     "text": [
      "downloading XEL\n"
     ]
    },
    {
     "name": "stdout",
     "output_type": "stream",
     "text": [
      "downloading XRX\n"
     ]
    },
    {
     "name": "stdout",
     "output_type": "stream",
     "text": [
      "downloading XLNX\n"
     ]
    },
    {
     "name": "stdout",
     "output_type": "stream",
     "text": [
      "downloading XL\n"
     ]
    },
    {
     "name": "stdout",
     "output_type": "stream",
     "text": [
      "downloading XYL\n"
     ]
    },
    {
     "name": "stdout",
     "output_type": "stream",
     "text": [
      "downloading YHOO\n"
     ]
    },
    {
     "name": "stdout",
     "output_type": "stream",
     "text": [
      "downloading YUM\n"
     ]
    },
    {
     "name": "stdout",
     "output_type": "stream",
     "text": [
      "downloading ZBH\n"
     ]
    },
    {
     "name": "stdout",
     "output_type": "stream",
     "text": [
      "downloading ZION\n"
     ]
    },
    {
     "name": "stdout",
     "output_type": "stream",
     "text": [
      "downloading ZTS\n"
     ]
    }
   ],
   "source": [
    "with open(\"SP500list.txt\") as f:\n",
    "    nodenames = f.read().splitlines()\n",
    "data = get_quandl_data(nodenames, startdate='1900-01-01', enddate='2017-06-28')\n",
    "data.to_csv(\"SP500_full.csv\")"
   ]
  },
  {
   "cell_type": "code",
   "execution_count": 21,
   "metadata": {},
   "outputs": [],
   "source": [
    "window = 100\n",
    "space = 10\n",
    "thresh = 95\n",
    "filename = \"SP500_from_1985.csv\"\n",
    "enddate='2017-06-28'\n",
    "startdate='1985-01-02'"
   ]
  },
  {
   "cell_type": "code",
   "execution_count": 42,
   "metadata": {},
   "outputs": [],
   "source": [
    "data = importdata(\"SP500_full.csv\")\n",
    "startpos = int(np.where(data.index == startdate)[0])\n",
    "existing_stocks = data.iloc[startpos:startpos+6].dropna(axis=1, how=\"all\").columns\n",
    "existing_prices = data[existing_stocks]\n",
    "existing_prices.to_csv(\"SP500_from_1985.csv\")"
   ]
  },
  {
   "cell_type": "code",
   "execution_count": 44,
   "metadata": {},
   "outputs": [],
   "source": [
    "trees = construct_trees(filename=filename, thresh=thresh, window=window,\n",
    "                        enddate=enddate,\n",
    "                        startdate=startdate,\n",
    "                        space=space, tree_type='MST')\n",
    "sorteddates = sorted(trees.keys(), key=lambda d: map(int, d.split('-')))\n",
    "IGtrees = {}\n",
    "for key in sorteddates:\n",
    "    IGtrees[key] = NXtoIG(trees[key])"
   ]
  },
  {
   "cell_type": "code",
   "execution_count": 61,
   "metadata": {
    "collapsed": true
   },
   "outputs": [
    {
     "data": {
      "text/plain": [
       "['1985-01-16',\n '1985-01-30',\n '1985-02-13',\n '1985-02-28',\n '1985-03-14',\n '1985-03-28',\n '1985-04-12',\n '1985-04-26',\n '1985-05-10',\n '1985-05-24',\n '1985-06-10',\n '1985-06-24',\n '1985-07-09',\n '1985-07-23',\n '1985-08-06',\n '1985-08-20',\n '1985-09-04',\n '1985-09-18',\n '1985-10-03',\n '1985-10-17',\n '1985-10-31',\n '1985-11-14',\n '1985-11-29',\n '1985-12-13',\n '1985-12-30',\n '1986-01-14',\n '1986-01-28',\n '1986-02-11',\n '1986-02-26',\n '1986-03-12',\n '1986-03-26',\n '1986-04-10',\n '1986-04-24',\n '1986-05-08',\n '1986-05-22',\n '1986-06-06',\n '1986-06-20',\n '1986-07-07',\n '1986-07-21',\n '1986-08-04',\n '1986-08-18',\n '1986-09-02',\n '1986-09-16',\n '1986-09-30',\n '1986-10-14',\n '1986-10-28',\n '1986-11-11',\n '1986-11-25',\n '1986-12-10',\n '1986-12-24',\n '1987-01-09',\n '1987-01-23',\n '1987-02-06',\n '1987-02-23',\n '1987-03-09',\n '1987-03-23',\n '1987-04-06',\n '1987-04-21',\n '1987-05-05',\n '1987-05-19',\n '1987-06-03',\n '1987-06-17',\n '1987-07-01',\n '1987-07-16',\n '1987-07-30',\n '1987-08-13',\n '1987-08-27',\n '1987-09-11',\n '1987-09-25',\n '1987-10-09',\n '1987-10-23',\n '1987-11-06',\n '1987-11-20',\n '1987-12-07',\n '1987-12-21',\n '1988-01-06',\n '1988-01-20',\n '1988-02-03',\n '1988-02-18',\n '1988-03-03',\n '1988-03-17',\n '1988-03-31',\n '1988-04-15',\n '1988-04-29',\n '1988-05-13',\n '1988-05-27',\n '1988-06-13',\n '1988-06-27',\n '1988-07-12',\n '1988-07-26',\n '1988-08-09',\n '1988-08-23',\n '1988-09-07',\n '1988-09-21',\n '1988-10-05',\n '1988-10-19',\n '1988-11-02',\n '1988-11-16',\n '1988-12-01',\n '1988-12-15',\n '1988-12-30',\n '1989-01-16',\n '1989-01-30',\n '1989-02-13',\n '1989-02-28',\n '1989-03-14',\n '1989-03-29',\n '1989-04-12',\n '1989-04-26',\n '1989-05-10',\n '1989-05-24',\n '1989-06-08',\n '1989-06-22',\n '1989-07-07',\n '1989-07-21',\n '1989-08-04',\n '1989-08-18',\n '1989-09-01',\n '1989-09-18',\n '1989-10-02',\n '1989-10-16',\n '1989-10-30',\n '1989-11-13',\n '1989-11-28',\n '1989-12-12',\n '1989-12-27',\n '1990-01-11',\n '1990-01-25',\n '1990-02-08',\n '1990-02-23',\n '1990-03-09',\n '1990-03-23',\n '1990-04-06',\n '1990-04-23',\n '1990-05-07',\n '1990-05-21',\n '1990-06-05',\n '1990-06-19',\n '1990-07-03',\n '1990-07-18',\n '1990-08-01',\n '1990-08-15',\n '1990-08-29',\n '1990-09-13',\n '1990-09-27',\n '1990-10-11',\n '1990-10-25',\n '1990-11-08',\n '1990-11-23',\n '1990-12-07',\n '1990-12-21',\n '1991-01-08',\n '1991-01-22',\n '1991-02-05',\n '1991-02-20',\n '1991-03-06',\n '1991-03-20',\n '1991-04-04',\n '1991-04-18',\n '1991-05-02',\n '1991-05-16',\n '1991-05-31',\n '1991-06-14',\n '1991-06-28',\n '1991-07-15',\n '1991-07-29',\n '1991-08-12',\n '1991-08-26',\n '1991-09-10',\n '1991-09-24',\n '1991-10-08',\n '1991-10-22',\n '1991-11-05',\n '1991-11-19',\n '1991-12-04',\n '1991-12-18',\n '1992-01-03',\n '1992-01-17',\n '1992-01-31',\n '1992-02-14',\n '1992-03-02',\n '1992-03-16',\n '1992-03-30',\n '1992-04-13',\n '1992-04-28',\n '1992-05-12',\n '1992-05-27',\n '1992-06-10',\n '1992-06-24',\n '1992-07-09',\n '1992-07-23',\n '1992-08-06',\n '1992-08-20',\n '1992-09-03',\n '1992-09-18',\n '1992-10-02',\n '1992-10-16',\n '1992-10-30',\n '1992-11-13',\n '1992-11-30',\n '1992-12-14',\n '1992-12-29',\n '1993-01-13',\n '1993-01-27',\n '1993-02-10',\n '1993-02-25',\n '1993-03-11',\n '1993-03-25',\n '1993-04-08',\n '1993-04-23',\n '1993-05-07',\n '1993-05-21',\n '1993-06-07',\n '1993-06-21',\n '1993-07-06',\n '1993-07-20',\n '1993-08-03',\n '1993-08-17',\n '1993-08-31',\n '1993-09-15',\n '1993-09-29',\n '1993-10-13',\n '1993-10-27',\n '1993-11-10',\n '1993-11-24',\n '1993-12-09',\n '1993-12-23',\n '1994-01-07',\n '1994-01-21',\n '1994-02-04',\n '1994-02-18',\n '1994-03-07',\n '1994-03-21',\n '1994-04-05',\n '1994-04-19',\n '1994-05-04',\n '1994-05-18',\n '1994-06-02',\n '1994-06-16',\n '1994-06-30',\n '1994-07-15',\n '1994-07-29',\n '1994-08-12',\n '1994-08-26',\n '1994-09-12',\n '1994-09-26',\n '1994-10-10',\n '1994-10-24',\n '1994-11-07',\n '1994-11-21',\n '1994-12-06',\n '1994-12-20',\n '1995-01-05',\n '1995-01-19',\n '1995-02-02',\n '1995-02-16',\n '1995-03-03',\n '1995-03-17',\n '1995-03-31',\n '1995-04-17',\n '1995-05-01',\n '1995-05-15',\n '1995-05-30',\n '1995-06-13',\n '1995-06-27',\n '1995-07-12',\n '1995-07-26',\n '1995-08-09',\n '1995-08-23',\n '1995-09-07',\n '1995-09-21',\n '1995-10-05',\n '1995-10-19',\n '1995-11-02',\n '1995-11-16',\n '1995-12-01',\n '1995-12-15',\n '1996-01-02',\n '1996-01-16',\n '1996-01-30',\n '1996-02-13',\n '1996-02-28',\n '1996-03-13',\n '1996-03-27',\n '1996-04-11',\n '1996-04-25',\n '1996-05-09',\n '1996-05-23',\n '1996-06-07',\n '1996-06-21',\n '1996-07-08',\n '1996-07-22',\n '1996-08-05',\n '1996-08-19',\n '1996-09-03',\n '1996-09-17',\n '1996-10-01',\n '1996-10-15',\n '1996-10-29',\n '1996-11-12',\n '1996-11-26',\n '1996-12-11',\n '1996-12-26',\n '1997-01-10',\n '1997-01-24',\n '1997-02-07',\n '1997-02-24',\n '1997-03-10',\n '1997-03-24',\n '1997-04-08',\n '1997-04-22',\n '1997-05-06',\n '1997-05-20',\n '1997-06-04',\n '1997-06-18',\n '1997-07-02',\n '1997-07-17',\n '1997-07-31',\n '1997-08-14',\n '1997-08-28',\n '1997-09-12',\n '1997-09-26',\n '1997-10-10',\n '1997-10-24',\n '1997-11-07',\n '1997-11-21',\n '1997-12-08',\n '1997-12-22',\n '1998-01-07',\n '1998-01-22',\n '1998-02-05',\n '1998-02-20',\n '1998-03-06',\n '1998-03-20',\n '1998-04-03',\n '1998-04-20',\n '1998-05-04',\n '1998-05-18',\n '1998-06-02',\n '1998-06-16',\n '1998-06-30',\n '1998-07-15',\n '1998-07-29',\n '1998-08-12',\n '1998-08-26',\n '1998-09-10',\n '1998-09-24',\n '1998-10-08',\n '1998-10-22',\n '1998-11-05',\n '1998-11-19',\n '1998-12-04',\n '1998-12-18',\n '1999-01-05',\n '1999-01-20',\n '1999-02-03',\n '1999-02-18',\n '1999-03-04',\n '1999-03-18',\n '1999-04-01',\n '1999-04-16',\n '1999-04-30',\n '1999-05-14',\n '1999-05-28',\n '1999-06-14',\n '1999-06-28',\n '1999-07-13',\n '1999-07-27',\n '1999-08-10',\n '1999-08-24',\n '1999-09-08',\n '1999-09-22',\n '1999-10-06',\n '1999-10-20',\n '1999-11-03',\n '1999-11-17',\n '1999-12-02',\n '1999-12-16',\n '1999-12-31',\n '2000-01-14',\n '2000-01-31',\n '2000-02-14',\n '2000-02-29',\n '2000-03-14',\n '2000-03-28',\n '2000-04-11',\n '2000-04-26',\n '2000-05-10',\n '2000-05-24',\n '2000-06-08',\n '2000-06-22',\n '2000-07-07',\n '2000-07-21',\n '2000-08-04',\n '2000-08-18',\n '2000-09-01',\n '2000-09-18',\n '2000-10-02',\n '2000-10-16',\n '2000-10-30',\n '2000-11-13',\n '2000-11-28',\n '2000-12-12',\n '2000-12-27',\n '2001-01-11',\n '2001-01-26',\n '2001-02-09',\n '2001-02-26',\n '2001-03-12',\n '2001-03-26',\n '2001-04-09',\n '2001-04-24',\n '2001-05-08',\n '2001-05-22',\n '2001-06-06',\n '2001-06-20',\n '2001-07-05',\n '2001-07-19',\n '2001-08-02',\n '2001-08-16',\n '2001-08-30',\n '2001-09-20',\n '2001-10-04',\n '2001-10-18',\n '2001-11-01',\n '2001-11-15',\n '2001-11-30',\n '2001-12-14',\n '2001-12-31',\n '2002-01-15',\n '2002-01-30',\n '2002-02-13',\n '2002-02-28',\n '2002-03-14',\n '2002-03-28',\n '2002-04-12',\n '2002-04-26',\n '2002-05-10',\n '2002-05-24',\n '2002-06-10',\n '2002-06-24',\n '2002-07-09',\n '2002-07-23',\n '2002-08-06',\n '2002-08-20',\n '2002-09-04',\n '2002-09-18',\n '2002-10-02',\n '2002-10-16',\n '2002-10-30',\n '2002-11-13',\n '2002-11-27',\n '2002-12-12',\n '2002-12-27',\n '2003-01-13',\n '2003-01-28',\n '2003-02-11',\n '2003-02-26',\n '2003-03-12',\n '2003-03-26',\n '2003-04-09',\n '2003-04-24',\n '2003-05-08',\n '2003-05-22',\n '2003-06-06',\n '2003-06-20',\n '2003-07-07',\n '2003-07-21',\n '2003-08-04',\n '2003-08-18',\n '2003-09-02',\n '2003-09-16',\n '2003-09-30',\n '2003-10-14',\n '2003-10-28',\n '2003-11-11',\n '2003-11-25',\n '2003-12-10',\n '2003-12-24',\n '2004-01-09',\n '2004-01-26',\n '2004-02-09',\n '2004-02-24',\n '2004-03-09',\n '2004-03-23',\n '2004-04-06',\n '2004-04-21',\n '2004-05-05',\n '2004-05-19',\n '2004-06-03',\n '2004-06-18',\n '2004-07-02',\n '2004-07-19',\n '2004-08-02',\n '2004-08-16',\n '2004-08-30',\n '2004-09-14',\n '2004-09-28',\n '2004-10-12',\n '2004-10-26',\n '2004-11-09',\n '2004-11-23',\n '2004-12-08',\n '2004-12-22',\n '2005-01-06',\n '2005-01-21',\n '2005-02-04',\n '2005-02-18',\n '2005-03-07',\n '2005-03-21',\n '2005-04-05',\n '2005-04-19',\n '2005-05-03',\n '2005-05-17',\n '2005-06-01',\n '2005-06-15',\n '2005-06-29',\n '2005-07-14',\n '2005-07-28',\n '2005-08-11',\n '2005-08-25',\n '2005-09-09',\n '2005-09-23',\n '2005-10-07',\n '2005-10-21',\n '2005-11-04',\n '2005-11-18',\n '2005-12-05',\n '2005-12-19',\n '2006-01-04',\n '2006-01-19',\n '2006-02-02',\n '2006-02-16',\n '2006-03-03',\n '2006-03-17',\n '2006-03-31',\n '2006-04-17',\n '2006-05-01',\n '2006-05-15',\n '2006-05-30',\n '2006-06-13',\n '2006-06-27',\n '2006-07-12',\n '2006-07-26',\n '2006-08-09',\n '2006-08-23',\n '2006-09-07',\n '2006-09-21',\n '2006-10-05',\n '2006-10-19',\n '2006-11-02',\n '2006-11-16',\n '2006-12-01',\n '2006-12-15',\n '2007-01-03',\n '2007-01-18',\n '2007-02-01',\n '2007-02-15',\n '2007-03-02',\n '2007-03-16',\n '2007-03-30',\n '2007-04-16',\n '2007-04-30',\n '2007-05-14',\n '2007-05-29',\n '2007-06-12',\n '2007-06-26',\n '2007-07-11',\n '2007-07-25',\n '2007-08-08',\n '2007-08-22',\n '2007-09-06',\n '2007-09-20',\n '2007-10-04',\n '2007-10-18',\n '2007-11-01',\n '2007-11-15',\n '2007-11-30',\n '2007-12-14',\n '2007-12-31',\n '2008-01-15',\n '2008-01-30',\n '2008-02-13',\n '2008-02-28',\n '2008-03-13',\n '2008-03-28',\n '2008-04-11',\n '2008-04-25',\n '2008-05-09',\n '2008-05-23',\n '2008-06-09',\n '2008-06-23',\n '2008-07-08',\n '2008-07-22',\n '2008-08-05',\n '2008-08-19',\n '2008-09-03',\n '2008-09-17',\n '2008-10-01',\n '2008-10-15',\n '2008-10-29',\n '2008-11-12',\n '2008-11-26',\n '2008-12-11',\n '2008-12-26',\n '2009-01-12',\n '2009-01-27',\n '2009-02-10',\n '2009-02-25',\n '2009-03-11',\n '2009-03-25',\n '2009-04-08',\n '2009-04-23',\n '2009-05-07',\n '2009-05-21',\n '2009-06-05',\n '2009-06-19',\n '2009-07-06',\n '2009-07-20',\n '2009-08-03',\n '2009-08-17',\n '2009-08-31',\n '2009-09-15',\n '2009-09-29',\n '2009-10-13',\n '2009-10-27',\n '2009-11-10',\n '2009-11-24',\n '2009-12-09',\n '2009-12-23',\n '2010-01-08',\n '2010-01-25',\n '2010-02-08',\n '2010-02-23',\n '2010-03-09',\n '2010-03-23',\n '2010-04-07',\n '2010-04-21',\n '2010-05-05',\n '2010-05-19',\n '2010-06-03',\n '2010-06-17',\n '2010-07-01',\n '2010-07-16',\n '2010-07-30',\n '2010-08-13',\n '2010-08-27',\n '2010-09-13',\n '2010-09-27',\n '2010-10-11',\n '2010-10-25',\n '2010-11-08',\n '2010-11-22',\n '2010-12-07',\n '2010-12-21',\n '2011-01-05',\n '2011-01-20',\n '2011-02-03',\n '2011-02-17',\n '2011-03-04',\n '2011-03-18',\n '2011-04-01',\n '2011-04-15',\n '2011-05-02',\n '2011-05-16',\n '2011-05-31',\n '2011-06-14',\n '2011-06-28',\n '2011-07-13',\n '2011-07-27',\n '2011-08-10',\n '2011-08-24',\n '2011-09-08',\n '2011-09-22',\n '2011-10-06',\n '2011-10-20',\n '2011-11-03',\n '2011-11-17',\n '2011-12-02',\n '2011-12-16',\n '2012-01-03',\n '2012-01-18',\n '2012-02-01',\n '2012-02-15',\n '2012-03-01',\n '2012-03-15',\n '2012-03-29',\n '2012-04-13',\n '2012-04-27',\n '2012-05-11',\n '2012-05-25',\n '2012-06-11',\n '2012-06-25',\n '2012-07-10',\n '2012-07-24',\n '2012-08-07',\n '2012-08-21',\n '2012-09-05',\n '2012-09-19',\n '2012-10-03',\n '2012-10-17',\n '2012-11-02',\n '2012-11-16',\n '2012-12-03',\n '2012-12-17',\n '2013-01-02',\n '2013-01-16',\n '2013-01-31',\n '2013-02-14',\n '2013-03-01',\n '2013-03-15',\n '2013-04-01',\n '2013-04-15',\n '2013-04-29',\n '2013-05-13',\n '2013-05-28',\n '2013-06-11',\n '2013-06-25',\n '2013-07-10',\n '2013-07-24',\n '2013-08-07',\n '2013-08-21',\n '2013-09-05',\n '2013-09-19',\n '2013-10-03',\n '2013-10-17',\n '2013-10-31',\n '2013-11-14',\n '2013-11-29',\n '2013-12-13',\n '2013-12-30',\n '2014-01-14',\n '2014-01-29',\n '2014-02-12',\n '2014-02-27',\n '2014-03-13',\n '2014-03-27',\n '2014-04-10',\n '2014-04-25',\n '2014-05-09',\n '2014-05-23',\n '2014-06-09',\n '2014-06-23',\n '2014-07-08',\n '2014-07-22',\n '2014-08-05',\n '2014-08-19',\n '2014-09-03',\n '2014-09-17',\n '2014-10-01',\n '2014-10-15',\n '2014-10-29',\n '2014-11-12',\n '2014-11-26',\n '2014-12-11',\n '2014-12-26',\n '2015-01-12',\n '2015-01-27',\n '2015-02-10',\n '2015-02-25',\n '2015-03-11',\n '2015-03-25',\n '2015-04-09',\n '2015-04-23',\n '2015-05-07',\n '2015-05-21',\n '2015-06-05',\n '2015-06-19',\n '2015-07-06',\n '2015-07-20',\n '2015-08-03',\n '2015-08-17',\n '2015-08-31',\n '2015-09-15',\n '2015-09-29',\n '2015-10-13',\n '2015-10-27',\n '2015-11-10',\n '2015-11-24',\n '2015-12-09',\n '2015-12-23',\n '2016-01-08',\n '2016-01-25',\n '2016-02-08',\n '2016-02-23',\n '2016-03-08',\n '2016-03-22',\n '2016-04-06',\n '2016-04-20',\n '2016-05-04',\n '2016-05-18',\n '2016-06-02',\n '2016-06-16',\n '2016-06-30',\n '2016-07-15',\n '2016-07-29',\n '2016-08-12',\n '2016-08-26',\n '2016-09-12',\n '2016-09-26',\n '2016-10-10',\n '2016-10-24',\n '2016-11-07',\n '2016-11-21',\n '2016-12-06',\n '2016-12-20',\n '2017-01-05',\n '2017-01-20',\n '2017-02-03',\n '2017-02-17',\n '2017-03-06',\n '2017-03-20',\n '2017-04-03',\n '2017-04-18',\n '2017-05-02',\n '2017-05-16',\n '2017-05-31',\n '2017-06-14',\n '2017-06-28']"
      ]
     },
     "execution_count": 61,
     "metadata": {},
     "output_type": "execute_result"
    }
   ],
   "source": [
    "sorteddates"
   ]
  },
  {
   "cell_type": "code",
   "execution_count": 63,
   "metadata": {
    "collapsed": true
   },
   "outputs": [
    {
     "data": {
      "text/plain": [
       "['AXP',\n 'NSC',\n 'BA',\n 'AAPL',\n 'EXC',\n 'TAP',\n 'AON',\n 'MUR',\n 'HST',\n 'GT',\n 'GIS',\n 'D',\n 'DNB',\n 'HRS',\n 'GPC',\n 'GE',\n 'GD',\n 'T',\n 'MRK',\n 'HAS',\n 'MAS',\n 'PKI',\n 'MAT',\n 'JNJ',\n 'APA',\n 'APD',\n 127,\n 128,\n 'AEP',\n 130,\n 131,\n 132,\n 'AET',\n 'CMI',\n 135,\n 136,\n 137,\n 138,\n 139,\n 140,\n 141,\n 142,\n 143,\n 144,\n 'AMAT',\n 'IFF',\n 147,\n 148,\n 'EMR',\n 'FDX',\n 'BF_B',\n 'CMS',\n 'PCG',\n 'HD',\n 'MMM',\n 'LLY',\n 'ROK',\n 'INTC',\n 'ETN',\n 'RTN',\n 'AME',\n 'PG',\n 'NWL',\n 'LMT',\n 'BMY',\n 'AFL',\n 'C',\n 'OXY',\n 'ED',\n 'K',\n 'BLL',\n 'CSX',\n 'BDX',\n 'ES',\n 'AVY',\n 'MO',\n 'PSA',\n 'NOC',\n 'ETR',\n 'COP',\n 'HES',\n 'NEM',\n 'KMB',\n 129,\n 'NEE',\n 'PEP',\n 'AMGN',\n 'GWW',\n 'BEN',\n 'PEG',\n 'FL',\n 'DOW',\n 'BCR',\n 'GLW',\n 'NI',\n 134,\n 'NBL',\n 'NUE',\n 'HP',\n 'LNC',\n 'CI',\n 'DUK',\n 'ADP',\n 'CL',\n 'CB',\n 'CA',\n 'R',\n 'DTE',\n 'FRT',\n 'PFE',\n 'ADM',\n 'ADI',\n 'ALK',\n 145,\n 'KO',\n 146,\n 'ARNC',\n 'KR',\n 'MDT',\n 'SWKS',\n 'PNR',\n 'IBM',\n 'CVX',\n 'EIX',\n 'DD',\n 'DE',\n 'CVS',\n 'BAX',\n 'CAT',\n 'MSI',\n 'HAL',\n 'AIG',\n 'CAG',\n 133,\n 'F',\n 'CNP',\n 'HON',\n 'IP',\n 'HPQ',\n 'ABT',\n 'XOM',\n 'SLB',\n 'AJG',\n 'JPM',\n 'NKE',\n 'MCD',\n 'PNW',\n 'MRO',\n 'HUM']"
      ]
     },
     "execution_count": 63,
     "metadata": {},
     "output_type": "execute_result"
    }
   ],
   "source": [
    "list(trees['1988-11-16'].nodes())"
   ]
  },
  {
   "cell_type": "code",
   "execution_count": 45,
   "metadata": {},
   "outputs": [],
   "source": [
    "clustersNewman, IGclustersNewman = construct_clusters(IGtrees, method='Newman')\n",
    "clustersClausetNewman, IGclustersClausetNewman = construct_clusters(IGtrees, method=\"ClausetNewman\")"
   ]
  },
  {
   "cell_type": "code",
   "execution_count": 53,
   "metadata": {
    "collapsed": true
   },
   "outputs": [
    {
     "data": {
      "text/plain": [
       "['AXP',\n 'NSC',\n 'BA',\n 'AAPL',\n 'BK',\n 'EXC',\n 'TAP',\n 'AON',\n 'HST',\n 'GT',\n 'HAL',\n 'DNB',\n 'HRS',\n 'GPC',\n 'GE',\n 'MRO',\n 'T',\n 'MRK',\n 'MAS',\n 'PKI',\n 'MAT',\n 'JNJ',\n 'SYY',\n 'APA',\n 'APD',\n 127,\n 128,\n 'AEP',\n 130,\n 131,\n 132,\n 133,\n 134,\n 135,\n 136,\n 'KO',\n 'HP',\n 'DTE',\n 'AMAT',\n 'IFF',\n 'SWKS',\n 'EMR',\n 'FDX',\n 'BF_B',\n 'PCG',\n 'HD',\n 'MMM',\n 'LLY',\n 'ROK',\n 'CNP',\n 'TSO',\n 'ETN',\n 'RTN',\n 'AME',\n 'PG',\n 'NWL',\n 'BMY',\n 'AFL',\n 'C',\n 'OXY',\n 'ED',\n 'BLL',\n 'CSX',\n 'BDX',\n 'ES',\n 'AVY',\n 'MO',\n 'PSA',\n 'NOC',\n 'GLW',\n 'COO',\n 'ETR',\n 'COP',\n 'NEM',\n 'LUV',\n 'MUR',\n 'NEE',\n 'PEP',\n 'AMGN',\n 'BEN',\n 'PEG',\n 'FL',\n 'DOW',\n 'BCR',\n 'AET',\n 129,\n 'NBL',\n 'NUE',\n 'MDT',\n 'CI',\n 'DUK',\n 'ADP',\n 'HES',\n 'CB',\n 'CA',\n 'R',\n 'CLX',\n 'FRT',\n 'JPM',\n 'ADM',\n 'ADI',\n 'ALK',\n 'LMT',\n 'ARNC',\n 'KR',\n 'SO',\n 'CL',\n 'PNR',\n 'IBM',\n 'CVX',\n 'EIX',\n 'DD',\n 'DE',\n 'BAX',\n 'CAT',\n 'MSI',\n 'GIS',\n 'AIG',\n 'CAG',\n 'DIS',\n 'TXN',\n 'TGT',\n 'F',\n 'INTC',\n 'HON',\n 'IP',\n 'HPQ',\n 'ABT',\n 'XOM',\n 'SLB',\n 'AJG',\n 'PFE',\n 'NKE',\n 'MCD',\n 'PNW',\n 'GD',\n 'HUM']"
      ]
     },
     "execution_count": 53,
     "metadata": {},
     "output_type": "execute_result"
    }
   ],
   "source": [
    "IGtrees['1985-01-30'].vs[\"name\"]"
   ]
  },
  {
   "cell_type": "code",
   "execution_count": 46,
   "metadata": {
    "collapsed": false
   },
   "outputs": [
    {
     "name": "stdout",
     "output_type": "stream",
     "text": [
      "Newman           37.059829\nClausetNewman    33.246642\ndtype: float64\n"
     ]
    },
    {
     "data": {
      "text/plain": [
       "<matplotlib.axes._subplots.AxesSubplot at 0x11b0bd610>"
      ]
     },
     "execution_count": 46,
     "metadata": {},
     "output_type": "execute_result"
    },
    {
     "data": {
      "image/png": "[encoded data removed]",
      "text/plain": [
       "<matplotlib.figure.Figure at 0x119cb3d90>"
      ]
     },
     "metadata": {},
     "output_type": "display_data"
    }
   ],
   "source": [
    "nofclusters = pd.DataFrame(index=sorteddates)\n",
    "nofclusters['Newman'] = [len(clustersNewman[sorteddates[i]]) for i in range(0, len(sorteddates))]\n",
    "nofclusters['ClausetNewman'] = [len(clustersClausetNewman[sorteddates[i]]) for i in range(0, len(sorteddates))]\n",
    "print(np.mean(nofclusters))\n",
    "%matplotlib inline\n",
    "nofclusters.plot(figsize=(15, 8))"
   ]
  },
  {
   "cell_type": "code",
   "execution_count": 8,
   "metadata": {},
   "outputs": [],
   "source": [
    "NewmanUniverse = {}\n",
    "ClausetNewmanUniverse = {}\n",
    "for measure in ['degree', 'closeness', 'betweenness']:\n",
    "    NewmanUniverse[measure] = clustering_universe(trees, clustersNewman, measure, quantile=0)\n",
    "    ClausetNewmanUniverse[measure] = clustering_universe(trees, clustersClausetNewman, measure, quantile=0)\n",
    "\n",
    "universes = {}\n",
    "universes['Newman'] = NewmanUniverse\n",
    "universes['ClausetNewman'] = ClausetNewmanUniverse"
   ]
  },
  {
   "cell_type": "code",
   "execution_count": 52,
   "metadata": {},
   "outputs": [
    {
     "data": {
      "text/plain": [
       "['AXP',\n 'NSC',\n 'BA',\n 'AAPL',\n 'BK',\n 'AON',\n 'DNB',\n 'GE',\n 'MRO',\n 'MRK',\n 'PKI',\n 'JNJ',\n 'APA',\n 'EMR',\n 'LLY',\n 'ROK',\n 'RTN',\n 'PG',\n 'CSX',\n 'BDX',\n 'MO',\n 'LUV',\n 'PEP',\n 'DOW',\n 'BCR',\n 'NUE',\n 'CI',\n 'CB',\n 'JPM',\n 'ADM',\n 'ARNC',\n 'IBM',\n 'CVX',\n 'DD',\n 'BAX',\n 'CAT',\n 'AIG',\n 'TGT',\n 'F',\n 'HON',\n 'HPQ',\n 'ABT',\n 'XOM',\n 'PFE',\n 'MCD',\n 'HUM']"
      ]
     },
     "execution_count": 52,
     "metadata": {},
     "output_type": "execute_result"
    }
   ],
   "source": [
    "clustersNewman['1985-01-30'][0]"
   ]
  },
  {
   "cell_type": "code",
   "execution_count": 9,
   "metadata": {},
   "outputs": [],
   "source": [
    "text_file = open(\"Central-NewmanBetweenness-SP500_1985.txt\", \"w\")\n",
    "for t in sorteddates:\n",
    "    text_file.write('%s: ' % t)\n",
    "    for stock in universes['Newman']['betweenness'][t]['central']:\n",
    "        text_file.write('%s ' % stock)\n",
    "    text_file.write('\\n')\n",
    "text_file.close()"
   ]
  },
  {
   "cell_type": "code",
   "execution_count": 9,
   "metadata": {
    "collapsed": true
   },
   "outputs": [],
   "source": [
    "performance_weighted, performance_unweighted = benchmark_performance(filename=filename, thresh=thresh,\n",
    "                                                                     universes=universes, window=window)\n",
    "performance_comparison_weighted = {'benchmark': performance_weighted}\n",
    "performance_comparison_unweighted = {'benchmark': performance_unweighted}\n"
   ]
  },
  {
   "cell_type": "code",
   "execution_count": 10,
   "metadata": {},
   "outputs": [],
   "source": [
    "for method in ['Newman', 'ClausetNewman']:\n",
    "    performance_comparison_unweighted[method] = {}\n",
    "    for measure in ['degree', 'closeness', 'betweenness']:\n",
    "        temp = clustering_performance(filename=filename, thresh=thresh, universes=universes[method][measure],\n",
    "                                      weighted='FALSE', window=window)\n",
    "        performance_comparison_unweighted[method][measure] = pd.DataFrame.from_dict(temp)\n",
    "        performance_comparison_unweighted[method][measure]['SP100'] = performance_comparison_unweighted['benchmark'][\n",
    "            'SP100']\n",
    "        performance_comparison_unweighted[method][measure] = performance_comparison_unweighted[method][measure][[\n",
    "            'SP100', 'central', 'peripheral']]\n",
    "for method in ['Newman', 'ClausetNewman']:\n",
    "    performance_comparison_weighted[method] = {}\n",
    "    for measure in ['degree', 'closeness', 'betweenness']:\n",
    "        temp = clustering_performance(filename=filename, thresh=thresh, universes=universes[method][measure],\n",
    "                                      weighted='TRUE', window=window)\n",
    "        performance_comparison_weighted[method][measure] = pd.DataFrame.from_dict(temp)\n",
    "        performance_comparison_weighted[method][measure]['SP100'] = performance_comparison_weighted['benchmark'][\n",
    "            'SP100']\n",
    "        performance_comparison_weighted[method][measure] = performance_comparison_weighted[method][measure][[\n",
    "            'SP100', 'central', 'peripheral']]"
   ]
  },
  {
   "cell_type": "code",
   "execution_count": 39,
   "metadata": {},
   "outputs": [
    {
     "data": {
      "text/plain": [
       "0.67020651557131272"
      ]
     },
     "execution_count": 39,
     "metadata": {},
     "output_type": "execute_result"
    }
   ],
   "source": [
    "sharpe_ratio(performance_comparison_weighted['Newman']['betweenness']['peripheral'],\n",
    "             0.01)"
   ]
  },
  {
   "cell_type": "code",
   "execution_count": 14,
   "metadata": {},
   "outputs": [
    {
     "data": {
      "text/plain": [
       "<matplotlib.axes._subplots.AxesSubplot at 0x111ba8d50>"
      ]
     },
     "execution_count": 14,
     "metadata": {},
     "output_type": "execute_result"
    },
    {
     "data": {
      "image/png": "[encoded data removed]",
      "text/plain": [
       "<matplotlib.figure.Figure at 0x116d1bad0>"
      ]
     },
     "metadata": {},
     "output_type": "display_data"
    }
   ],
   "source": [
    "%matplotlib inline\n",
    "\n",
    "performance_comparison_weighted['Newman']['betweenness'].plot(figsize=(10, 8))"
   ]
  },
  {
   "cell_type": "code",
   "execution_count": 20,
   "metadata": {},
   "outputs": [
    {
     "data": {
      "text/plain": [
       "<matplotlib.axes._subplots.AxesSubplot at 0x11db7ad10>"
      ]
     },
     "execution_count": 20,
     "metadata": {},
     "output_type": "execute_result"
    },
    {
     "data": {
      "image/png": "[encoded data removed]",
      "text/plain": [
       "<matplotlib.figure.Figure at 0x11d105590>"
      ]
     },
     "metadata": {},
     "output_type": "display_data"
    }
   ],
   "source": [
    "performance_comparison_weighted['ClausetNewman']['betweenness'].plot(figsize=(10, 8))"
   ]
  },
  {
   "cell_type": "code",
   "execution_count": 19,
   "metadata": {},
   "outputs": [
    {
     "data": {
      "text/plain": [
       "<matplotlib.axes._subplots.AxesSubplot at 0x11a8bfb90>"
      ]
     },
     "execution_count": 19,
     "metadata": {},
     "output_type": "execute_result"
    },
    {
     "data": {
      "image/png": "[encoded data removed]",
      "text/plain": [
       "<matplotlib.figure.Figure at 0x11a6e0f90>"
      ]
     },
     "metadata": {},
     "output_type": "display_data"
    }
   ],
   "source": [
    "performance_comparison_weighted['Newman']['betweenness'].plot(figsize=(10, 8))"
   ]
  }
 ],
 "metadata": {
  "kernelspec": {
   "display_name": "Python 2",
   "language": "python",
   "name": "python2"
  },
  "language_info": {
   "codemirror_mode": {
    "name": "ipython",
    "version": 2.0
   },
   "file_extension": ".py",
   "mimetype": "text/x-python",
   "name": "python",
   "nbconvert_exporter": "python",
   "pygments_lexer": "ipython2",
   "version": "2.7.6"
  }
 },
 "nbformat": 4,
 "nbformat_minor": 0
}